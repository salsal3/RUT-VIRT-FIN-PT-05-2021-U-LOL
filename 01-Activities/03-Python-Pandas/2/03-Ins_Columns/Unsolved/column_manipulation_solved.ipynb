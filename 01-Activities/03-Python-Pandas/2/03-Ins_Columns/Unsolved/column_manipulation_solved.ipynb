{
  "cells": [
    {
      "cell_type": "code",
      "source": [
        "import pandas as pd\n",
        "from pathlib import Path"
      ],
      "outputs": [],
      "execution_count": 7,
      "metadata": {}
    },
    {
      "cell_type": "markdown",
      "source": [
        "# Column Manipulation"
      ],
      "metadata": {}
    },
    {
      "cell_type": "code",
      "source": [
        "csvpath = Path(\"G:/Users/Saru/Desktop/Bootcamp/RUT-VIRT-FIN-PT-05-2021-U-LOL/01-Activities/03-Python-Pandas/2/03-Ins_Columns/Resources/customers.csv\")"
      ],
      "outputs": [],
      "execution_count": 14,
      "metadata": {}
    },
    {
      "cell_type": "code",
      "source": [
        "customer_dataframe = pd.read_csv(csvpath)\n",
        "customer_dataframe.head()"
      ],
      "outputs": [
        {
          "output_type": "execute_result",
          "data": {
            "text/plain": [
              "          FullName                     Email                  Address    Zip  \\\n",
              "0  Altha Frederick  unhideable1966@gmail.com  67 John Maher Extension  31353   \n",
              "1  Nickolas Harvey   allgood1803@outlook.com        1200 Madera Plaza   1922   \n",
              "2  Jesusita Kinney    satsumas1954@yahoo.com         943 Gibb Highway  41535   \n",
              "3      Mose Gordon    antifowl1875@gmail.com          1073 Fell Trace  16098   \n",
              "4  Cesar Valentine  acetaminol1979@yahoo.com   805 Marshall Promenade  99895   \n",
              "\n",
              "            CreditCard  Balance  \n",
              "0  2524 2317 2139 4751    21511  \n",
              "1  4756 0997 9568 1329    13850  \n",
              "2    3717 863466 48574    21254  \n",
              "3  5413 1700 6989 2835     5221  \n",
              "4  5173 4883 9215 4743     8300  "
            ],
            "text/html": "<div>\n<style scoped>\n    .dataframe tbody tr th:only-of-type {\n        vertical-align: middle;\n    }\n\n    .dataframe tbody tr th {\n        vertical-align: top;\n    }\n\n    .dataframe thead th {\n        text-align: right;\n    }\n</style>\n<table border=\"1\" class=\"dataframe\">\n  <thead>\n    <tr style=\"text-align: right;\">\n      <th></th>\n      <th>FullName</th>\n      <th>Email</th>\n      <th>Address</th>\n      <th>Zip</th>\n      <th>CreditCard</th>\n      <th>Balance</th>\n    </tr>\n  </thead>\n  <tbody>\n    <tr>\n      <th>0</th>\n      <td>Altha Frederick</td>\n      <td>unhideable1966@gmail.com</td>\n      <td>67 John Maher Extension</td>\n      <td>31353</td>\n      <td>2524 2317 2139 4751</td>\n      <td>21511</td>\n    </tr>\n    <tr>\n      <th>1</th>\n      <td>Nickolas Harvey</td>\n      <td>allgood1803@outlook.com</td>\n      <td>1200 Madera Plaza</td>\n      <td>1922</td>\n      <td>4756 0997 9568 1329</td>\n      <td>13850</td>\n    </tr>\n    <tr>\n      <th>2</th>\n      <td>Jesusita Kinney</td>\n      <td>satsumas1954@yahoo.com</td>\n      <td>943 Gibb Highway</td>\n      <td>41535</td>\n      <td>3717 863466 48574</td>\n      <td>21254</td>\n    </tr>\n    <tr>\n      <th>3</th>\n      <td>Mose Gordon</td>\n      <td>antifowl1875@gmail.com</td>\n      <td>1073 Fell Trace</td>\n      <td>16098</td>\n      <td>5413 1700 6989 2835</td>\n      <td>5221</td>\n    </tr>\n    <tr>\n      <th>4</th>\n      <td>Cesar Valentine</td>\n      <td>acetaminol1979@yahoo.com</td>\n      <td>805 Marshall Promenade</td>\n      <td>99895</td>\n      <td>5173 4883 9215 4743</td>\n      <td>8300</td>\n    </tr>\n  </tbody>\n</table>\n</div>"
          },
          "metadata": {},
          "execution_count": 15
        }
      ],
      "execution_count": 15,
      "metadata": {}
    },
    {
      "cell_type": "code",
      "source": [
        "customer_dataframe.columns"
      ],
      "outputs": [
        {
          "output_type": "execute_result",
          "data": {
            "text/plain": [
              "Index(['FullName', 'Email', 'Address', 'Zip', 'CreditCard', 'Balance'], dtype='object')"
            ]
          },
          "metadata": {},
          "execution_count": 16
        }
      ],
      "execution_count": 16,
      "metadata": {
        "collapsed": false,
        "outputHidden": false,
        "inputHidden": false
      }
    },
    {
      "cell_type": "code",
      "execution_count": 17,
      "metadata": {},
      "outputs": [
        {
          "output_type": "execute_result",
          "data": {
            "text/plain": [
              "         Full Name                     Email                  Address  \\\n",
              "0  Altha Frederick  unhideable1966@gmail.com  67 John Maher Extension   \n",
              "1  Nickolas Harvey   allgood1803@outlook.com        1200 Madera Plaza   \n",
              "2  Jesusita Kinney    satsumas1954@yahoo.com         943 Gibb Highway   \n",
              "3      Mose Gordon    antifowl1875@gmail.com          1073 Fell Trace   \n",
              "4  Cesar Valentine  acetaminol1979@yahoo.com   805 Marshall Promenade   \n",
              "\n",
              "   Zip Code   Credit Card Number  Account Balance  \n",
              "0     31353  2524 2317 2139 4751            21511  \n",
              "1      1922  4756 0997 9568 1329            13850  \n",
              "2     41535    3717 863466 48574            21254  \n",
              "3     16098  5413 1700 6989 2835             5221  \n",
              "4     99895  5173 4883 9215 4743             8300  "
            ],
            "text/html": "<div>\n<style scoped>\n    .dataframe tbody tr th:only-of-type {\n        vertical-align: middle;\n    }\n\n    .dataframe tbody tr th {\n        vertical-align: top;\n    }\n\n    .dataframe thead th {\n        text-align: right;\n    }\n</style>\n<table border=\"1\" class=\"dataframe\">\n  <thead>\n    <tr style=\"text-align: right;\">\n      <th></th>\n      <th>Full Name</th>\n      <th>Email</th>\n      <th>Address</th>\n      <th>Zip Code</th>\n      <th>Credit Card Number</th>\n      <th>Account Balance</th>\n    </tr>\n  </thead>\n  <tbody>\n    <tr>\n      <th>0</th>\n      <td>Altha Frederick</td>\n      <td>unhideable1966@gmail.com</td>\n      <td>67 John Maher Extension</td>\n      <td>31353</td>\n      <td>2524 2317 2139 4751</td>\n      <td>21511</td>\n    </tr>\n    <tr>\n      <th>1</th>\n      <td>Nickolas Harvey</td>\n      <td>allgood1803@outlook.com</td>\n      <td>1200 Madera Plaza</td>\n      <td>1922</td>\n      <td>4756 0997 9568 1329</td>\n      <td>13850</td>\n    </tr>\n    <tr>\n      <th>2</th>\n      <td>Jesusita Kinney</td>\n      <td>satsumas1954@yahoo.com</td>\n      <td>943 Gibb Highway</td>\n      <td>41535</td>\n      <td>3717 863466 48574</td>\n      <td>21254</td>\n    </tr>\n    <tr>\n      <th>3</th>\n      <td>Mose Gordon</td>\n      <td>antifowl1875@gmail.com</td>\n      <td>1073 Fell Trace</td>\n      <td>16098</td>\n      <td>5413 1700 6989 2835</td>\n      <td>5221</td>\n    </tr>\n    <tr>\n      <th>4</th>\n      <td>Cesar Valentine</td>\n      <td>acetaminol1979@yahoo.com</td>\n      <td>805 Marshall Promenade</td>\n      <td>99895</td>\n      <td>5173 4883 9215 4743</td>\n      <td>8300</td>\n    </tr>\n  </tbody>\n</table>\n</div>"
          },
          "metadata": {},
          "execution_count": 17
        }
      ],
      "source": [
        "# Rewrite the column names\n",
        "columns = [\"Full Name\", \"Email\", \"Address\", \"Zip Code\", \"Credit Card Number\", \"Account Balance\"]\n",
        "customer_dataframe.columns = columns\n",
        "customer_dataframe.head()"
      ]
    },
    {
      "cell_type": "code",
      "execution_count": 18,
      "metadata": {},
      "outputs": [
        {
          "output_type": "execute_result",
          "data": {
            "text/plain": [
              "         full_name                     Email                  Address  \\\n",
              "0  Altha Frederick  unhideable1966@gmail.com  67 John Maher Extension   \n",
              "1  Nickolas Harvey   allgood1803@outlook.com        1200 Madera Plaza   \n",
              "2  Jesusita Kinney    satsumas1954@yahoo.com         943 Gibb Highway   \n",
              "3      Mose Gordon    antifowl1875@gmail.com          1073 Fell Trace   \n",
              "4  Cesar Valentine  acetaminol1979@yahoo.com   805 Marshall Promenade   \n",
              "\n",
              "   Zip Code   credit_card_number  Account Balance  \n",
              "0     31353  2524 2317 2139 4751            21511  \n",
              "1      1922  4756 0997 9568 1329            13850  \n",
              "2     41535    3717 863466 48574            21254  \n",
              "3     16098  5413 1700 6989 2835             5221  \n",
              "4     99895  5173 4883 9215 4743             8300  "
            ],
            "text/html": "<div>\n<style scoped>\n    .dataframe tbody tr th:only-of-type {\n        vertical-align: middle;\n    }\n\n    .dataframe tbody tr th {\n        vertical-align: top;\n    }\n\n    .dataframe thead th {\n        text-align: right;\n    }\n</style>\n<table border=\"1\" class=\"dataframe\">\n  <thead>\n    <tr style=\"text-align: right;\">\n      <th></th>\n      <th>full_name</th>\n      <th>Email</th>\n      <th>Address</th>\n      <th>Zip Code</th>\n      <th>credit_card_number</th>\n      <th>Account Balance</th>\n    </tr>\n  </thead>\n  <tbody>\n    <tr>\n      <th>0</th>\n      <td>Altha Frederick</td>\n      <td>unhideable1966@gmail.com</td>\n      <td>67 John Maher Extension</td>\n      <td>31353</td>\n      <td>2524 2317 2139 4751</td>\n      <td>21511</td>\n    </tr>\n    <tr>\n      <th>1</th>\n      <td>Nickolas Harvey</td>\n      <td>allgood1803@outlook.com</td>\n      <td>1200 Madera Plaza</td>\n      <td>1922</td>\n      <td>4756 0997 9568 1329</td>\n      <td>13850</td>\n    </tr>\n    <tr>\n      <th>2</th>\n      <td>Jesusita Kinney</td>\n      <td>satsumas1954@yahoo.com</td>\n      <td>943 Gibb Highway</td>\n      <td>41535</td>\n      <td>3717 863466 48574</td>\n      <td>21254</td>\n    </tr>\n    <tr>\n      <th>3</th>\n      <td>Mose Gordon</td>\n      <td>antifowl1875@gmail.com</td>\n      <td>1073 Fell Trace</td>\n      <td>16098</td>\n      <td>5413 1700 6989 2835</td>\n      <td>5221</td>\n    </tr>\n    <tr>\n      <th>4</th>\n      <td>Cesar Valentine</td>\n      <td>acetaminol1979@yahoo.com</td>\n      <td>805 Marshall Promenade</td>\n      <td>99895</td>\n      <td>5173 4883 9215 4743</td>\n      <td>8300</td>\n    </tr>\n  </tbody>\n</table>\n</div>"
          },
          "metadata": {},
          "execution_count": 18
        }
      ],
      "source": [
        "# Rename Columns\n",
        "customer_dataframe = customer_dataframe.rename(columns={\n",
        "    \"Full Name\": \"full_name\",\n",
        "    \"Credit Card Number\": \"credit_card_number\"\n",
        "    })\n",
        "\n",
        "customer_dataframe.head()"
      ]
    },
    {
      "cell_type": "code",
      "execution_count": 21,
      "metadata": {},
      "outputs": [
        {
          "output_type": "execute_result",
          "data": {
            "text/plain": [
              "    credit_card_number  Account Balance        full_name  \\\n",
              "0  2524 2317 2139 4751            21511  Altha Frederick   \n",
              "1  4756 0997 9568 1329            13850  Nickolas Harvey   \n",
              "2    3717 863466 48574            21254  Jesusita Kinney   \n",
              "3  5413 1700 6989 2835             5221      Mose Gordon   \n",
              "4  5173 4883 9215 4743             8300  Cesar Valentine   \n",
              "\n",
              "                      Email                  Address  Zip Code  \n",
              "0  unhideable1966@gmail.com  67 John Maher Extension     31353  \n",
              "1   allgood1803@outlook.com        1200 Madera Plaza      1922  \n",
              "2    satsumas1954@yahoo.com         943 Gibb Highway     41535  \n",
              "3    antifowl1875@gmail.com          1073 Fell Trace     16098  \n",
              "4  acetaminol1979@yahoo.com   805 Marshall Promenade     99895  "
            ],
            "text/html": "<div>\n<style scoped>\n    .dataframe tbody tr th:only-of-type {\n        vertical-align: middle;\n    }\n\n    .dataframe tbody tr th {\n        vertical-align: top;\n    }\n\n    .dataframe thead th {\n        text-align: right;\n    }\n</style>\n<table border=\"1\" class=\"dataframe\">\n  <thead>\n    <tr style=\"text-align: right;\">\n      <th></th>\n      <th>credit_card_number</th>\n      <th>Account Balance</th>\n      <th>full_name</th>\n      <th>Email</th>\n      <th>Address</th>\n      <th>Zip Code</th>\n    </tr>\n  </thead>\n  <tbody>\n    <tr>\n      <th>0</th>\n      <td>2524 2317 2139 4751</td>\n      <td>21511</td>\n      <td>Altha Frederick</td>\n      <td>unhideable1966@gmail.com</td>\n      <td>67 John Maher Extension</td>\n      <td>31353</td>\n    </tr>\n    <tr>\n      <th>1</th>\n      <td>4756 0997 9568 1329</td>\n      <td>13850</td>\n      <td>Nickolas Harvey</td>\n      <td>allgood1803@outlook.com</td>\n      <td>1200 Madera Plaza</td>\n      <td>1922</td>\n    </tr>\n    <tr>\n      <th>2</th>\n      <td>3717 863466 48574</td>\n      <td>21254</td>\n      <td>Jesusita Kinney</td>\n      <td>satsumas1954@yahoo.com</td>\n      <td>943 Gibb Highway</td>\n      <td>41535</td>\n    </tr>\n    <tr>\n      <th>3</th>\n      <td>5413 1700 6989 2835</td>\n      <td>5221</td>\n      <td>Mose Gordon</td>\n      <td>antifowl1875@gmail.com</td>\n      <td>1073 Fell Trace</td>\n      <td>16098</td>\n    </tr>\n    <tr>\n      <th>4</th>\n      <td>5173 4883 9215 4743</td>\n      <td>8300</td>\n      <td>Cesar Valentine</td>\n      <td>acetaminol1979@yahoo.com</td>\n      <td>805 Marshall Promenade</td>\n      <td>99895</td>\n    </tr>\n  </tbody>\n</table>\n</div>"
          },
          "metadata": {},
          "execution_count": 21
        }
      ],
      "source": [
        "# Reorder Columns\n",
        "customer_dataframe = customer_dataframe[\n",
        "    ['credit_card_number', 'Account Balance', 'full_name', 'Email', 'Address', 'Zip Code']\n",
        "]\n",
        "customer_dataframe.head()"
      ]
    },
    {
      "cell_type": "code",
      "execution_count": 26,
      "metadata": {},
      "outputs": [
        {
          "output_type": "execute_result",
          "data": {
            "text/plain": [
              "    credit_card_number  Account Balance        full_name  \\\n",
              "0  2524 2317 2139 4751            21511  Altha Frederick   \n",
              "1  4756 0997 9568 1329            13850  Nickolas Harvey   \n",
              "2    3717 863466 48574            21254  Jesusita Kinney   \n",
              "3  5413 1700 6989 2835             5221      Mose Gordon   \n",
              "4  5173 4883 9215 4743             8300  Cesar Valentine   \n",
              "\n",
              "                      Email                  Address  Zip Code  Balance (1k)  \n",
              "0  unhideable1966@gmail.com  67 John Maher Extension     31353        21.511  \n",
              "1   allgood1803@outlook.com        1200 Madera Plaza      1922        13.850  \n",
              "2    satsumas1954@yahoo.com         943 Gibb Highway     41535        21.254  \n",
              "3    antifowl1875@gmail.com          1073 Fell Trace     16098         5.221  \n",
              "4  acetaminol1979@yahoo.com   805 Marshall Promenade     99895         8.300  "
            ],
            "text/html": "<div>\n<style scoped>\n    .dataframe tbody tr th:only-of-type {\n        vertical-align: middle;\n    }\n\n    .dataframe tbody tr th {\n        vertical-align: top;\n    }\n\n    .dataframe thead th {\n        text-align: right;\n    }\n</style>\n<table border=\"1\" class=\"dataframe\">\n  <thead>\n    <tr style=\"text-align: right;\">\n      <th></th>\n      <th>credit_card_number</th>\n      <th>Account Balance</th>\n      <th>full_name</th>\n      <th>Email</th>\n      <th>Address</th>\n      <th>Zip Code</th>\n      <th>Balance (1k)</th>\n    </tr>\n  </thead>\n  <tbody>\n    <tr>\n      <th>0</th>\n      <td>2524 2317 2139 4751</td>\n      <td>21511</td>\n      <td>Altha Frederick</td>\n      <td>unhideable1966@gmail.com</td>\n      <td>67 John Maher Extension</td>\n      <td>31353</td>\n      <td>21.511</td>\n    </tr>\n    <tr>\n      <th>1</th>\n      <td>4756 0997 9568 1329</td>\n      <td>13850</td>\n      <td>Nickolas Harvey</td>\n      <td>allgood1803@outlook.com</td>\n      <td>1200 Madera Plaza</td>\n      <td>1922</td>\n      <td>13.850</td>\n    </tr>\n    <tr>\n      <th>2</th>\n      <td>3717 863466 48574</td>\n      <td>21254</td>\n      <td>Jesusita Kinney</td>\n      <td>satsumas1954@yahoo.com</td>\n      <td>943 Gibb Highway</td>\n      <td>41535</td>\n      <td>21.254</td>\n    </tr>\n    <tr>\n      <th>3</th>\n      <td>5413 1700 6989 2835</td>\n      <td>5221</td>\n      <td>Mose Gordon</td>\n      <td>antifowl1875@gmail.com</td>\n      <td>1073 Fell Trace</td>\n      <td>16098</td>\n      <td>5.221</td>\n    </tr>\n    <tr>\n      <th>4</th>\n      <td>5173 4883 9215 4743</td>\n      <td>8300</td>\n      <td>Cesar Valentine</td>\n      <td>acetaminol1979@yahoo.com</td>\n      <td>805 Marshall Promenade</td>\n      <td>99895</td>\n      <td>8.300</td>\n    </tr>\n  </tbody>\n</table>\n</div>"
          },
          "metadata": {},
          "execution_count": 26
        }
      ],
      "source": [
        "# Create Columns\n",
        "customer_dataframe[\"Balance (1k)\"] =     customer_dataframe[\"Account Balance\"] / 1000\n",
        "customer_dataframe.head()"
      ]
    },
    {
      "cell_type": "code",
      "execution_count": 29,
      "metadata": {},
      "outputs": [
        {
          "output_type": "execute_result",
          "data": {
            "text/plain": [
              "          0          1\n",
              "0     Altha  Frederick\n",
              "1  Nickolas     Harvey\n",
              "2  Jesusita     Kinney\n",
              "3      Mose     Gordon\n",
              "4     Cesar  Valentine"
            ],
            "text/html": "<div>\n<style scoped>\n    .dataframe tbody tr th:only-of-type {\n        vertical-align: middle;\n    }\n\n    .dataframe tbody tr th {\n        vertical-align: top;\n    }\n\n    .dataframe thead th {\n        text-align: right;\n    }\n</style>\n<table border=\"1\" class=\"dataframe\">\n  <thead>\n    <tr style=\"text-align: right;\">\n      <th></th>\n      <th>0</th>\n      <th>1</th>\n    </tr>\n  </thead>\n  <tbody>\n    <tr>\n      <th>0</th>\n      <td>Altha</td>\n      <td>Frederick</td>\n    </tr>\n    <tr>\n      <th>1</th>\n      <td>Nickolas</td>\n      <td>Harvey</td>\n    </tr>\n    <tr>\n      <th>2</th>\n      <td>Jesusita</td>\n      <td>Kinney</td>\n    </tr>\n    <tr>\n      <th>3</th>\n      <td>Mose</td>\n      <td>Gordon</td>\n    </tr>\n    <tr>\n      <th>4</th>\n      <td>Cesar</td>\n      <td>Valentine</td>\n    </tr>\n  </tbody>\n</table>\n</div>"
          },
          "metadata": {},
          "execution_count": 29
        }
      ],
      "source": [
        "# Split Columns\n",
        "names = customer_dataframe[\"full_name\"].str.split(\" \", expand=True)\n",
        "names.head()"
      ]
    },
    {
      "cell_type": "code",
      "execution_count": 30,
      "metadata": {},
      "outputs": [
        {
          "output_type": "execute_result",
          "data": {
            "text/plain": [
              "    credit_card_number  Account Balance        full_name  \\\n",
              "0  2524 2317 2139 4751            21511  Altha Frederick   \n",
              "1  4756 0997 9568 1329            13850  Nickolas Harvey   \n",
              "2    3717 863466 48574            21254  Jesusita Kinney   \n",
              "3  5413 1700 6989 2835             5221      Mose Gordon   \n",
              "4  5173 4883 9215 4743             8300  Cesar Valentine   \n",
              "\n",
              "                      Email                  Address  Zip Code  Balance (1k)  \\\n",
              "0  unhideable1966@gmail.com  67 John Maher Extension     31353        21.511   \n",
              "1   allgood1803@outlook.com        1200 Madera Plaza      1922        13.850   \n",
              "2    satsumas1954@yahoo.com         943 Gibb Highway     41535        21.254   \n",
              "3    antifowl1875@gmail.com          1073 Fell Trace     16098         5.221   \n",
              "4  acetaminol1979@yahoo.com   805 Marshall Promenade     99895         8.300   \n",
              "\n",
              "  first_name  last_name  \n",
              "0      Altha  Frederick  \n",
              "1   Nickolas     Harvey  \n",
              "2   Jesusita     Kinney  \n",
              "3       Mose     Gordon  \n",
              "4      Cesar  Valentine  "
            ],
            "text/html": "<div>\n<style scoped>\n    .dataframe tbody tr th:only-of-type {\n        vertical-align: middle;\n    }\n\n    .dataframe tbody tr th {\n        vertical-align: top;\n    }\n\n    .dataframe thead th {\n        text-align: right;\n    }\n</style>\n<table border=\"1\" class=\"dataframe\">\n  <thead>\n    <tr style=\"text-align: right;\">\n      <th></th>\n      <th>credit_card_number</th>\n      <th>Account Balance</th>\n      <th>full_name</th>\n      <th>Email</th>\n      <th>Address</th>\n      <th>Zip Code</th>\n      <th>Balance (1k)</th>\n      <th>first_name</th>\n      <th>last_name</th>\n    </tr>\n  </thead>\n  <tbody>\n    <tr>\n      <th>0</th>\n      <td>2524 2317 2139 4751</td>\n      <td>21511</td>\n      <td>Altha Frederick</td>\n      <td>unhideable1966@gmail.com</td>\n      <td>67 John Maher Extension</td>\n      <td>31353</td>\n      <td>21.511</td>\n      <td>Altha</td>\n      <td>Frederick</td>\n    </tr>\n    <tr>\n      <th>1</th>\n      <td>4756 0997 9568 1329</td>\n      <td>13850</td>\n      <td>Nickolas Harvey</td>\n      <td>allgood1803@outlook.com</td>\n      <td>1200 Madera Plaza</td>\n      <td>1922</td>\n      <td>13.850</td>\n      <td>Nickolas</td>\n      <td>Harvey</td>\n    </tr>\n    <tr>\n      <th>2</th>\n      <td>3717 863466 48574</td>\n      <td>21254</td>\n      <td>Jesusita Kinney</td>\n      <td>satsumas1954@yahoo.com</td>\n      <td>943 Gibb Highway</td>\n      <td>41535</td>\n      <td>21.254</td>\n      <td>Jesusita</td>\n      <td>Kinney</td>\n    </tr>\n    <tr>\n      <th>3</th>\n      <td>5413 1700 6989 2835</td>\n      <td>5221</td>\n      <td>Mose Gordon</td>\n      <td>antifowl1875@gmail.com</td>\n      <td>1073 Fell Trace</td>\n      <td>16098</td>\n      <td>5.221</td>\n      <td>Mose</td>\n      <td>Gordon</td>\n    </tr>\n    <tr>\n      <th>4</th>\n      <td>5173 4883 9215 4743</td>\n      <td>8300</td>\n      <td>Cesar Valentine</td>\n      <td>acetaminol1979@yahoo.com</td>\n      <td>805 Marshall Promenade</td>\n      <td>99895</td>\n      <td>8.300</td>\n      <td>Cesar</td>\n      <td>Valentine</td>\n    </tr>\n  </tbody>\n</table>\n</div>"
          },
          "metadata": {},
          "execution_count": 30
        }
      ],
      "source": [
        "customer_dataframe[\"first_name\"] = names[0]\n",
        "customer_dataframe[\"last_name\"] = names[1]\n",
        "customer_dataframe.head()"
      ]
    },
    {
      "cell_type": "code",
      "execution_count": 31,
      "metadata": {},
      "outputs": [
        {
          "output_type": "execute_result",
          "data": {
            "text/plain": [
              "    credit_card_number  Account Balance                     Email  \\\n",
              "0  2524 2317 2139 4751            21511  unhideable1966@gmail.com   \n",
              "1  4756 0997 9568 1329            13850   allgood1803@outlook.com   \n",
              "2    3717 863466 48574            21254    satsumas1954@yahoo.com   \n",
              "3  5413 1700 6989 2835             5221    antifowl1875@gmail.com   \n",
              "4  5173 4883 9215 4743             8300  acetaminol1979@yahoo.com   \n",
              "\n",
              "                   Address  Zip Code  Balance (1k) first_name  last_name  \n",
              "0  67 John Maher Extension     31353        21.511      Altha  Frederick  \n",
              "1        1200 Madera Plaza      1922        13.850   Nickolas     Harvey  \n",
              "2         943 Gibb Highway     41535        21.254   Jesusita     Kinney  \n",
              "3          1073 Fell Trace     16098         5.221       Mose     Gordon  \n",
              "4   805 Marshall Promenade     99895         8.300      Cesar  Valentine  "
            ],
            "text/html": "<div>\n<style scoped>\n    .dataframe tbody tr th:only-of-type {\n        vertical-align: middle;\n    }\n\n    .dataframe tbody tr th {\n        vertical-align: top;\n    }\n\n    .dataframe thead th {\n        text-align: right;\n    }\n</style>\n<table border=\"1\" class=\"dataframe\">\n  <thead>\n    <tr style=\"text-align: right;\">\n      <th></th>\n      <th>credit_card_number</th>\n      <th>Account Balance</th>\n      <th>Email</th>\n      <th>Address</th>\n      <th>Zip Code</th>\n      <th>Balance (1k)</th>\n      <th>first_name</th>\n      <th>last_name</th>\n    </tr>\n  </thead>\n  <tbody>\n    <tr>\n      <th>0</th>\n      <td>2524 2317 2139 4751</td>\n      <td>21511</td>\n      <td>unhideable1966@gmail.com</td>\n      <td>67 John Maher Extension</td>\n      <td>31353</td>\n      <td>21.511</td>\n      <td>Altha</td>\n      <td>Frederick</td>\n    </tr>\n    <tr>\n      <th>1</th>\n      <td>4756 0997 9568 1329</td>\n      <td>13850</td>\n      <td>allgood1803@outlook.com</td>\n      <td>1200 Madera Plaza</td>\n      <td>1922</td>\n      <td>13.850</td>\n      <td>Nickolas</td>\n      <td>Harvey</td>\n    </tr>\n    <tr>\n      <th>2</th>\n      <td>3717 863466 48574</td>\n      <td>21254</td>\n      <td>satsumas1954@yahoo.com</td>\n      <td>943 Gibb Highway</td>\n      <td>41535</td>\n      <td>21.254</td>\n      <td>Jesusita</td>\n      <td>Kinney</td>\n    </tr>\n    <tr>\n      <th>3</th>\n      <td>5413 1700 6989 2835</td>\n      <td>5221</td>\n      <td>antifowl1875@gmail.com</td>\n      <td>1073 Fell Trace</td>\n      <td>16098</td>\n      <td>5.221</td>\n      <td>Mose</td>\n      <td>Gordon</td>\n    </tr>\n    <tr>\n      <th>4</th>\n      <td>5173 4883 9215 4743</td>\n      <td>8300</td>\n      <td>acetaminol1979@yahoo.com</td>\n      <td>805 Marshall Promenade</td>\n      <td>99895</td>\n      <td>8.300</td>\n      <td>Cesar</td>\n      <td>Valentine</td>\n    </tr>\n  </tbody>\n</table>\n</div>"
          },
          "metadata": {},
          "execution_count": 31
        }
      ],
      "source": [
        "# Delete Columns\n",
        "customer_dataframe = customer_dataframe.drop(columns = [\"full_name\"])\n",
        "customer_dataframe.head()"
      ]
    },
    {
      "cell_type": "code",
      "execution_count": null,
      "metadata": {},
      "outputs": [],
      "source": []
    }
  ],
  "metadata": {
    "kernelspec": {
      "name": "python3710jvsc74a57bd01a0899f06769b80fbd6e3e60a51404fab10da52191a78f6e478489f228670f09",
      "display_name": "Python 3.7.10 64-bit ('dev': conda)"
    },
    "language_info": {
      "name": "python",
      "version": "3.7.10",
      "mimetype": "text/x-python",
      "codemirror_mode": {
        "name": "ipython",
        "version": 3
      },
      "pygments_lexer": "ipython3",
      "nbconvert_exporter": "python",
      "file_extension": ".py"
    },
    "kernel_info": {
      "name": "dev"
    },
    "nteract": {
      "version": "0.12.3"
    }
  },
  "nbformat": 4,
  "nbformat_minor": 2
}