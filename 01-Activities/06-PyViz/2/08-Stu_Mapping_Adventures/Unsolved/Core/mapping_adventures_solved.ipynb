{
 "cells": [
  {
   "cell_type": "markdown",
   "metadata": {},
   "source": [
    "# Mapping Adventures"
   ]
  },
  {
   "cell_type": "markdown",
   "metadata": {},
   "source": [
    "It's time to plan an expedition for Harold's birthday! All he has told you so far is that he wants to go to NYC. Using the places of interest geospatial data, get a sense of the general location for places of interest. Use this as a guide for determining which boroughs/places you should hit for Harold's birthday adventure!"
   ]
  },
  {
   "cell_type": "code",
   "execution_count": 18,
   "metadata": {},
   "outputs": [],
   "source": [
    "import pandas as pd\n",
    "import plotly.express as px\n",
    "import os\n",
    "from pathlib import Path\n",
    "from dotenv import load_dotenv"
   ]
  },
  {
   "cell_type": "markdown",
   "metadata": {},
   "source": [
    "### Prep Mapbox API Credentials"
   ]
  },
  {
   "cell_type": "code",
   "execution_count": 19,
   "metadata": {},
   "outputs": [],
   "source": [
    "# Set up API credentials\n",
    "load_dotenv()\n",
    "map_box_api = os.getenv(\"mapbox\")\n",
    "px.set_mapbox_access_token(map_box_api)"
   ]
  },
  {
   "cell_type": "markdown",
   "metadata": {},
   "source": [
    "### Read in data"
   ]
  },
  {
   "cell_type": "code",
   "execution_count": 20,
   "metadata": {},
   "outputs": [
    {
     "output_type": "execute_result",
     "data": {
      "text/plain": [
       "   Id  Longitude   Latitude                Name PlaceType Borough\n",
       "0  90 -73.888958  40.896210  Van Cortlandt Park      Park   Bronx\n",
       "1  95 -73.871651  40.889879   Woodlawn Cemetery  Cemetery   Bronx\n",
       "2  81 -73.838642  40.886965    Seton Falls Park      Park   Bronx\n",
       "3  69 -73.809802  40.877986     Pelham Bay Park      Park   Bronx\n",
       "4   8 -73.878308  40.864424    Botanical Garden    Garden   Bronx"
      ],
      "text/html": "<div>\n<style scoped>\n    .dataframe tbody tr th:only-of-type {\n        vertical-align: middle;\n    }\n\n    .dataframe tbody tr th {\n        vertical-align: top;\n    }\n\n    .dataframe thead th {\n        text-align: right;\n    }\n</style>\n<table border=\"1\" class=\"dataframe\">\n  <thead>\n    <tr style=\"text-align: right;\">\n      <th></th>\n      <th>Id</th>\n      <th>Longitude</th>\n      <th>Latitude</th>\n      <th>Name</th>\n      <th>PlaceType</th>\n      <th>Borough</th>\n    </tr>\n  </thead>\n  <tbody>\n    <tr>\n      <th>0</th>\n      <td>90</td>\n      <td>-73.888958</td>\n      <td>40.896210</td>\n      <td>Van Cortlandt Park</td>\n      <td>Park</td>\n      <td>Bronx</td>\n    </tr>\n    <tr>\n      <th>1</th>\n      <td>95</td>\n      <td>-73.871651</td>\n      <td>40.889879</td>\n      <td>Woodlawn Cemetery</td>\n      <td>Cemetery</td>\n      <td>Bronx</td>\n    </tr>\n    <tr>\n      <th>2</th>\n      <td>81</td>\n      <td>-73.838642</td>\n      <td>40.886965</td>\n      <td>Seton Falls Park</td>\n      <td>Park</td>\n      <td>Bronx</td>\n    </tr>\n    <tr>\n      <th>3</th>\n      <td>69</td>\n      <td>-73.809802</td>\n      <td>40.877986</td>\n      <td>Pelham Bay Park</td>\n      <td>Park</td>\n      <td>Bronx</td>\n    </tr>\n    <tr>\n      <th>4</th>\n      <td>8</td>\n      <td>-73.878308</td>\n      <td>40.864424</td>\n      <td>Botanical Garden</td>\n      <td>Garden</td>\n      <td>Bronx</td>\n    </tr>\n  </tbody>\n</table>\n</div>"
     },
     "metadata": {},
     "execution_count": 20
    }
   ],
   "source": [
    "# Read in data\n",
    "places_of_interest = pd.read_csv(\n",
    "    Path(\"../../Resources/nyc_places_interest.csv\")\n",
    ").dropna()\n",
    "places_of_interest.head()"
   ]
  },
  {
   "cell_type": "markdown",
   "metadata": {},
   "source": [
    "### Plot Data"
   ]
  },
  {
   "cell_type": "markdown",
   "metadata": {},
   "source": [
    "#### Plot All Places of Interest"
   ]
  },
  {
   "cell_type": "code",
   "execution_count": 4,
   "metadata": {},
   "outputs": [
    {
     "output_type": "display_data",
     "data": {
      "application/vnd.plotly.v1+json": {
       "config": {
        "plotlyServerURL": "https://plot.ly"
       },
       "data": [
        {
         "hovertemplate": "Name=Van Cortlandt Park<br>Latitude=%{lat}<br>Longitude=%{lon}<extra></extra>",
         "lat": [
          40.89620987
         ],
         "legendgroup": "Van Cortlandt Park",
         "lon": [
          -73.88895812
         ],
         "marker": {
          "color": "#636efa"
         },
         "mode": "markers",
         "name": "Van Cortlandt Park",
         "showlegend": true,
         "subplot": "mapbox",
         "type": "scattermapbox"
        },
        {
         "hovertemplate": "Name=Woodlawn Cemetery<br>Latitude=%{lat}<br>Longitude=%{lon}<extra></extra>",
         "lat": [
          40.88987947
         ],
         "legendgroup": "Woodlawn Cemetery",
         "lon": [
          -73.87165103
         ],
         "marker": {
          "color": "#EF553B"
         },
         "mode": "markers",
         "name": "Woodlawn Cemetery",
         "showlegend": true,
         "subplot": "mapbox",
         "type": "scattermapbox"
        },
        {
         "hovertemplate": "Name=Seton Falls Park<br>Latitude=%{lat}<br>Longitude=%{lon}<extra></extra>",
         "lat": [
          40.88696522
         ],
         "legendgroup": "Seton Falls Park",
         "lon": [
          -73.83864189
         ],
         "marker": {
          "color": "#00cc96"
         },
         "mode": "markers",
         "name": "Seton Falls Park",
         "showlegend": true,
         "subplot": "mapbox",
         "type": "scattermapbox"
        },
        {
         "hovertemplate": "Name=Pelham Bay Park<br>Latitude=%{lat}<br>Longitude=%{lon}<extra></extra>",
         "lat": [
          40.87798555
         ],
         "legendgroup": "Pelham Bay Park",
         "lon": [
          -73.80980242
         ],
         "marker": {
          "color": "#ab63fa"
         },
         "mode": "markers",
         "name": "Pelham Bay Park",
         "showlegend": true,
         "subplot": "mapbox",
         "type": "scattermapbox"
        },
        {
         "hovertemplate": "Name=Botanical Garden<br>Latitude=%{lat}<br>Longitude=%{lon}<extra></extra>",
         "lat": [
          40.86442395
         ],
         "legendgroup": "Botanical Garden",
         "lon": [
          -73.87830776
         ],
         "marker": {
          "color": "#FFA15A"
         },
         "mode": "markers",
         "name": "Botanical Garden",
         "showlegend": true,
         "subplot": "mapbox",
         "type": "scattermapbox"
        },
        {
         "hovertemplate": "Name=Bronx Park<br>Latitude=%{lat}<br>Longitude=%{lon}<extra></extra>",
         "lat": [
          40.85552207
         ],
         "legendgroup": "Bronx Park",
         "lon": [
          -73.87626064
         ],
         "marker": {
          "color": "#19d3f3"
         },
         "mode": "markers",
         "name": "Bronx Park",
         "showlegend": true,
         "subplot": "mapbox",
         "type": "scattermapbox"
        },
        {
         "hovertemplate": "Name=Saint  Raymond's Cemetery<br>Latitude=%{lat}<br>Longitude=%{lon}<extra></extra>",
         "lat": [
          40.82330815
         ],
         "legendgroup": "Saint  Raymond's Cemetery",
         "lon": [
          -73.83530397
         ],
         "marker": {
          "color": "#FF6692"
         },
         "mode": "markers",
         "name": "Saint  Raymond's Cemetery",
         "showlegend": true,
         "subplot": "mapbox",
         "type": "scattermapbox"
        },
        {
         "hovertemplate": "Name=Ferry Point Park<br>Latitude=%{lat}<br>Longitude=%{lon}<extra></extra>",
         "lat": [
          40.81434338
         ],
         "legendgroup": "Ferry Point Park",
         "lon": [
          -73.83284640000001
         ],
         "marker": {
          "color": "#B6E880"
         },
         "mode": "markers",
         "name": "Ferry Point Park",
         "showlegend": true,
         "subplot": "mapbox",
         "type": "scattermapbox"
        },
        {
         "hovertemplate": "Name=Sound View Park<br>Latitude=%{lat}<br>Longitude=%{lon}<extra></extra>",
         "lat": [
          40.815444299999996
         ],
         "legendgroup": "Sound View Park",
         "lon": [
          -73.8721731
         ],
         "marker": {
          "color": "#FF97FF"
         },
         "mode": "markers",
         "name": "Sound View Park",
         "showlegend": true,
         "subplot": "mapbox",
         "type": "scattermapbox"
        },
        {
         "hovertemplate": "Name=Crotona Park<br>Latitude=%{lat}<br>Longitude=%{lon}<extra></extra>",
         "lat": [
          40.8384766
         ],
         "legendgroup": "Crotona Park",
         "lon": [
          -73.89422937
         ],
         "marker": {
          "color": "#FECB52"
         },
         "mode": "markers",
         "name": "Crotona Park",
         "showlegend": true,
         "subplot": "mapbox",
         "type": "scattermapbox"
        },
        {
         "hovertemplate": "Name=Zoo/Wildlife Conser. Park<br>Latitude=%{lat}<br>Longitude=%{lon}<extra></extra>",
         "lat": [
          40.84900595
         ],
         "legendgroup": "Zoo/Wildlife Conser. Park",
         "lon": [
          -73.87523757
         ],
         "marker": {
          "color": "#636efa"
         },
         "mode": "markers",
         "name": "Zoo/Wildlife Conser. Park",
         "showlegend": true,
         "subplot": "mapbox",
         "type": "scattermapbox"
        },
        {
         "hovertemplate": "Name=Hart Island<br>Latitude=%{lat}<br>Longitude=%{lon}<extra></extra>",
         "lat": [
          40.85136497
         ],
         "legendgroup": "Hart Island",
         "lon": [
          -73.76975724
         ],
         "marker": {
          "color": "#EF553B"
         },
         "mode": "markers",
         "name": "Hart Island",
         "showlegend": true,
         "subplot": "mapbox",
         "type": "scattermapbox"
        },
        {
         "hovertemplate": "Name=Saint Mary's Park<br>Latitude=%{lat}<br>Longitude=%{lon}<extra></extra>",
         "lat": [
          40.81147588
         ],
         "legendgroup": "Saint Mary's Park",
         "lon": [
          -73.91175820000001
         ],
         "marker": {
          "color": "#00cc96"
         },
         "mode": "markers",
         "name": "Saint Mary's Park",
         "showlegend": true,
         "subplot": "mapbox",
         "type": "scattermapbox"
        },
        {
         "hovertemplate": "Name=Inwood Hill Park<br>Latitude=%{lat}<br>Longitude=%{lon}<extra></extra>",
         "lat": [
          40.87219333
         ],
         "legendgroup": "Inwood Hill Park",
         "lon": [
          -73.92618083
         ],
         "marker": {
          "color": "#ab63fa"
         },
         "mode": "markers",
         "name": "Inwood Hill Park",
         "showlegend": true,
         "subplot": "mapbox",
         "type": "scattermapbox"
        },
        {
         "hovertemplate": "Name=Fort Tryon Park<br>Latitude=%{lat}<br>Longitude=%{lon}<extra></extra>",
         "lat": [
          40.86299077
         ],
         "legendgroup": "Fort Tryon Park",
         "lon": [
          -73.93190269
         ],
         "marker": {
          "color": "#FFA15A"
         },
         "mode": "markers",
         "name": "Fort Tryon Park",
         "showlegend": true,
         "subplot": "mapbox",
         "type": "scattermapbox"
        },
        {
         "hovertemplate": "Name=Rikers Island<br>Latitude=%{lat}<br>Longitude=%{lon}<extra></extra>",
         "lat": [
          40.79198053
         ],
         "legendgroup": "Rikers Island",
         "lon": [
          -73.88276248
         ],
         "marker": {
          "color": "#19d3f3"
         },
         "mode": "markers",
         "name": "Rikers Island",
         "showlegend": true,
         "subplot": "mapbox",
         "type": "scattermapbox"
        },
        {
         "hovertemplate": "Name=Marcus Garvey Park<br>Latitude=%{lat}<br>Longitude=%{lon}<extra></extra>",
         "lat": [
          40.80345957
         ],
         "legendgroup": "Marcus Garvey Park",
         "lon": [
          -73.94268046
         ],
         "marker": {
          "color": "#FF6692"
         },
         "mode": "markers",
         "name": "Marcus Garvey Park",
         "showlegend": true,
         "subplot": "mapbox",
         "type": "scattermapbox"
        },
        {
         "hovertemplate": "Name=Randall's Island Park<br>Latitude=%{lat}<br>Longitude=%{lon}<extra></extra>",
         "lat": [
          40.79591467
         ],
         "legendgroup": "Randall's Island Park",
         "lon": [
          -73.92169947
         ],
         "marker": {
          "color": "#B6E880"
         },
         "mode": "markers",
         "name": "Randall's Island Park",
         "showlegend": true,
         "subplot": "mapbox",
         "type": "scattermapbox"
        },
        {
         "hovertemplate": "Name=Ward's Island Park<br>Latitude=%{lat}<br>Longitude=%{lon}<extra></extra>",
         "lat": [
          40.78428432
         ],
         "legendgroup": "Ward's Island Park",
         "lon": [
          -73.92997389
         ],
         "marker": {
          "color": "#FF97FF"
         },
         "mode": "markers",
         "name": "Ward's Island Park",
         "showlegend": true,
         "subplot": "mapbox",
         "type": "scattermapbox"
        },
        {
         "hovertemplate": "Name=Central Park<br>Latitude=%{lat}<br>Longitude=%{lon}<extra></extra>",
         "lat": [
          40.78288158
         ],
         "legendgroup": "Central Park",
         "lon": [
          -73.96565599
         ],
         "marker": {
          "color": "#FECB52"
         },
         "mode": "markers",
         "name": "Central Park",
         "showlegend": true,
         "subplot": "mapbox",
         "type": "scattermapbox"
        },
        {
         "hovertemplate": "Name=Columbus Circle<br>Latitude=%{lat}<br>Longitude=%{lon}<extra></extra>",
         "lat": [
          40.76806053
         ],
         "legendgroup": "Columbus Circle",
         "lon": [
          -73.98190208
         ],
         "marker": {
          "color": "#636efa"
         },
         "mode": "markers",
         "name": "Columbus Circle",
         "showlegend": true,
         "subplot": "mapbox",
         "type": "scattermapbox"
        },
        {
         "hovertemplate": "Name=Times Square<br>Latitude=%{lat}<br>Longitude=%{lon}<extra></extra>",
         "lat": [
          40.758021299999996
         ],
         "legendgroup": "Times Square",
         "lon": [
          -73.98179379
         ],
         "marker": {
          "color": "#EF553B"
         },
         "mode": "markers",
         "name": "Times Square",
         "showlegend": true,
         "subplot": "mapbox",
         "type": "scattermapbox"
        },
        {
         "hovertemplate": "Name=Madison Square<br>Latitude=%{lat}<br>Longitude=%{lon}<extra></extra>",
         "lat": [
          40.7421814
         ],
         "legendgroup": "Madison Square",
         "lon": [
          -73.98806663
         ],
         "marker": {
          "color": "#00cc96"
         },
         "mode": "markers",
         "name": "Madison Square",
         "showlegend": true,
         "subplot": "mapbox",
         "type": "scattermapbox"
        },
        {
         "hovertemplate": "Name=Union Square<br>Latitude=%{lat}<br>Longitude=%{lon}<extra></extra>",
         "lat": [
          40.73595972
         ],
         "legendgroup": "Union Square",
         "lon": [
          -73.9903801
         ],
         "marker": {
          "color": "#ab63fa"
         },
         "mode": "markers",
         "name": "Union Square",
         "showlegend": true,
         "subplot": "mapbox",
         "type": "scattermapbox"
        },
        {
         "hovertemplate": "Name=Governors Island<br>Latitude=%{lat}<br>Longitude=%{lon}<extra></extra>",
         "lat": [
          40.68941551
         ],
         "legendgroup": "Governors Island",
         "lon": [
          -74.01838919
         ],
         "marker": {
          "color": "#FFA15A"
         },
         "mode": "markers",
         "name": "Governors Island",
         "showlegend": true,
         "subplot": "mapbox",
         "type": "scattermapbox"
        },
        {
         "hovertemplate": "Name=McCarren Park<br>Latitude=%{lat}<br>Longitude=%{lon}<extra></extra>",
         "lat": [
          40.720899700000004
         ],
         "legendgroup": "McCarren Park",
         "lon": [
          -73.95198134
         ],
         "marker": {
          "color": "#19d3f3"
         },
         "mode": "markers",
         "name": "McCarren Park",
         "showlegend": true,
         "subplot": "mapbox",
         "type": "scattermapbox"
        },
        {
         "hovertemplate": "Name=Astoria Park<br>Latitude=%{lat}<br>Longitude=%{lon}<extra></extra>",
         "lat": [
          40.77679234
         ],
         "legendgroup": "Astoria Park",
         "lon": [
          -73.92426901
         ],
         "marker": {
          "color": "#FF6692"
         },
         "mode": "markers",
         "name": "Astoria Park",
         "showlegend": true,
         "subplot": "mapbox",
         "type": "scattermapbox"
        },
        {
         "hovertemplate": "Name=Botanic Garden<br>Latitude=%{lat}<br>Longitude=%{lon}<extra></extra>",
         "lat": [
          40.66993701
         ],
         "legendgroup": "Botanic Garden",
         "lon": [
          -73.96612486
         ],
         "marker": {
          "color": "#B6E880"
         },
         "mode": "markers",
         "name": "Botanic Garden",
         "showlegend": true,
         "subplot": "mapbox",
         "type": "scattermapbox"
        },
        {
         "hovertemplate": "Name=Prospect Park<br>Latitude=%{lat}<br>Longitude=%{lon}<extra></extra>",
         "lat": [
          40.66125082
         ],
         "legendgroup": "Prospect Park",
         "lon": [
          -73.96908664
         ],
         "marker": {
          "color": "#FF97FF"
         },
         "mode": "markers",
         "name": "Prospect Park",
         "showlegend": true,
         "subplot": "mapbox",
         "type": "scattermapbox"
        },
        {
         "hovertemplate": "Name=Greenwood Cemetery<br>Latitude=%{lat}<br>Longitude=%{lon}<extra></extra>",
         "lat": [
          40.65204691
         ],
         "legendgroup": "Greenwood Cemetery",
         "lon": [
          -73.99044122
         ],
         "marker": {
          "color": "#FECB52"
         },
         "mode": "markers",
         "name": "Greenwood Cemetery",
         "showlegend": true,
         "subplot": "mapbox",
         "type": "scattermapbox"
        },
        {
         "hovertemplate": "Name=Holy Cross Cemetery<br>Latitude=%{lat}<br>Longitude=%{lon}<extra></extra>",
         "lat": [
          40.64686106
         ],
         "legendgroup": "Holy Cross Cemetery",
         "lon": [
          -73.93764826
         ],
         "marker": {
          "color": "#636efa"
         },
         "mode": "markers",
         "name": "Holy Cross Cemetery",
         "showlegend": true,
         "subplot": "mapbox",
         "type": "scattermapbox"
        },
        {
         "hovertemplate": "Name=Bush Terminal<br>Latitude=%{lat}<br>Longitude=%{lon}<extra></extra>",
         "lat": [
          40.65508508
         ],
         "legendgroup": "Bush Terminal",
         "lon": [
          -74.0185757
         ],
         "marker": {
          "color": "#EF553B"
         },
         "mode": "markers",
         "name": "Bush Terminal",
         "showlegend": true,
         "subplot": "mapbox",
         "type": "scattermapbox"
        },
        {
         "hovertemplate": "Name=Owls Head Park<br>Latitude=%{lat}<br>Longitude=%{lon}<extra></extra>",
         "lat": [
          40.63995895
         ],
         "legendgroup": "Owls Head Park",
         "lon": [
          -74.03230852
         ],
         "marker": {
          "color": "#00cc96"
         },
         "mode": "markers",
         "name": "Owls Head Park",
         "showlegend": true,
         "subplot": "mapbox",
         "type": "scattermapbox"
        },
        {
         "hovertemplate": "Name=Fort Hamilton<br>Latitude=%{lat}<br>Longitude=%{lon}<extra></extra>",
         "lat": [
          40.60738115
         ],
         "legendgroup": "Fort Hamilton",
         "lon": [
          -74.02879133
         ],
         "marker": {
          "color": "#ab63fa"
         },
         "mode": "markers",
         "name": "Fort Hamilton",
         "showlegend": true,
         "subplot": "mapbox",
         "type": "scattermapbox"
        },
        {
         "hovertemplate": "Name=Dyker Beach Park<br>Latitude=%{lat}<br>Longitude=%{lon}<extra></extra>",
         "lat": [
          40.61146403
         ],
         "legendgroup": "Dyker Beach Park",
         "lon": [
          -74.01956103
         ],
         "marker": {
          "color": "#FFA15A"
         },
         "mode": "markers",
         "name": "Dyker Beach Park",
         "showlegend": true,
         "subplot": "mapbox",
         "type": "scattermapbox"
        },
        {
         "hovertemplate": "Name=Washington Cemetery<br>Latitude=%{lat}<br>Longitude=%{lon}<extra></extra>",
         "lat": [
          40.62022207
         ],
         "legendgroup": "Washington Cemetery",
         "lon": [
          -73.97543204
         ],
         "marker": {
          "color": "#19d3f3"
         },
         "mode": "markers",
         "name": "Washington Cemetery",
         "showlegend": true,
         "subplot": "mapbox",
         "type": "scattermapbox"
        },
        {
         "hovertemplate": "Name=Marine Park<br>Latitude=%{lat}<br>Longitude=%{lon}<extra></extra>",
         "lat": [
          40.60336225
         ],
         "legendgroup": "Marine Park",
         "lon": [
          -73.92408613
         ],
         "marker": {
          "color": "#FF6692"
         },
         "mode": "markers",
         "name": "Marine Park",
         "showlegend": true,
         "subplot": "mapbox",
         "type": "scattermapbox"
        },
        {
         "hovertemplate": "Name=Floyd Bennett Field<br>Latitude=%{lat}<br>Longitude=%{lon}<extra></extra>",
         "lat": [
          40.59129948
         ],
         "legendgroup": "Floyd Bennett Field",
         "lon": [
          -73.89009561
         ],
         "marker": {
          "color": "#B6E880"
         },
         "mode": "markers",
         "name": "Floyd Bennett Field",
         "showlegend": true,
         "subplot": "mapbox",
         "type": "scattermapbox"
        },
        {
         "hovertemplate": "Name=Canarsie Beach Park<br>Latitude=%{lat}<br>Longitude=%{lon}<extra></extra>",
         "lat": [
          40.62548604
         ],
         "legendgroup": "Canarsie Beach Park",
         "lon": [
          -73.89810825
         ],
         "marker": {
          "color": "#FF97FF"
         },
         "mode": "markers",
         "name": "Canarsie Beach Park",
         "showlegend": true,
         "subplot": "mapbox",
         "type": "scattermapbox"
        },
        {
         "hovertemplate": "Name=Aqueduct Race Track<br>Latitude=%{lat}<br>Longitude=%{lon}<extra></extra>",
         "lat": [
          40.67219433
         ],
         "legendgroup": "Aqueduct Race Track",
         "lon": [
          -73.83062352
         ],
         "marker": {
          "color": "#FECB52"
         },
         "mode": "markers",
         "name": "Aqueduct Race Track",
         "showlegend": true,
         "subplot": "mapbox",
         "type": "scattermapbox"
        },
        {
         "hovertemplate": "Name=Bayside Cemetery<br>Latitude=%{lat}<br>Longitude=%{lon}<extra></extra>",
         "lat": [
          40.67728706
         ],
         "legendgroup": "Bayside Cemetery",
         "lon": [
          -73.85499266
         ],
         "marker": {
          "color": "#636efa"
         },
         "mode": "markers",
         "name": "Bayside Cemetery",
         "showlegend": true,
         "subplot": "mapbox",
         "type": "scattermapbox"
        },
        {
         "hovertemplate": "Name=Brookville Park<br>Latitude=%{lat}<br>Longitude=%{lon}<extra></extra>",
         "lat": [
          40.65190821
         ],
         "legendgroup": "Brookville Park",
         "lon": [
          -73.75238277
         ],
         "marker": {
          "color": "#EF553B"
         },
         "mode": "markers",
         "name": "Brookville Park",
         "showlegend": true,
         "subplot": "mapbox",
         "type": "scattermapbox"
        },
        {
         "hovertemplate": "Name=Baisley Pond Park<br>Latitude=%{lat}<br>Longitude=%{lon}<extra></extra>",
         "lat": [
          40.67324965
         ],
         "legendgroup": "Baisley Pond Park",
         "lon": [
          -73.78691601
         ],
         "marker": {
          "color": "#00cc96"
         },
         "mode": "markers",
         "name": "Baisley Pond Park",
         "showlegend": true,
         "subplot": "mapbox",
         "type": "scattermapbox"
        },
        {
         "hovertemplate": "Name=Roy Wilkins Park<br>Latitude=%{lat}<br>Longitude=%{lon}<extra></extra>",
         "lat": [
          40.68791059
         ],
         "legendgroup": "Roy Wilkins Park",
         "lon": [
          -73.77202425
         ],
         "marker": {
          "color": "#ab63fa"
         },
         "mode": "markers",
         "name": "Roy Wilkins Park",
         "showlegend": true,
         "subplot": "mapbox",
         "type": "scattermapbox"
        },
        {
         "hovertemplate": "Name=Cypress Hills Cemetery<br>Latitude=%{lat}<br>Longitude=%{lon}<extra></extra>",
         "lat": [
          40.69584153
         ],
         "legendgroup": "Cypress Hills Cemetery",
         "lon": [
          -73.87614172
         ],
         "marker": {
          "color": "#FFA15A"
         },
         "mode": "markers",
         "name": "Cypress Hills Cemetery",
         "showlegend": true,
         "subplot": "mapbox",
         "type": "scattermapbox"
        },
        {
         "hovertemplate": "Name=Saint  Johns Cemetery<br>Latitude=%{lat}<br>Longitude=%{lon}<extra></extra>",
         "lat": [
          40.71516417
         ],
         "legendgroup": "Saint  Johns Cemetery",
         "lon": [
          -73.86698585
         ],
         "marker": {
          "color": "#19d3f3"
         },
         "mode": "markers",
         "name": "Saint  Johns Cemetery",
         "showlegend": true,
         "subplot": "mapbox",
         "type": "scattermapbox"
        },
        {
         "hovertemplate": "Name=Linden Hill Cemetery<br>Latitude=%{lat}<br>Longitude=%{lon}<extra></extra>",
         "lat": [
          40.71048991
         ],
         "legendgroup": "Linden Hill Cemetery",
         "lon": [
          -73.91396904
         ],
         "marker": {
          "color": "#FF6692"
         },
         "mode": "markers",
         "name": "Linden Hill Cemetery",
         "showlegend": true,
         "subplot": "mapbox",
         "type": "scattermapbox"
        },
        {
         "hovertemplate": "Name=Mount Olivet Cemetery<br>Latitude=%{lat}<br>Longitude=%{lon}<extra></extra>",
         "lat": [
          40.72084097
         ],
         "legendgroup": "Mount Olivet Cemetery",
         "lon": [
          -73.89594771
         ],
         "marker": {
          "color": "#B6E880"
         },
         "mode": "markers",
         "name": "Mount Olivet Cemetery",
         "showlegend": true,
         "subplot": "mapbox",
         "type": "scattermapbox"
        },
        {
         "hovertemplate": "Name=Juniper Valley Park<br>Latitude=%{lat}<br>Longitude=%{lon}<extra></extra>",
         "lat": [
          40.72035303
         ],
         "legendgroup": "Juniper Valley Park",
         "lon": [
          -73.87963219
         ],
         "marker": {
          "color": "#FF97FF"
         },
         "mode": "markers",
         "name": "Juniper Valley Park",
         "showlegend": true,
         "subplot": "mapbox",
         "type": "scattermapbox"
        },
        {
         "hovertemplate": "Name=Lutheran Cemetery<br>Latitude=%{lat}<br>Longitude=%{lon}<extra></extra>",
         "lat": [
          40.71223625
         ],
         "legendgroup": "Lutheran Cemetery",
         "lon": [
          -73.88748458
         ],
         "marker": {
          "color": "#FECB52"
         },
         "mode": "markers",
         "name": "Lutheran Cemetery",
         "showlegend": true,
         "subplot": "mapbox",
         "type": "scattermapbox"
        },
        {
         "hovertemplate": "Name=Montefiore Cemetery<br>Latitude=%{lat}<br>Longitude=%{lon}<extra></extra>",
         "lat": [
          40.68584033
         ],
         "legendgroup": "Montefiore Cemetery",
         "lon": [
          -73.7417316
         ],
         "marker": {
          "color": "#636efa"
         },
         "mode": "markers",
         "name": "Montefiore Cemetery",
         "showlegend": true,
         "subplot": "mapbox",
         "type": "scattermapbox"
        },
        {
         "hovertemplate": "Name=Flushing Meadows Corona Park<br>Latitude=%{lat}<br>Longitude=%{lon}<extra></extra>",
         "lat": [
          40.73799908
         ],
         "legendgroup": "Flushing Meadows Corona Park",
         "lon": [
          -73.84141525
         ],
         "marker": {
          "color": "#EF553B"
         },
         "mode": "markers",
         "name": "Flushing Meadows Corona Park",
         "showlegend": true,
         "subplot": "mapbox",
         "type": "scattermapbox"
        },
        {
         "hovertemplate": "Name=Mount Hebron Cemetery<br>Latitude=%{lat}<br>Longitude=%{lon}<extra></extra>",
         "lat": [
          40.73409273
         ],
         "legendgroup": "Mount Hebron Cemetery",
         "lon": [
          -73.83033793
         ],
         "marker": {
          "color": "#00cc96"
         },
         "mode": "markers",
         "name": "Mount Hebron Cemetery",
         "showlegend": true,
         "subplot": "mapbox",
         "type": "scattermapbox"
        },
        {
         "hovertemplate": "Name=Cunningham Park<br>Latitude=%{lat}<br>Longitude=%{lon}<extra></extra>",
         "lat": [
          40.72903318
         ],
         "legendgroup": "Cunningham Park",
         "lon": [
          -73.76903038
         ],
         "marker": {
          "color": "#ab63fa"
         },
         "mode": "markers",
         "name": "Cunningham Park",
         "showlegend": true,
         "subplot": "mapbox",
         "type": "scattermapbox"
        },
        {
         "hovertemplate": "Name=Fort Totten<br>Latitude=%{lat}<br>Longitude=%{lon}<extra></extra>",
         "lat": [
          40.79253916
         ],
         "legendgroup": "Fort Totten",
         "lon": [
          -73.7770396
         ],
         "marker": {
          "color": "#FFA15A"
         },
         "mode": "markers",
         "name": "Fort Totten",
         "showlegend": true,
         "subplot": "mapbox",
         "type": "scattermapbox"
        },
        {
         "hovertemplate": "Name=Clearview Park<br>Latitude=%{lat}<br>Longitude=%{lon}<extra></extra>",
         "lat": [
          40.78258966
         ],
         "legendgroup": "Clearview Park",
         "lon": [
          -73.78886383
         ],
         "marker": {
          "color": "#19d3f3"
         },
         "mode": "markers",
         "name": "Clearview Park",
         "showlegend": true,
         "subplot": "mapbox",
         "type": "scattermapbox"
        },
        {
         "hovertemplate": "Name=Crocheron Park<br>Latitude=%{lat}<br>Longitude=%{lon}<extra></extra>",
         "lat": [
          40.77133495
         ],
         "legendgroup": "Crocheron Park",
         "lon": [
          -73.76899845
         ],
         "marker": {
          "color": "#FF6692"
         },
         "mode": "markers",
         "name": "Crocheron Park",
         "showlegend": true,
         "subplot": "mapbox",
         "type": "scattermapbox"
        },
        {
         "hovertemplate": "Name=Alley Pond Park<br>Latitude=%{lat}<br>Longitude=%{lon}<extra></extra>",
         "lat": [
          40.75365741
         ],
         "legendgroup": "Alley Pond Park",
         "lon": [
          -73.74427173
         ],
         "marker": {
          "color": "#B6E880"
         },
         "mode": "markers",
         "name": "Alley Pond Park",
         "showlegend": true,
         "subplot": "mapbox",
         "type": "scattermapbox"
        },
        {
         "hovertemplate": "Name=Douglaston Park<br>Latitude=%{lat}<br>Longitude=%{lon}<extra></extra>",
         "lat": [
          40.75164378
         ],
         "legendgroup": "Douglaston Park",
         "lon": [
          -73.73228698
         ],
         "marker": {
          "color": "#FF97FF"
         },
         "mode": "markers",
         "name": "Douglaston Park",
         "showlegend": true,
         "subplot": "mapbox",
         "type": "scattermapbox"
        },
        {
         "hovertemplate": "Name=Fort Schuyler<br>Latitude=%{lat}<br>Longitude=%{lon}<extra></extra>",
         "lat": [
          40.8056467
         ],
         "legendgroup": "Fort Schuyler",
         "lon": [
          -73.7931197
         ],
         "marker": {
          "color": "#FECB52"
         },
         "mode": "markers",
         "name": "Fort Schuyler",
         "showlegend": true,
         "subplot": "mapbox",
         "type": "scattermapbox"
        },
        {
         "hovertemplate": "Name=Calvary Cemetery<br>Latitude=%{lat}<br>Longitude=%{lon}<extra></extra>",
         "lat": [
          40.73338238
         ],
         "legendgroup": "Calvary Cemetery",
         "lon": [
          -73.93013732
         ],
         "marker": {
          "color": "#636efa"
         },
         "mode": "markers",
         "name": "Calvary Cemetery",
         "showlegend": true,
         "subplot": "mapbox",
         "type": "scattermapbox"
        },
        {
         "hovertemplate": "Name=New Calvary Cemetery<br>Latitude=%{lat}<br>Longitude=%{lon}<extra></extra>",
         "lat": [
          40.73707174
         ],
         "legendgroup": "New Calvary Cemetery",
         "lon": [
          -73.91314739
         ],
         "marker": {
          "color": "#EF553B"
         },
         "mode": "markers",
         "name": "New Calvary Cemetery",
         "showlegend": true,
         "subplot": "mapbox",
         "type": "scattermapbox"
        },
        {
         "hovertemplate": "Name=Mount Zion Cemetery<br>Latitude=%{lat}<br>Longitude=%{lon}<extra></extra>",
         "lat": [
          40.73205824
         ],
         "legendgroup": "Mount Zion Cemetery",
         "lon": [
          -73.90791234
         ],
         "marker": {
          "color": "#00cc96"
         },
         "mode": "markers",
         "name": "Mount Zion Cemetery",
         "showlegend": true,
         "subplot": "mapbox",
         "type": "scattermapbox"
        },
        {
         "hovertemplate": "Name=Jacob Riis Park<br>Latitude=%{lat}<br>Longitude=%{lon}<extra></extra>",
         "lat": [
          40.56788176
         ],
         "legendgroup": "Jacob Riis Park",
         "lon": [
          -73.87158393
         ],
         "marker": {
          "color": "#ab63fa"
         },
         "mode": "markers",
         "name": "Jacob Riis Park",
         "showlegend": true,
         "subplot": "mapbox",
         "type": "scattermapbox"
        },
        {
         "hovertemplate": "Name=Fort Tilden<br>Latitude=%{lat}<br>Longitude=%{lon}<extra></extra>",
         "lat": [
          40.56163026
         ],
         "legendgroup": "Fort Tilden",
         "lon": [
          -73.89490043
         ],
         "marker": {
          "color": "#FFA15A"
         },
         "mode": "markers",
         "name": "Fort Tilden",
         "showlegend": true,
         "subplot": "mapbox",
         "type": "scattermapbox"
        },
        {
         "hovertemplate": "Name=Liberty Island<br>Latitude=%{lat}<br>Longitude=%{lon}<extra></extra>",
         "lat": [
          40.69000021
         ],
         "legendgroup": "Liberty Island",
         "lon": [
          -74.04528227
         ],
         "marker": {
          "color": "#19d3f3"
         },
         "mode": "markers",
         "name": "Liberty Island",
         "showlegend": true,
         "subplot": "mapbox",
         "type": "scattermapbox"
        },
        {
         "hovertemplate": "Name=Ellis Island<br>Latitude=%{lat}<br>Longitude=%{lon}<extra></extra>",
         "lat": [
          40.69919477
         ],
         "legendgroup": "Ellis Island",
         "lon": [
          -74.04017359
         ],
         "marker": {
          "color": "#FF6692"
         },
         "mode": "markers",
         "name": "Ellis Island",
         "showlegend": true,
         "subplot": "mapbox",
         "type": "scattermapbox"
        },
        {
         "hovertemplate": "Name=Snug Harbor<br>Latitude=%{lat}<br>Longitude=%{lon}<extra></extra>",
         "lat": [
          40.64230187
         ],
         "legendgroup": "Snug Harbor",
         "lon": [
          -74.10316989
         ],
         "marker": {
          "color": "#B6E880"
         },
         "mode": "markers",
         "name": "Snug Harbor",
         "showlegend": true,
         "subplot": "mapbox",
         "type": "scattermapbox"
        },
        {
         "hovertemplate": "Name=Silver Lake Park<br>Latitude=%{lat}<br>Longitude=%{lon}<extra></extra>",
         "lat": [
          40.62728628
         ],
         "legendgroup": "Silver Lake Park",
         "lon": [
          -74.09460329999999
         ],
         "marker": {
          "color": "#FF97FF"
         },
         "mode": "markers",
         "name": "Silver Lake Park",
         "showlegend": true,
         "subplot": "mapbox",
         "type": "scattermapbox"
        },
        {
         "hovertemplate": "Name=Clove Lakes Park<br>Latitude=%{lat}<br>Longitude=%{lon}<extra></extra>",
         "lat": [
          40.61811022
         ],
         "legendgroup": "Clove Lakes Park",
         "lon": [
          -74.11069895
         ],
         "marker": {
          "color": "#FECB52"
         },
         "mode": "markers",
         "name": "Clove Lakes Park",
         "showlegend": true,
         "subplot": "mapbox",
         "type": "scattermapbox"
        },
        {
         "hovertemplate": "Name=Fort Wadsworth<br>Latitude=%{lat}<br>Longitude=%{lon}<extra></extra>",
         "lat": [
          40.60438473
         ],
         "legendgroup": "Fort Wadsworth",
         "lon": [
          -74.05881837
         ],
         "marker": {
          "color": "#636efa"
         },
         "mode": "markers",
         "name": "Fort Wadsworth",
         "showlegend": true,
         "subplot": "mapbox",
         "type": "scattermapbox"
        },
        {
         "hovertemplate": "Name=Miller Field<br>Latitude=%{lat}<br>Longitude=%{lon}<extra></extra>",
         "lat": [
          40.56802528
         ],
         "legendgroup": "Miller Field",
         "lon": [
          -74.09882950000001
         ],
         "marker": {
          "color": "#EF553B"
         },
         "mode": "markers",
         "name": "Miller Field",
         "showlegend": true,
         "subplot": "mapbox",
         "type": "scattermapbox"
        },
        {
         "hovertemplate": "Name=Great Kills Park<br>Latitude=%{lat}<br>Longitude=%{lon}<extra></extra>",
         "lat": [
          40.54844479
         ],
         "legendgroup": "Great Kills Park",
         "lon": [
          -74.12560544
         ],
         "marker": {
          "color": "#00cc96"
         },
         "mode": "markers",
         "name": "Great Kills Park",
         "showlegend": true,
         "subplot": "mapbox",
         "type": "scattermapbox"
        },
        {
         "hovertemplate": "Name=Moravian Cemetery<br>Latitude=%{lat}<br>Longitude=%{lon}<extra></extra>",
         "lat": [
          40.58271473
         ],
         "legendgroup": "Moravian Cemetery",
         "lon": [
          -74.11735759
         ],
         "marker": {
          "color": "#ab63fa"
         },
         "mode": "markers",
         "name": "Moravian Cemetery",
         "showlegend": true,
         "subplot": "mapbox",
         "type": "scattermapbox"
        },
        {
         "hovertemplate": "Name=LaTourette Park<br>Latitude=%{lat}<br>Longitude=%{lon}<extra></extra>",
         "lat": [
          40.58215534
         ],
         "legendgroup": "LaTourette Park",
         "lon": [
          -74.14250377
         ],
         "marker": {
          "color": "#FFA15A"
         },
         "mode": "markers",
         "name": "LaTourette Park",
         "showlegend": true,
         "subplot": "mapbox",
         "type": "scattermapbox"
        },
        {
         "hovertemplate": "Name=Willowbrook Park<br>Latitude=%{lat}<br>Longitude=%{lon}<extra></extra>",
         "lat": [
          40.60061999
         ],
         "legendgroup": "Willowbrook Park",
         "lon": [
          -74.15824653
         ],
         "marker": {
          "color": "#19d3f3"
         },
         "mode": "markers",
         "name": "Willowbrook Park",
         "showlegend": true,
         "subplot": "mapbox",
         "type": "scattermapbox"
        },
        {
         "hovertemplate": "Name=Blue Heron Park<br>Latitude=%{lat}<br>Longitude=%{lon}<extra></extra>",
         "lat": [
          40.53125317
         ],
         "legendgroup": "Blue Heron Park",
         "lon": [
          -74.17535438
         ],
         "marker": {
          "color": "#FF6692"
         },
         "mode": "markers",
         "name": "Blue Heron Park",
         "showlegend": true,
         "subplot": "mapbox",
         "type": "scattermapbox"
        },
        {
         "hovertemplate": "Name=Wolfe's Pond Park<br>Latitude=%{lat}<br>Longitude=%{lon}<extra></extra>",
         "lat": [
          40.52173963
         ],
         "legendgroup": "Wolfe's Pond Park",
         "lon": [
          -74.19242925
         ],
         "marker": {
          "color": "#B6E880"
         },
         "mode": "markers",
         "name": "Wolfe's Pond Park",
         "showlegend": true,
         "subplot": "mapbox",
         "type": "scattermapbox"
        },
        {
         "hovertemplate": "Name=Mount Loretto<br>Latitude=%{lat}<br>Longitude=%{lon}<extra></extra>",
         "lat": [
          40.50966469
         ],
         "legendgroup": "Mount Loretto",
         "lon": [
          -74.21806393
         ],
         "marker": {
          "color": "#FF97FF"
         },
         "mode": "markers",
         "name": "Mount Loretto",
         "showlegend": true,
         "subplot": "mapbox",
         "type": "scattermapbox"
        },
        {
         "hovertemplate": "Name=Conference House Park<br>Latitude=%{lat}<br>Longitude=%{lon}<extra></extra>",
         "lat": [
          40.49956589
         ],
         "legendgroup": "Conference House Park",
         "lon": [
          -74.24856464
         ],
         "marker": {
          "color": "#FECB52"
         },
         "mode": "markers",
         "name": "Conference House Park",
         "showlegend": true,
         "subplot": "mapbox",
         "type": "scattermapbox"
        },
        {
         "hovertemplate": "Name=South Shore Golf Course<br>Latitude=%{lat}<br>Longitude=%{lon}<extra></extra>",
         "lat": [
          40.5511835
         ],
         "legendgroup": "South Shore Golf Course",
         "lon": [
          -74.20503666
         ],
         "marker": {
          "color": "#636efa"
         },
         "mode": "markers",
         "name": "South Shore Golf Course",
         "showlegend": true,
         "subplot": "mapbox",
         "type": "scattermapbox"
        },
        {
         "hovertemplate": "Name=Fresh Kills<br>Latitude=%{lat}<br>Longitude=%{lon}<extra></extra>",
         "lat": [
          40.57405693
         ],
         "legendgroup": "Fresh Kills",
         "lon": [
          -74.19497651
         ],
         "marker": {
          "color": "#EF553B"
         },
         "mode": "markers",
         "name": "Fresh Kills",
         "showlegend": true,
         "subplot": "mapbox",
         "type": "scattermapbox"
        },
        {
         "hovertemplate": "Name=Plumb Beach<br>Latitude=%{lat}<br>Longitude=%{lon}<extra></extra>",
         "lat": [
          40.58319524
         ],
         "legendgroup": "Plumb Beach",
         "lon": [
          -73.91512178
         ],
         "marker": {
          "color": "#00cc96"
         },
         "mode": "markers",
         "name": "Plumb Beach",
         "showlegend": true,
         "subplot": "mapbox",
         "type": "scattermapbox"
        },
        {
         "hovertemplate": "Name=John F. Kennedy International Airport<br>Latitude=%{lat}<br>Longitude=%{lon}<extra></extra>",
         "lat": [
          40.64806756
         ],
         "legendgroup": "John F. Kennedy International Airport",
         "lon": [
          -73.78599901
         ],
         "marker": {
          "color": "#ab63fa"
         },
         "mode": "markers",
         "name": "John F. Kennedy International Airport",
         "showlegend": true,
         "subplot": "mapbox",
         "type": "scattermapbox"
        },
        {
         "hovertemplate": "Name=Jamaica Bay Wildlife Refuge<br>Latitude=%{lat}<br>Longitude=%{lon}<extra></extra>",
         "lat": [
          40.62287746
         ],
         "legendgroup": "Jamaica Bay Wildlife Refuge",
         "lon": [
          -73.82628899
         ],
         "marker": {
          "color": "#FFA15A"
         },
         "mode": "markers",
         "name": "Jamaica Bay Wildlife Refuge",
         "showlegend": true,
         "subplot": "mapbox",
         "type": "scattermapbox"
        },
        {
         "hovertemplate": "Name=Calvert Vaux<br>Latitude=%{lat}<br>Longitude=%{lon}<extra></extra>",
         "lat": [
          40.58507539
         ],
         "legendgroup": "Calvert Vaux",
         "lon": [
          -73.99369533
         ],
         "marker": {
          "color": "#19d3f3"
         },
         "mode": "markers",
         "name": "Calvert Vaux",
         "showlegend": true,
         "subplot": "mapbox",
         "type": "scattermapbox"
        },
        {
         "hovertemplate": "Name=High Rock Park<br>Latitude=%{lat}<br>Longitude=%{lon}<extra></extra>",
         "lat": [
          40.59043473
         ],
         "legendgroup": "High Rock Park",
         "lon": [
          -74.11492037
         ],
         "marker": {
          "color": "#FF6692"
         },
         "mode": "markers",
         "name": "High Rock Park",
         "showlegend": true,
         "subplot": "mapbox",
         "type": "scattermapbox"
        },
        {
         "hovertemplate": "Name=Red Hook Park<br>Latitude=%{lat}<br>Longitude=%{lon}<extra></extra>",
         "lat": [
          40.67204727
         ],
         "legendgroup": "Red Hook Park",
         "lon": [
          -74.00555273
         ],
         "marker": {
          "color": "#B6E880"
         },
         "mode": "markers",
         "name": "Red Hook Park",
         "showlegend": true,
         "subplot": "mapbox",
         "type": "scattermapbox"
        },
        {
         "hovertemplate": "Name=Saint Michael's Cemetery<br>Latitude=%{lat}<br>Longitude=%{lon}<extra></extra>",
         "lat": [
          40.76444876
         ],
         "legendgroup": "Saint Michael's Cemetery",
         "lon": [
          -73.89847195
         ],
         "marker": {
          "color": "#FF97FF"
         },
         "mode": "markers",
         "name": "Saint Michael's Cemetery",
         "showlegend": true,
         "subplot": "mapbox",
         "type": "scattermapbox"
        },
        {
         "hovertemplate": "Name=Riverdale Park<br>Latitude=%{lat}<br>Longitude=%{lon}<extra></extra>",
         "lat": [
          40.89230557
         ],
         "legendgroup": "Riverdale Park",
         "lon": [
          -73.91682911
         ],
         "marker": {
          "color": "#FECB52"
         },
         "mode": "markers",
         "name": "Riverdale Park",
         "showlegend": true,
         "subplot": "mapbox",
         "type": "scattermapbox"
        },
        {
         "hovertemplate": "Name=Spring Creek Park Preserve No Access<br>Latitude=%{lat}<br>Longitude=%{lon}<extra></extra>",
         "lat": [
          40.64582807
         ],
         "legendgroup": "Spring Creek Park Preserve No Access",
         "lon": [
          -73.86501942
         ],
         "marker": {
          "color": "#636efa"
         },
         "mode": "markers",
         "name": "Spring Creek Park Preserve No Access",
         "showlegend": true,
         "subplot": "mapbox",
         "type": "scattermapbox"
        },
        {
         "hovertemplate": "Name=Spring Creek Park Gateway National Recreation Area<br>Latitude=%{lat}<br>Longitude=%{lon}<extra></extra>",
         "lat": [
          40.646316
         ],
         "legendgroup": "Spring Creek Park Gateway National Recreation Area",
         "lon": [
          -73.84421119
         ],
         "marker": {
          "color": "#EF553B"
         },
         "mode": "markers",
         "name": "Spring Creek Park Gateway National Recreation Area",
         "showlegend": true,
         "subplot": "mapbox",
         "type": "scattermapbox"
        }
       ],
       "layout": {
        "legend": {
         "title": {
          "text": "Name"
         },
         "tracegroupgap": 0
        },
        "mapbox": {
         "center": {
          "lat": 40.70281489793479,
          "lon": -73.93761442239129
         },
         "domain": {
          "x": [
           0,
           1
          ],
          "y": [
           0,
           1
          ]
         },
         "zoom": 8
        },
        "margin": {
         "t": 60
        },
        "template": {
         "data": {
          "bar": [
           {
            "error_x": {
             "color": "#2a3f5f"
            },
            "error_y": {
             "color": "#2a3f5f"
            },
            "marker": {
             "line": {
              "color": "#E5ECF6",
              "width": 0.5
             }
            },
            "type": "bar"
           }
          ],
          "barpolar": [
           {
            "marker": {
             "line": {
              "color": "#E5ECF6",
              "width": 0.5
             }
            },
            "type": "barpolar"
           }
          ],
          "carpet": [
           {
            "aaxis": {
             "endlinecolor": "#2a3f5f",
             "gridcolor": "white",
             "linecolor": "white",
             "minorgridcolor": "white",
             "startlinecolor": "#2a3f5f"
            },
            "baxis": {
             "endlinecolor": "#2a3f5f",
             "gridcolor": "white",
             "linecolor": "white",
             "minorgridcolor": "white",
             "startlinecolor": "#2a3f5f"
            },
            "type": "carpet"
           }
          ],
          "choropleth": [
           {
            "colorbar": {
             "outlinewidth": 0,
             "ticks": ""
            },
            "type": "choropleth"
           }
          ],
          "contour": [
           {
            "colorbar": {
             "outlinewidth": 0,
             "ticks": ""
            },
            "colorscale": [
             [
              0,
              "#0d0887"
             ],
             [
              0.1111111111111111,
              "#46039f"
             ],
             [
              0.2222222222222222,
              "#7201a8"
             ],
             [
              0.3333333333333333,
              "#9c179e"
             ],
             [
              0.4444444444444444,
              "#bd3786"
             ],
             [
              0.5555555555555556,
              "#d8576b"
             ],
             [
              0.6666666666666666,
              "#ed7953"
             ],
             [
              0.7777777777777778,
              "#fb9f3a"
             ],
             [
              0.8888888888888888,
              "#fdca26"
             ],
             [
              1,
              "#f0f921"
             ]
            ],
            "type": "contour"
           }
          ],
          "contourcarpet": [
           {
            "colorbar": {
             "outlinewidth": 0,
             "ticks": ""
            },
            "type": "contourcarpet"
           }
          ],
          "heatmap": [
           {
            "colorbar": {
             "outlinewidth": 0,
             "ticks": ""
            },
            "colorscale": [
             [
              0,
              "#0d0887"
             ],
             [
              0.1111111111111111,
              "#46039f"
             ],
             [
              0.2222222222222222,
              "#7201a8"
             ],
             [
              0.3333333333333333,
              "#9c179e"
             ],
             [
              0.4444444444444444,
              "#bd3786"
             ],
             [
              0.5555555555555556,
              "#d8576b"
             ],
             [
              0.6666666666666666,
              "#ed7953"
             ],
             [
              0.7777777777777778,
              "#fb9f3a"
             ],
             [
              0.8888888888888888,
              "#fdca26"
             ],
             [
              1,
              "#f0f921"
             ]
            ],
            "type": "heatmap"
           }
          ],
          "heatmapgl": [
           {
            "colorbar": {
             "outlinewidth": 0,
             "ticks": ""
            },
            "colorscale": [
             [
              0,
              "#0d0887"
             ],
             [
              0.1111111111111111,
              "#46039f"
             ],
             [
              0.2222222222222222,
              "#7201a8"
             ],
             [
              0.3333333333333333,
              "#9c179e"
             ],
             [
              0.4444444444444444,
              "#bd3786"
             ],
             [
              0.5555555555555556,
              "#d8576b"
             ],
             [
              0.6666666666666666,
              "#ed7953"
             ],
             [
              0.7777777777777778,
              "#fb9f3a"
             ],
             [
              0.8888888888888888,
              "#fdca26"
             ],
             [
              1,
              "#f0f921"
             ]
            ],
            "type": "heatmapgl"
           }
          ],
          "histogram": [
           {
            "marker": {
             "colorbar": {
              "outlinewidth": 0,
              "ticks": ""
             }
            },
            "type": "histogram"
           }
          ],
          "histogram2d": [
           {
            "colorbar": {
             "outlinewidth": 0,
             "ticks": ""
            },
            "colorscale": [
             [
              0,
              "#0d0887"
             ],
             [
              0.1111111111111111,
              "#46039f"
             ],
             [
              0.2222222222222222,
              "#7201a8"
             ],
             [
              0.3333333333333333,
              "#9c179e"
             ],
             [
              0.4444444444444444,
              "#bd3786"
             ],
             [
              0.5555555555555556,
              "#d8576b"
             ],
             [
              0.6666666666666666,
              "#ed7953"
             ],
             [
              0.7777777777777778,
              "#fb9f3a"
             ],
             [
              0.8888888888888888,
              "#fdca26"
             ],
             [
              1,
              "#f0f921"
             ]
            ],
            "type": "histogram2d"
           }
          ],
          "histogram2dcontour": [
           {
            "colorbar": {
             "outlinewidth": 0,
             "ticks": ""
            },
            "colorscale": [
             [
              0,
              "#0d0887"
             ],
             [
              0.1111111111111111,
              "#46039f"
             ],
             [
              0.2222222222222222,
              "#7201a8"
             ],
             [
              0.3333333333333333,
              "#9c179e"
             ],
             [
              0.4444444444444444,
              "#bd3786"
             ],
             [
              0.5555555555555556,
              "#d8576b"
             ],
             [
              0.6666666666666666,
              "#ed7953"
             ],
             [
              0.7777777777777778,
              "#fb9f3a"
             ],
             [
              0.8888888888888888,
              "#fdca26"
             ],
             [
              1,
              "#f0f921"
             ]
            ],
            "type": "histogram2dcontour"
           }
          ],
          "mesh3d": [
           {
            "colorbar": {
             "outlinewidth": 0,
             "ticks": ""
            },
            "type": "mesh3d"
           }
          ],
          "parcoords": [
           {
            "line": {
             "colorbar": {
              "outlinewidth": 0,
              "ticks": ""
             }
            },
            "type": "parcoords"
           }
          ],
          "pie": [
           {
            "automargin": true,
            "type": "pie"
           }
          ],
          "scatter": [
           {
            "marker": {
             "colorbar": {
              "outlinewidth": 0,
              "ticks": ""
             }
            },
            "type": "scatter"
           }
          ],
          "scatter3d": [
           {
            "line": {
             "colorbar": {
              "outlinewidth": 0,
              "ticks": ""
             }
            },
            "marker": {
             "colorbar": {
              "outlinewidth": 0,
              "ticks": ""
             }
            },
            "type": "scatter3d"
           }
          ],
          "scattercarpet": [
           {
            "marker": {
             "colorbar": {
              "outlinewidth": 0,
              "ticks": ""
             }
            },
            "type": "scattercarpet"
           }
          ],
          "scattergeo": [
           {
            "marker": {
             "colorbar": {
              "outlinewidth": 0,
              "ticks": ""
             }
            },
            "type": "scattergeo"
           }
          ],
          "scattergl": [
           {
            "marker": {
             "colorbar": {
              "outlinewidth": 0,
              "ticks": ""
             }
            },
            "type": "scattergl"
           }
          ],
          "scattermapbox": [
           {
            "marker": {
             "colorbar": {
              "outlinewidth": 0,
              "ticks": ""
             }
            },
            "type": "scattermapbox"
           }
          ],
          "scatterpolar": [
           {
            "marker": {
             "colorbar": {
              "outlinewidth": 0,
              "ticks": ""
             }
            },
            "type": "scatterpolar"
           }
          ],
          "scatterpolargl": [
           {
            "marker": {
             "colorbar": {
              "outlinewidth": 0,
              "ticks": ""
             }
            },
            "type": "scatterpolargl"
           }
          ],
          "scatterternary": [
           {
            "marker": {
             "colorbar": {
              "outlinewidth": 0,
              "ticks": ""
             }
            },
            "type": "scatterternary"
           }
          ],
          "surface": [
           {
            "colorbar": {
             "outlinewidth": 0,
             "ticks": ""
            },
            "colorscale": [
             [
              0,
              "#0d0887"
             ],
             [
              0.1111111111111111,
              "#46039f"
             ],
             [
              0.2222222222222222,
              "#7201a8"
             ],
             [
              0.3333333333333333,
              "#9c179e"
             ],
             [
              0.4444444444444444,
              "#bd3786"
             ],
             [
              0.5555555555555556,
              "#d8576b"
             ],
             [
              0.6666666666666666,
              "#ed7953"
             ],
             [
              0.7777777777777778,
              "#fb9f3a"
             ],
             [
              0.8888888888888888,
              "#fdca26"
             ],
             [
              1,
              "#f0f921"
             ]
            ],
            "type": "surface"
           }
          ],
          "table": [
           {
            "cells": {
             "fill": {
              "color": "#EBF0F8"
             },
             "line": {
              "color": "white"
             }
            },
            "header": {
             "fill": {
              "color": "#C8D4E3"
             },
             "line": {
              "color": "white"
             }
            },
            "type": "table"
           }
          ]
         },
         "layout": {
          "annotationdefaults": {
           "arrowcolor": "#2a3f5f",
           "arrowhead": 0,
           "arrowwidth": 1
          },
          "autotypenumbers": "strict",
          "coloraxis": {
           "colorbar": {
            "outlinewidth": 0,
            "ticks": ""
           }
          },
          "colorscale": {
           "diverging": [
            [
             0,
             "#8e0152"
            ],
            [
             0.1,
             "#c51b7d"
            ],
            [
             0.2,
             "#de77ae"
            ],
            [
             0.3,
             "#f1b6da"
            ],
            [
             0.4,
             "#fde0ef"
            ],
            [
             0.5,
             "#f7f7f7"
            ],
            [
             0.6,
             "#e6f5d0"
            ],
            [
             0.7,
             "#b8e186"
            ],
            [
             0.8,
             "#7fbc41"
            ],
            [
             0.9,
             "#4d9221"
            ],
            [
             1,
             "#276419"
            ]
           ],
           "sequential": [
            [
             0,
             "#0d0887"
            ],
            [
             0.1111111111111111,
             "#46039f"
            ],
            [
             0.2222222222222222,
             "#7201a8"
            ],
            [
             0.3333333333333333,
             "#9c179e"
            ],
            [
             0.4444444444444444,
             "#bd3786"
            ],
            [
             0.5555555555555556,
             "#d8576b"
            ],
            [
             0.6666666666666666,
             "#ed7953"
            ],
            [
             0.7777777777777778,
             "#fb9f3a"
            ],
            [
             0.8888888888888888,
             "#fdca26"
            ],
            [
             1,
             "#f0f921"
            ]
           ],
           "sequentialminus": [
            [
             0,
             "#0d0887"
            ],
            [
             0.1111111111111111,
             "#46039f"
            ],
            [
             0.2222222222222222,
             "#7201a8"
            ],
            [
             0.3333333333333333,
             "#9c179e"
            ],
            [
             0.4444444444444444,
             "#bd3786"
            ],
            [
             0.5555555555555556,
             "#d8576b"
            ],
            [
             0.6666666666666666,
             "#ed7953"
            ],
            [
             0.7777777777777778,
             "#fb9f3a"
            ],
            [
             0.8888888888888888,
             "#fdca26"
            ],
            [
             1,
             "#f0f921"
            ]
           ]
          },
          "colorway": [
           "#636efa",
           "#EF553B",
           "#00cc96",
           "#ab63fa",
           "#FFA15A",
           "#19d3f3",
           "#FF6692",
           "#B6E880",
           "#FF97FF",
           "#FECB52"
          ],
          "font": {
           "color": "#2a3f5f"
          },
          "geo": {
           "bgcolor": "white",
           "lakecolor": "white",
           "landcolor": "#E5ECF6",
           "showlakes": true,
           "showland": true,
           "subunitcolor": "white"
          },
          "hoverlabel": {
           "align": "left"
          },
          "hovermode": "closest",
          "mapbox": {
           "style": "light"
          },
          "paper_bgcolor": "white",
          "plot_bgcolor": "#E5ECF6",
          "polar": {
           "angularaxis": {
            "gridcolor": "white",
            "linecolor": "white",
            "ticks": ""
           },
           "bgcolor": "#E5ECF6",
           "radialaxis": {
            "gridcolor": "white",
            "linecolor": "white",
            "ticks": ""
           }
          },
          "scene": {
           "xaxis": {
            "backgroundcolor": "#E5ECF6",
            "gridcolor": "white",
            "gridwidth": 2,
            "linecolor": "white",
            "showbackground": true,
            "ticks": "",
            "zerolinecolor": "white"
           },
           "yaxis": {
            "backgroundcolor": "#E5ECF6",
            "gridcolor": "white",
            "gridwidth": 2,
            "linecolor": "white",
            "showbackground": true,
            "ticks": "",
            "zerolinecolor": "white"
           },
           "zaxis": {
            "backgroundcolor": "#E5ECF6",
            "gridcolor": "white",
            "gridwidth": 2,
            "linecolor": "white",
            "showbackground": true,
            "ticks": "",
            "zerolinecolor": "white"
           }
          },
          "shapedefaults": {
           "line": {
            "color": "#2a3f5f"
           }
          },
          "ternary": {
           "aaxis": {
            "gridcolor": "white",
            "linecolor": "white",
            "ticks": ""
           },
           "baxis": {
            "gridcolor": "white",
            "linecolor": "white",
            "ticks": ""
           },
           "bgcolor": "#E5ECF6",
           "caxis": {
            "gridcolor": "white",
            "linecolor": "white",
            "ticks": ""
           }
          },
          "title": {
           "x": 0.05
          },
          "xaxis": {
           "automargin": true,
           "gridcolor": "white",
           "linecolor": "white",
           "ticks": "",
           "title": {
            "standoff": 15
           },
           "zerolinecolor": "white",
           "zerolinewidth": 2
          },
          "yaxis": {
           "automargin": true,
           "gridcolor": "white",
           "linecolor": "white",
           "ticks": "",
           "title": {
            "standoff": 15
           },
           "zerolinecolor": "white",
           "zerolinewidth": 2
          }
         }
        }
       }
      }
     },
     "metadata": {}
    }
   ],
   "source": [
    "# Slice and plot data by name\n",
    "map_1 = px.scatter_mapbox(\n",
    "    places_of_interest,\n",
    "    lat=\"Latitude\",\n",
    "    lon=\"Longitude\",\n",
    "    color=\"Name\"\n",
    ")\n",
    "map_1.show()"
   ]
  },
  {
   "cell_type": "markdown",
   "metadata": {},
   "source": [
    "#### Plot Places of Interest by Place Type"
   ]
  },
  {
   "cell_type": "code",
   "execution_count": 8,
   "metadata": {},
   "outputs": [
    {
     "output_type": "display_data",
     "data": {
      "application/vnd.plotly.v1+json": {
       "config": {
        "plotlyServerURL": "https://plot.ly"
       },
       "data": [
        {
         "hovertemplate": "Name=Van Cortlandt Park<br>Latitude=%{lat}<br>Longitude=%{lon}<extra></extra>",
         "lat": [
          40.89620987
         ],
         "legendgroup": "Van Cortlandt Park",
         "lon": [
          -73.88895812
         ],
         "marker": {
          "color": "#636efa"
         },
         "mode": "markers",
         "name": "Van Cortlandt Park",
         "showlegend": true,
         "subplot": "mapbox",
         "type": "scattermapbox"
        },
        {
         "hovertemplate": "Name=Woodlawn Cemetery<br>Latitude=%{lat}<br>Longitude=%{lon}<extra></extra>",
         "lat": [
          40.88987947
         ],
         "legendgroup": "Woodlawn Cemetery",
         "lon": [
          -73.87165103
         ],
         "marker": {
          "color": "#EF553B"
         },
         "mode": "markers",
         "name": "Woodlawn Cemetery",
         "showlegend": true,
         "subplot": "mapbox",
         "type": "scattermapbox"
        },
        {
         "hovertemplate": "Name=Seton Falls Park<br>Latitude=%{lat}<br>Longitude=%{lon}<extra></extra>",
         "lat": [
          40.88696522
         ],
         "legendgroup": "Seton Falls Park",
         "lon": [
          -73.83864189
         ],
         "marker": {
          "color": "#00cc96"
         },
         "mode": "markers",
         "name": "Seton Falls Park",
         "showlegend": true,
         "subplot": "mapbox",
         "type": "scattermapbox"
        },
        {
         "hovertemplate": "Name=Pelham Bay Park<br>Latitude=%{lat}<br>Longitude=%{lon}<extra></extra>",
         "lat": [
          40.87798555
         ],
         "legendgroup": "Pelham Bay Park",
         "lon": [
          -73.80980242
         ],
         "marker": {
          "color": "#ab63fa"
         },
         "mode": "markers",
         "name": "Pelham Bay Park",
         "showlegend": true,
         "subplot": "mapbox",
         "type": "scattermapbox"
        },
        {
         "hovertemplate": "Name=Botanical Garden<br>Latitude=%{lat}<br>Longitude=%{lon}<extra></extra>",
         "lat": [
          40.86442395
         ],
         "legendgroup": "Botanical Garden",
         "lon": [
          -73.87830776
         ],
         "marker": {
          "color": "#FFA15A"
         },
         "mode": "markers",
         "name": "Botanical Garden",
         "showlegend": true,
         "subplot": "mapbox",
         "type": "scattermapbox"
        },
        {
         "hovertemplate": "Name=Bronx Park<br>Latitude=%{lat}<br>Longitude=%{lon}<extra></extra>",
         "lat": [
          40.85552207
         ],
         "legendgroup": "Bronx Park",
         "lon": [
          -73.87626064
         ],
         "marker": {
          "color": "#19d3f3"
         },
         "mode": "markers",
         "name": "Bronx Park",
         "showlegend": true,
         "subplot": "mapbox",
         "type": "scattermapbox"
        },
        {
         "hovertemplate": "Name=Saint  Raymond's Cemetery<br>Latitude=%{lat}<br>Longitude=%{lon}<extra></extra>",
         "lat": [
          40.82330815
         ],
         "legendgroup": "Saint  Raymond's Cemetery",
         "lon": [
          -73.83530397
         ],
         "marker": {
          "color": "#FF6692"
         },
         "mode": "markers",
         "name": "Saint  Raymond's Cemetery",
         "showlegend": true,
         "subplot": "mapbox",
         "type": "scattermapbox"
        },
        {
         "hovertemplate": "Name=Ferry Point Park<br>Latitude=%{lat}<br>Longitude=%{lon}<extra></extra>",
         "lat": [
          40.81434338
         ],
         "legendgroup": "Ferry Point Park",
         "lon": [
          -73.83284640000001
         ],
         "marker": {
          "color": "#B6E880"
         },
         "mode": "markers",
         "name": "Ferry Point Park",
         "showlegend": true,
         "subplot": "mapbox",
         "type": "scattermapbox"
        },
        {
         "hovertemplate": "Name=Sound View Park<br>Latitude=%{lat}<br>Longitude=%{lon}<extra></extra>",
         "lat": [
          40.815444299999996
         ],
         "legendgroup": "Sound View Park",
         "lon": [
          -73.8721731
         ],
         "marker": {
          "color": "#FF97FF"
         },
         "mode": "markers",
         "name": "Sound View Park",
         "showlegend": true,
         "subplot": "mapbox",
         "type": "scattermapbox"
        },
        {
         "hovertemplate": "Name=Crotona Park<br>Latitude=%{lat}<br>Longitude=%{lon}<extra></extra>",
         "lat": [
          40.8384766
         ],
         "legendgroup": "Crotona Park",
         "lon": [
          -73.89422937
         ],
         "marker": {
          "color": "#FECB52"
         },
         "mode": "markers",
         "name": "Crotona Park",
         "showlegend": true,
         "subplot": "mapbox",
         "type": "scattermapbox"
        },
        {
         "hovertemplate": "Name=Zoo/Wildlife Conser. Park<br>Latitude=%{lat}<br>Longitude=%{lon}<extra></extra>",
         "lat": [
          40.84900595
         ],
         "legendgroup": "Zoo/Wildlife Conser. Park",
         "lon": [
          -73.87523757
         ],
         "marker": {
          "color": "#636efa"
         },
         "mode": "markers",
         "name": "Zoo/Wildlife Conser. Park",
         "showlegend": true,
         "subplot": "mapbox",
         "type": "scattermapbox"
        },
        {
         "hovertemplate": "Name=Hart Island<br>Latitude=%{lat}<br>Longitude=%{lon}<extra></extra>",
         "lat": [
          40.85136497
         ],
         "legendgroup": "Hart Island",
         "lon": [
          -73.76975724
         ],
         "marker": {
          "color": "#EF553B"
         },
         "mode": "markers",
         "name": "Hart Island",
         "showlegend": true,
         "subplot": "mapbox",
         "type": "scattermapbox"
        },
        {
         "hovertemplate": "Name=Saint Mary's Park<br>Latitude=%{lat}<br>Longitude=%{lon}<extra></extra>",
         "lat": [
          40.81147588
         ],
         "legendgroup": "Saint Mary's Park",
         "lon": [
          -73.91175820000001
         ],
         "marker": {
          "color": "#00cc96"
         },
         "mode": "markers",
         "name": "Saint Mary's Park",
         "showlegend": true,
         "subplot": "mapbox",
         "type": "scattermapbox"
        },
        {
         "hovertemplate": "Name=Inwood Hill Park<br>Latitude=%{lat}<br>Longitude=%{lon}<extra></extra>",
         "lat": [
          40.87219333
         ],
         "legendgroup": "Inwood Hill Park",
         "lon": [
          -73.92618083
         ],
         "marker": {
          "color": "#ab63fa"
         },
         "mode": "markers",
         "name": "Inwood Hill Park",
         "showlegend": true,
         "subplot": "mapbox",
         "type": "scattermapbox"
        },
        {
         "hovertemplate": "Name=Fort Tryon Park<br>Latitude=%{lat}<br>Longitude=%{lon}<extra></extra>",
         "lat": [
          40.86299077
         ],
         "legendgroup": "Fort Tryon Park",
         "lon": [
          -73.93190269
         ],
         "marker": {
          "color": "#FFA15A"
         },
         "mode": "markers",
         "name": "Fort Tryon Park",
         "showlegend": true,
         "subplot": "mapbox",
         "type": "scattermapbox"
        },
        {
         "hovertemplate": "Name=Rikers Island<br>Latitude=%{lat}<br>Longitude=%{lon}<extra></extra>",
         "lat": [
          40.79198053
         ],
         "legendgroup": "Rikers Island",
         "lon": [
          -73.88276248
         ],
         "marker": {
          "color": "#19d3f3"
         },
         "mode": "markers",
         "name": "Rikers Island",
         "showlegend": true,
         "subplot": "mapbox",
         "type": "scattermapbox"
        },
        {
         "hovertemplate": "Name=Marcus Garvey Park<br>Latitude=%{lat}<br>Longitude=%{lon}<extra></extra>",
         "lat": [
          40.80345957
         ],
         "legendgroup": "Marcus Garvey Park",
         "lon": [
          -73.94268046
         ],
         "marker": {
          "color": "#FF6692"
         },
         "mode": "markers",
         "name": "Marcus Garvey Park",
         "showlegend": true,
         "subplot": "mapbox",
         "type": "scattermapbox"
        },
        {
         "hovertemplate": "Name=Randall's Island Park<br>Latitude=%{lat}<br>Longitude=%{lon}<extra></extra>",
         "lat": [
          40.79591467
         ],
         "legendgroup": "Randall's Island Park",
         "lon": [
          -73.92169947
         ],
         "marker": {
          "color": "#B6E880"
         },
         "mode": "markers",
         "name": "Randall's Island Park",
         "showlegend": true,
         "subplot": "mapbox",
         "type": "scattermapbox"
        },
        {
         "hovertemplate": "Name=Ward's Island Park<br>Latitude=%{lat}<br>Longitude=%{lon}<extra></extra>",
         "lat": [
          40.78428432
         ],
         "legendgroup": "Ward's Island Park",
         "lon": [
          -73.92997389
         ],
         "marker": {
          "color": "#FF97FF"
         },
         "mode": "markers",
         "name": "Ward's Island Park",
         "showlegend": true,
         "subplot": "mapbox",
         "type": "scattermapbox"
        },
        {
         "hovertemplate": "Name=Central Park<br>Latitude=%{lat}<br>Longitude=%{lon}<extra></extra>",
         "lat": [
          40.78288158
         ],
         "legendgroup": "Central Park",
         "lon": [
          -73.96565599
         ],
         "marker": {
          "color": "#FECB52"
         },
         "mode": "markers",
         "name": "Central Park",
         "showlegend": true,
         "subplot": "mapbox",
         "type": "scattermapbox"
        },
        {
         "hovertemplate": "Name=Columbus Circle<br>Latitude=%{lat}<br>Longitude=%{lon}<extra></extra>",
         "lat": [
          40.76806053
         ],
         "legendgroup": "Columbus Circle",
         "lon": [
          -73.98190208
         ],
         "marker": {
          "color": "#636efa"
         },
         "mode": "markers",
         "name": "Columbus Circle",
         "showlegend": true,
         "subplot": "mapbox",
         "type": "scattermapbox"
        },
        {
         "hovertemplate": "Name=Times Square<br>Latitude=%{lat}<br>Longitude=%{lon}<extra></extra>",
         "lat": [
          40.758021299999996
         ],
         "legendgroup": "Times Square",
         "lon": [
          -73.98179379
         ],
         "marker": {
          "color": "#EF553B"
         },
         "mode": "markers",
         "name": "Times Square",
         "showlegend": true,
         "subplot": "mapbox",
         "type": "scattermapbox"
        },
        {
         "hovertemplate": "Name=Madison Square<br>Latitude=%{lat}<br>Longitude=%{lon}<extra></extra>",
         "lat": [
          40.7421814
         ],
         "legendgroup": "Madison Square",
         "lon": [
          -73.98806663
         ],
         "marker": {
          "color": "#00cc96"
         },
         "mode": "markers",
         "name": "Madison Square",
         "showlegend": true,
         "subplot": "mapbox",
         "type": "scattermapbox"
        },
        {
         "hovertemplate": "Name=Union Square<br>Latitude=%{lat}<br>Longitude=%{lon}<extra></extra>",
         "lat": [
          40.73595972
         ],
         "legendgroup": "Union Square",
         "lon": [
          -73.9903801
         ],
         "marker": {
          "color": "#ab63fa"
         },
         "mode": "markers",
         "name": "Union Square",
         "showlegend": true,
         "subplot": "mapbox",
         "type": "scattermapbox"
        },
        {
         "hovertemplate": "Name=Governors Island<br>Latitude=%{lat}<br>Longitude=%{lon}<extra></extra>",
         "lat": [
          40.68941551
         ],
         "legendgroup": "Governors Island",
         "lon": [
          -74.01838919
         ],
         "marker": {
          "color": "#FFA15A"
         },
         "mode": "markers",
         "name": "Governors Island",
         "showlegend": true,
         "subplot": "mapbox",
         "type": "scattermapbox"
        },
        {
         "hovertemplate": "Name=McCarren Park<br>Latitude=%{lat}<br>Longitude=%{lon}<extra></extra>",
         "lat": [
          40.720899700000004
         ],
         "legendgroup": "McCarren Park",
         "lon": [
          -73.95198134
         ],
         "marker": {
          "color": "#19d3f3"
         },
         "mode": "markers",
         "name": "McCarren Park",
         "showlegend": true,
         "subplot": "mapbox",
         "type": "scattermapbox"
        },
        {
         "hovertemplate": "Name=Astoria Park<br>Latitude=%{lat}<br>Longitude=%{lon}<extra></extra>",
         "lat": [
          40.77679234
         ],
         "legendgroup": "Astoria Park",
         "lon": [
          -73.92426901
         ],
         "marker": {
          "color": "#FF6692"
         },
         "mode": "markers",
         "name": "Astoria Park",
         "showlegend": true,
         "subplot": "mapbox",
         "type": "scattermapbox"
        },
        {
         "hovertemplate": "Name=Botanic Garden<br>Latitude=%{lat}<br>Longitude=%{lon}<extra></extra>",
         "lat": [
          40.66993701
         ],
         "legendgroup": "Botanic Garden",
         "lon": [
          -73.96612486
         ],
         "marker": {
          "color": "#B6E880"
         },
         "mode": "markers",
         "name": "Botanic Garden",
         "showlegend": true,
         "subplot": "mapbox",
         "type": "scattermapbox"
        },
        {
         "hovertemplate": "Name=Prospect Park<br>Latitude=%{lat}<br>Longitude=%{lon}<extra></extra>",
         "lat": [
          40.66125082
         ],
         "legendgroup": "Prospect Park",
         "lon": [
          -73.96908664
         ],
         "marker": {
          "color": "#FF97FF"
         },
         "mode": "markers",
         "name": "Prospect Park",
         "showlegend": true,
         "subplot": "mapbox",
         "type": "scattermapbox"
        },
        {
         "hovertemplate": "Name=Greenwood Cemetery<br>Latitude=%{lat}<br>Longitude=%{lon}<extra></extra>",
         "lat": [
          40.65204691
         ],
         "legendgroup": "Greenwood Cemetery",
         "lon": [
          -73.99044122
         ],
         "marker": {
          "color": "#FECB52"
         },
         "mode": "markers",
         "name": "Greenwood Cemetery",
         "showlegend": true,
         "subplot": "mapbox",
         "type": "scattermapbox"
        },
        {
         "hovertemplate": "Name=Holy Cross Cemetery<br>Latitude=%{lat}<br>Longitude=%{lon}<extra></extra>",
         "lat": [
          40.64686106
         ],
         "legendgroup": "Holy Cross Cemetery",
         "lon": [
          -73.93764826
         ],
         "marker": {
          "color": "#636efa"
         },
         "mode": "markers",
         "name": "Holy Cross Cemetery",
         "showlegend": true,
         "subplot": "mapbox",
         "type": "scattermapbox"
        },
        {
         "hovertemplate": "Name=Bush Terminal<br>Latitude=%{lat}<br>Longitude=%{lon}<extra></extra>",
         "lat": [
          40.65508508
         ],
         "legendgroup": "Bush Terminal",
         "lon": [
          -74.0185757
         ],
         "marker": {
          "color": "#EF553B"
         },
         "mode": "markers",
         "name": "Bush Terminal",
         "showlegend": true,
         "subplot": "mapbox",
         "type": "scattermapbox"
        },
        {
         "hovertemplate": "Name=Owls Head Park<br>Latitude=%{lat}<br>Longitude=%{lon}<extra></extra>",
         "lat": [
          40.63995895
         ],
         "legendgroup": "Owls Head Park",
         "lon": [
          -74.03230852
         ],
         "marker": {
          "color": "#00cc96"
         },
         "mode": "markers",
         "name": "Owls Head Park",
         "showlegend": true,
         "subplot": "mapbox",
         "type": "scattermapbox"
        },
        {
         "hovertemplate": "Name=Fort Hamilton<br>Latitude=%{lat}<br>Longitude=%{lon}<extra></extra>",
         "lat": [
          40.60738115
         ],
         "legendgroup": "Fort Hamilton",
         "lon": [
          -74.02879133
         ],
         "marker": {
          "color": "#ab63fa"
         },
         "mode": "markers",
         "name": "Fort Hamilton",
         "showlegend": true,
         "subplot": "mapbox",
         "type": "scattermapbox"
        },
        {
         "hovertemplate": "Name=Dyker Beach Park<br>Latitude=%{lat}<br>Longitude=%{lon}<extra></extra>",
         "lat": [
          40.61146403
         ],
         "legendgroup": "Dyker Beach Park",
         "lon": [
          -74.01956103
         ],
         "marker": {
          "color": "#FFA15A"
         },
         "mode": "markers",
         "name": "Dyker Beach Park",
         "showlegend": true,
         "subplot": "mapbox",
         "type": "scattermapbox"
        },
        {
         "hovertemplate": "Name=Washington Cemetery<br>Latitude=%{lat}<br>Longitude=%{lon}<extra></extra>",
         "lat": [
          40.62022207
         ],
         "legendgroup": "Washington Cemetery",
         "lon": [
          -73.97543204
         ],
         "marker": {
          "color": "#19d3f3"
         },
         "mode": "markers",
         "name": "Washington Cemetery",
         "showlegend": true,
         "subplot": "mapbox",
         "type": "scattermapbox"
        },
        {
         "hovertemplate": "Name=Marine Park<br>Latitude=%{lat}<br>Longitude=%{lon}<extra></extra>",
         "lat": [
          40.60336225
         ],
         "legendgroup": "Marine Park",
         "lon": [
          -73.92408613
         ],
         "marker": {
          "color": "#FF6692"
         },
         "mode": "markers",
         "name": "Marine Park",
         "showlegend": true,
         "subplot": "mapbox",
         "type": "scattermapbox"
        },
        {
         "hovertemplate": "Name=Floyd Bennett Field<br>Latitude=%{lat}<br>Longitude=%{lon}<extra></extra>",
         "lat": [
          40.59129948
         ],
         "legendgroup": "Floyd Bennett Field",
         "lon": [
          -73.89009561
         ],
         "marker": {
          "color": "#B6E880"
         },
         "mode": "markers",
         "name": "Floyd Bennett Field",
         "showlegend": true,
         "subplot": "mapbox",
         "type": "scattermapbox"
        },
        {
         "hovertemplate": "Name=Canarsie Beach Park<br>Latitude=%{lat}<br>Longitude=%{lon}<extra></extra>",
         "lat": [
          40.62548604
         ],
         "legendgroup": "Canarsie Beach Park",
         "lon": [
          -73.89810825
         ],
         "marker": {
          "color": "#FF97FF"
         },
         "mode": "markers",
         "name": "Canarsie Beach Park",
         "showlegend": true,
         "subplot": "mapbox",
         "type": "scattermapbox"
        },
        {
         "hovertemplate": "Name=Aqueduct Race Track<br>Latitude=%{lat}<br>Longitude=%{lon}<extra></extra>",
         "lat": [
          40.67219433
         ],
         "legendgroup": "Aqueduct Race Track",
         "lon": [
          -73.83062352
         ],
         "marker": {
          "color": "#FECB52"
         },
         "mode": "markers",
         "name": "Aqueduct Race Track",
         "showlegend": true,
         "subplot": "mapbox",
         "type": "scattermapbox"
        },
        {
         "hovertemplate": "Name=Bayside Cemetery<br>Latitude=%{lat}<br>Longitude=%{lon}<extra></extra>",
         "lat": [
          40.67728706
         ],
         "legendgroup": "Bayside Cemetery",
         "lon": [
          -73.85499266
         ],
         "marker": {
          "color": "#636efa"
         },
         "mode": "markers",
         "name": "Bayside Cemetery",
         "showlegend": true,
         "subplot": "mapbox",
         "type": "scattermapbox"
        },
        {
         "hovertemplate": "Name=Brookville Park<br>Latitude=%{lat}<br>Longitude=%{lon}<extra></extra>",
         "lat": [
          40.65190821
         ],
         "legendgroup": "Brookville Park",
         "lon": [
          -73.75238277
         ],
         "marker": {
          "color": "#EF553B"
         },
         "mode": "markers",
         "name": "Brookville Park",
         "showlegend": true,
         "subplot": "mapbox",
         "type": "scattermapbox"
        },
        {
         "hovertemplate": "Name=Baisley Pond Park<br>Latitude=%{lat}<br>Longitude=%{lon}<extra></extra>",
         "lat": [
          40.67324965
         ],
         "legendgroup": "Baisley Pond Park",
         "lon": [
          -73.78691601
         ],
         "marker": {
          "color": "#00cc96"
         },
         "mode": "markers",
         "name": "Baisley Pond Park",
         "showlegend": true,
         "subplot": "mapbox",
         "type": "scattermapbox"
        },
        {
         "hovertemplate": "Name=Roy Wilkins Park<br>Latitude=%{lat}<br>Longitude=%{lon}<extra></extra>",
         "lat": [
          40.68791059
         ],
         "legendgroup": "Roy Wilkins Park",
         "lon": [
          -73.77202425
         ],
         "marker": {
          "color": "#ab63fa"
         },
         "mode": "markers",
         "name": "Roy Wilkins Park",
         "showlegend": true,
         "subplot": "mapbox",
         "type": "scattermapbox"
        },
        {
         "hovertemplate": "Name=Cypress Hills Cemetery<br>Latitude=%{lat}<br>Longitude=%{lon}<extra></extra>",
         "lat": [
          40.69584153
         ],
         "legendgroup": "Cypress Hills Cemetery",
         "lon": [
          -73.87614172
         ],
         "marker": {
          "color": "#FFA15A"
         },
         "mode": "markers",
         "name": "Cypress Hills Cemetery",
         "showlegend": true,
         "subplot": "mapbox",
         "type": "scattermapbox"
        },
        {
         "hovertemplate": "Name=Saint  Johns Cemetery<br>Latitude=%{lat}<br>Longitude=%{lon}<extra></extra>",
         "lat": [
          40.71516417
         ],
         "legendgroup": "Saint  Johns Cemetery",
         "lon": [
          -73.86698585
         ],
         "marker": {
          "color": "#19d3f3"
         },
         "mode": "markers",
         "name": "Saint  Johns Cemetery",
         "showlegend": true,
         "subplot": "mapbox",
         "type": "scattermapbox"
        },
        {
         "hovertemplate": "Name=Linden Hill Cemetery<br>Latitude=%{lat}<br>Longitude=%{lon}<extra></extra>",
         "lat": [
          40.71048991
         ],
         "legendgroup": "Linden Hill Cemetery",
         "lon": [
          -73.91396904
         ],
         "marker": {
          "color": "#FF6692"
         },
         "mode": "markers",
         "name": "Linden Hill Cemetery",
         "showlegend": true,
         "subplot": "mapbox",
         "type": "scattermapbox"
        },
        {
         "hovertemplate": "Name=Mount Olivet Cemetery<br>Latitude=%{lat}<br>Longitude=%{lon}<extra></extra>",
         "lat": [
          40.72084097
         ],
         "legendgroup": "Mount Olivet Cemetery",
         "lon": [
          -73.89594771
         ],
         "marker": {
          "color": "#B6E880"
         },
         "mode": "markers",
         "name": "Mount Olivet Cemetery",
         "showlegend": true,
         "subplot": "mapbox",
         "type": "scattermapbox"
        },
        {
         "hovertemplate": "Name=Juniper Valley Park<br>Latitude=%{lat}<br>Longitude=%{lon}<extra></extra>",
         "lat": [
          40.72035303
         ],
         "legendgroup": "Juniper Valley Park",
         "lon": [
          -73.87963219
         ],
         "marker": {
          "color": "#FF97FF"
         },
         "mode": "markers",
         "name": "Juniper Valley Park",
         "showlegend": true,
         "subplot": "mapbox",
         "type": "scattermapbox"
        },
        {
         "hovertemplate": "Name=Lutheran Cemetery<br>Latitude=%{lat}<br>Longitude=%{lon}<extra></extra>",
         "lat": [
          40.71223625
         ],
         "legendgroup": "Lutheran Cemetery",
         "lon": [
          -73.88748458
         ],
         "marker": {
          "color": "#FECB52"
         },
         "mode": "markers",
         "name": "Lutheran Cemetery",
         "showlegend": true,
         "subplot": "mapbox",
         "type": "scattermapbox"
        },
        {
         "hovertemplate": "Name=Montefiore Cemetery<br>Latitude=%{lat}<br>Longitude=%{lon}<extra></extra>",
         "lat": [
          40.68584033
         ],
         "legendgroup": "Montefiore Cemetery",
         "lon": [
          -73.7417316
         ],
         "marker": {
          "color": "#636efa"
         },
         "mode": "markers",
         "name": "Montefiore Cemetery",
         "showlegend": true,
         "subplot": "mapbox",
         "type": "scattermapbox"
        },
        {
         "hovertemplate": "Name=Flushing Meadows Corona Park<br>Latitude=%{lat}<br>Longitude=%{lon}<extra></extra>",
         "lat": [
          40.73799908
         ],
         "legendgroup": "Flushing Meadows Corona Park",
         "lon": [
          -73.84141525
         ],
         "marker": {
          "color": "#EF553B"
         },
         "mode": "markers",
         "name": "Flushing Meadows Corona Park",
         "showlegend": true,
         "subplot": "mapbox",
         "type": "scattermapbox"
        },
        {
         "hovertemplate": "Name=Mount Hebron Cemetery<br>Latitude=%{lat}<br>Longitude=%{lon}<extra></extra>",
         "lat": [
          40.73409273
         ],
         "legendgroup": "Mount Hebron Cemetery",
         "lon": [
          -73.83033793
         ],
         "marker": {
          "color": "#00cc96"
         },
         "mode": "markers",
         "name": "Mount Hebron Cemetery",
         "showlegend": true,
         "subplot": "mapbox",
         "type": "scattermapbox"
        },
        {
         "hovertemplate": "Name=Cunningham Park<br>Latitude=%{lat}<br>Longitude=%{lon}<extra></extra>",
         "lat": [
          40.72903318
         ],
         "legendgroup": "Cunningham Park",
         "lon": [
          -73.76903038
         ],
         "marker": {
          "color": "#ab63fa"
         },
         "mode": "markers",
         "name": "Cunningham Park",
         "showlegend": true,
         "subplot": "mapbox",
         "type": "scattermapbox"
        },
        {
         "hovertemplate": "Name=Fort Totten<br>Latitude=%{lat}<br>Longitude=%{lon}<extra></extra>",
         "lat": [
          40.79253916
         ],
         "legendgroup": "Fort Totten",
         "lon": [
          -73.7770396
         ],
         "marker": {
          "color": "#FFA15A"
         },
         "mode": "markers",
         "name": "Fort Totten",
         "showlegend": true,
         "subplot": "mapbox",
         "type": "scattermapbox"
        },
        {
         "hovertemplate": "Name=Clearview Park<br>Latitude=%{lat}<br>Longitude=%{lon}<extra></extra>",
         "lat": [
          40.78258966
         ],
         "legendgroup": "Clearview Park",
         "lon": [
          -73.78886383
         ],
         "marker": {
          "color": "#19d3f3"
         },
         "mode": "markers",
         "name": "Clearview Park",
         "showlegend": true,
         "subplot": "mapbox",
         "type": "scattermapbox"
        },
        {
         "hovertemplate": "Name=Crocheron Park<br>Latitude=%{lat}<br>Longitude=%{lon}<extra></extra>",
         "lat": [
          40.77133495
         ],
         "legendgroup": "Crocheron Park",
         "lon": [
          -73.76899845
         ],
         "marker": {
          "color": "#FF6692"
         },
         "mode": "markers",
         "name": "Crocheron Park",
         "showlegend": true,
         "subplot": "mapbox",
         "type": "scattermapbox"
        },
        {
         "hovertemplate": "Name=Alley Pond Park<br>Latitude=%{lat}<br>Longitude=%{lon}<extra></extra>",
         "lat": [
          40.75365741
         ],
         "legendgroup": "Alley Pond Park",
         "lon": [
          -73.74427173
         ],
         "marker": {
          "color": "#B6E880"
         },
         "mode": "markers",
         "name": "Alley Pond Park",
         "showlegend": true,
         "subplot": "mapbox",
         "type": "scattermapbox"
        },
        {
         "hovertemplate": "Name=Douglaston Park<br>Latitude=%{lat}<br>Longitude=%{lon}<extra></extra>",
         "lat": [
          40.75164378
         ],
         "legendgroup": "Douglaston Park",
         "lon": [
          -73.73228698
         ],
         "marker": {
          "color": "#FF97FF"
         },
         "mode": "markers",
         "name": "Douglaston Park",
         "showlegend": true,
         "subplot": "mapbox",
         "type": "scattermapbox"
        },
        {
         "hovertemplate": "Name=Fort Schuyler<br>Latitude=%{lat}<br>Longitude=%{lon}<extra></extra>",
         "lat": [
          40.8056467
         ],
         "legendgroup": "Fort Schuyler",
         "lon": [
          -73.7931197
         ],
         "marker": {
          "color": "#FECB52"
         },
         "mode": "markers",
         "name": "Fort Schuyler",
         "showlegend": true,
         "subplot": "mapbox",
         "type": "scattermapbox"
        },
        {
         "hovertemplate": "Name=Calvary Cemetery<br>Latitude=%{lat}<br>Longitude=%{lon}<extra></extra>",
         "lat": [
          40.73338238
         ],
         "legendgroup": "Calvary Cemetery",
         "lon": [
          -73.93013732
         ],
         "marker": {
          "color": "#636efa"
         },
         "mode": "markers",
         "name": "Calvary Cemetery",
         "showlegend": true,
         "subplot": "mapbox",
         "type": "scattermapbox"
        },
        {
         "hovertemplate": "Name=New Calvary Cemetery<br>Latitude=%{lat}<br>Longitude=%{lon}<extra></extra>",
         "lat": [
          40.73707174
         ],
         "legendgroup": "New Calvary Cemetery",
         "lon": [
          -73.91314739
         ],
         "marker": {
          "color": "#EF553B"
         },
         "mode": "markers",
         "name": "New Calvary Cemetery",
         "showlegend": true,
         "subplot": "mapbox",
         "type": "scattermapbox"
        },
        {
         "hovertemplate": "Name=Mount Zion Cemetery<br>Latitude=%{lat}<br>Longitude=%{lon}<extra></extra>",
         "lat": [
          40.73205824
         ],
         "legendgroup": "Mount Zion Cemetery",
         "lon": [
          -73.90791234
         ],
         "marker": {
          "color": "#00cc96"
         },
         "mode": "markers",
         "name": "Mount Zion Cemetery",
         "showlegend": true,
         "subplot": "mapbox",
         "type": "scattermapbox"
        },
        {
         "hovertemplate": "Name=Jacob Riis Park<br>Latitude=%{lat}<br>Longitude=%{lon}<extra></extra>",
         "lat": [
          40.56788176
         ],
         "legendgroup": "Jacob Riis Park",
         "lon": [
          -73.87158393
         ],
         "marker": {
          "color": "#ab63fa"
         },
         "mode": "markers",
         "name": "Jacob Riis Park",
         "showlegend": true,
         "subplot": "mapbox",
         "type": "scattermapbox"
        },
        {
         "hovertemplate": "Name=Fort Tilden<br>Latitude=%{lat}<br>Longitude=%{lon}<extra></extra>",
         "lat": [
          40.56163026
         ],
         "legendgroup": "Fort Tilden",
         "lon": [
          -73.89490043
         ],
         "marker": {
          "color": "#FFA15A"
         },
         "mode": "markers",
         "name": "Fort Tilden",
         "showlegend": true,
         "subplot": "mapbox",
         "type": "scattermapbox"
        },
        {
         "hovertemplate": "Name=Liberty Island<br>Latitude=%{lat}<br>Longitude=%{lon}<extra></extra>",
         "lat": [
          40.69000021
         ],
         "legendgroup": "Liberty Island",
         "lon": [
          -74.04528227
         ],
         "marker": {
          "color": "#19d3f3"
         },
         "mode": "markers",
         "name": "Liberty Island",
         "showlegend": true,
         "subplot": "mapbox",
         "type": "scattermapbox"
        },
        {
         "hovertemplate": "Name=Ellis Island<br>Latitude=%{lat}<br>Longitude=%{lon}<extra></extra>",
         "lat": [
          40.69919477
         ],
         "legendgroup": "Ellis Island",
         "lon": [
          -74.04017359
         ],
         "marker": {
          "color": "#FF6692"
         },
         "mode": "markers",
         "name": "Ellis Island",
         "showlegend": true,
         "subplot": "mapbox",
         "type": "scattermapbox"
        },
        {
         "hovertemplate": "Name=Snug Harbor<br>Latitude=%{lat}<br>Longitude=%{lon}<extra></extra>",
         "lat": [
          40.64230187
         ],
         "legendgroup": "Snug Harbor",
         "lon": [
          -74.10316989
         ],
         "marker": {
          "color": "#B6E880"
         },
         "mode": "markers",
         "name": "Snug Harbor",
         "showlegend": true,
         "subplot": "mapbox",
         "type": "scattermapbox"
        },
        {
         "hovertemplate": "Name=Silver Lake Park<br>Latitude=%{lat}<br>Longitude=%{lon}<extra></extra>",
         "lat": [
          40.62728628
         ],
         "legendgroup": "Silver Lake Park",
         "lon": [
          -74.09460329999999
         ],
         "marker": {
          "color": "#FF97FF"
         },
         "mode": "markers",
         "name": "Silver Lake Park",
         "showlegend": true,
         "subplot": "mapbox",
         "type": "scattermapbox"
        },
        {
         "hovertemplate": "Name=Clove Lakes Park<br>Latitude=%{lat}<br>Longitude=%{lon}<extra></extra>",
         "lat": [
          40.61811022
         ],
         "legendgroup": "Clove Lakes Park",
         "lon": [
          -74.11069895
         ],
         "marker": {
          "color": "#FECB52"
         },
         "mode": "markers",
         "name": "Clove Lakes Park",
         "showlegend": true,
         "subplot": "mapbox",
         "type": "scattermapbox"
        },
        {
         "hovertemplate": "Name=Fort Wadsworth<br>Latitude=%{lat}<br>Longitude=%{lon}<extra></extra>",
         "lat": [
          40.60438473
         ],
         "legendgroup": "Fort Wadsworth",
         "lon": [
          -74.05881837
         ],
         "marker": {
          "color": "#636efa"
         },
         "mode": "markers",
         "name": "Fort Wadsworth",
         "showlegend": true,
         "subplot": "mapbox",
         "type": "scattermapbox"
        },
        {
         "hovertemplate": "Name=Miller Field<br>Latitude=%{lat}<br>Longitude=%{lon}<extra></extra>",
         "lat": [
          40.56802528
         ],
         "legendgroup": "Miller Field",
         "lon": [
          -74.09882950000001
         ],
         "marker": {
          "color": "#EF553B"
         },
         "mode": "markers",
         "name": "Miller Field",
         "showlegend": true,
         "subplot": "mapbox",
         "type": "scattermapbox"
        },
        {
         "hovertemplate": "Name=Great Kills Park<br>Latitude=%{lat}<br>Longitude=%{lon}<extra></extra>",
         "lat": [
          40.54844479
         ],
         "legendgroup": "Great Kills Park",
         "lon": [
          -74.12560544
         ],
         "marker": {
          "color": "#00cc96"
         },
         "mode": "markers",
         "name": "Great Kills Park",
         "showlegend": true,
         "subplot": "mapbox",
         "type": "scattermapbox"
        },
        {
         "hovertemplate": "Name=Moravian Cemetery<br>Latitude=%{lat}<br>Longitude=%{lon}<extra></extra>",
         "lat": [
          40.58271473
         ],
         "legendgroup": "Moravian Cemetery",
         "lon": [
          -74.11735759
         ],
         "marker": {
          "color": "#ab63fa"
         },
         "mode": "markers",
         "name": "Moravian Cemetery",
         "showlegend": true,
         "subplot": "mapbox",
         "type": "scattermapbox"
        },
        {
         "hovertemplate": "Name=LaTourette Park<br>Latitude=%{lat}<br>Longitude=%{lon}<extra></extra>",
         "lat": [
          40.58215534
         ],
         "legendgroup": "LaTourette Park",
         "lon": [
          -74.14250377
         ],
         "marker": {
          "color": "#FFA15A"
         },
         "mode": "markers",
         "name": "LaTourette Park",
         "showlegend": true,
         "subplot": "mapbox",
         "type": "scattermapbox"
        },
        {
         "hovertemplate": "Name=Willowbrook Park<br>Latitude=%{lat}<br>Longitude=%{lon}<extra></extra>",
         "lat": [
          40.60061999
         ],
         "legendgroup": "Willowbrook Park",
         "lon": [
          -74.15824653
         ],
         "marker": {
          "color": "#19d3f3"
         },
         "mode": "markers",
         "name": "Willowbrook Park",
         "showlegend": true,
         "subplot": "mapbox",
         "type": "scattermapbox"
        },
        {
         "hovertemplate": "Name=Blue Heron Park<br>Latitude=%{lat}<br>Longitude=%{lon}<extra></extra>",
         "lat": [
          40.53125317
         ],
         "legendgroup": "Blue Heron Park",
         "lon": [
          -74.17535438
         ],
         "marker": {
          "color": "#FF6692"
         },
         "mode": "markers",
         "name": "Blue Heron Park",
         "showlegend": true,
         "subplot": "mapbox",
         "type": "scattermapbox"
        },
        {
         "hovertemplate": "Name=Wolfe's Pond Park<br>Latitude=%{lat}<br>Longitude=%{lon}<extra></extra>",
         "lat": [
          40.52173963
         ],
         "legendgroup": "Wolfe's Pond Park",
         "lon": [
          -74.19242925
         ],
         "marker": {
          "color": "#B6E880"
         },
         "mode": "markers",
         "name": "Wolfe's Pond Park",
         "showlegend": true,
         "subplot": "mapbox",
         "type": "scattermapbox"
        },
        {
         "hovertemplate": "Name=Mount Loretto<br>Latitude=%{lat}<br>Longitude=%{lon}<extra></extra>",
         "lat": [
          40.50966469
         ],
         "legendgroup": "Mount Loretto",
         "lon": [
          -74.21806393
         ],
         "marker": {
          "color": "#FF97FF"
         },
         "mode": "markers",
         "name": "Mount Loretto",
         "showlegend": true,
         "subplot": "mapbox",
         "type": "scattermapbox"
        },
        {
         "hovertemplate": "Name=Conference House Park<br>Latitude=%{lat}<br>Longitude=%{lon}<extra></extra>",
         "lat": [
          40.49956589
         ],
         "legendgroup": "Conference House Park",
         "lon": [
          -74.24856464
         ],
         "marker": {
          "color": "#FECB52"
         },
         "mode": "markers",
         "name": "Conference House Park",
         "showlegend": true,
         "subplot": "mapbox",
         "type": "scattermapbox"
        },
        {
         "hovertemplate": "Name=South Shore Golf Course<br>Latitude=%{lat}<br>Longitude=%{lon}<extra></extra>",
         "lat": [
          40.5511835
         ],
         "legendgroup": "South Shore Golf Course",
         "lon": [
          -74.20503666
         ],
         "marker": {
          "color": "#636efa"
         },
         "mode": "markers",
         "name": "South Shore Golf Course",
         "showlegend": true,
         "subplot": "mapbox",
         "type": "scattermapbox"
        },
        {
         "hovertemplate": "Name=Fresh Kills<br>Latitude=%{lat}<br>Longitude=%{lon}<extra></extra>",
         "lat": [
          40.57405693
         ],
         "legendgroup": "Fresh Kills",
         "lon": [
          -74.19497651
         ],
         "marker": {
          "color": "#EF553B"
         },
         "mode": "markers",
         "name": "Fresh Kills",
         "showlegend": true,
         "subplot": "mapbox",
         "type": "scattermapbox"
        },
        {
         "hovertemplate": "Name=Plumb Beach<br>Latitude=%{lat}<br>Longitude=%{lon}<extra></extra>",
         "lat": [
          40.58319524
         ],
         "legendgroup": "Plumb Beach",
         "lon": [
          -73.91512178
         ],
         "marker": {
          "color": "#00cc96"
         },
         "mode": "markers",
         "name": "Plumb Beach",
         "showlegend": true,
         "subplot": "mapbox",
         "type": "scattermapbox"
        },
        {
         "hovertemplate": "Name=John F. Kennedy International Airport<br>Latitude=%{lat}<br>Longitude=%{lon}<extra></extra>",
         "lat": [
          40.64806756
         ],
         "legendgroup": "John F. Kennedy International Airport",
         "lon": [
          -73.78599901
         ],
         "marker": {
          "color": "#ab63fa"
         },
         "mode": "markers",
         "name": "John F. Kennedy International Airport",
         "showlegend": true,
         "subplot": "mapbox",
         "type": "scattermapbox"
        },
        {
         "hovertemplate": "Name=Jamaica Bay Wildlife Refuge<br>Latitude=%{lat}<br>Longitude=%{lon}<extra></extra>",
         "lat": [
          40.62287746
         ],
         "legendgroup": "Jamaica Bay Wildlife Refuge",
         "lon": [
          -73.82628899
         ],
         "marker": {
          "color": "#FFA15A"
         },
         "mode": "markers",
         "name": "Jamaica Bay Wildlife Refuge",
         "showlegend": true,
         "subplot": "mapbox",
         "type": "scattermapbox"
        },
        {
         "hovertemplate": "Name=Calvert Vaux<br>Latitude=%{lat}<br>Longitude=%{lon}<extra></extra>",
         "lat": [
          40.58507539
         ],
         "legendgroup": "Calvert Vaux",
         "lon": [
          -73.99369533
         ],
         "marker": {
          "color": "#19d3f3"
         },
         "mode": "markers",
         "name": "Calvert Vaux",
         "showlegend": true,
         "subplot": "mapbox",
         "type": "scattermapbox"
        },
        {
         "hovertemplate": "Name=High Rock Park<br>Latitude=%{lat}<br>Longitude=%{lon}<extra></extra>",
         "lat": [
          40.59043473
         ],
         "legendgroup": "High Rock Park",
         "lon": [
          -74.11492037
         ],
         "marker": {
          "color": "#FF6692"
         },
         "mode": "markers",
         "name": "High Rock Park",
         "showlegend": true,
         "subplot": "mapbox",
         "type": "scattermapbox"
        },
        {
         "hovertemplate": "Name=Red Hook Park<br>Latitude=%{lat}<br>Longitude=%{lon}<extra></extra>",
         "lat": [
          40.67204727
         ],
         "legendgroup": "Red Hook Park",
         "lon": [
          -74.00555273
         ],
         "marker": {
          "color": "#B6E880"
         },
         "mode": "markers",
         "name": "Red Hook Park",
         "showlegend": true,
         "subplot": "mapbox",
         "type": "scattermapbox"
        },
        {
         "hovertemplate": "Name=Saint Michael's Cemetery<br>Latitude=%{lat}<br>Longitude=%{lon}<extra></extra>",
         "lat": [
          40.76444876
         ],
         "legendgroup": "Saint Michael's Cemetery",
         "lon": [
          -73.89847195
         ],
         "marker": {
          "color": "#FF97FF"
         },
         "mode": "markers",
         "name": "Saint Michael's Cemetery",
         "showlegend": true,
         "subplot": "mapbox",
         "type": "scattermapbox"
        },
        {
         "hovertemplate": "Name=Riverdale Park<br>Latitude=%{lat}<br>Longitude=%{lon}<extra></extra>",
         "lat": [
          40.89230557
         ],
         "legendgroup": "Riverdale Park",
         "lon": [
          -73.91682911
         ],
         "marker": {
          "color": "#FECB52"
         },
         "mode": "markers",
         "name": "Riverdale Park",
         "showlegend": true,
         "subplot": "mapbox",
         "type": "scattermapbox"
        },
        {
         "hovertemplate": "Name=Spring Creek Park Preserve No Access<br>Latitude=%{lat}<br>Longitude=%{lon}<extra></extra>",
         "lat": [
          40.64582807
         ],
         "legendgroup": "Spring Creek Park Preserve No Access",
         "lon": [
          -73.86501942
         ],
         "marker": {
          "color": "#636efa"
         },
         "mode": "markers",
         "name": "Spring Creek Park Preserve No Access",
         "showlegend": true,
         "subplot": "mapbox",
         "type": "scattermapbox"
        },
        {
         "hovertemplate": "Name=Spring Creek Park Gateway National Recreation Area<br>Latitude=%{lat}<br>Longitude=%{lon}<extra></extra>",
         "lat": [
          40.646316
         ],
         "legendgroup": "Spring Creek Park Gateway National Recreation Area",
         "lon": [
          -73.84421119
         ],
         "marker": {
          "color": "#EF553B"
         },
         "mode": "markers",
         "name": "Spring Creek Park Gateway National Recreation Area",
         "showlegend": true,
         "subplot": "mapbox",
         "type": "scattermapbox"
        }
       ],
       "layout": {
        "legend": {
         "title": {
          "text": "Name"
         },
         "tracegroupgap": 0
        },
        "mapbox": {
         "center": {
          "lat": 40.70281489793479,
          "lon": -73.93761442239129
         },
         "domain": {
          "x": [
           0,
           1
          ],
          "y": [
           0,
           1
          ]
         },
         "zoom": 8
        },
        "margin": {
         "t": 60
        },
        "template": {
         "data": {
          "bar": [
           {
            "error_x": {
             "color": "#2a3f5f"
            },
            "error_y": {
             "color": "#2a3f5f"
            },
            "marker": {
             "line": {
              "color": "#E5ECF6",
              "width": 0.5
             }
            },
            "type": "bar"
           }
          ],
          "barpolar": [
           {
            "marker": {
             "line": {
              "color": "#E5ECF6",
              "width": 0.5
             }
            },
            "type": "barpolar"
           }
          ],
          "carpet": [
           {
            "aaxis": {
             "endlinecolor": "#2a3f5f",
             "gridcolor": "white",
             "linecolor": "white",
             "minorgridcolor": "white",
             "startlinecolor": "#2a3f5f"
            },
            "baxis": {
             "endlinecolor": "#2a3f5f",
             "gridcolor": "white",
             "linecolor": "white",
             "minorgridcolor": "white",
             "startlinecolor": "#2a3f5f"
            },
            "type": "carpet"
           }
          ],
          "choropleth": [
           {
            "colorbar": {
             "outlinewidth": 0,
             "ticks": ""
            },
            "type": "choropleth"
           }
          ],
          "contour": [
           {
            "colorbar": {
             "outlinewidth": 0,
             "ticks": ""
            },
            "colorscale": [
             [
              0,
              "#0d0887"
             ],
             [
              0.1111111111111111,
              "#46039f"
             ],
             [
              0.2222222222222222,
              "#7201a8"
             ],
             [
              0.3333333333333333,
              "#9c179e"
             ],
             [
              0.4444444444444444,
              "#bd3786"
             ],
             [
              0.5555555555555556,
              "#d8576b"
             ],
             [
              0.6666666666666666,
              "#ed7953"
             ],
             [
              0.7777777777777778,
              "#fb9f3a"
             ],
             [
              0.8888888888888888,
              "#fdca26"
             ],
             [
              1,
              "#f0f921"
             ]
            ],
            "type": "contour"
           }
          ],
          "contourcarpet": [
           {
            "colorbar": {
             "outlinewidth": 0,
             "ticks": ""
            },
            "type": "contourcarpet"
           }
          ],
          "heatmap": [
           {
            "colorbar": {
             "outlinewidth": 0,
             "ticks": ""
            },
            "colorscale": [
             [
              0,
              "#0d0887"
             ],
             [
              0.1111111111111111,
              "#46039f"
             ],
             [
              0.2222222222222222,
              "#7201a8"
             ],
             [
              0.3333333333333333,
              "#9c179e"
             ],
             [
              0.4444444444444444,
              "#bd3786"
             ],
             [
              0.5555555555555556,
              "#d8576b"
             ],
             [
              0.6666666666666666,
              "#ed7953"
             ],
             [
              0.7777777777777778,
              "#fb9f3a"
             ],
             [
              0.8888888888888888,
              "#fdca26"
             ],
             [
              1,
              "#f0f921"
             ]
            ],
            "type": "heatmap"
           }
          ],
          "heatmapgl": [
           {
            "colorbar": {
             "outlinewidth": 0,
             "ticks": ""
            },
            "colorscale": [
             [
              0,
              "#0d0887"
             ],
             [
              0.1111111111111111,
              "#46039f"
             ],
             [
              0.2222222222222222,
              "#7201a8"
             ],
             [
              0.3333333333333333,
              "#9c179e"
             ],
             [
              0.4444444444444444,
              "#bd3786"
             ],
             [
              0.5555555555555556,
              "#d8576b"
             ],
             [
              0.6666666666666666,
              "#ed7953"
             ],
             [
              0.7777777777777778,
              "#fb9f3a"
             ],
             [
              0.8888888888888888,
              "#fdca26"
             ],
             [
              1,
              "#f0f921"
             ]
            ],
            "type": "heatmapgl"
           }
          ],
          "histogram": [
           {
            "marker": {
             "colorbar": {
              "outlinewidth": 0,
              "ticks": ""
             }
            },
            "type": "histogram"
           }
          ],
          "histogram2d": [
           {
            "colorbar": {
             "outlinewidth": 0,
             "ticks": ""
            },
            "colorscale": [
             [
              0,
              "#0d0887"
             ],
             [
              0.1111111111111111,
              "#46039f"
             ],
             [
              0.2222222222222222,
              "#7201a8"
             ],
             [
              0.3333333333333333,
              "#9c179e"
             ],
             [
              0.4444444444444444,
              "#bd3786"
             ],
             [
              0.5555555555555556,
              "#d8576b"
             ],
             [
              0.6666666666666666,
              "#ed7953"
             ],
             [
              0.7777777777777778,
              "#fb9f3a"
             ],
             [
              0.8888888888888888,
              "#fdca26"
             ],
             [
              1,
              "#f0f921"
             ]
            ],
            "type": "histogram2d"
           }
          ],
          "histogram2dcontour": [
           {
            "colorbar": {
             "outlinewidth": 0,
             "ticks": ""
            },
            "colorscale": [
             [
              0,
              "#0d0887"
             ],
             [
              0.1111111111111111,
              "#46039f"
             ],
             [
              0.2222222222222222,
              "#7201a8"
             ],
             [
              0.3333333333333333,
              "#9c179e"
             ],
             [
              0.4444444444444444,
              "#bd3786"
             ],
             [
              0.5555555555555556,
              "#d8576b"
             ],
             [
              0.6666666666666666,
              "#ed7953"
             ],
             [
              0.7777777777777778,
              "#fb9f3a"
             ],
             [
              0.8888888888888888,
              "#fdca26"
             ],
             [
              1,
              "#f0f921"
             ]
            ],
            "type": "histogram2dcontour"
           }
          ],
          "mesh3d": [
           {
            "colorbar": {
             "outlinewidth": 0,
             "ticks": ""
            },
            "type": "mesh3d"
           }
          ],
          "parcoords": [
           {
            "line": {
             "colorbar": {
              "outlinewidth": 0,
              "ticks": ""
             }
            },
            "type": "parcoords"
           }
          ],
          "pie": [
           {
            "automargin": true,
            "type": "pie"
           }
          ],
          "scatter": [
           {
            "marker": {
             "colorbar": {
              "outlinewidth": 0,
              "ticks": ""
             }
            },
            "type": "scatter"
           }
          ],
          "scatter3d": [
           {
            "line": {
             "colorbar": {
              "outlinewidth": 0,
              "ticks": ""
             }
            },
            "marker": {
             "colorbar": {
              "outlinewidth": 0,
              "ticks": ""
             }
            },
            "type": "scatter3d"
           }
          ],
          "scattercarpet": [
           {
            "marker": {
             "colorbar": {
              "outlinewidth": 0,
              "ticks": ""
             }
            },
            "type": "scattercarpet"
           }
          ],
          "scattergeo": [
           {
            "marker": {
             "colorbar": {
              "outlinewidth": 0,
              "ticks": ""
             }
            },
            "type": "scattergeo"
           }
          ],
          "scattergl": [
           {
            "marker": {
             "colorbar": {
              "outlinewidth": 0,
              "ticks": ""
             }
            },
            "type": "scattergl"
           }
          ],
          "scattermapbox": [
           {
            "marker": {
             "colorbar": {
              "outlinewidth": 0,
              "ticks": ""
             }
            },
            "type": "scattermapbox"
           }
          ],
          "scatterpolar": [
           {
            "marker": {
             "colorbar": {
              "outlinewidth": 0,
              "ticks": ""
             }
            },
            "type": "scatterpolar"
           }
          ],
          "scatterpolargl": [
           {
            "marker": {
             "colorbar": {
              "outlinewidth": 0,
              "ticks": ""
             }
            },
            "type": "scatterpolargl"
           }
          ],
          "scatterternary": [
           {
            "marker": {
             "colorbar": {
              "outlinewidth": 0,
              "ticks": ""
             }
            },
            "type": "scatterternary"
           }
          ],
          "surface": [
           {
            "colorbar": {
             "outlinewidth": 0,
             "ticks": ""
            },
            "colorscale": [
             [
              0,
              "#0d0887"
             ],
             [
              0.1111111111111111,
              "#46039f"
             ],
             [
              0.2222222222222222,
              "#7201a8"
             ],
             [
              0.3333333333333333,
              "#9c179e"
             ],
             [
              0.4444444444444444,
              "#bd3786"
             ],
             [
              0.5555555555555556,
              "#d8576b"
             ],
             [
              0.6666666666666666,
              "#ed7953"
             ],
             [
              0.7777777777777778,
              "#fb9f3a"
             ],
             [
              0.8888888888888888,
              "#fdca26"
             ],
             [
              1,
              "#f0f921"
             ]
            ],
            "type": "surface"
           }
          ],
          "table": [
           {
            "cells": {
             "fill": {
              "color": "#EBF0F8"
             },
             "line": {
              "color": "white"
             }
            },
            "header": {
             "fill": {
              "color": "#C8D4E3"
             },
             "line": {
              "color": "white"
             }
            },
            "type": "table"
           }
          ]
         },
         "layout": {
          "annotationdefaults": {
           "arrowcolor": "#2a3f5f",
           "arrowhead": 0,
           "arrowwidth": 1
          },
          "autotypenumbers": "strict",
          "coloraxis": {
           "colorbar": {
            "outlinewidth": 0,
            "ticks": ""
           }
          },
          "colorscale": {
           "diverging": [
            [
             0,
             "#8e0152"
            ],
            [
             0.1,
             "#c51b7d"
            ],
            [
             0.2,
             "#de77ae"
            ],
            [
             0.3,
             "#f1b6da"
            ],
            [
             0.4,
             "#fde0ef"
            ],
            [
             0.5,
             "#f7f7f7"
            ],
            [
             0.6,
             "#e6f5d0"
            ],
            [
             0.7,
             "#b8e186"
            ],
            [
             0.8,
             "#7fbc41"
            ],
            [
             0.9,
             "#4d9221"
            ],
            [
             1,
             "#276419"
            ]
           ],
           "sequential": [
            [
             0,
             "#0d0887"
            ],
            [
             0.1111111111111111,
             "#46039f"
            ],
            [
             0.2222222222222222,
             "#7201a8"
            ],
            [
             0.3333333333333333,
             "#9c179e"
            ],
            [
             0.4444444444444444,
             "#bd3786"
            ],
            [
             0.5555555555555556,
             "#d8576b"
            ],
            [
             0.6666666666666666,
             "#ed7953"
            ],
            [
             0.7777777777777778,
             "#fb9f3a"
            ],
            [
             0.8888888888888888,
             "#fdca26"
            ],
            [
             1,
             "#f0f921"
            ]
           ],
           "sequentialminus": [
            [
             0,
             "#0d0887"
            ],
            [
             0.1111111111111111,
             "#46039f"
            ],
            [
             0.2222222222222222,
             "#7201a8"
            ],
            [
             0.3333333333333333,
             "#9c179e"
            ],
            [
             0.4444444444444444,
             "#bd3786"
            ],
            [
             0.5555555555555556,
             "#d8576b"
            ],
            [
             0.6666666666666666,
             "#ed7953"
            ],
            [
             0.7777777777777778,
             "#fb9f3a"
            ],
            [
             0.8888888888888888,
             "#fdca26"
            ],
            [
             1,
             "#f0f921"
            ]
           ]
          },
          "colorway": [
           "#636efa",
           "#EF553B",
           "#00cc96",
           "#ab63fa",
           "#FFA15A",
           "#19d3f3",
           "#FF6692",
           "#B6E880",
           "#FF97FF",
           "#FECB52"
          ],
          "font": {
           "color": "#2a3f5f"
          },
          "geo": {
           "bgcolor": "white",
           "lakecolor": "white",
           "landcolor": "#E5ECF6",
           "showlakes": true,
           "showland": true,
           "subunitcolor": "white"
          },
          "hoverlabel": {
           "align": "left"
          },
          "hovermode": "closest",
          "mapbox": {
           "style": "light"
          },
          "paper_bgcolor": "white",
          "plot_bgcolor": "#E5ECF6",
          "polar": {
           "angularaxis": {
            "gridcolor": "white",
            "linecolor": "white",
            "ticks": ""
           },
           "bgcolor": "#E5ECF6",
           "radialaxis": {
            "gridcolor": "white",
            "linecolor": "white",
            "ticks": ""
           }
          },
          "scene": {
           "xaxis": {
            "backgroundcolor": "#E5ECF6",
            "gridcolor": "white",
            "gridwidth": 2,
            "linecolor": "white",
            "showbackground": true,
            "ticks": "",
            "zerolinecolor": "white"
           },
           "yaxis": {
            "backgroundcolor": "#E5ECF6",
            "gridcolor": "white",
            "gridwidth": 2,
            "linecolor": "white",
            "showbackground": true,
            "ticks": "",
            "zerolinecolor": "white"
           },
           "zaxis": {
            "backgroundcolor": "#E5ECF6",
            "gridcolor": "white",
            "gridwidth": 2,
            "linecolor": "white",
            "showbackground": true,
            "ticks": "",
            "zerolinecolor": "white"
           }
          },
          "shapedefaults": {
           "line": {
            "color": "#2a3f5f"
           }
          },
          "ternary": {
           "aaxis": {
            "gridcolor": "white",
            "linecolor": "white",
            "ticks": ""
           },
           "baxis": {
            "gridcolor": "white",
            "linecolor": "white",
            "ticks": ""
           },
           "bgcolor": "#E5ECF6",
           "caxis": {
            "gridcolor": "white",
            "linecolor": "white",
            "ticks": ""
           }
          },
          "title": {
           "x": 0.05
          },
          "xaxis": {
           "automargin": true,
           "gridcolor": "white",
           "linecolor": "white",
           "ticks": "",
           "title": {
            "standoff": 15
           },
           "zerolinecolor": "white",
           "zerolinewidth": 2
          },
          "yaxis": {
           "automargin": true,
           "gridcolor": "white",
           "linecolor": "white",
           "ticks": "",
           "title": {
            "standoff": 15
           },
           "zerolinecolor": "white",
           "zerolinewidth": 2
          }
         }
        }
       }
      }
     },
     "metadata": {}
    }
   ],
   "source": [
    "# Slice and plot data by place type\n",
    "map_1 = px.scatter_mapbox(\n",
    "    places_of_interest,\n",
    "    lat=\"Latitude\",\n",
    "    lon=\"Longitude\",\n",
    "    color=\"Name\"\n",
    ")\n",
    "map_1.show()"
   ]
  },
  {
   "cell_type": "markdown",
   "metadata": {},
   "source": [
    "#### Plot Places of Interest by Borough"
   ]
  },
  {
   "cell_type": "code",
   "execution_count": 12,
   "metadata": {},
   "outputs": [
    {
     "output_type": "display_data",
     "data": {
      "application/vnd.plotly.v1+json": {
       "config": {
        "plotlyServerURL": "https://plot.ly"
       },
       "data": [
        {
         "hovertemplate": "Name=Van Cortlandt Park<br>Latitude=%{lat}<br>Longitude=%{lon}<extra></extra>",
         "lat": [
          40.89620987
         ],
         "legendgroup": "Van Cortlandt Park",
         "lon": [
          -73.88895812
         ],
         "marker": {
          "color": "#636efa"
         },
         "mode": "markers",
         "name": "Van Cortlandt Park",
         "showlegend": true,
         "subplot": "mapbox",
         "type": "scattermapbox"
        },
        {
         "hovertemplate": "Name=Woodlawn Cemetery<br>Latitude=%{lat}<br>Longitude=%{lon}<extra></extra>",
         "lat": [
          40.88987947
         ],
         "legendgroup": "Woodlawn Cemetery",
         "lon": [
          -73.87165103
         ],
         "marker": {
          "color": "#EF553B"
         },
         "mode": "markers",
         "name": "Woodlawn Cemetery",
         "showlegend": true,
         "subplot": "mapbox",
         "type": "scattermapbox"
        },
        {
         "hovertemplate": "Name=Seton Falls Park<br>Latitude=%{lat}<br>Longitude=%{lon}<extra></extra>",
         "lat": [
          40.88696522
         ],
         "legendgroup": "Seton Falls Park",
         "lon": [
          -73.83864189
         ],
         "marker": {
          "color": "#00cc96"
         },
         "mode": "markers",
         "name": "Seton Falls Park",
         "showlegend": true,
         "subplot": "mapbox",
         "type": "scattermapbox"
        },
        {
         "hovertemplate": "Name=Pelham Bay Park<br>Latitude=%{lat}<br>Longitude=%{lon}<extra></extra>",
         "lat": [
          40.87798555
         ],
         "legendgroup": "Pelham Bay Park",
         "lon": [
          -73.80980242
         ],
         "marker": {
          "color": "#ab63fa"
         },
         "mode": "markers",
         "name": "Pelham Bay Park",
         "showlegend": true,
         "subplot": "mapbox",
         "type": "scattermapbox"
        },
        {
         "hovertemplate": "Name=Botanical Garden<br>Latitude=%{lat}<br>Longitude=%{lon}<extra></extra>",
         "lat": [
          40.86442395
         ],
         "legendgroup": "Botanical Garden",
         "lon": [
          -73.87830776
         ],
         "marker": {
          "color": "#FFA15A"
         },
         "mode": "markers",
         "name": "Botanical Garden",
         "showlegend": true,
         "subplot": "mapbox",
         "type": "scattermapbox"
        },
        {
         "hovertemplate": "Name=Bronx Park<br>Latitude=%{lat}<br>Longitude=%{lon}<extra></extra>",
         "lat": [
          40.85552207
         ],
         "legendgroup": "Bronx Park",
         "lon": [
          -73.87626064
         ],
         "marker": {
          "color": "#19d3f3"
         },
         "mode": "markers",
         "name": "Bronx Park",
         "showlegend": true,
         "subplot": "mapbox",
         "type": "scattermapbox"
        },
        {
         "hovertemplate": "Name=Saint  Raymond's Cemetery<br>Latitude=%{lat}<br>Longitude=%{lon}<extra></extra>",
         "lat": [
          40.82330815
         ],
         "legendgroup": "Saint  Raymond's Cemetery",
         "lon": [
          -73.83530397
         ],
         "marker": {
          "color": "#FF6692"
         },
         "mode": "markers",
         "name": "Saint  Raymond's Cemetery",
         "showlegend": true,
         "subplot": "mapbox",
         "type": "scattermapbox"
        },
        {
         "hovertemplate": "Name=Ferry Point Park<br>Latitude=%{lat}<br>Longitude=%{lon}<extra></extra>",
         "lat": [
          40.81434338
         ],
         "legendgroup": "Ferry Point Park",
         "lon": [
          -73.83284640000001
         ],
         "marker": {
          "color": "#B6E880"
         },
         "mode": "markers",
         "name": "Ferry Point Park",
         "showlegend": true,
         "subplot": "mapbox",
         "type": "scattermapbox"
        },
        {
         "hovertemplate": "Name=Sound View Park<br>Latitude=%{lat}<br>Longitude=%{lon}<extra></extra>",
         "lat": [
          40.815444299999996
         ],
         "legendgroup": "Sound View Park",
         "lon": [
          -73.8721731
         ],
         "marker": {
          "color": "#FF97FF"
         },
         "mode": "markers",
         "name": "Sound View Park",
         "showlegend": true,
         "subplot": "mapbox",
         "type": "scattermapbox"
        },
        {
         "hovertemplate": "Name=Crotona Park<br>Latitude=%{lat}<br>Longitude=%{lon}<extra></extra>",
         "lat": [
          40.8384766
         ],
         "legendgroup": "Crotona Park",
         "lon": [
          -73.89422937
         ],
         "marker": {
          "color": "#FECB52"
         },
         "mode": "markers",
         "name": "Crotona Park",
         "showlegend": true,
         "subplot": "mapbox",
         "type": "scattermapbox"
        },
        {
         "hovertemplate": "Name=Zoo/Wildlife Conser. Park<br>Latitude=%{lat}<br>Longitude=%{lon}<extra></extra>",
         "lat": [
          40.84900595
         ],
         "legendgroup": "Zoo/Wildlife Conser. Park",
         "lon": [
          -73.87523757
         ],
         "marker": {
          "color": "#636efa"
         },
         "mode": "markers",
         "name": "Zoo/Wildlife Conser. Park",
         "showlegend": true,
         "subplot": "mapbox",
         "type": "scattermapbox"
        },
        {
         "hovertemplate": "Name=Hart Island<br>Latitude=%{lat}<br>Longitude=%{lon}<extra></extra>",
         "lat": [
          40.85136497
         ],
         "legendgroup": "Hart Island",
         "lon": [
          -73.76975724
         ],
         "marker": {
          "color": "#EF553B"
         },
         "mode": "markers",
         "name": "Hart Island",
         "showlegend": true,
         "subplot": "mapbox",
         "type": "scattermapbox"
        },
        {
         "hovertemplate": "Name=Saint Mary's Park<br>Latitude=%{lat}<br>Longitude=%{lon}<extra></extra>",
         "lat": [
          40.81147588
         ],
         "legendgroup": "Saint Mary's Park",
         "lon": [
          -73.91175820000001
         ],
         "marker": {
          "color": "#00cc96"
         },
         "mode": "markers",
         "name": "Saint Mary's Park",
         "showlegend": true,
         "subplot": "mapbox",
         "type": "scattermapbox"
        },
        {
         "hovertemplate": "Name=Inwood Hill Park<br>Latitude=%{lat}<br>Longitude=%{lon}<extra></extra>",
         "lat": [
          40.87219333
         ],
         "legendgroup": "Inwood Hill Park",
         "lon": [
          -73.92618083
         ],
         "marker": {
          "color": "#ab63fa"
         },
         "mode": "markers",
         "name": "Inwood Hill Park",
         "showlegend": true,
         "subplot": "mapbox",
         "type": "scattermapbox"
        },
        {
         "hovertemplate": "Name=Fort Tryon Park<br>Latitude=%{lat}<br>Longitude=%{lon}<extra></extra>",
         "lat": [
          40.86299077
         ],
         "legendgroup": "Fort Tryon Park",
         "lon": [
          -73.93190269
         ],
         "marker": {
          "color": "#FFA15A"
         },
         "mode": "markers",
         "name": "Fort Tryon Park",
         "showlegend": true,
         "subplot": "mapbox",
         "type": "scattermapbox"
        },
        {
         "hovertemplate": "Name=Rikers Island<br>Latitude=%{lat}<br>Longitude=%{lon}<extra></extra>",
         "lat": [
          40.79198053
         ],
         "legendgroup": "Rikers Island",
         "lon": [
          -73.88276248
         ],
         "marker": {
          "color": "#19d3f3"
         },
         "mode": "markers",
         "name": "Rikers Island",
         "showlegend": true,
         "subplot": "mapbox",
         "type": "scattermapbox"
        },
        {
         "hovertemplate": "Name=Marcus Garvey Park<br>Latitude=%{lat}<br>Longitude=%{lon}<extra></extra>",
         "lat": [
          40.80345957
         ],
         "legendgroup": "Marcus Garvey Park",
         "lon": [
          -73.94268046
         ],
         "marker": {
          "color": "#FF6692"
         },
         "mode": "markers",
         "name": "Marcus Garvey Park",
         "showlegend": true,
         "subplot": "mapbox",
         "type": "scattermapbox"
        },
        {
         "hovertemplate": "Name=Randall's Island Park<br>Latitude=%{lat}<br>Longitude=%{lon}<extra></extra>",
         "lat": [
          40.79591467
         ],
         "legendgroup": "Randall's Island Park",
         "lon": [
          -73.92169947
         ],
         "marker": {
          "color": "#B6E880"
         },
         "mode": "markers",
         "name": "Randall's Island Park",
         "showlegend": true,
         "subplot": "mapbox",
         "type": "scattermapbox"
        },
        {
         "hovertemplate": "Name=Ward's Island Park<br>Latitude=%{lat}<br>Longitude=%{lon}<extra></extra>",
         "lat": [
          40.78428432
         ],
         "legendgroup": "Ward's Island Park",
         "lon": [
          -73.92997389
         ],
         "marker": {
          "color": "#FF97FF"
         },
         "mode": "markers",
         "name": "Ward's Island Park",
         "showlegend": true,
         "subplot": "mapbox",
         "type": "scattermapbox"
        },
        {
         "hovertemplate": "Name=Central Park<br>Latitude=%{lat}<br>Longitude=%{lon}<extra></extra>",
         "lat": [
          40.78288158
         ],
         "legendgroup": "Central Park",
         "lon": [
          -73.96565599
         ],
         "marker": {
          "color": "#FECB52"
         },
         "mode": "markers",
         "name": "Central Park",
         "showlegend": true,
         "subplot": "mapbox",
         "type": "scattermapbox"
        },
        {
         "hovertemplate": "Name=Columbus Circle<br>Latitude=%{lat}<br>Longitude=%{lon}<extra></extra>",
         "lat": [
          40.76806053
         ],
         "legendgroup": "Columbus Circle",
         "lon": [
          -73.98190208
         ],
         "marker": {
          "color": "#636efa"
         },
         "mode": "markers",
         "name": "Columbus Circle",
         "showlegend": true,
         "subplot": "mapbox",
         "type": "scattermapbox"
        },
        {
         "hovertemplate": "Name=Times Square<br>Latitude=%{lat}<br>Longitude=%{lon}<extra></extra>",
         "lat": [
          40.758021299999996
         ],
         "legendgroup": "Times Square",
         "lon": [
          -73.98179379
         ],
         "marker": {
          "color": "#EF553B"
         },
         "mode": "markers",
         "name": "Times Square",
         "showlegend": true,
         "subplot": "mapbox",
         "type": "scattermapbox"
        },
        {
         "hovertemplate": "Name=Madison Square<br>Latitude=%{lat}<br>Longitude=%{lon}<extra></extra>",
         "lat": [
          40.7421814
         ],
         "legendgroup": "Madison Square",
         "lon": [
          -73.98806663
         ],
         "marker": {
          "color": "#00cc96"
         },
         "mode": "markers",
         "name": "Madison Square",
         "showlegend": true,
         "subplot": "mapbox",
         "type": "scattermapbox"
        },
        {
         "hovertemplate": "Name=Union Square<br>Latitude=%{lat}<br>Longitude=%{lon}<extra></extra>",
         "lat": [
          40.73595972
         ],
         "legendgroup": "Union Square",
         "lon": [
          -73.9903801
         ],
         "marker": {
          "color": "#ab63fa"
         },
         "mode": "markers",
         "name": "Union Square",
         "showlegend": true,
         "subplot": "mapbox",
         "type": "scattermapbox"
        },
        {
         "hovertemplate": "Name=Governors Island<br>Latitude=%{lat}<br>Longitude=%{lon}<extra></extra>",
         "lat": [
          40.68941551
         ],
         "legendgroup": "Governors Island",
         "lon": [
          -74.01838919
         ],
         "marker": {
          "color": "#FFA15A"
         },
         "mode": "markers",
         "name": "Governors Island",
         "showlegend": true,
         "subplot": "mapbox",
         "type": "scattermapbox"
        },
        {
         "hovertemplate": "Name=McCarren Park<br>Latitude=%{lat}<br>Longitude=%{lon}<extra></extra>",
         "lat": [
          40.720899700000004
         ],
         "legendgroup": "McCarren Park",
         "lon": [
          -73.95198134
         ],
         "marker": {
          "color": "#19d3f3"
         },
         "mode": "markers",
         "name": "McCarren Park",
         "showlegend": true,
         "subplot": "mapbox",
         "type": "scattermapbox"
        },
        {
         "hovertemplate": "Name=Astoria Park<br>Latitude=%{lat}<br>Longitude=%{lon}<extra></extra>",
         "lat": [
          40.77679234
         ],
         "legendgroup": "Astoria Park",
         "lon": [
          -73.92426901
         ],
         "marker": {
          "color": "#FF6692"
         },
         "mode": "markers",
         "name": "Astoria Park",
         "showlegend": true,
         "subplot": "mapbox",
         "type": "scattermapbox"
        },
        {
         "hovertemplate": "Name=Botanic Garden<br>Latitude=%{lat}<br>Longitude=%{lon}<extra></extra>",
         "lat": [
          40.66993701
         ],
         "legendgroup": "Botanic Garden",
         "lon": [
          -73.96612486
         ],
         "marker": {
          "color": "#B6E880"
         },
         "mode": "markers",
         "name": "Botanic Garden",
         "showlegend": true,
         "subplot": "mapbox",
         "type": "scattermapbox"
        },
        {
         "hovertemplate": "Name=Prospect Park<br>Latitude=%{lat}<br>Longitude=%{lon}<extra></extra>",
         "lat": [
          40.66125082
         ],
         "legendgroup": "Prospect Park",
         "lon": [
          -73.96908664
         ],
         "marker": {
          "color": "#FF97FF"
         },
         "mode": "markers",
         "name": "Prospect Park",
         "showlegend": true,
         "subplot": "mapbox",
         "type": "scattermapbox"
        },
        {
         "hovertemplate": "Name=Greenwood Cemetery<br>Latitude=%{lat}<br>Longitude=%{lon}<extra></extra>",
         "lat": [
          40.65204691
         ],
         "legendgroup": "Greenwood Cemetery",
         "lon": [
          -73.99044122
         ],
         "marker": {
          "color": "#FECB52"
         },
         "mode": "markers",
         "name": "Greenwood Cemetery",
         "showlegend": true,
         "subplot": "mapbox",
         "type": "scattermapbox"
        },
        {
         "hovertemplate": "Name=Holy Cross Cemetery<br>Latitude=%{lat}<br>Longitude=%{lon}<extra></extra>",
         "lat": [
          40.64686106
         ],
         "legendgroup": "Holy Cross Cemetery",
         "lon": [
          -73.93764826
         ],
         "marker": {
          "color": "#636efa"
         },
         "mode": "markers",
         "name": "Holy Cross Cemetery",
         "showlegend": true,
         "subplot": "mapbox",
         "type": "scattermapbox"
        },
        {
         "hovertemplate": "Name=Bush Terminal<br>Latitude=%{lat}<br>Longitude=%{lon}<extra></extra>",
         "lat": [
          40.65508508
         ],
         "legendgroup": "Bush Terminal",
         "lon": [
          -74.0185757
         ],
         "marker": {
          "color": "#EF553B"
         },
         "mode": "markers",
         "name": "Bush Terminal",
         "showlegend": true,
         "subplot": "mapbox",
         "type": "scattermapbox"
        },
        {
         "hovertemplate": "Name=Owls Head Park<br>Latitude=%{lat}<br>Longitude=%{lon}<extra></extra>",
         "lat": [
          40.63995895
         ],
         "legendgroup": "Owls Head Park",
         "lon": [
          -74.03230852
         ],
         "marker": {
          "color": "#00cc96"
         },
         "mode": "markers",
         "name": "Owls Head Park",
         "showlegend": true,
         "subplot": "mapbox",
         "type": "scattermapbox"
        },
        {
         "hovertemplate": "Name=Fort Hamilton<br>Latitude=%{lat}<br>Longitude=%{lon}<extra></extra>",
         "lat": [
          40.60738115
         ],
         "legendgroup": "Fort Hamilton",
         "lon": [
          -74.02879133
         ],
         "marker": {
          "color": "#ab63fa"
         },
         "mode": "markers",
         "name": "Fort Hamilton",
         "showlegend": true,
         "subplot": "mapbox",
         "type": "scattermapbox"
        },
        {
         "hovertemplate": "Name=Dyker Beach Park<br>Latitude=%{lat}<br>Longitude=%{lon}<extra></extra>",
         "lat": [
          40.61146403
         ],
         "legendgroup": "Dyker Beach Park",
         "lon": [
          -74.01956103
         ],
         "marker": {
          "color": "#FFA15A"
         },
         "mode": "markers",
         "name": "Dyker Beach Park",
         "showlegend": true,
         "subplot": "mapbox",
         "type": "scattermapbox"
        },
        {
         "hovertemplate": "Name=Washington Cemetery<br>Latitude=%{lat}<br>Longitude=%{lon}<extra></extra>",
         "lat": [
          40.62022207
         ],
         "legendgroup": "Washington Cemetery",
         "lon": [
          -73.97543204
         ],
         "marker": {
          "color": "#19d3f3"
         },
         "mode": "markers",
         "name": "Washington Cemetery",
         "showlegend": true,
         "subplot": "mapbox",
         "type": "scattermapbox"
        },
        {
         "hovertemplate": "Name=Marine Park<br>Latitude=%{lat}<br>Longitude=%{lon}<extra></extra>",
         "lat": [
          40.60336225
         ],
         "legendgroup": "Marine Park",
         "lon": [
          -73.92408613
         ],
         "marker": {
          "color": "#FF6692"
         },
         "mode": "markers",
         "name": "Marine Park",
         "showlegend": true,
         "subplot": "mapbox",
         "type": "scattermapbox"
        },
        {
         "hovertemplate": "Name=Floyd Bennett Field<br>Latitude=%{lat}<br>Longitude=%{lon}<extra></extra>",
         "lat": [
          40.59129948
         ],
         "legendgroup": "Floyd Bennett Field",
         "lon": [
          -73.89009561
         ],
         "marker": {
          "color": "#B6E880"
         },
         "mode": "markers",
         "name": "Floyd Bennett Field",
         "showlegend": true,
         "subplot": "mapbox",
         "type": "scattermapbox"
        },
        {
         "hovertemplate": "Name=Canarsie Beach Park<br>Latitude=%{lat}<br>Longitude=%{lon}<extra></extra>",
         "lat": [
          40.62548604
         ],
         "legendgroup": "Canarsie Beach Park",
         "lon": [
          -73.89810825
         ],
         "marker": {
          "color": "#FF97FF"
         },
         "mode": "markers",
         "name": "Canarsie Beach Park",
         "showlegend": true,
         "subplot": "mapbox",
         "type": "scattermapbox"
        },
        {
         "hovertemplate": "Name=Aqueduct Race Track<br>Latitude=%{lat}<br>Longitude=%{lon}<extra></extra>",
         "lat": [
          40.67219433
         ],
         "legendgroup": "Aqueduct Race Track",
         "lon": [
          -73.83062352
         ],
         "marker": {
          "color": "#FECB52"
         },
         "mode": "markers",
         "name": "Aqueduct Race Track",
         "showlegend": true,
         "subplot": "mapbox",
         "type": "scattermapbox"
        },
        {
         "hovertemplate": "Name=Bayside Cemetery<br>Latitude=%{lat}<br>Longitude=%{lon}<extra></extra>",
         "lat": [
          40.67728706
         ],
         "legendgroup": "Bayside Cemetery",
         "lon": [
          -73.85499266
         ],
         "marker": {
          "color": "#636efa"
         },
         "mode": "markers",
         "name": "Bayside Cemetery",
         "showlegend": true,
         "subplot": "mapbox",
         "type": "scattermapbox"
        },
        {
         "hovertemplate": "Name=Brookville Park<br>Latitude=%{lat}<br>Longitude=%{lon}<extra></extra>",
         "lat": [
          40.65190821
         ],
         "legendgroup": "Brookville Park",
         "lon": [
          -73.75238277
         ],
         "marker": {
          "color": "#EF553B"
         },
         "mode": "markers",
         "name": "Brookville Park",
         "showlegend": true,
         "subplot": "mapbox",
         "type": "scattermapbox"
        },
        {
         "hovertemplate": "Name=Baisley Pond Park<br>Latitude=%{lat}<br>Longitude=%{lon}<extra></extra>",
         "lat": [
          40.67324965
         ],
         "legendgroup": "Baisley Pond Park",
         "lon": [
          -73.78691601
         ],
         "marker": {
          "color": "#00cc96"
         },
         "mode": "markers",
         "name": "Baisley Pond Park",
         "showlegend": true,
         "subplot": "mapbox",
         "type": "scattermapbox"
        },
        {
         "hovertemplate": "Name=Roy Wilkins Park<br>Latitude=%{lat}<br>Longitude=%{lon}<extra></extra>",
         "lat": [
          40.68791059
         ],
         "legendgroup": "Roy Wilkins Park",
         "lon": [
          -73.77202425
         ],
         "marker": {
          "color": "#ab63fa"
         },
         "mode": "markers",
         "name": "Roy Wilkins Park",
         "showlegend": true,
         "subplot": "mapbox",
         "type": "scattermapbox"
        },
        {
         "hovertemplate": "Name=Cypress Hills Cemetery<br>Latitude=%{lat}<br>Longitude=%{lon}<extra></extra>",
         "lat": [
          40.69584153
         ],
         "legendgroup": "Cypress Hills Cemetery",
         "lon": [
          -73.87614172
         ],
         "marker": {
          "color": "#FFA15A"
         },
         "mode": "markers",
         "name": "Cypress Hills Cemetery",
         "showlegend": true,
         "subplot": "mapbox",
         "type": "scattermapbox"
        },
        {
         "hovertemplate": "Name=Saint  Johns Cemetery<br>Latitude=%{lat}<br>Longitude=%{lon}<extra></extra>",
         "lat": [
          40.71516417
         ],
         "legendgroup": "Saint  Johns Cemetery",
         "lon": [
          -73.86698585
         ],
         "marker": {
          "color": "#19d3f3"
         },
         "mode": "markers",
         "name": "Saint  Johns Cemetery",
         "showlegend": true,
         "subplot": "mapbox",
         "type": "scattermapbox"
        },
        {
         "hovertemplate": "Name=Linden Hill Cemetery<br>Latitude=%{lat}<br>Longitude=%{lon}<extra></extra>",
         "lat": [
          40.71048991
         ],
         "legendgroup": "Linden Hill Cemetery",
         "lon": [
          -73.91396904
         ],
         "marker": {
          "color": "#FF6692"
         },
         "mode": "markers",
         "name": "Linden Hill Cemetery",
         "showlegend": true,
         "subplot": "mapbox",
         "type": "scattermapbox"
        },
        {
         "hovertemplate": "Name=Mount Olivet Cemetery<br>Latitude=%{lat}<br>Longitude=%{lon}<extra></extra>",
         "lat": [
          40.72084097
         ],
         "legendgroup": "Mount Olivet Cemetery",
         "lon": [
          -73.89594771
         ],
         "marker": {
          "color": "#B6E880"
         },
         "mode": "markers",
         "name": "Mount Olivet Cemetery",
         "showlegend": true,
         "subplot": "mapbox",
         "type": "scattermapbox"
        },
        {
         "hovertemplate": "Name=Juniper Valley Park<br>Latitude=%{lat}<br>Longitude=%{lon}<extra></extra>",
         "lat": [
          40.72035303
         ],
         "legendgroup": "Juniper Valley Park",
         "lon": [
          -73.87963219
         ],
         "marker": {
          "color": "#FF97FF"
         },
         "mode": "markers",
         "name": "Juniper Valley Park",
         "showlegend": true,
         "subplot": "mapbox",
         "type": "scattermapbox"
        },
        {
         "hovertemplate": "Name=Lutheran Cemetery<br>Latitude=%{lat}<br>Longitude=%{lon}<extra></extra>",
         "lat": [
          40.71223625
         ],
         "legendgroup": "Lutheran Cemetery",
         "lon": [
          -73.88748458
         ],
         "marker": {
          "color": "#FECB52"
         },
         "mode": "markers",
         "name": "Lutheran Cemetery",
         "showlegend": true,
         "subplot": "mapbox",
         "type": "scattermapbox"
        },
        {
         "hovertemplate": "Name=Montefiore Cemetery<br>Latitude=%{lat}<br>Longitude=%{lon}<extra></extra>",
         "lat": [
          40.68584033
         ],
         "legendgroup": "Montefiore Cemetery",
         "lon": [
          -73.7417316
         ],
         "marker": {
          "color": "#636efa"
         },
         "mode": "markers",
         "name": "Montefiore Cemetery",
         "showlegend": true,
         "subplot": "mapbox",
         "type": "scattermapbox"
        },
        {
         "hovertemplate": "Name=Flushing Meadows Corona Park<br>Latitude=%{lat}<br>Longitude=%{lon}<extra></extra>",
         "lat": [
          40.73799908
         ],
         "legendgroup": "Flushing Meadows Corona Park",
         "lon": [
          -73.84141525
         ],
         "marker": {
          "color": "#EF553B"
         },
         "mode": "markers",
         "name": "Flushing Meadows Corona Park",
         "showlegend": true,
         "subplot": "mapbox",
         "type": "scattermapbox"
        },
        {
         "hovertemplate": "Name=Mount Hebron Cemetery<br>Latitude=%{lat}<br>Longitude=%{lon}<extra></extra>",
         "lat": [
          40.73409273
         ],
         "legendgroup": "Mount Hebron Cemetery",
         "lon": [
          -73.83033793
         ],
         "marker": {
          "color": "#00cc96"
         },
         "mode": "markers",
         "name": "Mount Hebron Cemetery",
         "showlegend": true,
         "subplot": "mapbox",
         "type": "scattermapbox"
        },
        {
         "hovertemplate": "Name=Cunningham Park<br>Latitude=%{lat}<br>Longitude=%{lon}<extra></extra>",
         "lat": [
          40.72903318
         ],
         "legendgroup": "Cunningham Park",
         "lon": [
          -73.76903038
         ],
         "marker": {
          "color": "#ab63fa"
         },
         "mode": "markers",
         "name": "Cunningham Park",
         "showlegend": true,
         "subplot": "mapbox",
         "type": "scattermapbox"
        },
        {
         "hovertemplate": "Name=Fort Totten<br>Latitude=%{lat}<br>Longitude=%{lon}<extra></extra>",
         "lat": [
          40.79253916
         ],
         "legendgroup": "Fort Totten",
         "lon": [
          -73.7770396
         ],
         "marker": {
          "color": "#FFA15A"
         },
         "mode": "markers",
         "name": "Fort Totten",
         "showlegend": true,
         "subplot": "mapbox",
         "type": "scattermapbox"
        },
        {
         "hovertemplate": "Name=Clearview Park<br>Latitude=%{lat}<br>Longitude=%{lon}<extra></extra>",
         "lat": [
          40.78258966
         ],
         "legendgroup": "Clearview Park",
         "lon": [
          -73.78886383
         ],
         "marker": {
          "color": "#19d3f3"
         },
         "mode": "markers",
         "name": "Clearview Park",
         "showlegend": true,
         "subplot": "mapbox",
         "type": "scattermapbox"
        },
        {
         "hovertemplate": "Name=Crocheron Park<br>Latitude=%{lat}<br>Longitude=%{lon}<extra></extra>",
         "lat": [
          40.77133495
         ],
         "legendgroup": "Crocheron Park",
         "lon": [
          -73.76899845
         ],
         "marker": {
          "color": "#FF6692"
         },
         "mode": "markers",
         "name": "Crocheron Park",
         "showlegend": true,
         "subplot": "mapbox",
         "type": "scattermapbox"
        },
        {
         "hovertemplate": "Name=Alley Pond Park<br>Latitude=%{lat}<br>Longitude=%{lon}<extra></extra>",
         "lat": [
          40.75365741
         ],
         "legendgroup": "Alley Pond Park",
         "lon": [
          -73.74427173
         ],
         "marker": {
          "color": "#B6E880"
         },
         "mode": "markers",
         "name": "Alley Pond Park",
         "showlegend": true,
         "subplot": "mapbox",
         "type": "scattermapbox"
        },
        {
         "hovertemplate": "Name=Douglaston Park<br>Latitude=%{lat}<br>Longitude=%{lon}<extra></extra>",
         "lat": [
          40.75164378
         ],
         "legendgroup": "Douglaston Park",
         "lon": [
          -73.73228698
         ],
         "marker": {
          "color": "#FF97FF"
         },
         "mode": "markers",
         "name": "Douglaston Park",
         "showlegend": true,
         "subplot": "mapbox",
         "type": "scattermapbox"
        },
        {
         "hovertemplate": "Name=Fort Schuyler<br>Latitude=%{lat}<br>Longitude=%{lon}<extra></extra>",
         "lat": [
          40.8056467
         ],
         "legendgroup": "Fort Schuyler",
         "lon": [
          -73.7931197
         ],
         "marker": {
          "color": "#FECB52"
         },
         "mode": "markers",
         "name": "Fort Schuyler",
         "showlegend": true,
         "subplot": "mapbox",
         "type": "scattermapbox"
        },
        {
         "hovertemplate": "Name=Calvary Cemetery<br>Latitude=%{lat}<br>Longitude=%{lon}<extra></extra>",
         "lat": [
          40.73338238
         ],
         "legendgroup": "Calvary Cemetery",
         "lon": [
          -73.93013732
         ],
         "marker": {
          "color": "#636efa"
         },
         "mode": "markers",
         "name": "Calvary Cemetery",
         "showlegend": true,
         "subplot": "mapbox",
         "type": "scattermapbox"
        },
        {
         "hovertemplate": "Name=New Calvary Cemetery<br>Latitude=%{lat}<br>Longitude=%{lon}<extra></extra>",
         "lat": [
          40.73707174
         ],
         "legendgroup": "New Calvary Cemetery",
         "lon": [
          -73.91314739
         ],
         "marker": {
          "color": "#EF553B"
         },
         "mode": "markers",
         "name": "New Calvary Cemetery",
         "showlegend": true,
         "subplot": "mapbox",
         "type": "scattermapbox"
        },
        {
         "hovertemplate": "Name=Mount Zion Cemetery<br>Latitude=%{lat}<br>Longitude=%{lon}<extra></extra>",
         "lat": [
          40.73205824
         ],
         "legendgroup": "Mount Zion Cemetery",
         "lon": [
          -73.90791234
         ],
         "marker": {
          "color": "#00cc96"
         },
         "mode": "markers",
         "name": "Mount Zion Cemetery",
         "showlegend": true,
         "subplot": "mapbox",
         "type": "scattermapbox"
        },
        {
         "hovertemplate": "Name=Jacob Riis Park<br>Latitude=%{lat}<br>Longitude=%{lon}<extra></extra>",
         "lat": [
          40.56788176
         ],
         "legendgroup": "Jacob Riis Park",
         "lon": [
          -73.87158393
         ],
         "marker": {
          "color": "#ab63fa"
         },
         "mode": "markers",
         "name": "Jacob Riis Park",
         "showlegend": true,
         "subplot": "mapbox",
         "type": "scattermapbox"
        },
        {
         "hovertemplate": "Name=Fort Tilden<br>Latitude=%{lat}<br>Longitude=%{lon}<extra></extra>",
         "lat": [
          40.56163026
         ],
         "legendgroup": "Fort Tilden",
         "lon": [
          -73.89490043
         ],
         "marker": {
          "color": "#FFA15A"
         },
         "mode": "markers",
         "name": "Fort Tilden",
         "showlegend": true,
         "subplot": "mapbox",
         "type": "scattermapbox"
        },
        {
         "hovertemplate": "Name=Liberty Island<br>Latitude=%{lat}<br>Longitude=%{lon}<extra></extra>",
         "lat": [
          40.69000021
         ],
         "legendgroup": "Liberty Island",
         "lon": [
          -74.04528227
         ],
         "marker": {
          "color": "#19d3f3"
         },
         "mode": "markers",
         "name": "Liberty Island",
         "showlegend": true,
         "subplot": "mapbox",
         "type": "scattermapbox"
        },
        {
         "hovertemplate": "Name=Ellis Island<br>Latitude=%{lat}<br>Longitude=%{lon}<extra></extra>",
         "lat": [
          40.69919477
         ],
         "legendgroup": "Ellis Island",
         "lon": [
          -74.04017359
         ],
         "marker": {
          "color": "#FF6692"
         },
         "mode": "markers",
         "name": "Ellis Island",
         "showlegend": true,
         "subplot": "mapbox",
         "type": "scattermapbox"
        },
        {
         "hovertemplate": "Name=Snug Harbor<br>Latitude=%{lat}<br>Longitude=%{lon}<extra></extra>",
         "lat": [
          40.64230187
         ],
         "legendgroup": "Snug Harbor",
         "lon": [
          -74.10316989
         ],
         "marker": {
          "color": "#B6E880"
         },
         "mode": "markers",
         "name": "Snug Harbor",
         "showlegend": true,
         "subplot": "mapbox",
         "type": "scattermapbox"
        },
        {
         "hovertemplate": "Name=Silver Lake Park<br>Latitude=%{lat}<br>Longitude=%{lon}<extra></extra>",
         "lat": [
          40.62728628
         ],
         "legendgroup": "Silver Lake Park",
         "lon": [
          -74.09460329999999
         ],
         "marker": {
          "color": "#FF97FF"
         },
         "mode": "markers",
         "name": "Silver Lake Park",
         "showlegend": true,
         "subplot": "mapbox",
         "type": "scattermapbox"
        },
        {
         "hovertemplate": "Name=Clove Lakes Park<br>Latitude=%{lat}<br>Longitude=%{lon}<extra></extra>",
         "lat": [
          40.61811022
         ],
         "legendgroup": "Clove Lakes Park",
         "lon": [
          -74.11069895
         ],
         "marker": {
          "color": "#FECB52"
         },
         "mode": "markers",
         "name": "Clove Lakes Park",
         "showlegend": true,
         "subplot": "mapbox",
         "type": "scattermapbox"
        },
        {
         "hovertemplate": "Name=Fort Wadsworth<br>Latitude=%{lat}<br>Longitude=%{lon}<extra></extra>",
         "lat": [
          40.60438473
         ],
         "legendgroup": "Fort Wadsworth",
         "lon": [
          -74.05881837
         ],
         "marker": {
          "color": "#636efa"
         },
         "mode": "markers",
         "name": "Fort Wadsworth",
         "showlegend": true,
         "subplot": "mapbox",
         "type": "scattermapbox"
        },
        {
         "hovertemplate": "Name=Miller Field<br>Latitude=%{lat}<br>Longitude=%{lon}<extra></extra>",
         "lat": [
          40.56802528
         ],
         "legendgroup": "Miller Field",
         "lon": [
          -74.09882950000001
         ],
         "marker": {
          "color": "#EF553B"
         },
         "mode": "markers",
         "name": "Miller Field",
         "showlegend": true,
         "subplot": "mapbox",
         "type": "scattermapbox"
        },
        {
         "hovertemplate": "Name=Great Kills Park<br>Latitude=%{lat}<br>Longitude=%{lon}<extra></extra>",
         "lat": [
          40.54844479
         ],
         "legendgroup": "Great Kills Park",
         "lon": [
          -74.12560544
         ],
         "marker": {
          "color": "#00cc96"
         },
         "mode": "markers",
         "name": "Great Kills Park",
         "showlegend": true,
         "subplot": "mapbox",
         "type": "scattermapbox"
        },
        {
         "hovertemplate": "Name=Moravian Cemetery<br>Latitude=%{lat}<br>Longitude=%{lon}<extra></extra>",
         "lat": [
          40.58271473
         ],
         "legendgroup": "Moravian Cemetery",
         "lon": [
          -74.11735759
         ],
         "marker": {
          "color": "#ab63fa"
         },
         "mode": "markers",
         "name": "Moravian Cemetery",
         "showlegend": true,
         "subplot": "mapbox",
         "type": "scattermapbox"
        },
        {
         "hovertemplate": "Name=LaTourette Park<br>Latitude=%{lat}<br>Longitude=%{lon}<extra></extra>",
         "lat": [
          40.58215534
         ],
         "legendgroup": "LaTourette Park",
         "lon": [
          -74.14250377
         ],
         "marker": {
          "color": "#FFA15A"
         },
         "mode": "markers",
         "name": "LaTourette Park",
         "showlegend": true,
         "subplot": "mapbox",
         "type": "scattermapbox"
        },
        {
         "hovertemplate": "Name=Willowbrook Park<br>Latitude=%{lat}<br>Longitude=%{lon}<extra></extra>",
         "lat": [
          40.60061999
         ],
         "legendgroup": "Willowbrook Park",
         "lon": [
          -74.15824653
         ],
         "marker": {
          "color": "#19d3f3"
         },
         "mode": "markers",
         "name": "Willowbrook Park",
         "showlegend": true,
         "subplot": "mapbox",
         "type": "scattermapbox"
        },
        {
         "hovertemplate": "Name=Blue Heron Park<br>Latitude=%{lat}<br>Longitude=%{lon}<extra></extra>",
         "lat": [
          40.53125317
         ],
         "legendgroup": "Blue Heron Park",
         "lon": [
          -74.17535438
         ],
         "marker": {
          "color": "#FF6692"
         },
         "mode": "markers",
         "name": "Blue Heron Park",
         "showlegend": true,
         "subplot": "mapbox",
         "type": "scattermapbox"
        },
        {
         "hovertemplate": "Name=Wolfe's Pond Park<br>Latitude=%{lat}<br>Longitude=%{lon}<extra></extra>",
         "lat": [
          40.52173963
         ],
         "legendgroup": "Wolfe's Pond Park",
         "lon": [
          -74.19242925
         ],
         "marker": {
          "color": "#B6E880"
         },
         "mode": "markers",
         "name": "Wolfe's Pond Park",
         "showlegend": true,
         "subplot": "mapbox",
         "type": "scattermapbox"
        },
        {
         "hovertemplate": "Name=Mount Loretto<br>Latitude=%{lat}<br>Longitude=%{lon}<extra></extra>",
         "lat": [
          40.50966469
         ],
         "legendgroup": "Mount Loretto",
         "lon": [
          -74.21806393
         ],
         "marker": {
          "color": "#FF97FF"
         },
         "mode": "markers",
         "name": "Mount Loretto",
         "showlegend": true,
         "subplot": "mapbox",
         "type": "scattermapbox"
        },
        {
         "hovertemplate": "Name=Conference House Park<br>Latitude=%{lat}<br>Longitude=%{lon}<extra></extra>",
         "lat": [
          40.49956589
         ],
         "legendgroup": "Conference House Park",
         "lon": [
          -74.24856464
         ],
         "marker": {
          "color": "#FECB52"
         },
         "mode": "markers",
         "name": "Conference House Park",
         "showlegend": true,
         "subplot": "mapbox",
         "type": "scattermapbox"
        },
        {
         "hovertemplate": "Name=South Shore Golf Course<br>Latitude=%{lat}<br>Longitude=%{lon}<extra></extra>",
         "lat": [
          40.5511835
         ],
         "legendgroup": "South Shore Golf Course",
         "lon": [
          -74.20503666
         ],
         "marker": {
          "color": "#636efa"
         },
         "mode": "markers",
         "name": "South Shore Golf Course",
         "showlegend": true,
         "subplot": "mapbox",
         "type": "scattermapbox"
        },
        {
         "hovertemplate": "Name=Fresh Kills<br>Latitude=%{lat}<br>Longitude=%{lon}<extra></extra>",
         "lat": [
          40.57405693
         ],
         "legendgroup": "Fresh Kills",
         "lon": [
          -74.19497651
         ],
         "marker": {
          "color": "#EF553B"
         },
         "mode": "markers",
         "name": "Fresh Kills",
         "showlegend": true,
         "subplot": "mapbox",
         "type": "scattermapbox"
        },
        {
         "hovertemplate": "Name=Plumb Beach<br>Latitude=%{lat}<br>Longitude=%{lon}<extra></extra>",
         "lat": [
          40.58319524
         ],
         "legendgroup": "Plumb Beach",
         "lon": [
          -73.91512178
         ],
         "marker": {
          "color": "#00cc96"
         },
         "mode": "markers",
         "name": "Plumb Beach",
         "showlegend": true,
         "subplot": "mapbox",
         "type": "scattermapbox"
        },
        {
         "hovertemplate": "Name=John F. Kennedy International Airport<br>Latitude=%{lat}<br>Longitude=%{lon}<extra></extra>",
         "lat": [
          40.64806756
         ],
         "legendgroup": "John F. Kennedy International Airport",
         "lon": [
          -73.78599901
         ],
         "marker": {
          "color": "#ab63fa"
         },
         "mode": "markers",
         "name": "John F. Kennedy International Airport",
         "showlegend": true,
         "subplot": "mapbox",
         "type": "scattermapbox"
        },
        {
         "hovertemplate": "Name=Jamaica Bay Wildlife Refuge<br>Latitude=%{lat}<br>Longitude=%{lon}<extra></extra>",
         "lat": [
          40.62287746
         ],
         "legendgroup": "Jamaica Bay Wildlife Refuge",
         "lon": [
          -73.82628899
         ],
         "marker": {
          "color": "#FFA15A"
         },
         "mode": "markers",
         "name": "Jamaica Bay Wildlife Refuge",
         "showlegend": true,
         "subplot": "mapbox",
         "type": "scattermapbox"
        },
        {
         "hovertemplate": "Name=Calvert Vaux<br>Latitude=%{lat}<br>Longitude=%{lon}<extra></extra>",
         "lat": [
          40.58507539
         ],
         "legendgroup": "Calvert Vaux",
         "lon": [
          -73.99369533
         ],
         "marker": {
          "color": "#19d3f3"
         },
         "mode": "markers",
         "name": "Calvert Vaux",
         "showlegend": true,
         "subplot": "mapbox",
         "type": "scattermapbox"
        },
        {
         "hovertemplate": "Name=High Rock Park<br>Latitude=%{lat}<br>Longitude=%{lon}<extra></extra>",
         "lat": [
          40.59043473
         ],
         "legendgroup": "High Rock Park",
         "lon": [
          -74.11492037
         ],
         "marker": {
          "color": "#FF6692"
         },
         "mode": "markers",
         "name": "High Rock Park",
         "showlegend": true,
         "subplot": "mapbox",
         "type": "scattermapbox"
        },
        {
         "hovertemplate": "Name=Red Hook Park<br>Latitude=%{lat}<br>Longitude=%{lon}<extra></extra>",
         "lat": [
          40.67204727
         ],
         "legendgroup": "Red Hook Park",
         "lon": [
          -74.00555273
         ],
         "marker": {
          "color": "#B6E880"
         },
         "mode": "markers",
         "name": "Red Hook Park",
         "showlegend": true,
         "subplot": "mapbox",
         "type": "scattermapbox"
        },
        {
         "hovertemplate": "Name=Saint Michael's Cemetery<br>Latitude=%{lat}<br>Longitude=%{lon}<extra></extra>",
         "lat": [
          40.76444876
         ],
         "legendgroup": "Saint Michael's Cemetery",
         "lon": [
          -73.89847195
         ],
         "marker": {
          "color": "#FF97FF"
         },
         "mode": "markers",
         "name": "Saint Michael's Cemetery",
         "showlegend": true,
         "subplot": "mapbox",
         "type": "scattermapbox"
        },
        {
         "hovertemplate": "Name=Riverdale Park<br>Latitude=%{lat}<br>Longitude=%{lon}<extra></extra>",
         "lat": [
          40.89230557
         ],
         "legendgroup": "Riverdale Park",
         "lon": [
          -73.91682911
         ],
         "marker": {
          "color": "#FECB52"
         },
         "mode": "markers",
         "name": "Riverdale Park",
         "showlegend": true,
         "subplot": "mapbox",
         "type": "scattermapbox"
        },
        {
         "hovertemplate": "Name=Spring Creek Park Preserve No Access<br>Latitude=%{lat}<br>Longitude=%{lon}<extra></extra>",
         "lat": [
          40.64582807
         ],
         "legendgroup": "Spring Creek Park Preserve No Access",
         "lon": [
          -73.86501942
         ],
         "marker": {
          "color": "#636efa"
         },
         "mode": "markers",
         "name": "Spring Creek Park Preserve No Access",
         "showlegend": true,
         "subplot": "mapbox",
         "type": "scattermapbox"
        },
        {
         "hovertemplate": "Name=Spring Creek Park Gateway National Recreation Area<br>Latitude=%{lat}<br>Longitude=%{lon}<extra></extra>",
         "lat": [
          40.646316
         ],
         "legendgroup": "Spring Creek Park Gateway National Recreation Area",
         "lon": [
          -73.84421119
         ],
         "marker": {
          "color": "#EF553B"
         },
         "mode": "markers",
         "name": "Spring Creek Park Gateway National Recreation Area",
         "showlegend": true,
         "subplot": "mapbox",
         "type": "scattermapbox"
        }
       ],
       "layout": {
        "legend": {
         "title": {
          "text": "Name"
         },
         "tracegroupgap": 0
        },
        "mapbox": {
         "center": {
          "lat": 40.70281489793479,
          "lon": -73.93761442239129
         },
         "domain": {
          "x": [
           0,
           1
          ],
          "y": [
           0,
           1
          ]
         },
         "zoom": 8
        },
        "margin": {
         "t": 60
        },
        "template": {
         "data": {
          "bar": [
           {
            "error_x": {
             "color": "#2a3f5f"
            },
            "error_y": {
             "color": "#2a3f5f"
            },
            "marker": {
             "line": {
              "color": "#E5ECF6",
              "width": 0.5
             }
            },
            "type": "bar"
           }
          ],
          "barpolar": [
           {
            "marker": {
             "line": {
              "color": "#E5ECF6",
              "width": 0.5
             }
            },
            "type": "barpolar"
           }
          ],
          "carpet": [
           {
            "aaxis": {
             "endlinecolor": "#2a3f5f",
             "gridcolor": "white",
             "linecolor": "white",
             "minorgridcolor": "white",
             "startlinecolor": "#2a3f5f"
            },
            "baxis": {
             "endlinecolor": "#2a3f5f",
             "gridcolor": "white",
             "linecolor": "white",
             "minorgridcolor": "white",
             "startlinecolor": "#2a3f5f"
            },
            "type": "carpet"
           }
          ],
          "choropleth": [
           {
            "colorbar": {
             "outlinewidth": 0,
             "ticks": ""
            },
            "type": "choropleth"
           }
          ],
          "contour": [
           {
            "colorbar": {
             "outlinewidth": 0,
             "ticks": ""
            },
            "colorscale": [
             [
              0,
              "#0d0887"
             ],
             [
              0.1111111111111111,
              "#46039f"
             ],
             [
              0.2222222222222222,
              "#7201a8"
             ],
             [
              0.3333333333333333,
              "#9c179e"
             ],
             [
              0.4444444444444444,
              "#bd3786"
             ],
             [
              0.5555555555555556,
              "#d8576b"
             ],
             [
              0.6666666666666666,
              "#ed7953"
             ],
             [
              0.7777777777777778,
              "#fb9f3a"
             ],
             [
              0.8888888888888888,
              "#fdca26"
             ],
             [
              1,
              "#f0f921"
             ]
            ],
            "type": "contour"
           }
          ],
          "contourcarpet": [
           {
            "colorbar": {
             "outlinewidth": 0,
             "ticks": ""
            },
            "type": "contourcarpet"
           }
          ],
          "heatmap": [
           {
            "colorbar": {
             "outlinewidth": 0,
             "ticks": ""
            },
            "colorscale": [
             [
              0,
              "#0d0887"
             ],
             [
              0.1111111111111111,
              "#46039f"
             ],
             [
              0.2222222222222222,
              "#7201a8"
             ],
             [
              0.3333333333333333,
              "#9c179e"
             ],
             [
              0.4444444444444444,
              "#bd3786"
             ],
             [
              0.5555555555555556,
              "#d8576b"
             ],
             [
              0.6666666666666666,
              "#ed7953"
             ],
             [
              0.7777777777777778,
              "#fb9f3a"
             ],
             [
              0.8888888888888888,
              "#fdca26"
             ],
             [
              1,
              "#f0f921"
             ]
            ],
            "type": "heatmap"
           }
          ],
          "heatmapgl": [
           {
            "colorbar": {
             "outlinewidth": 0,
             "ticks": ""
            },
            "colorscale": [
             [
              0,
              "#0d0887"
             ],
             [
              0.1111111111111111,
              "#46039f"
             ],
             [
              0.2222222222222222,
              "#7201a8"
             ],
             [
              0.3333333333333333,
              "#9c179e"
             ],
             [
              0.4444444444444444,
              "#bd3786"
             ],
             [
              0.5555555555555556,
              "#d8576b"
             ],
             [
              0.6666666666666666,
              "#ed7953"
             ],
             [
              0.7777777777777778,
              "#fb9f3a"
             ],
             [
              0.8888888888888888,
              "#fdca26"
             ],
             [
              1,
              "#f0f921"
             ]
            ],
            "type": "heatmapgl"
           }
          ],
          "histogram": [
           {
            "marker": {
             "colorbar": {
              "outlinewidth": 0,
              "ticks": ""
             }
            },
            "type": "histogram"
           }
          ],
          "histogram2d": [
           {
            "colorbar": {
             "outlinewidth": 0,
             "ticks": ""
            },
            "colorscale": [
             [
              0,
              "#0d0887"
             ],
             [
              0.1111111111111111,
              "#46039f"
             ],
             [
              0.2222222222222222,
              "#7201a8"
             ],
             [
              0.3333333333333333,
              "#9c179e"
             ],
             [
              0.4444444444444444,
              "#bd3786"
             ],
             [
              0.5555555555555556,
              "#d8576b"
             ],
             [
              0.6666666666666666,
              "#ed7953"
             ],
             [
              0.7777777777777778,
              "#fb9f3a"
             ],
             [
              0.8888888888888888,
              "#fdca26"
             ],
             [
              1,
              "#f0f921"
             ]
            ],
            "type": "histogram2d"
           }
          ],
          "histogram2dcontour": [
           {
            "colorbar": {
             "outlinewidth": 0,
             "ticks": ""
            },
            "colorscale": [
             [
              0,
              "#0d0887"
             ],
             [
              0.1111111111111111,
              "#46039f"
             ],
             [
              0.2222222222222222,
              "#7201a8"
             ],
             [
              0.3333333333333333,
              "#9c179e"
             ],
             [
              0.4444444444444444,
              "#bd3786"
             ],
             [
              0.5555555555555556,
              "#d8576b"
             ],
             [
              0.6666666666666666,
              "#ed7953"
             ],
             [
              0.7777777777777778,
              "#fb9f3a"
             ],
             [
              0.8888888888888888,
              "#fdca26"
             ],
             [
              1,
              "#f0f921"
             ]
            ],
            "type": "histogram2dcontour"
           }
          ],
          "mesh3d": [
           {
            "colorbar": {
             "outlinewidth": 0,
             "ticks": ""
            },
            "type": "mesh3d"
           }
          ],
          "parcoords": [
           {
            "line": {
             "colorbar": {
              "outlinewidth": 0,
              "ticks": ""
             }
            },
            "type": "parcoords"
           }
          ],
          "pie": [
           {
            "automargin": true,
            "type": "pie"
           }
          ],
          "scatter": [
           {
            "marker": {
             "colorbar": {
              "outlinewidth": 0,
              "ticks": ""
             }
            },
            "type": "scatter"
           }
          ],
          "scatter3d": [
           {
            "line": {
             "colorbar": {
              "outlinewidth": 0,
              "ticks": ""
             }
            },
            "marker": {
             "colorbar": {
              "outlinewidth": 0,
              "ticks": ""
             }
            },
            "type": "scatter3d"
           }
          ],
          "scattercarpet": [
           {
            "marker": {
             "colorbar": {
              "outlinewidth": 0,
              "ticks": ""
             }
            },
            "type": "scattercarpet"
           }
          ],
          "scattergeo": [
           {
            "marker": {
             "colorbar": {
              "outlinewidth": 0,
              "ticks": ""
             }
            },
            "type": "scattergeo"
           }
          ],
          "scattergl": [
           {
            "marker": {
             "colorbar": {
              "outlinewidth": 0,
              "ticks": ""
             }
            },
            "type": "scattergl"
           }
          ],
          "scattermapbox": [
           {
            "marker": {
             "colorbar": {
              "outlinewidth": 0,
              "ticks": ""
             }
            },
            "type": "scattermapbox"
           }
          ],
          "scatterpolar": [
           {
            "marker": {
             "colorbar": {
              "outlinewidth": 0,
              "ticks": ""
             }
            },
            "type": "scatterpolar"
           }
          ],
          "scatterpolargl": [
           {
            "marker": {
             "colorbar": {
              "outlinewidth": 0,
              "ticks": ""
             }
            },
            "type": "scatterpolargl"
           }
          ],
          "scatterternary": [
           {
            "marker": {
             "colorbar": {
              "outlinewidth": 0,
              "ticks": ""
             }
            },
            "type": "scatterternary"
           }
          ],
          "surface": [
           {
            "colorbar": {
             "outlinewidth": 0,
             "ticks": ""
            },
            "colorscale": [
             [
              0,
              "#0d0887"
             ],
             [
              0.1111111111111111,
              "#46039f"
             ],
             [
              0.2222222222222222,
              "#7201a8"
             ],
             [
              0.3333333333333333,
              "#9c179e"
             ],
             [
              0.4444444444444444,
              "#bd3786"
             ],
             [
              0.5555555555555556,
              "#d8576b"
             ],
             [
              0.6666666666666666,
              "#ed7953"
             ],
             [
              0.7777777777777778,
              "#fb9f3a"
             ],
             [
              0.8888888888888888,
              "#fdca26"
             ],
             [
              1,
              "#f0f921"
             ]
            ],
            "type": "surface"
           }
          ],
          "table": [
           {
            "cells": {
             "fill": {
              "color": "#EBF0F8"
             },
             "line": {
              "color": "white"
             }
            },
            "header": {
             "fill": {
              "color": "#C8D4E3"
             },
             "line": {
              "color": "white"
             }
            },
            "type": "table"
           }
          ]
         },
         "layout": {
          "annotationdefaults": {
           "arrowcolor": "#2a3f5f",
           "arrowhead": 0,
           "arrowwidth": 1
          },
          "autotypenumbers": "strict",
          "coloraxis": {
           "colorbar": {
            "outlinewidth": 0,
            "ticks": ""
           }
          },
          "colorscale": {
           "diverging": [
            [
             0,
             "#8e0152"
            ],
            [
             0.1,
             "#c51b7d"
            ],
            [
             0.2,
             "#de77ae"
            ],
            [
             0.3,
             "#f1b6da"
            ],
            [
             0.4,
             "#fde0ef"
            ],
            [
             0.5,
             "#f7f7f7"
            ],
            [
             0.6,
             "#e6f5d0"
            ],
            [
             0.7,
             "#b8e186"
            ],
            [
             0.8,
             "#7fbc41"
            ],
            [
             0.9,
             "#4d9221"
            ],
            [
             1,
             "#276419"
            ]
           ],
           "sequential": [
            [
             0,
             "#0d0887"
            ],
            [
             0.1111111111111111,
             "#46039f"
            ],
            [
             0.2222222222222222,
             "#7201a8"
            ],
            [
             0.3333333333333333,
             "#9c179e"
            ],
            [
             0.4444444444444444,
             "#bd3786"
            ],
            [
             0.5555555555555556,
             "#d8576b"
            ],
            [
             0.6666666666666666,
             "#ed7953"
            ],
            [
             0.7777777777777778,
             "#fb9f3a"
            ],
            [
             0.8888888888888888,
             "#fdca26"
            ],
            [
             1,
             "#f0f921"
            ]
           ],
           "sequentialminus": [
            [
             0,
             "#0d0887"
            ],
            [
             0.1111111111111111,
             "#46039f"
            ],
            [
             0.2222222222222222,
             "#7201a8"
            ],
            [
             0.3333333333333333,
             "#9c179e"
            ],
            [
             0.4444444444444444,
             "#bd3786"
            ],
            [
             0.5555555555555556,
             "#d8576b"
            ],
            [
             0.6666666666666666,
             "#ed7953"
            ],
            [
             0.7777777777777778,
             "#fb9f3a"
            ],
            [
             0.8888888888888888,
             "#fdca26"
            ],
            [
             1,
             "#f0f921"
            ]
           ]
          },
          "colorway": [
           "#636efa",
           "#EF553B",
           "#00cc96",
           "#ab63fa",
           "#FFA15A",
           "#19d3f3",
           "#FF6692",
           "#B6E880",
           "#FF97FF",
           "#FECB52"
          ],
          "font": {
           "color": "#2a3f5f"
          },
          "geo": {
           "bgcolor": "white",
           "lakecolor": "white",
           "landcolor": "#E5ECF6",
           "showlakes": true,
           "showland": true,
           "subunitcolor": "white"
          },
          "hoverlabel": {
           "align": "left"
          },
          "hovermode": "closest",
          "mapbox": {
           "style": "light"
          },
          "paper_bgcolor": "white",
          "plot_bgcolor": "#E5ECF6",
          "polar": {
           "angularaxis": {
            "gridcolor": "white",
            "linecolor": "white",
            "ticks": ""
           },
           "bgcolor": "#E5ECF6",
           "radialaxis": {
            "gridcolor": "white",
            "linecolor": "white",
            "ticks": ""
           }
          },
          "scene": {
           "xaxis": {
            "backgroundcolor": "#E5ECF6",
            "gridcolor": "white",
            "gridwidth": 2,
            "linecolor": "white",
            "showbackground": true,
            "ticks": "",
            "zerolinecolor": "white"
           },
           "yaxis": {
            "backgroundcolor": "#E5ECF6",
            "gridcolor": "white",
            "gridwidth": 2,
            "linecolor": "white",
            "showbackground": true,
            "ticks": "",
            "zerolinecolor": "white"
           },
           "zaxis": {
            "backgroundcolor": "#E5ECF6",
            "gridcolor": "white",
            "gridwidth": 2,
            "linecolor": "white",
            "showbackground": true,
            "ticks": "",
            "zerolinecolor": "white"
           }
          },
          "shapedefaults": {
           "line": {
            "color": "#2a3f5f"
           }
          },
          "ternary": {
           "aaxis": {
            "gridcolor": "white",
            "linecolor": "white",
            "ticks": ""
           },
           "baxis": {
            "gridcolor": "white",
            "linecolor": "white",
            "ticks": ""
           },
           "bgcolor": "#E5ECF6",
           "caxis": {
            "gridcolor": "white",
            "linecolor": "white",
            "ticks": ""
           }
          },
          "title": {
           "x": 0.05
          },
          "xaxis": {
           "automargin": true,
           "gridcolor": "white",
           "linecolor": "white",
           "ticks": "",
           "title": {
            "standoff": 15
           },
           "zerolinecolor": "white",
           "zerolinewidth": 2
          },
          "yaxis": {
           "automargin": true,
           "gridcolor": "white",
           "linecolor": "white",
           "ticks": "",
           "title": {
            "standoff": 15
           },
           "zerolinecolor": "white",
           "zerolinewidth": 2
          }
         }
        }
       }
      }
     },
     "metadata": {}
    }
   ],
   "source": [
    "# Slice and plot data by borough \n",
    "map_1 = px.scatter_mapbox(\n",
    "    places_of_interest,\n",
    "    lat=\"Latitude\",\n",
    "    lon=\"Longitude\",\n",
    "    color=\"Name\"\n",
    ")\n",
    "map_1.show()"
   ]
  },
  {
   "cell_type": "code",
   "execution_count": 16,
   "metadata": {},
   "outputs": [
    {
     "output_type": "display_data",
     "data": {
      "application/vnd.plotly.v1+json": {
       "config": {
        "plotlyServerURL": "https://plot.ly"
       },
       "data": [
        {
         "hovertemplate": "Name=Van Cortlandt Park<br>Latitude=%{lat}<br>Longitude=%{lon}<extra></extra>",
         "lat": [
          40.89620987
         ],
         "legendgroup": "Van Cortlandt Park",
         "lon": [
          -73.88895812
         ],
         "marker": {
          "color": "#636efa"
         },
         "mode": "markers",
         "name": "Van Cortlandt Park",
         "showlegend": true,
         "subplot": "mapbox",
         "type": "scattermapbox"
        },
        {
         "hovertemplate": "Name=Woodlawn Cemetery<br>Latitude=%{lat}<br>Longitude=%{lon}<extra></extra>",
         "lat": [
          40.88987947
         ],
         "legendgroup": "Woodlawn Cemetery",
         "lon": [
          -73.87165103
         ],
         "marker": {
          "color": "#EF553B"
         },
         "mode": "markers",
         "name": "Woodlawn Cemetery",
         "showlegend": true,
         "subplot": "mapbox",
         "type": "scattermapbox"
        },
        {
         "hovertemplate": "Name=Seton Falls Park<br>Latitude=%{lat}<br>Longitude=%{lon}<extra></extra>",
         "lat": [
          40.88696522
         ],
         "legendgroup": "Seton Falls Park",
         "lon": [
          -73.83864189
         ],
         "marker": {
          "color": "#00cc96"
         },
         "mode": "markers",
         "name": "Seton Falls Park",
         "showlegend": true,
         "subplot": "mapbox",
         "type": "scattermapbox"
        },
        {
         "hovertemplate": "Name=Pelham Bay Park<br>Latitude=%{lat}<br>Longitude=%{lon}<extra></extra>",
         "lat": [
          40.87798555
         ],
         "legendgroup": "Pelham Bay Park",
         "lon": [
          -73.80980242
         ],
         "marker": {
          "color": "#ab63fa"
         },
         "mode": "markers",
         "name": "Pelham Bay Park",
         "showlegend": true,
         "subplot": "mapbox",
         "type": "scattermapbox"
        },
        {
         "hovertemplate": "Name=Botanical Garden<br>Latitude=%{lat}<br>Longitude=%{lon}<extra></extra>",
         "lat": [
          40.86442395
         ],
         "legendgroup": "Botanical Garden",
         "lon": [
          -73.87830776
         ],
         "marker": {
          "color": "#FFA15A"
         },
         "mode": "markers",
         "name": "Botanical Garden",
         "showlegend": true,
         "subplot": "mapbox",
         "type": "scattermapbox"
        },
        {
         "hovertemplate": "Name=Bronx Park<br>Latitude=%{lat}<br>Longitude=%{lon}<extra></extra>",
         "lat": [
          40.85552207
         ],
         "legendgroup": "Bronx Park",
         "lon": [
          -73.87626064
         ],
         "marker": {
          "color": "#19d3f3"
         },
         "mode": "markers",
         "name": "Bronx Park",
         "showlegend": true,
         "subplot": "mapbox",
         "type": "scattermapbox"
        },
        {
         "hovertemplate": "Name=Saint  Raymond's Cemetery<br>Latitude=%{lat}<br>Longitude=%{lon}<extra></extra>",
         "lat": [
          40.82330815
         ],
         "legendgroup": "Saint  Raymond's Cemetery",
         "lon": [
          -73.83530397
         ],
         "marker": {
          "color": "#FF6692"
         },
         "mode": "markers",
         "name": "Saint  Raymond's Cemetery",
         "showlegend": true,
         "subplot": "mapbox",
         "type": "scattermapbox"
        },
        {
         "hovertemplate": "Name=Ferry Point Park<br>Latitude=%{lat}<br>Longitude=%{lon}<extra></extra>",
         "lat": [
          40.81434338
         ],
         "legendgroup": "Ferry Point Park",
         "lon": [
          -73.83284640000001
         ],
         "marker": {
          "color": "#B6E880"
         },
         "mode": "markers",
         "name": "Ferry Point Park",
         "showlegend": true,
         "subplot": "mapbox",
         "type": "scattermapbox"
        },
        {
         "hovertemplate": "Name=Sound View Park<br>Latitude=%{lat}<br>Longitude=%{lon}<extra></extra>",
         "lat": [
          40.815444299999996
         ],
         "legendgroup": "Sound View Park",
         "lon": [
          -73.8721731
         ],
         "marker": {
          "color": "#FF97FF"
         },
         "mode": "markers",
         "name": "Sound View Park",
         "showlegend": true,
         "subplot": "mapbox",
         "type": "scattermapbox"
        },
        {
         "hovertemplate": "Name=Crotona Park<br>Latitude=%{lat}<br>Longitude=%{lon}<extra></extra>",
         "lat": [
          40.8384766
         ],
         "legendgroup": "Crotona Park",
         "lon": [
          -73.89422937
         ],
         "marker": {
          "color": "#FECB52"
         },
         "mode": "markers",
         "name": "Crotona Park",
         "showlegend": true,
         "subplot": "mapbox",
         "type": "scattermapbox"
        },
        {
         "hovertemplate": "Name=Zoo/Wildlife Conser. Park<br>Latitude=%{lat}<br>Longitude=%{lon}<extra></extra>",
         "lat": [
          40.84900595
         ],
         "legendgroup": "Zoo/Wildlife Conser. Park",
         "lon": [
          -73.87523757
         ],
         "marker": {
          "color": "#636efa"
         },
         "mode": "markers",
         "name": "Zoo/Wildlife Conser. Park",
         "showlegend": true,
         "subplot": "mapbox",
         "type": "scattermapbox"
        },
        {
         "hovertemplate": "Name=Hart Island<br>Latitude=%{lat}<br>Longitude=%{lon}<extra></extra>",
         "lat": [
          40.85136497
         ],
         "legendgroup": "Hart Island",
         "lon": [
          -73.76975724
         ],
         "marker": {
          "color": "#EF553B"
         },
         "mode": "markers",
         "name": "Hart Island",
         "showlegend": true,
         "subplot": "mapbox",
         "type": "scattermapbox"
        },
        {
         "hovertemplate": "Name=Saint Mary's Park<br>Latitude=%{lat}<br>Longitude=%{lon}<extra></extra>",
         "lat": [
          40.81147588
         ],
         "legendgroup": "Saint Mary's Park",
         "lon": [
          -73.91175820000001
         ],
         "marker": {
          "color": "#00cc96"
         },
         "mode": "markers",
         "name": "Saint Mary's Park",
         "showlegend": true,
         "subplot": "mapbox",
         "type": "scattermapbox"
        },
        {
         "hovertemplate": "Name=Inwood Hill Park<br>Latitude=%{lat}<br>Longitude=%{lon}<extra></extra>",
         "lat": [
          40.87219333
         ],
         "legendgroup": "Inwood Hill Park",
         "lon": [
          -73.92618083
         ],
         "marker": {
          "color": "#ab63fa"
         },
         "mode": "markers",
         "name": "Inwood Hill Park",
         "showlegend": true,
         "subplot": "mapbox",
         "type": "scattermapbox"
        },
        {
         "hovertemplate": "Name=Fort Tryon Park<br>Latitude=%{lat}<br>Longitude=%{lon}<extra></extra>",
         "lat": [
          40.86299077
         ],
         "legendgroup": "Fort Tryon Park",
         "lon": [
          -73.93190269
         ],
         "marker": {
          "color": "#FFA15A"
         },
         "mode": "markers",
         "name": "Fort Tryon Park",
         "showlegend": true,
         "subplot": "mapbox",
         "type": "scattermapbox"
        },
        {
         "hovertemplate": "Name=Rikers Island<br>Latitude=%{lat}<br>Longitude=%{lon}<extra></extra>",
         "lat": [
          40.79198053
         ],
         "legendgroup": "Rikers Island",
         "lon": [
          -73.88276248
         ],
         "marker": {
          "color": "#19d3f3"
         },
         "mode": "markers",
         "name": "Rikers Island",
         "showlegend": true,
         "subplot": "mapbox",
         "type": "scattermapbox"
        },
        {
         "hovertemplate": "Name=Marcus Garvey Park<br>Latitude=%{lat}<br>Longitude=%{lon}<extra></extra>",
         "lat": [
          40.80345957
         ],
         "legendgroup": "Marcus Garvey Park",
         "lon": [
          -73.94268046
         ],
         "marker": {
          "color": "#FF6692"
         },
         "mode": "markers",
         "name": "Marcus Garvey Park",
         "showlegend": true,
         "subplot": "mapbox",
         "type": "scattermapbox"
        },
        {
         "hovertemplate": "Name=Randall's Island Park<br>Latitude=%{lat}<br>Longitude=%{lon}<extra></extra>",
         "lat": [
          40.79591467
         ],
         "legendgroup": "Randall's Island Park",
         "lon": [
          -73.92169947
         ],
         "marker": {
          "color": "#B6E880"
         },
         "mode": "markers",
         "name": "Randall's Island Park",
         "showlegend": true,
         "subplot": "mapbox",
         "type": "scattermapbox"
        },
        {
         "hovertemplate": "Name=Ward's Island Park<br>Latitude=%{lat}<br>Longitude=%{lon}<extra></extra>",
         "lat": [
          40.78428432
         ],
         "legendgroup": "Ward's Island Park",
         "lon": [
          -73.92997389
         ],
         "marker": {
          "color": "#FF97FF"
         },
         "mode": "markers",
         "name": "Ward's Island Park",
         "showlegend": true,
         "subplot": "mapbox",
         "type": "scattermapbox"
        },
        {
         "hovertemplate": "Name=Central Park<br>Latitude=%{lat}<br>Longitude=%{lon}<extra></extra>",
         "lat": [
          40.78288158
         ],
         "legendgroup": "Central Park",
         "lon": [
          -73.96565599
         ],
         "marker": {
          "color": "#FECB52"
         },
         "mode": "markers",
         "name": "Central Park",
         "showlegend": true,
         "subplot": "mapbox",
         "type": "scattermapbox"
        },
        {
         "hovertemplate": "Name=Columbus Circle<br>Latitude=%{lat}<br>Longitude=%{lon}<extra></extra>",
         "lat": [
          40.76806053
         ],
         "legendgroup": "Columbus Circle",
         "lon": [
          -73.98190208
         ],
         "marker": {
          "color": "#636efa"
         },
         "mode": "markers",
         "name": "Columbus Circle",
         "showlegend": true,
         "subplot": "mapbox",
         "type": "scattermapbox"
        },
        {
         "hovertemplate": "Name=Times Square<br>Latitude=%{lat}<br>Longitude=%{lon}<extra></extra>",
         "lat": [
          40.758021299999996
         ],
         "legendgroup": "Times Square",
         "lon": [
          -73.98179379
         ],
         "marker": {
          "color": "#EF553B"
         },
         "mode": "markers",
         "name": "Times Square",
         "showlegend": true,
         "subplot": "mapbox",
         "type": "scattermapbox"
        },
        {
         "hovertemplate": "Name=Madison Square<br>Latitude=%{lat}<br>Longitude=%{lon}<extra></extra>",
         "lat": [
          40.7421814
         ],
         "legendgroup": "Madison Square",
         "lon": [
          -73.98806663
         ],
         "marker": {
          "color": "#00cc96"
         },
         "mode": "markers",
         "name": "Madison Square",
         "showlegend": true,
         "subplot": "mapbox",
         "type": "scattermapbox"
        },
        {
         "hovertemplate": "Name=Union Square<br>Latitude=%{lat}<br>Longitude=%{lon}<extra></extra>",
         "lat": [
          40.73595972
         ],
         "legendgroup": "Union Square",
         "lon": [
          -73.9903801
         ],
         "marker": {
          "color": "#ab63fa"
         },
         "mode": "markers",
         "name": "Union Square",
         "showlegend": true,
         "subplot": "mapbox",
         "type": "scattermapbox"
        },
        {
         "hovertemplate": "Name=Governors Island<br>Latitude=%{lat}<br>Longitude=%{lon}<extra></extra>",
         "lat": [
          40.68941551
         ],
         "legendgroup": "Governors Island",
         "lon": [
          -74.01838919
         ],
         "marker": {
          "color": "#FFA15A"
         },
         "mode": "markers",
         "name": "Governors Island",
         "showlegend": true,
         "subplot": "mapbox",
         "type": "scattermapbox"
        },
        {
         "hovertemplate": "Name=McCarren Park<br>Latitude=%{lat}<br>Longitude=%{lon}<extra></extra>",
         "lat": [
          40.720899700000004
         ],
         "legendgroup": "McCarren Park",
         "lon": [
          -73.95198134
         ],
         "marker": {
          "color": "#19d3f3"
         },
         "mode": "markers",
         "name": "McCarren Park",
         "showlegend": true,
         "subplot": "mapbox",
         "type": "scattermapbox"
        },
        {
         "hovertemplate": "Name=Astoria Park<br>Latitude=%{lat}<br>Longitude=%{lon}<extra></extra>",
         "lat": [
          40.77679234
         ],
         "legendgroup": "Astoria Park",
         "lon": [
          -73.92426901
         ],
         "marker": {
          "color": "#FF6692"
         },
         "mode": "markers",
         "name": "Astoria Park",
         "showlegend": true,
         "subplot": "mapbox",
         "type": "scattermapbox"
        },
        {
         "hovertemplate": "Name=Botanic Garden<br>Latitude=%{lat}<br>Longitude=%{lon}<extra></extra>",
         "lat": [
          40.66993701
         ],
         "legendgroup": "Botanic Garden",
         "lon": [
          -73.96612486
         ],
         "marker": {
          "color": "#B6E880"
         },
         "mode": "markers",
         "name": "Botanic Garden",
         "showlegend": true,
         "subplot": "mapbox",
         "type": "scattermapbox"
        },
        {
         "hovertemplate": "Name=Prospect Park<br>Latitude=%{lat}<br>Longitude=%{lon}<extra></extra>",
         "lat": [
          40.66125082
         ],
         "legendgroup": "Prospect Park",
         "lon": [
          -73.96908664
         ],
         "marker": {
          "color": "#FF97FF"
         },
         "mode": "markers",
         "name": "Prospect Park",
         "showlegend": true,
         "subplot": "mapbox",
         "type": "scattermapbox"
        },
        {
         "hovertemplate": "Name=Greenwood Cemetery<br>Latitude=%{lat}<br>Longitude=%{lon}<extra></extra>",
         "lat": [
          40.65204691
         ],
         "legendgroup": "Greenwood Cemetery",
         "lon": [
          -73.99044122
         ],
         "marker": {
          "color": "#FECB52"
         },
         "mode": "markers",
         "name": "Greenwood Cemetery",
         "showlegend": true,
         "subplot": "mapbox",
         "type": "scattermapbox"
        },
        {
         "hovertemplate": "Name=Holy Cross Cemetery<br>Latitude=%{lat}<br>Longitude=%{lon}<extra></extra>",
         "lat": [
          40.64686106
         ],
         "legendgroup": "Holy Cross Cemetery",
         "lon": [
          -73.93764826
         ],
         "marker": {
          "color": "#636efa"
         },
         "mode": "markers",
         "name": "Holy Cross Cemetery",
         "showlegend": true,
         "subplot": "mapbox",
         "type": "scattermapbox"
        },
        {
         "hovertemplate": "Name=Bush Terminal<br>Latitude=%{lat}<br>Longitude=%{lon}<extra></extra>",
         "lat": [
          40.65508508
         ],
         "legendgroup": "Bush Terminal",
         "lon": [
          -74.0185757
         ],
         "marker": {
          "color": "#EF553B"
         },
         "mode": "markers",
         "name": "Bush Terminal",
         "showlegend": true,
         "subplot": "mapbox",
         "type": "scattermapbox"
        },
        {
         "hovertemplate": "Name=Owls Head Park<br>Latitude=%{lat}<br>Longitude=%{lon}<extra></extra>",
         "lat": [
          40.63995895
         ],
         "legendgroup": "Owls Head Park",
         "lon": [
          -74.03230852
         ],
         "marker": {
          "color": "#00cc96"
         },
         "mode": "markers",
         "name": "Owls Head Park",
         "showlegend": true,
         "subplot": "mapbox",
         "type": "scattermapbox"
        },
        {
         "hovertemplate": "Name=Fort Hamilton<br>Latitude=%{lat}<br>Longitude=%{lon}<extra></extra>",
         "lat": [
          40.60738115
         ],
         "legendgroup": "Fort Hamilton",
         "lon": [
          -74.02879133
         ],
         "marker": {
          "color": "#ab63fa"
         },
         "mode": "markers",
         "name": "Fort Hamilton",
         "showlegend": true,
         "subplot": "mapbox",
         "type": "scattermapbox"
        },
        {
         "hovertemplate": "Name=Dyker Beach Park<br>Latitude=%{lat}<br>Longitude=%{lon}<extra></extra>",
         "lat": [
          40.61146403
         ],
         "legendgroup": "Dyker Beach Park",
         "lon": [
          -74.01956103
         ],
         "marker": {
          "color": "#FFA15A"
         },
         "mode": "markers",
         "name": "Dyker Beach Park",
         "showlegend": true,
         "subplot": "mapbox",
         "type": "scattermapbox"
        },
        {
         "hovertemplate": "Name=Washington Cemetery<br>Latitude=%{lat}<br>Longitude=%{lon}<extra></extra>",
         "lat": [
          40.62022207
         ],
         "legendgroup": "Washington Cemetery",
         "lon": [
          -73.97543204
         ],
         "marker": {
          "color": "#19d3f3"
         },
         "mode": "markers",
         "name": "Washington Cemetery",
         "showlegend": true,
         "subplot": "mapbox",
         "type": "scattermapbox"
        },
        {
         "hovertemplate": "Name=Marine Park<br>Latitude=%{lat}<br>Longitude=%{lon}<extra></extra>",
         "lat": [
          40.60336225
         ],
         "legendgroup": "Marine Park",
         "lon": [
          -73.92408613
         ],
         "marker": {
          "color": "#FF6692"
         },
         "mode": "markers",
         "name": "Marine Park",
         "showlegend": true,
         "subplot": "mapbox",
         "type": "scattermapbox"
        },
        {
         "hovertemplate": "Name=Floyd Bennett Field<br>Latitude=%{lat}<br>Longitude=%{lon}<extra></extra>",
         "lat": [
          40.59129948
         ],
         "legendgroup": "Floyd Bennett Field",
         "lon": [
          -73.89009561
         ],
         "marker": {
          "color": "#B6E880"
         },
         "mode": "markers",
         "name": "Floyd Bennett Field",
         "showlegend": true,
         "subplot": "mapbox",
         "type": "scattermapbox"
        },
        {
         "hovertemplate": "Name=Canarsie Beach Park<br>Latitude=%{lat}<br>Longitude=%{lon}<extra></extra>",
         "lat": [
          40.62548604
         ],
         "legendgroup": "Canarsie Beach Park",
         "lon": [
          -73.89810825
         ],
         "marker": {
          "color": "#FF97FF"
         },
         "mode": "markers",
         "name": "Canarsie Beach Park",
         "showlegend": true,
         "subplot": "mapbox",
         "type": "scattermapbox"
        },
        {
         "hovertemplate": "Name=Aqueduct Race Track<br>Latitude=%{lat}<br>Longitude=%{lon}<extra></extra>",
         "lat": [
          40.67219433
         ],
         "legendgroup": "Aqueduct Race Track",
         "lon": [
          -73.83062352
         ],
         "marker": {
          "color": "#FECB52"
         },
         "mode": "markers",
         "name": "Aqueduct Race Track",
         "showlegend": true,
         "subplot": "mapbox",
         "type": "scattermapbox"
        },
        {
         "hovertemplate": "Name=Bayside Cemetery<br>Latitude=%{lat}<br>Longitude=%{lon}<extra></extra>",
         "lat": [
          40.67728706
         ],
         "legendgroup": "Bayside Cemetery",
         "lon": [
          -73.85499266
         ],
         "marker": {
          "color": "#636efa"
         },
         "mode": "markers",
         "name": "Bayside Cemetery",
         "showlegend": true,
         "subplot": "mapbox",
         "type": "scattermapbox"
        },
        {
         "hovertemplate": "Name=Brookville Park<br>Latitude=%{lat}<br>Longitude=%{lon}<extra></extra>",
         "lat": [
          40.65190821
         ],
         "legendgroup": "Brookville Park",
         "lon": [
          -73.75238277
         ],
         "marker": {
          "color": "#EF553B"
         },
         "mode": "markers",
         "name": "Brookville Park",
         "showlegend": true,
         "subplot": "mapbox",
         "type": "scattermapbox"
        },
        {
         "hovertemplate": "Name=Baisley Pond Park<br>Latitude=%{lat}<br>Longitude=%{lon}<extra></extra>",
         "lat": [
          40.67324965
         ],
         "legendgroup": "Baisley Pond Park",
         "lon": [
          -73.78691601
         ],
         "marker": {
          "color": "#00cc96"
         },
         "mode": "markers",
         "name": "Baisley Pond Park",
         "showlegend": true,
         "subplot": "mapbox",
         "type": "scattermapbox"
        },
        {
         "hovertemplate": "Name=Roy Wilkins Park<br>Latitude=%{lat}<br>Longitude=%{lon}<extra></extra>",
         "lat": [
          40.68791059
         ],
         "legendgroup": "Roy Wilkins Park",
         "lon": [
          -73.77202425
         ],
         "marker": {
          "color": "#ab63fa"
         },
         "mode": "markers",
         "name": "Roy Wilkins Park",
         "showlegend": true,
         "subplot": "mapbox",
         "type": "scattermapbox"
        },
        {
         "hovertemplate": "Name=Cypress Hills Cemetery<br>Latitude=%{lat}<br>Longitude=%{lon}<extra></extra>",
         "lat": [
          40.69584153
         ],
         "legendgroup": "Cypress Hills Cemetery",
         "lon": [
          -73.87614172
         ],
         "marker": {
          "color": "#FFA15A"
         },
         "mode": "markers",
         "name": "Cypress Hills Cemetery",
         "showlegend": true,
         "subplot": "mapbox",
         "type": "scattermapbox"
        },
        {
         "hovertemplate": "Name=Saint  Johns Cemetery<br>Latitude=%{lat}<br>Longitude=%{lon}<extra></extra>",
         "lat": [
          40.71516417
         ],
         "legendgroup": "Saint  Johns Cemetery",
         "lon": [
          -73.86698585
         ],
         "marker": {
          "color": "#19d3f3"
         },
         "mode": "markers",
         "name": "Saint  Johns Cemetery",
         "showlegend": true,
         "subplot": "mapbox",
         "type": "scattermapbox"
        },
        {
         "hovertemplate": "Name=Linden Hill Cemetery<br>Latitude=%{lat}<br>Longitude=%{lon}<extra></extra>",
         "lat": [
          40.71048991
         ],
         "legendgroup": "Linden Hill Cemetery",
         "lon": [
          -73.91396904
         ],
         "marker": {
          "color": "#FF6692"
         },
         "mode": "markers",
         "name": "Linden Hill Cemetery",
         "showlegend": true,
         "subplot": "mapbox",
         "type": "scattermapbox"
        },
        {
         "hovertemplate": "Name=Mount Olivet Cemetery<br>Latitude=%{lat}<br>Longitude=%{lon}<extra></extra>",
         "lat": [
          40.72084097
         ],
         "legendgroup": "Mount Olivet Cemetery",
         "lon": [
          -73.89594771
         ],
         "marker": {
          "color": "#B6E880"
         },
         "mode": "markers",
         "name": "Mount Olivet Cemetery",
         "showlegend": true,
         "subplot": "mapbox",
         "type": "scattermapbox"
        },
        {
         "hovertemplate": "Name=Juniper Valley Park<br>Latitude=%{lat}<br>Longitude=%{lon}<extra></extra>",
         "lat": [
          40.72035303
         ],
         "legendgroup": "Juniper Valley Park",
         "lon": [
          -73.87963219
         ],
         "marker": {
          "color": "#FF97FF"
         },
         "mode": "markers",
         "name": "Juniper Valley Park",
         "showlegend": true,
         "subplot": "mapbox",
         "type": "scattermapbox"
        },
        {
         "hovertemplate": "Name=Lutheran Cemetery<br>Latitude=%{lat}<br>Longitude=%{lon}<extra></extra>",
         "lat": [
          40.71223625
         ],
         "legendgroup": "Lutheran Cemetery",
         "lon": [
          -73.88748458
         ],
         "marker": {
          "color": "#FECB52"
         },
         "mode": "markers",
         "name": "Lutheran Cemetery",
         "showlegend": true,
         "subplot": "mapbox",
         "type": "scattermapbox"
        },
        {
         "hovertemplate": "Name=Montefiore Cemetery<br>Latitude=%{lat}<br>Longitude=%{lon}<extra></extra>",
         "lat": [
          40.68584033
         ],
         "legendgroup": "Montefiore Cemetery",
         "lon": [
          -73.7417316
         ],
         "marker": {
          "color": "#636efa"
         },
         "mode": "markers",
         "name": "Montefiore Cemetery",
         "showlegend": true,
         "subplot": "mapbox",
         "type": "scattermapbox"
        },
        {
         "hovertemplate": "Name=Flushing Meadows Corona Park<br>Latitude=%{lat}<br>Longitude=%{lon}<extra></extra>",
         "lat": [
          40.73799908
         ],
         "legendgroup": "Flushing Meadows Corona Park",
         "lon": [
          -73.84141525
         ],
         "marker": {
          "color": "#EF553B"
         },
         "mode": "markers",
         "name": "Flushing Meadows Corona Park",
         "showlegend": true,
         "subplot": "mapbox",
         "type": "scattermapbox"
        },
        {
         "hovertemplate": "Name=Mount Hebron Cemetery<br>Latitude=%{lat}<br>Longitude=%{lon}<extra></extra>",
         "lat": [
          40.73409273
         ],
         "legendgroup": "Mount Hebron Cemetery",
         "lon": [
          -73.83033793
         ],
         "marker": {
          "color": "#00cc96"
         },
         "mode": "markers",
         "name": "Mount Hebron Cemetery",
         "showlegend": true,
         "subplot": "mapbox",
         "type": "scattermapbox"
        },
        {
         "hovertemplate": "Name=Cunningham Park<br>Latitude=%{lat}<br>Longitude=%{lon}<extra></extra>",
         "lat": [
          40.72903318
         ],
         "legendgroup": "Cunningham Park",
         "lon": [
          -73.76903038
         ],
         "marker": {
          "color": "#ab63fa"
         },
         "mode": "markers",
         "name": "Cunningham Park",
         "showlegend": true,
         "subplot": "mapbox",
         "type": "scattermapbox"
        },
        {
         "hovertemplate": "Name=Fort Totten<br>Latitude=%{lat}<br>Longitude=%{lon}<extra></extra>",
         "lat": [
          40.79253916
         ],
         "legendgroup": "Fort Totten",
         "lon": [
          -73.7770396
         ],
         "marker": {
          "color": "#FFA15A"
         },
         "mode": "markers",
         "name": "Fort Totten",
         "showlegend": true,
         "subplot": "mapbox",
         "type": "scattermapbox"
        },
        {
         "hovertemplate": "Name=Clearview Park<br>Latitude=%{lat}<br>Longitude=%{lon}<extra></extra>",
         "lat": [
          40.78258966
         ],
         "legendgroup": "Clearview Park",
         "lon": [
          -73.78886383
         ],
         "marker": {
          "color": "#19d3f3"
         },
         "mode": "markers",
         "name": "Clearview Park",
         "showlegend": true,
         "subplot": "mapbox",
         "type": "scattermapbox"
        },
        {
         "hovertemplate": "Name=Crocheron Park<br>Latitude=%{lat}<br>Longitude=%{lon}<extra></extra>",
         "lat": [
          40.77133495
         ],
         "legendgroup": "Crocheron Park",
         "lon": [
          -73.76899845
         ],
         "marker": {
          "color": "#FF6692"
         },
         "mode": "markers",
         "name": "Crocheron Park",
         "showlegend": true,
         "subplot": "mapbox",
         "type": "scattermapbox"
        },
        {
         "hovertemplate": "Name=Alley Pond Park<br>Latitude=%{lat}<br>Longitude=%{lon}<extra></extra>",
         "lat": [
          40.75365741
         ],
         "legendgroup": "Alley Pond Park",
         "lon": [
          -73.74427173
         ],
         "marker": {
          "color": "#B6E880"
         },
         "mode": "markers",
         "name": "Alley Pond Park",
         "showlegend": true,
         "subplot": "mapbox",
         "type": "scattermapbox"
        },
        {
         "hovertemplate": "Name=Douglaston Park<br>Latitude=%{lat}<br>Longitude=%{lon}<extra></extra>",
         "lat": [
          40.75164378
         ],
         "legendgroup": "Douglaston Park",
         "lon": [
          -73.73228698
         ],
         "marker": {
          "color": "#FF97FF"
         },
         "mode": "markers",
         "name": "Douglaston Park",
         "showlegend": true,
         "subplot": "mapbox",
         "type": "scattermapbox"
        },
        {
         "hovertemplate": "Name=Fort Schuyler<br>Latitude=%{lat}<br>Longitude=%{lon}<extra></extra>",
         "lat": [
          40.8056467
         ],
         "legendgroup": "Fort Schuyler",
         "lon": [
          -73.7931197
         ],
         "marker": {
          "color": "#FECB52"
         },
         "mode": "markers",
         "name": "Fort Schuyler",
         "showlegend": true,
         "subplot": "mapbox",
         "type": "scattermapbox"
        },
        {
         "hovertemplate": "Name=Calvary Cemetery<br>Latitude=%{lat}<br>Longitude=%{lon}<extra></extra>",
         "lat": [
          40.73338238
         ],
         "legendgroup": "Calvary Cemetery",
         "lon": [
          -73.93013732
         ],
         "marker": {
          "color": "#636efa"
         },
         "mode": "markers",
         "name": "Calvary Cemetery",
         "showlegend": true,
         "subplot": "mapbox",
         "type": "scattermapbox"
        },
        {
         "hovertemplate": "Name=New Calvary Cemetery<br>Latitude=%{lat}<br>Longitude=%{lon}<extra></extra>",
         "lat": [
          40.73707174
         ],
         "legendgroup": "New Calvary Cemetery",
         "lon": [
          -73.91314739
         ],
         "marker": {
          "color": "#EF553B"
         },
         "mode": "markers",
         "name": "New Calvary Cemetery",
         "showlegend": true,
         "subplot": "mapbox",
         "type": "scattermapbox"
        },
        {
         "hovertemplate": "Name=Mount Zion Cemetery<br>Latitude=%{lat}<br>Longitude=%{lon}<extra></extra>",
         "lat": [
          40.73205824
         ],
         "legendgroup": "Mount Zion Cemetery",
         "lon": [
          -73.90791234
         ],
         "marker": {
          "color": "#00cc96"
         },
         "mode": "markers",
         "name": "Mount Zion Cemetery",
         "showlegend": true,
         "subplot": "mapbox",
         "type": "scattermapbox"
        },
        {
         "hovertemplate": "Name=Jacob Riis Park<br>Latitude=%{lat}<br>Longitude=%{lon}<extra></extra>",
         "lat": [
          40.56788176
         ],
         "legendgroup": "Jacob Riis Park",
         "lon": [
          -73.87158393
         ],
         "marker": {
          "color": "#ab63fa"
         },
         "mode": "markers",
         "name": "Jacob Riis Park",
         "showlegend": true,
         "subplot": "mapbox",
         "type": "scattermapbox"
        },
        {
         "hovertemplate": "Name=Fort Tilden<br>Latitude=%{lat}<br>Longitude=%{lon}<extra></extra>",
         "lat": [
          40.56163026
         ],
         "legendgroup": "Fort Tilden",
         "lon": [
          -73.89490043
         ],
         "marker": {
          "color": "#FFA15A"
         },
         "mode": "markers",
         "name": "Fort Tilden",
         "showlegend": true,
         "subplot": "mapbox",
         "type": "scattermapbox"
        },
        {
         "hovertemplate": "Name=Liberty Island<br>Latitude=%{lat}<br>Longitude=%{lon}<extra></extra>",
         "lat": [
          40.69000021
         ],
         "legendgroup": "Liberty Island",
         "lon": [
          -74.04528227
         ],
         "marker": {
          "color": "#19d3f3"
         },
         "mode": "markers",
         "name": "Liberty Island",
         "showlegend": true,
         "subplot": "mapbox",
         "type": "scattermapbox"
        },
        {
         "hovertemplate": "Name=Ellis Island<br>Latitude=%{lat}<br>Longitude=%{lon}<extra></extra>",
         "lat": [
          40.69919477
         ],
         "legendgroup": "Ellis Island",
         "lon": [
          -74.04017359
         ],
         "marker": {
          "color": "#FF6692"
         },
         "mode": "markers",
         "name": "Ellis Island",
         "showlegend": true,
         "subplot": "mapbox",
         "type": "scattermapbox"
        },
        {
         "hovertemplate": "Name=Snug Harbor<br>Latitude=%{lat}<br>Longitude=%{lon}<extra></extra>",
         "lat": [
          40.64230187
         ],
         "legendgroup": "Snug Harbor",
         "lon": [
          -74.10316989
         ],
         "marker": {
          "color": "#B6E880"
         },
         "mode": "markers",
         "name": "Snug Harbor",
         "showlegend": true,
         "subplot": "mapbox",
         "type": "scattermapbox"
        },
        {
         "hovertemplate": "Name=Silver Lake Park<br>Latitude=%{lat}<br>Longitude=%{lon}<extra></extra>",
         "lat": [
          40.62728628
         ],
         "legendgroup": "Silver Lake Park",
         "lon": [
          -74.09460329999999
         ],
         "marker": {
          "color": "#FF97FF"
         },
         "mode": "markers",
         "name": "Silver Lake Park",
         "showlegend": true,
         "subplot": "mapbox",
         "type": "scattermapbox"
        },
        {
         "hovertemplate": "Name=Clove Lakes Park<br>Latitude=%{lat}<br>Longitude=%{lon}<extra></extra>",
         "lat": [
          40.61811022
         ],
         "legendgroup": "Clove Lakes Park",
         "lon": [
          -74.11069895
         ],
         "marker": {
          "color": "#FECB52"
         },
         "mode": "markers",
         "name": "Clove Lakes Park",
         "showlegend": true,
         "subplot": "mapbox",
         "type": "scattermapbox"
        },
        {
         "hovertemplate": "Name=Fort Wadsworth<br>Latitude=%{lat}<br>Longitude=%{lon}<extra></extra>",
         "lat": [
          40.60438473
         ],
         "legendgroup": "Fort Wadsworth",
         "lon": [
          -74.05881837
         ],
         "marker": {
          "color": "#636efa"
         },
         "mode": "markers",
         "name": "Fort Wadsworth",
         "showlegend": true,
         "subplot": "mapbox",
         "type": "scattermapbox"
        },
        {
         "hovertemplate": "Name=Miller Field<br>Latitude=%{lat}<br>Longitude=%{lon}<extra></extra>",
         "lat": [
          40.56802528
         ],
         "legendgroup": "Miller Field",
         "lon": [
          -74.09882950000001
         ],
         "marker": {
          "color": "#EF553B"
         },
         "mode": "markers",
         "name": "Miller Field",
         "showlegend": true,
         "subplot": "mapbox",
         "type": "scattermapbox"
        },
        {
         "hovertemplate": "Name=Great Kills Park<br>Latitude=%{lat}<br>Longitude=%{lon}<extra></extra>",
         "lat": [
          40.54844479
         ],
         "legendgroup": "Great Kills Park",
         "lon": [
          -74.12560544
         ],
         "marker": {
          "color": "#00cc96"
         },
         "mode": "markers",
         "name": "Great Kills Park",
         "showlegend": true,
         "subplot": "mapbox",
         "type": "scattermapbox"
        },
        {
         "hovertemplate": "Name=Moravian Cemetery<br>Latitude=%{lat}<br>Longitude=%{lon}<extra></extra>",
         "lat": [
          40.58271473
         ],
         "legendgroup": "Moravian Cemetery",
         "lon": [
          -74.11735759
         ],
         "marker": {
          "color": "#ab63fa"
         },
         "mode": "markers",
         "name": "Moravian Cemetery",
         "showlegend": true,
         "subplot": "mapbox",
         "type": "scattermapbox"
        },
        {
         "hovertemplate": "Name=LaTourette Park<br>Latitude=%{lat}<br>Longitude=%{lon}<extra></extra>",
         "lat": [
          40.58215534
         ],
         "legendgroup": "LaTourette Park",
         "lon": [
          -74.14250377
         ],
         "marker": {
          "color": "#FFA15A"
         },
         "mode": "markers",
         "name": "LaTourette Park",
         "showlegend": true,
         "subplot": "mapbox",
         "type": "scattermapbox"
        },
        {
         "hovertemplate": "Name=Willowbrook Park<br>Latitude=%{lat}<br>Longitude=%{lon}<extra></extra>",
         "lat": [
          40.60061999
         ],
         "legendgroup": "Willowbrook Park",
         "lon": [
          -74.15824653
         ],
         "marker": {
          "color": "#19d3f3"
         },
         "mode": "markers",
         "name": "Willowbrook Park",
         "showlegend": true,
         "subplot": "mapbox",
         "type": "scattermapbox"
        },
        {
         "hovertemplate": "Name=Blue Heron Park<br>Latitude=%{lat}<br>Longitude=%{lon}<extra></extra>",
         "lat": [
          40.53125317
         ],
         "legendgroup": "Blue Heron Park",
         "lon": [
          -74.17535438
         ],
         "marker": {
          "color": "#FF6692"
         },
         "mode": "markers",
         "name": "Blue Heron Park",
         "showlegend": true,
         "subplot": "mapbox",
         "type": "scattermapbox"
        },
        {
         "hovertemplate": "Name=Wolfe's Pond Park<br>Latitude=%{lat}<br>Longitude=%{lon}<extra></extra>",
         "lat": [
          40.52173963
         ],
         "legendgroup": "Wolfe's Pond Park",
         "lon": [
          -74.19242925
         ],
         "marker": {
          "color": "#B6E880"
         },
         "mode": "markers",
         "name": "Wolfe's Pond Park",
         "showlegend": true,
         "subplot": "mapbox",
         "type": "scattermapbox"
        },
        {
         "hovertemplate": "Name=Mount Loretto<br>Latitude=%{lat}<br>Longitude=%{lon}<extra></extra>",
         "lat": [
          40.50966469
         ],
         "legendgroup": "Mount Loretto",
         "lon": [
          -74.21806393
         ],
         "marker": {
          "color": "#FF97FF"
         },
         "mode": "markers",
         "name": "Mount Loretto",
         "showlegend": true,
         "subplot": "mapbox",
         "type": "scattermapbox"
        },
        {
         "hovertemplate": "Name=Conference House Park<br>Latitude=%{lat}<br>Longitude=%{lon}<extra></extra>",
         "lat": [
          40.49956589
         ],
         "legendgroup": "Conference House Park",
         "lon": [
          -74.24856464
         ],
         "marker": {
          "color": "#FECB52"
         },
         "mode": "markers",
         "name": "Conference House Park",
         "showlegend": true,
         "subplot": "mapbox",
         "type": "scattermapbox"
        },
        {
         "hovertemplate": "Name=South Shore Golf Course<br>Latitude=%{lat}<br>Longitude=%{lon}<extra></extra>",
         "lat": [
          40.5511835
         ],
         "legendgroup": "South Shore Golf Course",
         "lon": [
          -74.20503666
         ],
         "marker": {
          "color": "#636efa"
         },
         "mode": "markers",
         "name": "South Shore Golf Course",
         "showlegend": true,
         "subplot": "mapbox",
         "type": "scattermapbox"
        },
        {
         "hovertemplate": "Name=Fresh Kills<br>Latitude=%{lat}<br>Longitude=%{lon}<extra></extra>",
         "lat": [
          40.57405693
         ],
         "legendgroup": "Fresh Kills",
         "lon": [
          -74.19497651
         ],
         "marker": {
          "color": "#EF553B"
         },
         "mode": "markers",
         "name": "Fresh Kills",
         "showlegend": true,
         "subplot": "mapbox",
         "type": "scattermapbox"
        },
        {
         "hovertemplate": "Name=Plumb Beach<br>Latitude=%{lat}<br>Longitude=%{lon}<extra></extra>",
         "lat": [
          40.58319524
         ],
         "legendgroup": "Plumb Beach",
         "lon": [
          -73.91512178
         ],
         "marker": {
          "color": "#00cc96"
         },
         "mode": "markers",
         "name": "Plumb Beach",
         "showlegend": true,
         "subplot": "mapbox",
         "type": "scattermapbox"
        },
        {
         "hovertemplate": "Name=John F. Kennedy International Airport<br>Latitude=%{lat}<br>Longitude=%{lon}<extra></extra>",
         "lat": [
          40.64806756
         ],
         "legendgroup": "John F. Kennedy International Airport",
         "lon": [
          -73.78599901
         ],
         "marker": {
          "color": "#ab63fa"
         },
         "mode": "markers",
         "name": "John F. Kennedy International Airport",
         "showlegend": true,
         "subplot": "mapbox",
         "type": "scattermapbox"
        },
        {
         "hovertemplate": "Name=Jamaica Bay Wildlife Refuge<br>Latitude=%{lat}<br>Longitude=%{lon}<extra></extra>",
         "lat": [
          40.62287746
         ],
         "legendgroup": "Jamaica Bay Wildlife Refuge",
         "lon": [
          -73.82628899
         ],
         "marker": {
          "color": "#FFA15A"
         },
         "mode": "markers",
         "name": "Jamaica Bay Wildlife Refuge",
         "showlegend": true,
         "subplot": "mapbox",
         "type": "scattermapbox"
        },
        {
         "hovertemplate": "Name=Calvert Vaux<br>Latitude=%{lat}<br>Longitude=%{lon}<extra></extra>",
         "lat": [
          40.58507539
         ],
         "legendgroup": "Calvert Vaux",
         "lon": [
          -73.99369533
         ],
         "marker": {
          "color": "#19d3f3"
         },
         "mode": "markers",
         "name": "Calvert Vaux",
         "showlegend": true,
         "subplot": "mapbox",
         "type": "scattermapbox"
        },
        {
         "hovertemplate": "Name=High Rock Park<br>Latitude=%{lat}<br>Longitude=%{lon}<extra></extra>",
         "lat": [
          40.59043473
         ],
         "legendgroup": "High Rock Park",
         "lon": [
          -74.11492037
         ],
         "marker": {
          "color": "#FF6692"
         },
         "mode": "markers",
         "name": "High Rock Park",
         "showlegend": true,
         "subplot": "mapbox",
         "type": "scattermapbox"
        },
        {
         "hovertemplate": "Name=Red Hook Park<br>Latitude=%{lat}<br>Longitude=%{lon}<extra></extra>",
         "lat": [
          40.67204727
         ],
         "legendgroup": "Red Hook Park",
         "lon": [
          -74.00555273
         ],
         "marker": {
          "color": "#B6E880"
         },
         "mode": "markers",
         "name": "Red Hook Park",
         "showlegend": true,
         "subplot": "mapbox",
         "type": "scattermapbox"
        },
        {
         "hovertemplate": "Name=Saint Michael's Cemetery<br>Latitude=%{lat}<br>Longitude=%{lon}<extra></extra>",
         "lat": [
          40.76444876
         ],
         "legendgroup": "Saint Michael's Cemetery",
         "lon": [
          -73.89847195
         ],
         "marker": {
          "color": "#FF97FF"
         },
         "mode": "markers",
         "name": "Saint Michael's Cemetery",
         "showlegend": true,
         "subplot": "mapbox",
         "type": "scattermapbox"
        },
        {
         "hovertemplate": "Name=Riverdale Park<br>Latitude=%{lat}<br>Longitude=%{lon}<extra></extra>",
         "lat": [
          40.89230557
         ],
         "legendgroup": "Riverdale Park",
         "lon": [
          -73.91682911
         ],
         "marker": {
          "color": "#FECB52"
         },
         "mode": "markers",
         "name": "Riverdale Park",
         "showlegend": true,
         "subplot": "mapbox",
         "type": "scattermapbox"
        },
        {
         "hovertemplate": "Name=Spring Creek Park Preserve No Access<br>Latitude=%{lat}<br>Longitude=%{lon}<extra></extra>",
         "lat": [
          40.64582807
         ],
         "legendgroup": "Spring Creek Park Preserve No Access",
         "lon": [
          -73.86501942
         ],
         "marker": {
          "color": "#636efa"
         },
         "mode": "markers",
         "name": "Spring Creek Park Preserve No Access",
         "showlegend": true,
         "subplot": "mapbox",
         "type": "scattermapbox"
        },
        {
         "hovertemplate": "Name=Spring Creek Park Gateway National Recreation Area<br>Latitude=%{lat}<br>Longitude=%{lon}<extra></extra>",
         "lat": [
          40.646316
         ],
         "legendgroup": "Spring Creek Park Gateway National Recreation Area",
         "lon": [
          -73.84421119
         ],
         "marker": {
          "color": "#EF553B"
         },
         "mode": "markers",
         "name": "Spring Creek Park Gateway National Recreation Area",
         "showlegend": true,
         "subplot": "mapbox",
         "type": "scattermapbox"
        }
       ],
       "layout": {
        "legend": {
         "title": {
          "text": "Name"
         },
         "tracegroupgap": 0
        },
        "mapbox": {
         "center": {
          "lat": 40.70281489793479,
          "lon": -73.93761442239129
         },
         "domain": {
          "x": [
           0,
           1
          ],
          "y": [
           0,
           1
          ]
         },
         "zoom": 8
        },
        "margin": {
         "t": 60
        },
        "template": {
         "data": {
          "bar": [
           {
            "error_x": {
             "color": "#2a3f5f"
            },
            "error_y": {
             "color": "#2a3f5f"
            },
            "marker": {
             "line": {
              "color": "#E5ECF6",
              "width": 0.5
             }
            },
            "type": "bar"
           }
          ],
          "barpolar": [
           {
            "marker": {
             "line": {
              "color": "#E5ECF6",
              "width": 0.5
             }
            },
            "type": "barpolar"
           }
          ],
          "carpet": [
           {
            "aaxis": {
             "endlinecolor": "#2a3f5f",
             "gridcolor": "white",
             "linecolor": "white",
             "minorgridcolor": "white",
             "startlinecolor": "#2a3f5f"
            },
            "baxis": {
             "endlinecolor": "#2a3f5f",
             "gridcolor": "white",
             "linecolor": "white",
             "minorgridcolor": "white",
             "startlinecolor": "#2a3f5f"
            },
            "type": "carpet"
           }
          ],
          "choropleth": [
           {
            "colorbar": {
             "outlinewidth": 0,
             "ticks": ""
            },
            "type": "choropleth"
           }
          ],
          "contour": [
           {
            "colorbar": {
             "outlinewidth": 0,
             "ticks": ""
            },
            "colorscale": [
             [
              0,
              "#0d0887"
             ],
             [
              0.1111111111111111,
              "#46039f"
             ],
             [
              0.2222222222222222,
              "#7201a8"
             ],
             [
              0.3333333333333333,
              "#9c179e"
             ],
             [
              0.4444444444444444,
              "#bd3786"
             ],
             [
              0.5555555555555556,
              "#d8576b"
             ],
             [
              0.6666666666666666,
              "#ed7953"
             ],
             [
              0.7777777777777778,
              "#fb9f3a"
             ],
             [
              0.8888888888888888,
              "#fdca26"
             ],
             [
              1,
              "#f0f921"
             ]
            ],
            "type": "contour"
           }
          ],
          "contourcarpet": [
           {
            "colorbar": {
             "outlinewidth": 0,
             "ticks": ""
            },
            "type": "contourcarpet"
           }
          ],
          "heatmap": [
           {
            "colorbar": {
             "outlinewidth": 0,
             "ticks": ""
            },
            "colorscale": [
             [
              0,
              "#0d0887"
             ],
             [
              0.1111111111111111,
              "#46039f"
             ],
             [
              0.2222222222222222,
              "#7201a8"
             ],
             [
              0.3333333333333333,
              "#9c179e"
             ],
             [
              0.4444444444444444,
              "#bd3786"
             ],
             [
              0.5555555555555556,
              "#d8576b"
             ],
             [
              0.6666666666666666,
              "#ed7953"
             ],
             [
              0.7777777777777778,
              "#fb9f3a"
             ],
             [
              0.8888888888888888,
              "#fdca26"
             ],
             [
              1,
              "#f0f921"
             ]
            ],
            "type": "heatmap"
           }
          ],
          "heatmapgl": [
           {
            "colorbar": {
             "outlinewidth": 0,
             "ticks": ""
            },
            "colorscale": [
             [
              0,
              "#0d0887"
             ],
             [
              0.1111111111111111,
              "#46039f"
             ],
             [
              0.2222222222222222,
              "#7201a8"
             ],
             [
              0.3333333333333333,
              "#9c179e"
             ],
             [
              0.4444444444444444,
              "#bd3786"
             ],
             [
              0.5555555555555556,
              "#d8576b"
             ],
             [
              0.6666666666666666,
              "#ed7953"
             ],
             [
              0.7777777777777778,
              "#fb9f3a"
             ],
             [
              0.8888888888888888,
              "#fdca26"
             ],
             [
              1,
              "#f0f921"
             ]
            ],
            "type": "heatmapgl"
           }
          ],
          "histogram": [
           {
            "marker": {
             "colorbar": {
              "outlinewidth": 0,
              "ticks": ""
             }
            },
            "type": "histogram"
           }
          ],
          "histogram2d": [
           {
            "colorbar": {
             "outlinewidth": 0,
             "ticks": ""
            },
            "colorscale": [
             [
              0,
              "#0d0887"
             ],
             [
              0.1111111111111111,
              "#46039f"
             ],
             [
              0.2222222222222222,
              "#7201a8"
             ],
             [
              0.3333333333333333,
              "#9c179e"
             ],
             [
              0.4444444444444444,
              "#bd3786"
             ],
             [
              0.5555555555555556,
              "#d8576b"
             ],
             [
              0.6666666666666666,
              "#ed7953"
             ],
             [
              0.7777777777777778,
              "#fb9f3a"
             ],
             [
              0.8888888888888888,
              "#fdca26"
             ],
             [
              1,
              "#f0f921"
             ]
            ],
            "type": "histogram2d"
           }
          ],
          "histogram2dcontour": [
           {
            "colorbar": {
             "outlinewidth": 0,
             "ticks": ""
            },
            "colorscale": [
             [
              0,
              "#0d0887"
             ],
             [
              0.1111111111111111,
              "#46039f"
             ],
             [
              0.2222222222222222,
              "#7201a8"
             ],
             [
              0.3333333333333333,
              "#9c179e"
             ],
             [
              0.4444444444444444,
              "#bd3786"
             ],
             [
              0.5555555555555556,
              "#d8576b"
             ],
             [
              0.6666666666666666,
              "#ed7953"
             ],
             [
              0.7777777777777778,
              "#fb9f3a"
             ],
             [
              0.8888888888888888,
              "#fdca26"
             ],
             [
              1,
              "#f0f921"
             ]
            ],
            "type": "histogram2dcontour"
           }
          ],
          "mesh3d": [
           {
            "colorbar": {
             "outlinewidth": 0,
             "ticks": ""
            },
            "type": "mesh3d"
           }
          ],
          "parcoords": [
           {
            "line": {
             "colorbar": {
              "outlinewidth": 0,
              "ticks": ""
             }
            },
            "type": "parcoords"
           }
          ],
          "pie": [
           {
            "automargin": true,
            "type": "pie"
           }
          ],
          "scatter": [
           {
            "marker": {
             "colorbar": {
              "outlinewidth": 0,
              "ticks": ""
             }
            },
            "type": "scatter"
           }
          ],
          "scatter3d": [
           {
            "line": {
             "colorbar": {
              "outlinewidth": 0,
              "ticks": ""
             }
            },
            "marker": {
             "colorbar": {
              "outlinewidth": 0,
              "ticks": ""
             }
            },
            "type": "scatter3d"
           }
          ],
          "scattercarpet": [
           {
            "marker": {
             "colorbar": {
              "outlinewidth": 0,
              "ticks": ""
             }
            },
            "type": "scattercarpet"
           }
          ],
          "scattergeo": [
           {
            "marker": {
             "colorbar": {
              "outlinewidth": 0,
              "ticks": ""
             }
            },
            "type": "scattergeo"
           }
          ],
          "scattergl": [
           {
            "marker": {
             "colorbar": {
              "outlinewidth": 0,
              "ticks": ""
             }
            },
            "type": "scattergl"
           }
          ],
          "scattermapbox": [
           {
            "marker": {
             "colorbar": {
              "outlinewidth": 0,
              "ticks": ""
             }
            },
            "type": "scattermapbox"
           }
          ],
          "scatterpolar": [
           {
            "marker": {
             "colorbar": {
              "outlinewidth": 0,
              "ticks": ""
             }
            },
            "type": "scatterpolar"
           }
          ],
          "scatterpolargl": [
           {
            "marker": {
             "colorbar": {
              "outlinewidth": 0,
              "ticks": ""
             }
            },
            "type": "scatterpolargl"
           }
          ],
          "scatterternary": [
           {
            "marker": {
             "colorbar": {
              "outlinewidth": 0,
              "ticks": ""
             }
            },
            "type": "scatterternary"
           }
          ],
          "surface": [
           {
            "colorbar": {
             "outlinewidth": 0,
             "ticks": ""
            },
            "colorscale": [
             [
              0,
              "#0d0887"
             ],
             [
              0.1111111111111111,
              "#46039f"
             ],
             [
              0.2222222222222222,
              "#7201a8"
             ],
             [
              0.3333333333333333,
              "#9c179e"
             ],
             [
              0.4444444444444444,
              "#bd3786"
             ],
             [
              0.5555555555555556,
              "#d8576b"
             ],
             [
              0.6666666666666666,
              "#ed7953"
             ],
             [
              0.7777777777777778,
              "#fb9f3a"
             ],
             [
              0.8888888888888888,
              "#fdca26"
             ],
             [
              1,
              "#f0f921"
             ]
            ],
            "type": "surface"
           }
          ],
          "table": [
           {
            "cells": {
             "fill": {
              "color": "#EBF0F8"
             },
             "line": {
              "color": "white"
             }
            },
            "header": {
             "fill": {
              "color": "#C8D4E3"
             },
             "line": {
              "color": "white"
             }
            },
            "type": "table"
           }
          ]
         },
         "layout": {
          "annotationdefaults": {
           "arrowcolor": "#2a3f5f",
           "arrowhead": 0,
           "arrowwidth": 1
          },
          "autotypenumbers": "strict",
          "coloraxis": {
           "colorbar": {
            "outlinewidth": 0,
            "ticks": ""
           }
          },
          "colorscale": {
           "diverging": [
            [
             0,
             "#8e0152"
            ],
            [
             0.1,
             "#c51b7d"
            ],
            [
             0.2,
             "#de77ae"
            ],
            [
             0.3,
             "#f1b6da"
            ],
            [
             0.4,
             "#fde0ef"
            ],
            [
             0.5,
             "#f7f7f7"
            ],
            [
             0.6,
             "#e6f5d0"
            ],
            [
             0.7,
             "#b8e186"
            ],
            [
             0.8,
             "#7fbc41"
            ],
            [
             0.9,
             "#4d9221"
            ],
            [
             1,
             "#276419"
            ]
           ],
           "sequential": [
            [
             0,
             "#0d0887"
            ],
            [
             0.1111111111111111,
             "#46039f"
            ],
            [
             0.2222222222222222,
             "#7201a8"
            ],
            [
             0.3333333333333333,
             "#9c179e"
            ],
            [
             0.4444444444444444,
             "#bd3786"
            ],
            [
             0.5555555555555556,
             "#d8576b"
            ],
            [
             0.6666666666666666,
             "#ed7953"
            ],
            [
             0.7777777777777778,
             "#fb9f3a"
            ],
            [
             0.8888888888888888,
             "#fdca26"
            ],
            [
             1,
             "#f0f921"
            ]
           ],
           "sequentialminus": [
            [
             0,
             "#0d0887"
            ],
            [
             0.1111111111111111,
             "#46039f"
            ],
            [
             0.2222222222222222,
             "#7201a8"
            ],
            [
             0.3333333333333333,
             "#9c179e"
            ],
            [
             0.4444444444444444,
             "#bd3786"
            ],
            [
             0.5555555555555556,
             "#d8576b"
            ],
            [
             0.6666666666666666,
             "#ed7953"
            ],
            [
             0.7777777777777778,
             "#fb9f3a"
            ],
            [
             0.8888888888888888,
             "#fdca26"
            ],
            [
             1,
             "#f0f921"
            ]
           ]
          },
          "colorway": [
           "#636efa",
           "#EF553B",
           "#00cc96",
           "#ab63fa",
           "#FFA15A",
           "#19d3f3",
           "#FF6692",
           "#B6E880",
           "#FF97FF",
           "#FECB52"
          ],
          "font": {
           "color": "#2a3f5f"
          },
          "geo": {
           "bgcolor": "white",
           "lakecolor": "white",
           "landcolor": "#E5ECF6",
           "showlakes": true,
           "showland": true,
           "subunitcolor": "white"
          },
          "hoverlabel": {
           "align": "left"
          },
          "hovermode": "closest",
          "mapbox": {
           "style": "light"
          },
          "paper_bgcolor": "white",
          "plot_bgcolor": "#E5ECF6",
          "polar": {
           "angularaxis": {
            "gridcolor": "white",
            "linecolor": "white",
            "ticks": ""
           },
           "bgcolor": "#E5ECF6",
           "radialaxis": {
            "gridcolor": "white",
            "linecolor": "white",
            "ticks": ""
           }
          },
          "scene": {
           "xaxis": {
            "backgroundcolor": "#E5ECF6",
            "gridcolor": "white",
            "gridwidth": 2,
            "linecolor": "white",
            "showbackground": true,
            "ticks": "",
            "zerolinecolor": "white"
           },
           "yaxis": {
            "backgroundcolor": "#E5ECF6",
            "gridcolor": "white",
            "gridwidth": 2,
            "linecolor": "white",
            "showbackground": true,
            "ticks": "",
            "zerolinecolor": "white"
           },
           "zaxis": {
            "backgroundcolor": "#E5ECF6",
            "gridcolor": "white",
            "gridwidth": 2,
            "linecolor": "white",
            "showbackground": true,
            "ticks": "",
            "zerolinecolor": "white"
           }
          },
          "shapedefaults": {
           "line": {
            "color": "#2a3f5f"
           }
          },
          "ternary": {
           "aaxis": {
            "gridcolor": "white",
            "linecolor": "white",
            "ticks": ""
           },
           "baxis": {
            "gridcolor": "white",
            "linecolor": "white",
            "ticks": ""
           },
           "bgcolor": "#E5ECF6",
           "caxis": {
            "gridcolor": "white",
            "linecolor": "white",
            "ticks": ""
           }
          },
          "title": {
           "x": 0.05
          },
          "xaxis": {
           "automargin": true,
           "gridcolor": "white",
           "linecolor": "white",
           "ticks": "",
           "title": {
            "standoff": 15
           },
           "zerolinecolor": "white",
           "zerolinewidth": 2
          },
          "yaxis": {
           "automargin": true,
           "gridcolor": "white",
           "linecolor": "white",
           "ticks": "",
           "title": {
            "standoff": 15
           },
           "zerolinecolor": "white",
           "zerolinewidth": 2
          }
         }
        }
       }
      }
     },
     "metadata": {}
    }
   ],
   "source": [
    "map_1 = px.scatter_mapbox(\n",
    "    places_of_interest,\n",
    "    lat=\"Latitude\",\n",
    "    lon=\"Longitude\",\n",
    "    color=\"Name\"\n",
    ")\n",
    "map_1.show()"
   ]
  },
  {
   "cell_type": "code",
   "execution_count": 72,
   "metadata": {},
   "outputs": [
    {
     "output_type": "display_data",
     "data": {
      "application/vnd.plotly.v1+json": {
       "config": {
        "plotlyServerURL": "https://plot.ly"
       },
       "data": [
        {
         "hovertemplate": "Name=Van Cortlandt Park<br>Latitude=%{lat}<br>Longitude=%{lon}<extra></extra>",
         "lat": [
          40.89620987
         ],
         "legendgroup": "Van Cortlandt Park",
         "lon": [
          -73.88895812
         ],
         "marker": {
          "color": "#636efa"
         },
         "mode": "markers",
         "name": "Van Cortlandt Park",
         "showlegend": true,
         "subplot": "mapbox",
         "type": "scattermapbox"
        },
        {
         "hovertemplate": "Name=Woodlawn Cemetery<br>Latitude=%{lat}<br>Longitude=%{lon}<extra></extra>",
         "lat": [
          40.88987947
         ],
         "legendgroup": "Woodlawn Cemetery",
         "lon": [
          -73.87165103
         ],
         "marker": {
          "color": "#EF553B"
         },
         "mode": "markers",
         "name": "Woodlawn Cemetery",
         "showlegend": true,
         "subplot": "mapbox",
         "type": "scattermapbox"
        },
        {
         "hovertemplate": "Name=Seton Falls Park<br>Latitude=%{lat}<br>Longitude=%{lon}<extra></extra>",
         "lat": [
          40.88696522
         ],
         "legendgroup": "Seton Falls Park",
         "lon": [
          -73.83864189
         ],
         "marker": {
          "color": "#00cc96"
         },
         "mode": "markers",
         "name": "Seton Falls Park",
         "showlegend": true,
         "subplot": "mapbox",
         "type": "scattermapbox"
        },
        {
         "hovertemplate": "Name=Pelham Bay Park<br>Latitude=%{lat}<br>Longitude=%{lon}<extra></extra>",
         "lat": [
          40.87798555
         ],
         "legendgroup": "Pelham Bay Park",
         "lon": [
          -73.80980242
         ],
         "marker": {
          "color": "#ab63fa"
         },
         "mode": "markers",
         "name": "Pelham Bay Park",
         "showlegend": true,
         "subplot": "mapbox",
         "type": "scattermapbox"
        },
        {
         "hovertemplate": "Name=Botanical Garden<br>Latitude=%{lat}<br>Longitude=%{lon}<extra></extra>",
         "lat": [
          40.86442395
         ],
         "legendgroup": "Botanical Garden",
         "lon": [
          -73.87830776
         ],
         "marker": {
          "color": "#FFA15A"
         },
         "mode": "markers",
         "name": "Botanical Garden",
         "showlegend": true,
         "subplot": "mapbox",
         "type": "scattermapbox"
        },
        {
         "hovertemplate": "Name=Bronx Park<br>Latitude=%{lat}<br>Longitude=%{lon}<extra></extra>",
         "lat": [
          40.85552207
         ],
         "legendgroup": "Bronx Park",
         "lon": [
          -73.87626064
         ],
         "marker": {
          "color": "#19d3f3"
         },
         "mode": "markers",
         "name": "Bronx Park",
         "showlegend": true,
         "subplot": "mapbox",
         "type": "scattermapbox"
        },
        {
         "hovertemplate": "Name=Saint  Raymond's Cemetery<br>Latitude=%{lat}<br>Longitude=%{lon}<extra></extra>",
         "lat": [
          40.82330815
         ],
         "legendgroup": "Saint  Raymond's Cemetery",
         "lon": [
          -73.83530397
         ],
         "marker": {
          "color": "#FF6692"
         },
         "mode": "markers",
         "name": "Saint  Raymond's Cemetery",
         "showlegend": true,
         "subplot": "mapbox",
         "type": "scattermapbox"
        },
        {
         "hovertemplate": "Name=Ferry Point Park<br>Latitude=%{lat}<br>Longitude=%{lon}<extra></extra>",
         "lat": [
          40.81434338
         ],
         "legendgroup": "Ferry Point Park",
         "lon": [
          -73.83284640000001
         ],
         "marker": {
          "color": "#B6E880"
         },
         "mode": "markers",
         "name": "Ferry Point Park",
         "showlegend": true,
         "subplot": "mapbox",
         "type": "scattermapbox"
        },
        {
         "hovertemplate": "Name=Sound View Park<br>Latitude=%{lat}<br>Longitude=%{lon}<extra></extra>",
         "lat": [
          40.815444299999996
         ],
         "legendgroup": "Sound View Park",
         "lon": [
          -73.8721731
         ],
         "marker": {
          "color": "#FF97FF"
         },
         "mode": "markers",
         "name": "Sound View Park",
         "showlegend": true,
         "subplot": "mapbox",
         "type": "scattermapbox"
        },
        {
         "hovertemplate": "Name=Crotona Park<br>Latitude=%{lat}<br>Longitude=%{lon}<extra></extra>",
         "lat": [
          40.8384766
         ],
         "legendgroup": "Crotona Park",
         "lon": [
          -73.89422937
         ],
         "marker": {
          "color": "#FECB52"
         },
         "mode": "markers",
         "name": "Crotona Park",
         "showlegend": true,
         "subplot": "mapbox",
         "type": "scattermapbox"
        },
        {
         "hovertemplate": "Name=Zoo/Wildlife Conser. Park<br>Latitude=%{lat}<br>Longitude=%{lon}<extra></extra>",
         "lat": [
          40.84900595
         ],
         "legendgroup": "Zoo/Wildlife Conser. Park",
         "lon": [
          -73.87523757
         ],
         "marker": {
          "color": "#636efa"
         },
         "mode": "markers",
         "name": "Zoo/Wildlife Conser. Park",
         "showlegend": true,
         "subplot": "mapbox",
         "type": "scattermapbox"
        },
        {
         "hovertemplate": "Name=Hart Island<br>Latitude=%{lat}<br>Longitude=%{lon}<extra></extra>",
         "lat": [
          40.85136497
         ],
         "legendgroup": "Hart Island",
         "lon": [
          -73.76975724
         ],
         "marker": {
          "color": "#EF553B"
         },
         "mode": "markers",
         "name": "Hart Island",
         "showlegend": true,
         "subplot": "mapbox",
         "type": "scattermapbox"
        },
        {
         "hovertemplate": "Name=Saint Mary's Park<br>Latitude=%{lat}<br>Longitude=%{lon}<extra></extra>",
         "lat": [
          40.81147588
         ],
         "legendgroup": "Saint Mary's Park",
         "lon": [
          -73.91175820000001
         ],
         "marker": {
          "color": "#00cc96"
         },
         "mode": "markers",
         "name": "Saint Mary's Park",
         "showlegend": true,
         "subplot": "mapbox",
         "type": "scattermapbox"
        },
        {
         "hovertemplate": "Name=Inwood Hill Park<br>Latitude=%{lat}<br>Longitude=%{lon}<extra></extra>",
         "lat": [
          40.87219333
         ],
         "legendgroup": "Inwood Hill Park",
         "lon": [
          -73.92618083
         ],
         "marker": {
          "color": "#ab63fa"
         },
         "mode": "markers",
         "name": "Inwood Hill Park",
         "showlegend": true,
         "subplot": "mapbox",
         "type": "scattermapbox"
        },
        {
         "hovertemplate": "Name=Fort Tryon Park<br>Latitude=%{lat}<br>Longitude=%{lon}<extra></extra>",
         "lat": [
          40.86299077
         ],
         "legendgroup": "Fort Tryon Park",
         "lon": [
          -73.93190269
         ],
         "marker": {
          "color": "#FFA15A"
         },
         "mode": "markers",
         "name": "Fort Tryon Park",
         "showlegend": true,
         "subplot": "mapbox",
         "type": "scattermapbox"
        },
        {
         "hovertemplate": "Name=Rikers Island<br>Latitude=%{lat}<br>Longitude=%{lon}<extra></extra>",
         "lat": [
          40.79198053
         ],
         "legendgroup": "Rikers Island",
         "lon": [
          -73.88276248
         ],
         "marker": {
          "color": "#19d3f3"
         },
         "mode": "markers",
         "name": "Rikers Island",
         "showlegend": true,
         "subplot": "mapbox",
         "type": "scattermapbox"
        },
        {
         "hovertemplate": "Name=Marcus Garvey Park<br>Latitude=%{lat}<br>Longitude=%{lon}<extra></extra>",
         "lat": [
          40.80345957
         ],
         "legendgroup": "Marcus Garvey Park",
         "lon": [
          -73.94268046
         ],
         "marker": {
          "color": "#FF6692"
         },
         "mode": "markers",
         "name": "Marcus Garvey Park",
         "showlegend": true,
         "subplot": "mapbox",
         "type": "scattermapbox"
        },
        {
         "hovertemplate": "Name=Randall's Island Park<br>Latitude=%{lat}<br>Longitude=%{lon}<extra></extra>",
         "lat": [
          40.79591467
         ],
         "legendgroup": "Randall's Island Park",
         "lon": [
          -73.92169947
         ],
         "marker": {
          "color": "#B6E880"
         },
         "mode": "markers",
         "name": "Randall's Island Park",
         "showlegend": true,
         "subplot": "mapbox",
         "type": "scattermapbox"
        },
        {
         "hovertemplate": "Name=Ward's Island Park<br>Latitude=%{lat}<br>Longitude=%{lon}<extra></extra>",
         "lat": [
          40.78428432
         ],
         "legendgroup": "Ward's Island Park",
         "lon": [
          -73.92997389
         ],
         "marker": {
          "color": "#FF97FF"
         },
         "mode": "markers",
         "name": "Ward's Island Park",
         "showlegend": true,
         "subplot": "mapbox",
         "type": "scattermapbox"
        },
        {
         "hovertemplate": "Name=Central Park<br>Latitude=%{lat}<br>Longitude=%{lon}<extra></extra>",
         "lat": [
          40.78288158
         ],
         "legendgroup": "Central Park",
         "lon": [
          -73.96565599
         ],
         "marker": {
          "color": "#FECB52"
         },
         "mode": "markers",
         "name": "Central Park",
         "showlegend": true,
         "subplot": "mapbox",
         "type": "scattermapbox"
        },
        {
         "hovertemplate": "Name=Columbus Circle<br>Latitude=%{lat}<br>Longitude=%{lon}<extra></extra>",
         "lat": [
          40.76806053
         ],
         "legendgroup": "Columbus Circle",
         "lon": [
          -73.98190208
         ],
         "marker": {
          "color": "#636efa"
         },
         "mode": "markers",
         "name": "Columbus Circle",
         "showlegend": true,
         "subplot": "mapbox",
         "type": "scattermapbox"
        },
        {
         "hovertemplate": "Name=Times Square<br>Latitude=%{lat}<br>Longitude=%{lon}<extra></extra>",
         "lat": [
          40.758021299999996
         ],
         "legendgroup": "Times Square",
         "lon": [
          -73.98179379
         ],
         "marker": {
          "color": "#EF553B"
         },
         "mode": "markers",
         "name": "Times Square",
         "showlegend": true,
         "subplot": "mapbox",
         "type": "scattermapbox"
        },
        {
         "hovertemplate": "Name=Madison Square<br>Latitude=%{lat}<br>Longitude=%{lon}<extra></extra>",
         "lat": [
          40.7421814
         ],
         "legendgroup": "Madison Square",
         "lon": [
          -73.98806663
         ],
         "marker": {
          "color": "#00cc96"
         },
         "mode": "markers",
         "name": "Madison Square",
         "showlegend": true,
         "subplot": "mapbox",
         "type": "scattermapbox"
        },
        {
         "hovertemplate": "Name=Union Square<br>Latitude=%{lat}<br>Longitude=%{lon}<extra></extra>",
         "lat": [
          40.73595972
         ],
         "legendgroup": "Union Square",
         "lon": [
          -73.9903801
         ],
         "marker": {
          "color": "#ab63fa"
         },
         "mode": "markers",
         "name": "Union Square",
         "showlegend": true,
         "subplot": "mapbox",
         "type": "scattermapbox"
        },
        {
         "hovertemplate": "Name=Governors Island<br>Latitude=%{lat}<br>Longitude=%{lon}<extra></extra>",
         "lat": [
          40.68941551
         ],
         "legendgroup": "Governors Island",
         "lon": [
          -74.01838919
         ],
         "marker": {
          "color": "#FFA15A"
         },
         "mode": "markers",
         "name": "Governors Island",
         "showlegend": true,
         "subplot": "mapbox",
         "type": "scattermapbox"
        },
        {
         "hovertemplate": "Name=McCarren Park<br>Latitude=%{lat}<br>Longitude=%{lon}<extra></extra>",
         "lat": [
          40.720899700000004
         ],
         "legendgroup": "McCarren Park",
         "lon": [
          -73.95198134
         ],
         "marker": {
          "color": "#19d3f3"
         },
         "mode": "markers",
         "name": "McCarren Park",
         "showlegend": true,
         "subplot": "mapbox",
         "type": "scattermapbox"
        },
        {
         "hovertemplate": "Name=Astoria Park<br>Latitude=%{lat}<br>Longitude=%{lon}<extra></extra>",
         "lat": [
          40.77679234
         ],
         "legendgroup": "Astoria Park",
         "lon": [
          -73.92426901
         ],
         "marker": {
          "color": "#FF6692"
         },
         "mode": "markers",
         "name": "Astoria Park",
         "showlegend": true,
         "subplot": "mapbox",
         "type": "scattermapbox"
        },
        {
         "hovertemplate": "Name=Botanic Garden<br>Latitude=%{lat}<br>Longitude=%{lon}<extra></extra>",
         "lat": [
          40.66993701
         ],
         "legendgroup": "Botanic Garden",
         "lon": [
          -73.96612486
         ],
         "marker": {
          "color": "#B6E880"
         },
         "mode": "markers",
         "name": "Botanic Garden",
         "showlegend": true,
         "subplot": "mapbox",
         "type": "scattermapbox"
        },
        {
         "hovertemplate": "Name=Prospect Park<br>Latitude=%{lat}<br>Longitude=%{lon}<extra></extra>",
         "lat": [
          40.66125082
         ],
         "legendgroup": "Prospect Park",
         "lon": [
          -73.96908664
         ],
         "marker": {
          "color": "#FF97FF"
         },
         "mode": "markers",
         "name": "Prospect Park",
         "showlegend": true,
         "subplot": "mapbox",
         "type": "scattermapbox"
        },
        {
         "hovertemplate": "Name=Greenwood Cemetery<br>Latitude=%{lat}<br>Longitude=%{lon}<extra></extra>",
         "lat": [
          40.65204691
         ],
         "legendgroup": "Greenwood Cemetery",
         "lon": [
          -73.99044122
         ],
         "marker": {
          "color": "#FECB52"
         },
         "mode": "markers",
         "name": "Greenwood Cemetery",
         "showlegend": true,
         "subplot": "mapbox",
         "type": "scattermapbox"
        },
        {
         "hovertemplate": "Name=Holy Cross Cemetery<br>Latitude=%{lat}<br>Longitude=%{lon}<extra></extra>",
         "lat": [
          40.64686106
         ],
         "legendgroup": "Holy Cross Cemetery",
         "lon": [
          -73.93764826
         ],
         "marker": {
          "color": "#636efa"
         },
         "mode": "markers",
         "name": "Holy Cross Cemetery",
         "showlegend": true,
         "subplot": "mapbox",
         "type": "scattermapbox"
        },
        {
         "hovertemplate": "Name=Bush Terminal<br>Latitude=%{lat}<br>Longitude=%{lon}<extra></extra>",
         "lat": [
          40.65508508
         ],
         "legendgroup": "Bush Terminal",
         "lon": [
          -74.0185757
         ],
         "marker": {
          "color": "#EF553B"
         },
         "mode": "markers",
         "name": "Bush Terminal",
         "showlegend": true,
         "subplot": "mapbox",
         "type": "scattermapbox"
        },
        {
         "hovertemplate": "Name=Owls Head Park<br>Latitude=%{lat}<br>Longitude=%{lon}<extra></extra>",
         "lat": [
          40.63995895
         ],
         "legendgroup": "Owls Head Park",
         "lon": [
          -74.03230852
         ],
         "marker": {
          "color": "#00cc96"
         },
         "mode": "markers",
         "name": "Owls Head Park",
         "showlegend": true,
         "subplot": "mapbox",
         "type": "scattermapbox"
        },
        {
         "hovertemplate": "Name=Fort Hamilton<br>Latitude=%{lat}<br>Longitude=%{lon}<extra></extra>",
         "lat": [
          40.60738115
         ],
         "legendgroup": "Fort Hamilton",
         "lon": [
          -74.02879133
         ],
         "marker": {
          "color": "#ab63fa"
         },
         "mode": "markers",
         "name": "Fort Hamilton",
         "showlegend": true,
         "subplot": "mapbox",
         "type": "scattermapbox"
        },
        {
         "hovertemplate": "Name=Dyker Beach Park<br>Latitude=%{lat}<br>Longitude=%{lon}<extra></extra>",
         "lat": [
          40.61146403
         ],
         "legendgroup": "Dyker Beach Park",
         "lon": [
          -74.01956103
         ],
         "marker": {
          "color": "#FFA15A"
         },
         "mode": "markers",
         "name": "Dyker Beach Park",
         "showlegend": true,
         "subplot": "mapbox",
         "type": "scattermapbox"
        },
        {
         "hovertemplate": "Name=Washington Cemetery<br>Latitude=%{lat}<br>Longitude=%{lon}<extra></extra>",
         "lat": [
          40.62022207
         ],
         "legendgroup": "Washington Cemetery",
         "lon": [
          -73.97543204
         ],
         "marker": {
          "color": "#19d3f3"
         },
         "mode": "markers",
         "name": "Washington Cemetery",
         "showlegend": true,
         "subplot": "mapbox",
         "type": "scattermapbox"
        },
        {
         "hovertemplate": "Name=Marine Park<br>Latitude=%{lat}<br>Longitude=%{lon}<extra></extra>",
         "lat": [
          40.60336225
         ],
         "legendgroup": "Marine Park",
         "lon": [
          -73.92408613
         ],
         "marker": {
          "color": "#FF6692"
         },
         "mode": "markers",
         "name": "Marine Park",
         "showlegend": true,
         "subplot": "mapbox",
         "type": "scattermapbox"
        },
        {
         "hovertemplate": "Name=Floyd Bennett Field<br>Latitude=%{lat}<br>Longitude=%{lon}<extra></extra>",
         "lat": [
          40.59129948
         ],
         "legendgroup": "Floyd Bennett Field",
         "lon": [
          -73.89009561
         ],
         "marker": {
          "color": "#B6E880"
         },
         "mode": "markers",
         "name": "Floyd Bennett Field",
         "showlegend": true,
         "subplot": "mapbox",
         "type": "scattermapbox"
        },
        {
         "hovertemplate": "Name=Canarsie Beach Park<br>Latitude=%{lat}<br>Longitude=%{lon}<extra></extra>",
         "lat": [
          40.62548604
         ],
         "legendgroup": "Canarsie Beach Park",
         "lon": [
          -73.89810825
         ],
         "marker": {
          "color": "#FF97FF"
         },
         "mode": "markers",
         "name": "Canarsie Beach Park",
         "showlegend": true,
         "subplot": "mapbox",
         "type": "scattermapbox"
        },
        {
         "hovertemplate": "Name=Aqueduct Race Track<br>Latitude=%{lat}<br>Longitude=%{lon}<extra></extra>",
         "lat": [
          40.67219433
         ],
         "legendgroup": "Aqueduct Race Track",
         "lon": [
          -73.83062352
         ],
         "marker": {
          "color": "#FECB52"
         },
         "mode": "markers",
         "name": "Aqueduct Race Track",
         "showlegend": true,
         "subplot": "mapbox",
         "type": "scattermapbox"
        },
        {
         "hovertemplate": "Name=Bayside Cemetery<br>Latitude=%{lat}<br>Longitude=%{lon}<extra></extra>",
         "lat": [
          40.67728706
         ],
         "legendgroup": "Bayside Cemetery",
         "lon": [
          -73.85499266
         ],
         "marker": {
          "color": "#636efa"
         },
         "mode": "markers",
         "name": "Bayside Cemetery",
         "showlegend": true,
         "subplot": "mapbox",
         "type": "scattermapbox"
        },
        {
         "hovertemplate": "Name=Brookville Park<br>Latitude=%{lat}<br>Longitude=%{lon}<extra></extra>",
         "lat": [
          40.65190821
         ],
         "legendgroup": "Brookville Park",
         "lon": [
          -73.75238277
         ],
         "marker": {
          "color": "#EF553B"
         },
         "mode": "markers",
         "name": "Brookville Park",
         "showlegend": true,
         "subplot": "mapbox",
         "type": "scattermapbox"
        },
        {
         "hovertemplate": "Name=Baisley Pond Park<br>Latitude=%{lat}<br>Longitude=%{lon}<extra></extra>",
         "lat": [
          40.67324965
         ],
         "legendgroup": "Baisley Pond Park",
         "lon": [
          -73.78691601
         ],
         "marker": {
          "color": "#00cc96"
         },
         "mode": "markers",
         "name": "Baisley Pond Park",
         "showlegend": true,
         "subplot": "mapbox",
         "type": "scattermapbox"
        },
        {
         "hovertemplate": "Name=Roy Wilkins Park<br>Latitude=%{lat}<br>Longitude=%{lon}<extra></extra>",
         "lat": [
          40.68791059
         ],
         "legendgroup": "Roy Wilkins Park",
         "lon": [
          -73.77202425
         ],
         "marker": {
          "color": "#ab63fa"
         },
         "mode": "markers",
         "name": "Roy Wilkins Park",
         "showlegend": true,
         "subplot": "mapbox",
         "type": "scattermapbox"
        },
        {
         "hovertemplate": "Name=Cypress Hills Cemetery<br>Latitude=%{lat}<br>Longitude=%{lon}<extra></extra>",
         "lat": [
          40.69584153
         ],
         "legendgroup": "Cypress Hills Cemetery",
         "lon": [
          -73.87614172
         ],
         "marker": {
          "color": "#FFA15A"
         },
         "mode": "markers",
         "name": "Cypress Hills Cemetery",
         "showlegend": true,
         "subplot": "mapbox",
         "type": "scattermapbox"
        },
        {
         "hovertemplate": "Name=Saint  Johns Cemetery<br>Latitude=%{lat}<br>Longitude=%{lon}<extra></extra>",
         "lat": [
          40.71516417
         ],
         "legendgroup": "Saint  Johns Cemetery",
         "lon": [
          -73.86698585
         ],
         "marker": {
          "color": "#19d3f3"
         },
         "mode": "markers",
         "name": "Saint  Johns Cemetery",
         "showlegend": true,
         "subplot": "mapbox",
         "type": "scattermapbox"
        },
        {
         "hovertemplate": "Name=Linden Hill Cemetery<br>Latitude=%{lat}<br>Longitude=%{lon}<extra></extra>",
         "lat": [
          40.71048991
         ],
         "legendgroup": "Linden Hill Cemetery",
         "lon": [
          -73.91396904
         ],
         "marker": {
          "color": "#FF6692"
         },
         "mode": "markers",
         "name": "Linden Hill Cemetery",
         "showlegend": true,
         "subplot": "mapbox",
         "type": "scattermapbox"
        },
        {
         "hovertemplate": "Name=Mount Olivet Cemetery<br>Latitude=%{lat}<br>Longitude=%{lon}<extra></extra>",
         "lat": [
          40.72084097
         ],
         "legendgroup": "Mount Olivet Cemetery",
         "lon": [
          -73.89594771
         ],
         "marker": {
          "color": "#B6E880"
         },
         "mode": "markers",
         "name": "Mount Olivet Cemetery",
         "showlegend": true,
         "subplot": "mapbox",
         "type": "scattermapbox"
        },
        {
         "hovertemplate": "Name=Juniper Valley Park<br>Latitude=%{lat}<br>Longitude=%{lon}<extra></extra>",
         "lat": [
          40.72035303
         ],
         "legendgroup": "Juniper Valley Park",
         "lon": [
          -73.87963219
         ],
         "marker": {
          "color": "#FF97FF"
         },
         "mode": "markers",
         "name": "Juniper Valley Park",
         "showlegend": true,
         "subplot": "mapbox",
         "type": "scattermapbox"
        },
        {
         "hovertemplate": "Name=Lutheran Cemetery<br>Latitude=%{lat}<br>Longitude=%{lon}<extra></extra>",
         "lat": [
          40.71223625
         ],
         "legendgroup": "Lutheran Cemetery",
         "lon": [
          -73.88748458
         ],
         "marker": {
          "color": "#FECB52"
         },
         "mode": "markers",
         "name": "Lutheran Cemetery",
         "showlegend": true,
         "subplot": "mapbox",
         "type": "scattermapbox"
        },
        {
         "hovertemplate": "Name=Montefiore Cemetery<br>Latitude=%{lat}<br>Longitude=%{lon}<extra></extra>",
         "lat": [
          40.68584033
         ],
         "legendgroup": "Montefiore Cemetery",
         "lon": [
          -73.7417316
         ],
         "marker": {
          "color": "#636efa"
         },
         "mode": "markers",
         "name": "Montefiore Cemetery",
         "showlegend": true,
         "subplot": "mapbox",
         "type": "scattermapbox"
        },
        {
         "hovertemplate": "Name=Flushing Meadows Corona Park<br>Latitude=%{lat}<br>Longitude=%{lon}<extra></extra>",
         "lat": [
          40.73799908
         ],
         "legendgroup": "Flushing Meadows Corona Park",
         "lon": [
          -73.84141525
         ],
         "marker": {
          "color": "#EF553B"
         },
         "mode": "markers",
         "name": "Flushing Meadows Corona Park",
         "showlegend": true,
         "subplot": "mapbox",
         "type": "scattermapbox"
        },
        {
         "hovertemplate": "Name=Mount Hebron Cemetery<br>Latitude=%{lat}<br>Longitude=%{lon}<extra></extra>",
         "lat": [
          40.73409273
         ],
         "legendgroup": "Mount Hebron Cemetery",
         "lon": [
          -73.83033793
         ],
         "marker": {
          "color": "#00cc96"
         },
         "mode": "markers",
         "name": "Mount Hebron Cemetery",
         "showlegend": true,
         "subplot": "mapbox",
         "type": "scattermapbox"
        },
        {
         "hovertemplate": "Name=Cunningham Park<br>Latitude=%{lat}<br>Longitude=%{lon}<extra></extra>",
         "lat": [
          40.72903318
         ],
         "legendgroup": "Cunningham Park",
         "lon": [
          -73.76903038
         ],
         "marker": {
          "color": "#ab63fa"
         },
         "mode": "markers",
         "name": "Cunningham Park",
         "showlegend": true,
         "subplot": "mapbox",
         "type": "scattermapbox"
        },
        {
         "hovertemplate": "Name=Fort Totten<br>Latitude=%{lat}<br>Longitude=%{lon}<extra></extra>",
         "lat": [
          40.79253916
         ],
         "legendgroup": "Fort Totten",
         "lon": [
          -73.7770396
         ],
         "marker": {
          "color": "#FFA15A"
         },
         "mode": "markers",
         "name": "Fort Totten",
         "showlegend": true,
         "subplot": "mapbox",
         "type": "scattermapbox"
        },
        {
         "hovertemplate": "Name=Clearview Park<br>Latitude=%{lat}<br>Longitude=%{lon}<extra></extra>",
         "lat": [
          40.78258966
         ],
         "legendgroup": "Clearview Park",
         "lon": [
          -73.78886383
         ],
         "marker": {
          "color": "#19d3f3"
         },
         "mode": "markers",
         "name": "Clearview Park",
         "showlegend": true,
         "subplot": "mapbox",
         "type": "scattermapbox"
        },
        {
         "hovertemplate": "Name=Crocheron Park<br>Latitude=%{lat}<br>Longitude=%{lon}<extra></extra>",
         "lat": [
          40.77133495
         ],
         "legendgroup": "Crocheron Park",
         "lon": [
          -73.76899845
         ],
         "marker": {
          "color": "#FF6692"
         },
         "mode": "markers",
         "name": "Crocheron Park",
         "showlegend": true,
         "subplot": "mapbox",
         "type": "scattermapbox"
        },
        {
         "hovertemplate": "Name=Alley Pond Park<br>Latitude=%{lat}<br>Longitude=%{lon}<extra></extra>",
         "lat": [
          40.75365741
         ],
         "legendgroup": "Alley Pond Park",
         "lon": [
          -73.74427173
         ],
         "marker": {
          "color": "#B6E880"
         },
         "mode": "markers",
         "name": "Alley Pond Park",
         "showlegend": true,
         "subplot": "mapbox",
         "type": "scattermapbox"
        },
        {
         "hovertemplate": "Name=Douglaston Park<br>Latitude=%{lat}<br>Longitude=%{lon}<extra></extra>",
         "lat": [
          40.75164378
         ],
         "legendgroup": "Douglaston Park",
         "lon": [
          -73.73228698
         ],
         "marker": {
          "color": "#FF97FF"
         },
         "mode": "markers",
         "name": "Douglaston Park",
         "showlegend": true,
         "subplot": "mapbox",
         "type": "scattermapbox"
        },
        {
         "hovertemplate": "Name=Fort Schuyler<br>Latitude=%{lat}<br>Longitude=%{lon}<extra></extra>",
         "lat": [
          40.8056467
         ],
         "legendgroup": "Fort Schuyler",
         "lon": [
          -73.7931197
         ],
         "marker": {
          "color": "#FECB52"
         },
         "mode": "markers",
         "name": "Fort Schuyler",
         "showlegend": true,
         "subplot": "mapbox",
         "type": "scattermapbox"
        },
        {
         "hovertemplate": "Name=Calvary Cemetery<br>Latitude=%{lat}<br>Longitude=%{lon}<extra></extra>",
         "lat": [
          40.73338238
         ],
         "legendgroup": "Calvary Cemetery",
         "lon": [
          -73.93013732
         ],
         "marker": {
          "color": "#636efa"
         },
         "mode": "markers",
         "name": "Calvary Cemetery",
         "showlegend": true,
         "subplot": "mapbox",
         "type": "scattermapbox"
        },
        {
         "hovertemplate": "Name=New Calvary Cemetery<br>Latitude=%{lat}<br>Longitude=%{lon}<extra></extra>",
         "lat": [
          40.73707174
         ],
         "legendgroup": "New Calvary Cemetery",
         "lon": [
          -73.91314739
         ],
         "marker": {
          "color": "#EF553B"
         },
         "mode": "markers",
         "name": "New Calvary Cemetery",
         "showlegend": true,
         "subplot": "mapbox",
         "type": "scattermapbox"
        },
        {
         "hovertemplate": "Name=Mount Zion Cemetery<br>Latitude=%{lat}<br>Longitude=%{lon}<extra></extra>",
         "lat": [
          40.73205824
         ],
         "legendgroup": "Mount Zion Cemetery",
         "lon": [
          -73.90791234
         ],
         "marker": {
          "color": "#00cc96"
         },
         "mode": "markers",
         "name": "Mount Zion Cemetery",
         "showlegend": true,
         "subplot": "mapbox",
         "type": "scattermapbox"
        },
        {
         "hovertemplate": "Name=Jacob Riis Park<br>Latitude=%{lat}<br>Longitude=%{lon}<extra></extra>",
         "lat": [
          40.56788176
         ],
         "legendgroup": "Jacob Riis Park",
         "lon": [
          -73.87158393
         ],
         "marker": {
          "color": "#ab63fa"
         },
         "mode": "markers",
         "name": "Jacob Riis Park",
         "showlegend": true,
         "subplot": "mapbox",
         "type": "scattermapbox"
        },
        {
         "hovertemplate": "Name=Fort Tilden<br>Latitude=%{lat}<br>Longitude=%{lon}<extra></extra>",
         "lat": [
          40.56163026
         ],
         "legendgroup": "Fort Tilden",
         "lon": [
          -73.89490043
         ],
         "marker": {
          "color": "#FFA15A"
         },
         "mode": "markers",
         "name": "Fort Tilden",
         "showlegend": true,
         "subplot": "mapbox",
         "type": "scattermapbox"
        },
        {
         "hovertemplate": "Name=Liberty Island<br>Latitude=%{lat}<br>Longitude=%{lon}<extra></extra>",
         "lat": [
          40.69000021
         ],
         "legendgroup": "Liberty Island",
         "lon": [
          -74.04528227
         ],
         "marker": {
          "color": "#19d3f3"
         },
         "mode": "markers",
         "name": "Liberty Island",
         "showlegend": true,
         "subplot": "mapbox",
         "type": "scattermapbox"
        },
        {
         "hovertemplate": "Name=Ellis Island<br>Latitude=%{lat}<br>Longitude=%{lon}<extra></extra>",
         "lat": [
          40.69919477
         ],
         "legendgroup": "Ellis Island",
         "lon": [
          -74.04017359
         ],
         "marker": {
          "color": "#FF6692"
         },
         "mode": "markers",
         "name": "Ellis Island",
         "showlegend": true,
         "subplot": "mapbox",
         "type": "scattermapbox"
        },
        {
         "hovertemplate": "Name=Snug Harbor<br>Latitude=%{lat}<br>Longitude=%{lon}<extra></extra>",
         "lat": [
          40.64230187
         ],
         "legendgroup": "Snug Harbor",
         "lon": [
          -74.10316989
         ],
         "marker": {
          "color": "#B6E880"
         },
         "mode": "markers",
         "name": "Snug Harbor",
         "showlegend": true,
         "subplot": "mapbox",
         "type": "scattermapbox"
        },
        {
         "hovertemplate": "Name=Silver Lake Park<br>Latitude=%{lat}<br>Longitude=%{lon}<extra></extra>",
         "lat": [
          40.62728628
         ],
         "legendgroup": "Silver Lake Park",
         "lon": [
          -74.09460329999999
         ],
         "marker": {
          "color": "#FF97FF"
         },
         "mode": "markers",
         "name": "Silver Lake Park",
         "showlegend": true,
         "subplot": "mapbox",
         "type": "scattermapbox"
        },
        {
         "hovertemplate": "Name=Clove Lakes Park<br>Latitude=%{lat}<br>Longitude=%{lon}<extra></extra>",
         "lat": [
          40.61811022
         ],
         "legendgroup": "Clove Lakes Park",
         "lon": [
          -74.11069895
         ],
         "marker": {
          "color": "#FECB52"
         },
         "mode": "markers",
         "name": "Clove Lakes Park",
         "showlegend": true,
         "subplot": "mapbox",
         "type": "scattermapbox"
        },
        {
         "hovertemplate": "Name=Fort Wadsworth<br>Latitude=%{lat}<br>Longitude=%{lon}<extra></extra>",
         "lat": [
          40.60438473
         ],
         "legendgroup": "Fort Wadsworth",
         "lon": [
          -74.05881837
         ],
         "marker": {
          "color": "#636efa"
         },
         "mode": "markers",
         "name": "Fort Wadsworth",
         "showlegend": true,
         "subplot": "mapbox",
         "type": "scattermapbox"
        },
        {
         "hovertemplate": "Name=Miller Field<br>Latitude=%{lat}<br>Longitude=%{lon}<extra></extra>",
         "lat": [
          40.56802528
         ],
         "legendgroup": "Miller Field",
         "lon": [
          -74.09882950000001
         ],
         "marker": {
          "color": "#EF553B"
         },
         "mode": "markers",
         "name": "Miller Field",
         "showlegend": true,
         "subplot": "mapbox",
         "type": "scattermapbox"
        },
        {
         "hovertemplate": "Name=Great Kills Park<br>Latitude=%{lat}<br>Longitude=%{lon}<extra></extra>",
         "lat": [
          40.54844479
         ],
         "legendgroup": "Great Kills Park",
         "lon": [
          -74.12560544
         ],
         "marker": {
          "color": "#00cc96"
         },
         "mode": "markers",
         "name": "Great Kills Park",
         "showlegend": true,
         "subplot": "mapbox",
         "type": "scattermapbox"
        },
        {
         "hovertemplate": "Name=Moravian Cemetery<br>Latitude=%{lat}<br>Longitude=%{lon}<extra></extra>",
         "lat": [
          40.58271473
         ],
         "legendgroup": "Moravian Cemetery",
         "lon": [
          -74.11735759
         ],
         "marker": {
          "color": "#ab63fa"
         },
         "mode": "markers",
         "name": "Moravian Cemetery",
         "showlegend": true,
         "subplot": "mapbox",
         "type": "scattermapbox"
        },
        {
         "hovertemplate": "Name=LaTourette Park<br>Latitude=%{lat}<br>Longitude=%{lon}<extra></extra>",
         "lat": [
          40.58215534
         ],
         "legendgroup": "LaTourette Park",
         "lon": [
          -74.14250377
         ],
         "marker": {
          "color": "#FFA15A"
         },
         "mode": "markers",
         "name": "LaTourette Park",
         "showlegend": true,
         "subplot": "mapbox",
         "type": "scattermapbox"
        },
        {
         "hovertemplate": "Name=Willowbrook Park<br>Latitude=%{lat}<br>Longitude=%{lon}<extra></extra>",
         "lat": [
          40.60061999
         ],
         "legendgroup": "Willowbrook Park",
         "lon": [
          -74.15824653
         ],
         "marker": {
          "color": "#19d3f3"
         },
         "mode": "markers",
         "name": "Willowbrook Park",
         "showlegend": true,
         "subplot": "mapbox",
         "type": "scattermapbox"
        },
        {
         "hovertemplate": "Name=Blue Heron Park<br>Latitude=%{lat}<br>Longitude=%{lon}<extra></extra>",
         "lat": [
          40.53125317
         ],
         "legendgroup": "Blue Heron Park",
         "lon": [
          -74.17535438
         ],
         "marker": {
          "color": "#FF6692"
         },
         "mode": "markers",
         "name": "Blue Heron Park",
         "showlegend": true,
         "subplot": "mapbox",
         "type": "scattermapbox"
        },
        {
         "hovertemplate": "Name=Wolfe's Pond Park<br>Latitude=%{lat}<br>Longitude=%{lon}<extra></extra>",
         "lat": [
          40.52173963
         ],
         "legendgroup": "Wolfe's Pond Park",
         "lon": [
          -74.19242925
         ],
         "marker": {
          "color": "#B6E880"
         },
         "mode": "markers",
         "name": "Wolfe's Pond Park",
         "showlegend": true,
         "subplot": "mapbox",
         "type": "scattermapbox"
        },
        {
         "hovertemplate": "Name=Mount Loretto<br>Latitude=%{lat}<br>Longitude=%{lon}<extra></extra>",
         "lat": [
          40.50966469
         ],
         "legendgroup": "Mount Loretto",
         "lon": [
          -74.21806393
         ],
         "marker": {
          "color": "#FF97FF"
         },
         "mode": "markers",
         "name": "Mount Loretto",
         "showlegend": true,
         "subplot": "mapbox",
         "type": "scattermapbox"
        },
        {
         "hovertemplate": "Name=Conference House Park<br>Latitude=%{lat}<br>Longitude=%{lon}<extra></extra>",
         "lat": [
          40.49956589
         ],
         "legendgroup": "Conference House Park",
         "lon": [
          -74.24856464
         ],
         "marker": {
          "color": "#FECB52"
         },
         "mode": "markers",
         "name": "Conference House Park",
         "showlegend": true,
         "subplot": "mapbox",
         "type": "scattermapbox"
        },
        {
         "hovertemplate": "Name=South Shore Golf Course<br>Latitude=%{lat}<br>Longitude=%{lon}<extra></extra>",
         "lat": [
          40.5511835
         ],
         "legendgroup": "South Shore Golf Course",
         "lon": [
          -74.20503666
         ],
         "marker": {
          "color": "#636efa"
         },
         "mode": "markers",
         "name": "South Shore Golf Course",
         "showlegend": true,
         "subplot": "mapbox",
         "type": "scattermapbox"
        },
        {
         "hovertemplate": "Name=Fresh Kills<br>Latitude=%{lat}<br>Longitude=%{lon}<extra></extra>",
         "lat": [
          40.57405693
         ],
         "legendgroup": "Fresh Kills",
         "lon": [
          -74.19497651
         ],
         "marker": {
          "color": "#EF553B"
         },
         "mode": "markers",
         "name": "Fresh Kills",
         "showlegend": true,
         "subplot": "mapbox",
         "type": "scattermapbox"
        },
        {
         "hovertemplate": "Name=Plumb Beach<br>Latitude=%{lat}<br>Longitude=%{lon}<extra></extra>",
         "lat": [
          40.58319524
         ],
         "legendgroup": "Plumb Beach",
         "lon": [
          -73.91512178
         ],
         "marker": {
          "color": "#00cc96"
         },
         "mode": "markers",
         "name": "Plumb Beach",
         "showlegend": true,
         "subplot": "mapbox",
         "type": "scattermapbox"
        },
        {
         "hovertemplate": "Name=John F. Kennedy International Airport<br>Latitude=%{lat}<br>Longitude=%{lon}<extra></extra>",
         "lat": [
          40.64806756
         ],
         "legendgroup": "John F. Kennedy International Airport",
         "lon": [
          -73.78599901
         ],
         "marker": {
          "color": "#ab63fa"
         },
         "mode": "markers",
         "name": "John F. Kennedy International Airport",
         "showlegend": true,
         "subplot": "mapbox",
         "type": "scattermapbox"
        },
        {
         "hovertemplate": "Name=Jamaica Bay Wildlife Refuge<br>Latitude=%{lat}<br>Longitude=%{lon}<extra></extra>",
         "lat": [
          40.62287746
         ],
         "legendgroup": "Jamaica Bay Wildlife Refuge",
         "lon": [
          -73.82628899
         ],
         "marker": {
          "color": "#FFA15A"
         },
         "mode": "markers",
         "name": "Jamaica Bay Wildlife Refuge",
         "showlegend": true,
         "subplot": "mapbox",
         "type": "scattermapbox"
        },
        {
         "hovertemplate": "Name=Calvert Vaux<br>Latitude=%{lat}<br>Longitude=%{lon}<extra></extra>",
         "lat": [
          40.58507539
         ],
         "legendgroup": "Calvert Vaux",
         "lon": [
          -73.99369533
         ],
         "marker": {
          "color": "#19d3f3"
         },
         "mode": "markers",
         "name": "Calvert Vaux",
         "showlegend": true,
         "subplot": "mapbox",
         "type": "scattermapbox"
        },
        {
         "hovertemplate": "Name=High Rock Park<br>Latitude=%{lat}<br>Longitude=%{lon}<extra></extra>",
         "lat": [
          40.59043473
         ],
         "legendgroup": "High Rock Park",
         "lon": [
          -74.11492037
         ],
         "marker": {
          "color": "#FF6692"
         },
         "mode": "markers",
         "name": "High Rock Park",
         "showlegend": true,
         "subplot": "mapbox",
         "type": "scattermapbox"
        },
        {
         "hovertemplate": "Name=Red Hook Park<br>Latitude=%{lat}<br>Longitude=%{lon}<extra></extra>",
         "lat": [
          40.67204727
         ],
         "legendgroup": "Red Hook Park",
         "lon": [
          -74.00555273
         ],
         "marker": {
          "color": "#B6E880"
         },
         "mode": "markers",
         "name": "Red Hook Park",
         "showlegend": true,
         "subplot": "mapbox",
         "type": "scattermapbox"
        },
        {
         "hovertemplate": "Name=Saint Michael's Cemetery<br>Latitude=%{lat}<br>Longitude=%{lon}<extra></extra>",
         "lat": [
          40.76444876
         ],
         "legendgroup": "Saint Michael's Cemetery",
         "lon": [
          -73.89847195
         ],
         "marker": {
          "color": "#FF97FF"
         },
         "mode": "markers",
         "name": "Saint Michael's Cemetery",
         "showlegend": true,
         "subplot": "mapbox",
         "type": "scattermapbox"
        },
        {
         "hovertemplate": "Name=Riverdale Park<br>Latitude=%{lat}<br>Longitude=%{lon}<extra></extra>",
         "lat": [
          40.89230557
         ],
         "legendgroup": "Riverdale Park",
         "lon": [
          -73.91682911
         ],
         "marker": {
          "color": "#FECB52"
         },
         "mode": "markers",
         "name": "Riverdale Park",
         "showlegend": true,
         "subplot": "mapbox",
         "type": "scattermapbox"
        },
        {
         "hovertemplate": "Name=Spring Creek Park Preserve No Access<br>Latitude=%{lat}<br>Longitude=%{lon}<extra></extra>",
         "lat": [
          40.64582807
         ],
         "legendgroup": "Spring Creek Park Preserve No Access",
         "lon": [
          -73.86501942
         ],
         "marker": {
          "color": "#636efa"
         },
         "mode": "markers",
         "name": "Spring Creek Park Preserve No Access",
         "showlegend": true,
         "subplot": "mapbox",
         "type": "scattermapbox"
        },
        {
         "hovertemplate": "Name=Spring Creek Park Gateway National Recreation Area<br>Latitude=%{lat}<br>Longitude=%{lon}<extra></extra>",
         "lat": [
          40.646316
         ],
         "legendgroup": "Spring Creek Park Gateway National Recreation Area",
         "lon": [
          -73.84421119
         ],
         "marker": {
          "color": "#EF553B"
         },
         "mode": "markers",
         "name": "Spring Creek Park Gateway National Recreation Area",
         "showlegend": true,
         "subplot": "mapbox",
         "type": "scattermapbox"
        }
       ],
       "layout": {
        "legend": {
         "title": {
          "text": "Name"
         },
         "tracegroupgap": 0
        },
        "mapbox": {
         "center": {
          "lat": 40.70281489793479,
          "lon": -73.93761442239129
         },
         "domain": {
          "x": [
           0,
           1
          ],
          "y": [
           0,
           1
          ]
         },
         "style": "open-street-map",
         "zoom": 8
        },
        "margin": {
         "t": 60
        },
        "template": {
         "data": {
          "bar": [
           {
            "error_x": {
             "color": "#2a3f5f"
            },
            "error_y": {
             "color": "#2a3f5f"
            },
            "marker": {
             "line": {
              "color": "#E5ECF6",
              "width": 0.5
             }
            },
            "type": "bar"
           }
          ],
          "barpolar": [
           {
            "marker": {
             "line": {
              "color": "#E5ECF6",
              "width": 0.5
             }
            },
            "type": "barpolar"
           }
          ],
          "carpet": [
           {
            "aaxis": {
             "endlinecolor": "#2a3f5f",
             "gridcolor": "white",
             "linecolor": "white",
             "minorgridcolor": "white",
             "startlinecolor": "#2a3f5f"
            },
            "baxis": {
             "endlinecolor": "#2a3f5f",
             "gridcolor": "white",
             "linecolor": "white",
             "minorgridcolor": "white",
             "startlinecolor": "#2a3f5f"
            },
            "type": "carpet"
           }
          ],
          "choropleth": [
           {
            "colorbar": {
             "outlinewidth": 0,
             "ticks": ""
            },
            "type": "choropleth"
           }
          ],
          "contour": [
           {
            "colorbar": {
             "outlinewidth": 0,
             "ticks": ""
            },
            "colorscale": [
             [
              0,
              "#0d0887"
             ],
             [
              0.1111111111111111,
              "#46039f"
             ],
             [
              0.2222222222222222,
              "#7201a8"
             ],
             [
              0.3333333333333333,
              "#9c179e"
             ],
             [
              0.4444444444444444,
              "#bd3786"
             ],
             [
              0.5555555555555556,
              "#d8576b"
             ],
             [
              0.6666666666666666,
              "#ed7953"
             ],
             [
              0.7777777777777778,
              "#fb9f3a"
             ],
             [
              0.8888888888888888,
              "#fdca26"
             ],
             [
              1,
              "#f0f921"
             ]
            ],
            "type": "contour"
           }
          ],
          "contourcarpet": [
           {
            "colorbar": {
             "outlinewidth": 0,
             "ticks": ""
            },
            "type": "contourcarpet"
           }
          ],
          "heatmap": [
           {
            "colorbar": {
             "outlinewidth": 0,
             "ticks": ""
            },
            "colorscale": [
             [
              0,
              "#0d0887"
             ],
             [
              0.1111111111111111,
              "#46039f"
             ],
             [
              0.2222222222222222,
              "#7201a8"
             ],
             [
              0.3333333333333333,
              "#9c179e"
             ],
             [
              0.4444444444444444,
              "#bd3786"
             ],
             [
              0.5555555555555556,
              "#d8576b"
             ],
             [
              0.6666666666666666,
              "#ed7953"
             ],
             [
              0.7777777777777778,
              "#fb9f3a"
             ],
             [
              0.8888888888888888,
              "#fdca26"
             ],
             [
              1,
              "#f0f921"
             ]
            ],
            "type": "heatmap"
           }
          ],
          "heatmapgl": [
           {
            "colorbar": {
             "outlinewidth": 0,
             "ticks": ""
            },
            "colorscale": [
             [
              0,
              "#0d0887"
             ],
             [
              0.1111111111111111,
              "#46039f"
             ],
             [
              0.2222222222222222,
              "#7201a8"
             ],
             [
              0.3333333333333333,
              "#9c179e"
             ],
             [
              0.4444444444444444,
              "#bd3786"
             ],
             [
              0.5555555555555556,
              "#d8576b"
             ],
             [
              0.6666666666666666,
              "#ed7953"
             ],
             [
              0.7777777777777778,
              "#fb9f3a"
             ],
             [
              0.8888888888888888,
              "#fdca26"
             ],
             [
              1,
              "#f0f921"
             ]
            ],
            "type": "heatmapgl"
           }
          ],
          "histogram": [
           {
            "marker": {
             "colorbar": {
              "outlinewidth": 0,
              "ticks": ""
             }
            },
            "type": "histogram"
           }
          ],
          "histogram2d": [
           {
            "colorbar": {
             "outlinewidth": 0,
             "ticks": ""
            },
            "colorscale": [
             [
              0,
              "#0d0887"
             ],
             [
              0.1111111111111111,
              "#46039f"
             ],
             [
              0.2222222222222222,
              "#7201a8"
             ],
             [
              0.3333333333333333,
              "#9c179e"
             ],
             [
              0.4444444444444444,
              "#bd3786"
             ],
             [
              0.5555555555555556,
              "#d8576b"
             ],
             [
              0.6666666666666666,
              "#ed7953"
             ],
             [
              0.7777777777777778,
              "#fb9f3a"
             ],
             [
              0.8888888888888888,
              "#fdca26"
             ],
             [
              1,
              "#f0f921"
             ]
            ],
            "type": "histogram2d"
           }
          ],
          "histogram2dcontour": [
           {
            "colorbar": {
             "outlinewidth": 0,
             "ticks": ""
            },
            "colorscale": [
             [
              0,
              "#0d0887"
             ],
             [
              0.1111111111111111,
              "#46039f"
             ],
             [
              0.2222222222222222,
              "#7201a8"
             ],
             [
              0.3333333333333333,
              "#9c179e"
             ],
             [
              0.4444444444444444,
              "#bd3786"
             ],
             [
              0.5555555555555556,
              "#d8576b"
             ],
             [
              0.6666666666666666,
              "#ed7953"
             ],
             [
              0.7777777777777778,
              "#fb9f3a"
             ],
             [
              0.8888888888888888,
              "#fdca26"
             ],
             [
              1,
              "#f0f921"
             ]
            ],
            "type": "histogram2dcontour"
           }
          ],
          "mesh3d": [
           {
            "colorbar": {
             "outlinewidth": 0,
             "ticks": ""
            },
            "type": "mesh3d"
           }
          ],
          "parcoords": [
           {
            "line": {
             "colorbar": {
              "outlinewidth": 0,
              "ticks": ""
             }
            },
            "type": "parcoords"
           }
          ],
          "pie": [
           {
            "automargin": true,
            "type": "pie"
           }
          ],
          "scatter": [
           {
            "marker": {
             "colorbar": {
              "outlinewidth": 0,
              "ticks": ""
             }
            },
            "type": "scatter"
           }
          ],
          "scatter3d": [
           {
            "line": {
             "colorbar": {
              "outlinewidth": 0,
              "ticks": ""
             }
            },
            "marker": {
             "colorbar": {
              "outlinewidth": 0,
              "ticks": ""
             }
            },
            "type": "scatter3d"
           }
          ],
          "scattercarpet": [
           {
            "marker": {
             "colorbar": {
              "outlinewidth": 0,
              "ticks": ""
             }
            },
            "type": "scattercarpet"
           }
          ],
          "scattergeo": [
           {
            "marker": {
             "colorbar": {
              "outlinewidth": 0,
              "ticks": ""
             }
            },
            "type": "scattergeo"
           }
          ],
          "scattergl": [
           {
            "marker": {
             "colorbar": {
              "outlinewidth": 0,
              "ticks": ""
             }
            },
            "type": "scattergl"
           }
          ],
          "scattermapbox": [
           {
            "marker": {
             "colorbar": {
              "outlinewidth": 0,
              "ticks": ""
             }
            },
            "type": "scattermapbox"
           }
          ],
          "scatterpolar": [
           {
            "marker": {
             "colorbar": {
              "outlinewidth": 0,
              "ticks": ""
             }
            },
            "type": "scatterpolar"
           }
          ],
          "scatterpolargl": [
           {
            "marker": {
             "colorbar": {
              "outlinewidth": 0,
              "ticks": ""
             }
            },
            "type": "scatterpolargl"
           }
          ],
          "scatterternary": [
           {
            "marker": {
             "colorbar": {
              "outlinewidth": 0,
              "ticks": ""
             }
            },
            "type": "scatterternary"
           }
          ],
          "surface": [
           {
            "colorbar": {
             "outlinewidth": 0,
             "ticks": ""
            },
            "colorscale": [
             [
              0,
              "#0d0887"
             ],
             [
              0.1111111111111111,
              "#46039f"
             ],
             [
              0.2222222222222222,
              "#7201a8"
             ],
             [
              0.3333333333333333,
              "#9c179e"
             ],
             [
              0.4444444444444444,
              "#bd3786"
             ],
             [
              0.5555555555555556,
              "#d8576b"
             ],
             [
              0.6666666666666666,
              "#ed7953"
             ],
             [
              0.7777777777777778,
              "#fb9f3a"
             ],
             [
              0.8888888888888888,
              "#fdca26"
             ],
             [
              1,
              "#f0f921"
             ]
            ],
            "type": "surface"
           }
          ],
          "table": [
           {
            "cells": {
             "fill": {
              "color": "#EBF0F8"
             },
             "line": {
              "color": "white"
             }
            },
            "header": {
             "fill": {
              "color": "#C8D4E3"
             },
             "line": {
              "color": "white"
             }
            },
            "type": "table"
           }
          ]
         },
         "layout": {
          "annotationdefaults": {
           "arrowcolor": "#2a3f5f",
           "arrowhead": 0,
           "arrowwidth": 1
          },
          "autotypenumbers": "strict",
          "coloraxis": {
           "colorbar": {
            "outlinewidth": 0,
            "ticks": ""
           }
          },
          "colorscale": {
           "diverging": [
            [
             0,
             "#8e0152"
            ],
            [
             0.1,
             "#c51b7d"
            ],
            [
             0.2,
             "#de77ae"
            ],
            [
             0.3,
             "#f1b6da"
            ],
            [
             0.4,
             "#fde0ef"
            ],
            [
             0.5,
             "#f7f7f7"
            ],
            [
             0.6,
             "#e6f5d0"
            ],
            [
             0.7,
             "#b8e186"
            ],
            [
             0.8,
             "#7fbc41"
            ],
            [
             0.9,
             "#4d9221"
            ],
            [
             1,
             "#276419"
            ]
           ],
           "sequential": [
            [
             0,
             "#0d0887"
            ],
            [
             0.1111111111111111,
             "#46039f"
            ],
            [
             0.2222222222222222,
             "#7201a8"
            ],
            [
             0.3333333333333333,
             "#9c179e"
            ],
            [
             0.4444444444444444,
             "#bd3786"
            ],
            [
             0.5555555555555556,
             "#d8576b"
            ],
            [
             0.6666666666666666,
             "#ed7953"
            ],
            [
             0.7777777777777778,
             "#fb9f3a"
            ],
            [
             0.8888888888888888,
             "#fdca26"
            ],
            [
             1,
             "#f0f921"
            ]
           ],
           "sequentialminus": [
            [
             0,
             "#0d0887"
            ],
            [
             0.1111111111111111,
             "#46039f"
            ],
            [
             0.2222222222222222,
             "#7201a8"
            ],
            [
             0.3333333333333333,
             "#9c179e"
            ],
            [
             0.4444444444444444,
             "#bd3786"
            ],
            [
             0.5555555555555556,
             "#d8576b"
            ],
            [
             0.6666666666666666,
             "#ed7953"
            ],
            [
             0.7777777777777778,
             "#fb9f3a"
            ],
            [
             0.8888888888888888,
             "#fdca26"
            ],
            [
             1,
             "#f0f921"
            ]
           ]
          },
          "colorway": [
           "#636efa",
           "#EF553B",
           "#00cc96",
           "#ab63fa",
           "#FFA15A",
           "#19d3f3",
           "#FF6692",
           "#B6E880",
           "#FF97FF",
           "#FECB52"
          ],
          "font": {
           "color": "#2a3f5f"
          },
          "geo": {
           "bgcolor": "white",
           "lakecolor": "white",
           "landcolor": "#E5ECF6",
           "showlakes": true,
           "showland": true,
           "subunitcolor": "white"
          },
          "hoverlabel": {
           "align": "left"
          },
          "hovermode": "closest",
          "mapbox": {
           "style": "light"
          },
          "paper_bgcolor": "white",
          "plot_bgcolor": "#E5ECF6",
          "polar": {
           "angularaxis": {
            "gridcolor": "white",
            "linecolor": "white",
            "ticks": ""
           },
           "bgcolor": "#E5ECF6",
           "radialaxis": {
            "gridcolor": "white",
            "linecolor": "white",
            "ticks": ""
           }
          },
          "scene": {
           "xaxis": {
            "backgroundcolor": "#E5ECF6",
            "gridcolor": "white",
            "gridwidth": 2,
            "linecolor": "white",
            "showbackground": true,
            "ticks": "",
            "zerolinecolor": "white"
           },
           "yaxis": {
            "backgroundcolor": "#E5ECF6",
            "gridcolor": "white",
            "gridwidth": 2,
            "linecolor": "white",
            "showbackground": true,
            "ticks": "",
            "zerolinecolor": "white"
           },
           "zaxis": {
            "backgroundcolor": "#E5ECF6",
            "gridcolor": "white",
            "gridwidth": 2,
            "linecolor": "white",
            "showbackground": true,
            "ticks": "",
            "zerolinecolor": "white"
           }
          },
          "shapedefaults": {
           "line": {
            "color": "#2a3f5f"
           }
          },
          "ternary": {
           "aaxis": {
            "gridcolor": "white",
            "linecolor": "white",
            "ticks": ""
           },
           "baxis": {
            "gridcolor": "white",
            "linecolor": "white",
            "ticks": ""
           },
           "bgcolor": "#E5ECF6",
           "caxis": {
            "gridcolor": "white",
            "linecolor": "white",
            "ticks": ""
           }
          },
          "title": {
           "x": 0.05
          },
          "xaxis": {
           "automargin": true,
           "gridcolor": "white",
           "linecolor": "white",
           "ticks": "",
           "title": {
            "standoff": 15
           },
           "zerolinecolor": "white",
           "zerolinewidth": 2
          },
          "yaxis": {
           "automargin": true,
           "gridcolor": "white",
           "linecolor": "white",
           "ticks": "",
           "title": {
            "standoff": 15
           },
           "zerolinecolor": "white",
           "zerolinewidth": 2
          }
         }
        }
       }
      }
     },
     "metadata": {}
    },
    {
     "output_type": "display_data",
     "data": {
      "application/vnd.plotly.v1+json": {
       "config": {
        "plotlyServerURL": "https://plot.ly"
       },
       "data": [
        {
         "hovertemplate": "Name=Van Cortlandt Park<br>Latitude=%{lat}<br>Longitude=%{lon}<extra></extra>",
         "lat": [
          40.89620987
         ],
         "legendgroup": "Van Cortlandt Park",
         "lon": [
          -73.88895812
         ],
         "marker": {
          "color": "#636efa"
         },
         "mode": "markers",
         "name": "Van Cortlandt Park",
         "showlegend": true,
         "subplot": "mapbox",
         "type": "scattermapbox"
        },
        {
         "hovertemplate": "Name=Woodlawn Cemetery<br>Latitude=%{lat}<br>Longitude=%{lon}<extra></extra>",
         "lat": [
          40.88987947
         ],
         "legendgroup": "Woodlawn Cemetery",
         "lon": [
          -73.87165103
         ],
         "marker": {
          "color": "#EF553B"
         },
         "mode": "markers",
         "name": "Woodlawn Cemetery",
         "showlegend": true,
         "subplot": "mapbox",
         "type": "scattermapbox"
        },
        {
         "hovertemplate": "Name=Seton Falls Park<br>Latitude=%{lat}<br>Longitude=%{lon}<extra></extra>",
         "lat": [
          40.88696522
         ],
         "legendgroup": "Seton Falls Park",
         "lon": [
          -73.83864189
         ],
         "marker": {
          "color": "#00cc96"
         },
         "mode": "markers",
         "name": "Seton Falls Park",
         "showlegend": true,
         "subplot": "mapbox",
         "type": "scattermapbox"
        },
        {
         "hovertemplate": "Name=Pelham Bay Park<br>Latitude=%{lat}<br>Longitude=%{lon}<extra></extra>",
         "lat": [
          40.87798555
         ],
         "legendgroup": "Pelham Bay Park",
         "lon": [
          -73.80980242
         ],
         "marker": {
          "color": "#ab63fa"
         },
         "mode": "markers",
         "name": "Pelham Bay Park",
         "showlegend": true,
         "subplot": "mapbox",
         "type": "scattermapbox"
        },
        {
         "hovertemplate": "Name=Botanical Garden<br>Latitude=%{lat}<br>Longitude=%{lon}<extra></extra>",
         "lat": [
          40.86442395
         ],
         "legendgroup": "Botanical Garden",
         "lon": [
          -73.87830776
         ],
         "marker": {
          "color": "#FFA15A"
         },
         "mode": "markers",
         "name": "Botanical Garden",
         "showlegend": true,
         "subplot": "mapbox",
         "type": "scattermapbox"
        },
        {
         "hovertemplate": "Name=Bronx Park<br>Latitude=%{lat}<br>Longitude=%{lon}<extra></extra>",
         "lat": [
          40.85552207
         ],
         "legendgroup": "Bronx Park",
         "lon": [
          -73.87626064
         ],
         "marker": {
          "color": "#19d3f3"
         },
         "mode": "markers",
         "name": "Bronx Park",
         "showlegend": true,
         "subplot": "mapbox",
         "type": "scattermapbox"
        },
        {
         "hovertemplate": "Name=Saint  Raymond's Cemetery<br>Latitude=%{lat}<br>Longitude=%{lon}<extra></extra>",
         "lat": [
          40.82330815
         ],
         "legendgroup": "Saint  Raymond's Cemetery",
         "lon": [
          -73.83530397
         ],
         "marker": {
          "color": "#FF6692"
         },
         "mode": "markers",
         "name": "Saint  Raymond's Cemetery",
         "showlegend": true,
         "subplot": "mapbox",
         "type": "scattermapbox"
        },
        {
         "hovertemplate": "Name=Ferry Point Park<br>Latitude=%{lat}<br>Longitude=%{lon}<extra></extra>",
         "lat": [
          40.81434338
         ],
         "legendgroup": "Ferry Point Park",
         "lon": [
          -73.83284640000001
         ],
         "marker": {
          "color": "#B6E880"
         },
         "mode": "markers",
         "name": "Ferry Point Park",
         "showlegend": true,
         "subplot": "mapbox",
         "type": "scattermapbox"
        },
        {
         "hovertemplate": "Name=Sound View Park<br>Latitude=%{lat}<br>Longitude=%{lon}<extra></extra>",
         "lat": [
          40.815444299999996
         ],
         "legendgroup": "Sound View Park",
         "lon": [
          -73.8721731
         ],
         "marker": {
          "color": "#FF97FF"
         },
         "mode": "markers",
         "name": "Sound View Park",
         "showlegend": true,
         "subplot": "mapbox",
         "type": "scattermapbox"
        },
        {
         "hovertemplate": "Name=Crotona Park<br>Latitude=%{lat}<br>Longitude=%{lon}<extra></extra>",
         "lat": [
          40.8384766
         ],
         "legendgroup": "Crotona Park",
         "lon": [
          -73.89422937
         ],
         "marker": {
          "color": "#FECB52"
         },
         "mode": "markers",
         "name": "Crotona Park",
         "showlegend": true,
         "subplot": "mapbox",
         "type": "scattermapbox"
        },
        {
         "hovertemplate": "Name=Zoo/Wildlife Conser. Park<br>Latitude=%{lat}<br>Longitude=%{lon}<extra></extra>",
         "lat": [
          40.84900595
         ],
         "legendgroup": "Zoo/Wildlife Conser. Park",
         "lon": [
          -73.87523757
         ],
         "marker": {
          "color": "#636efa"
         },
         "mode": "markers",
         "name": "Zoo/Wildlife Conser. Park",
         "showlegend": true,
         "subplot": "mapbox",
         "type": "scattermapbox"
        },
        {
         "hovertemplate": "Name=Hart Island<br>Latitude=%{lat}<br>Longitude=%{lon}<extra></extra>",
         "lat": [
          40.85136497
         ],
         "legendgroup": "Hart Island",
         "lon": [
          -73.76975724
         ],
         "marker": {
          "color": "#EF553B"
         },
         "mode": "markers",
         "name": "Hart Island",
         "showlegend": true,
         "subplot": "mapbox",
         "type": "scattermapbox"
        },
        {
         "hovertemplate": "Name=Saint Mary's Park<br>Latitude=%{lat}<br>Longitude=%{lon}<extra></extra>",
         "lat": [
          40.81147588
         ],
         "legendgroup": "Saint Mary's Park",
         "lon": [
          -73.91175820000001
         ],
         "marker": {
          "color": "#00cc96"
         },
         "mode": "markers",
         "name": "Saint Mary's Park",
         "showlegend": true,
         "subplot": "mapbox",
         "type": "scattermapbox"
        },
        {
         "hovertemplate": "Name=Inwood Hill Park<br>Latitude=%{lat}<br>Longitude=%{lon}<extra></extra>",
         "lat": [
          40.87219333
         ],
         "legendgroup": "Inwood Hill Park",
         "lon": [
          -73.92618083
         ],
         "marker": {
          "color": "#ab63fa"
         },
         "mode": "markers",
         "name": "Inwood Hill Park",
         "showlegend": true,
         "subplot": "mapbox",
         "type": "scattermapbox"
        },
        {
         "hovertemplate": "Name=Fort Tryon Park<br>Latitude=%{lat}<br>Longitude=%{lon}<extra></extra>",
         "lat": [
          40.86299077
         ],
         "legendgroup": "Fort Tryon Park",
         "lon": [
          -73.93190269
         ],
         "marker": {
          "color": "#FFA15A"
         },
         "mode": "markers",
         "name": "Fort Tryon Park",
         "showlegend": true,
         "subplot": "mapbox",
         "type": "scattermapbox"
        },
        {
         "hovertemplate": "Name=Rikers Island<br>Latitude=%{lat}<br>Longitude=%{lon}<extra></extra>",
         "lat": [
          40.79198053
         ],
         "legendgroup": "Rikers Island",
         "lon": [
          -73.88276248
         ],
         "marker": {
          "color": "#19d3f3"
         },
         "mode": "markers",
         "name": "Rikers Island",
         "showlegend": true,
         "subplot": "mapbox",
         "type": "scattermapbox"
        },
        {
         "hovertemplate": "Name=Marcus Garvey Park<br>Latitude=%{lat}<br>Longitude=%{lon}<extra></extra>",
         "lat": [
          40.80345957
         ],
         "legendgroup": "Marcus Garvey Park",
         "lon": [
          -73.94268046
         ],
         "marker": {
          "color": "#FF6692"
         },
         "mode": "markers",
         "name": "Marcus Garvey Park",
         "showlegend": true,
         "subplot": "mapbox",
         "type": "scattermapbox"
        },
        {
         "hovertemplate": "Name=Randall's Island Park<br>Latitude=%{lat}<br>Longitude=%{lon}<extra></extra>",
         "lat": [
          40.79591467
         ],
         "legendgroup": "Randall's Island Park",
         "lon": [
          -73.92169947
         ],
         "marker": {
          "color": "#B6E880"
         },
         "mode": "markers",
         "name": "Randall's Island Park",
         "showlegend": true,
         "subplot": "mapbox",
         "type": "scattermapbox"
        },
        {
         "hovertemplate": "Name=Ward's Island Park<br>Latitude=%{lat}<br>Longitude=%{lon}<extra></extra>",
         "lat": [
          40.78428432
         ],
         "legendgroup": "Ward's Island Park",
         "lon": [
          -73.92997389
         ],
         "marker": {
          "color": "#FF97FF"
         },
         "mode": "markers",
         "name": "Ward's Island Park",
         "showlegend": true,
         "subplot": "mapbox",
         "type": "scattermapbox"
        },
        {
         "hovertemplate": "Name=Central Park<br>Latitude=%{lat}<br>Longitude=%{lon}<extra></extra>",
         "lat": [
          40.78288158
         ],
         "legendgroup": "Central Park",
         "lon": [
          -73.96565599
         ],
         "marker": {
          "color": "#FECB52"
         },
         "mode": "markers",
         "name": "Central Park",
         "showlegend": true,
         "subplot": "mapbox",
         "type": "scattermapbox"
        },
        {
         "hovertemplate": "Name=Columbus Circle<br>Latitude=%{lat}<br>Longitude=%{lon}<extra></extra>",
         "lat": [
          40.76806053
         ],
         "legendgroup": "Columbus Circle",
         "lon": [
          -73.98190208
         ],
         "marker": {
          "color": "#636efa"
         },
         "mode": "markers",
         "name": "Columbus Circle",
         "showlegend": true,
         "subplot": "mapbox",
         "type": "scattermapbox"
        },
        {
         "hovertemplate": "Name=Times Square<br>Latitude=%{lat}<br>Longitude=%{lon}<extra></extra>",
         "lat": [
          40.758021299999996
         ],
         "legendgroup": "Times Square",
         "lon": [
          -73.98179379
         ],
         "marker": {
          "color": "#EF553B"
         },
         "mode": "markers",
         "name": "Times Square",
         "showlegend": true,
         "subplot": "mapbox",
         "type": "scattermapbox"
        },
        {
         "hovertemplate": "Name=Madison Square<br>Latitude=%{lat}<br>Longitude=%{lon}<extra></extra>",
         "lat": [
          40.7421814
         ],
         "legendgroup": "Madison Square",
         "lon": [
          -73.98806663
         ],
         "marker": {
          "color": "#00cc96"
         },
         "mode": "markers",
         "name": "Madison Square",
         "showlegend": true,
         "subplot": "mapbox",
         "type": "scattermapbox"
        },
        {
         "hovertemplate": "Name=Union Square<br>Latitude=%{lat}<br>Longitude=%{lon}<extra></extra>",
         "lat": [
          40.73595972
         ],
         "legendgroup": "Union Square",
         "lon": [
          -73.9903801
         ],
         "marker": {
          "color": "#ab63fa"
         },
         "mode": "markers",
         "name": "Union Square",
         "showlegend": true,
         "subplot": "mapbox",
         "type": "scattermapbox"
        },
        {
         "hovertemplate": "Name=Governors Island<br>Latitude=%{lat}<br>Longitude=%{lon}<extra></extra>",
         "lat": [
          40.68941551
         ],
         "legendgroup": "Governors Island",
         "lon": [
          -74.01838919
         ],
         "marker": {
          "color": "#FFA15A"
         },
         "mode": "markers",
         "name": "Governors Island",
         "showlegend": true,
         "subplot": "mapbox",
         "type": "scattermapbox"
        },
        {
         "hovertemplate": "Name=McCarren Park<br>Latitude=%{lat}<br>Longitude=%{lon}<extra></extra>",
         "lat": [
          40.720899700000004
         ],
         "legendgroup": "McCarren Park",
         "lon": [
          -73.95198134
         ],
         "marker": {
          "color": "#19d3f3"
         },
         "mode": "markers",
         "name": "McCarren Park",
         "showlegend": true,
         "subplot": "mapbox",
         "type": "scattermapbox"
        },
        {
         "hovertemplate": "Name=Astoria Park<br>Latitude=%{lat}<br>Longitude=%{lon}<extra></extra>",
         "lat": [
          40.77679234
         ],
         "legendgroup": "Astoria Park",
         "lon": [
          -73.92426901
         ],
         "marker": {
          "color": "#FF6692"
         },
         "mode": "markers",
         "name": "Astoria Park",
         "showlegend": true,
         "subplot": "mapbox",
         "type": "scattermapbox"
        },
        {
         "hovertemplate": "Name=Botanic Garden<br>Latitude=%{lat}<br>Longitude=%{lon}<extra></extra>",
         "lat": [
          40.66993701
         ],
         "legendgroup": "Botanic Garden",
         "lon": [
          -73.96612486
         ],
         "marker": {
          "color": "#B6E880"
         },
         "mode": "markers",
         "name": "Botanic Garden",
         "showlegend": true,
         "subplot": "mapbox",
         "type": "scattermapbox"
        },
        {
         "hovertemplate": "Name=Prospect Park<br>Latitude=%{lat}<br>Longitude=%{lon}<extra></extra>",
         "lat": [
          40.66125082
         ],
         "legendgroup": "Prospect Park",
         "lon": [
          -73.96908664
         ],
         "marker": {
          "color": "#FF97FF"
         },
         "mode": "markers",
         "name": "Prospect Park",
         "showlegend": true,
         "subplot": "mapbox",
         "type": "scattermapbox"
        },
        {
         "hovertemplate": "Name=Greenwood Cemetery<br>Latitude=%{lat}<br>Longitude=%{lon}<extra></extra>",
         "lat": [
          40.65204691
         ],
         "legendgroup": "Greenwood Cemetery",
         "lon": [
          -73.99044122
         ],
         "marker": {
          "color": "#FECB52"
         },
         "mode": "markers",
         "name": "Greenwood Cemetery",
         "showlegend": true,
         "subplot": "mapbox",
         "type": "scattermapbox"
        },
        {
         "hovertemplate": "Name=Holy Cross Cemetery<br>Latitude=%{lat}<br>Longitude=%{lon}<extra></extra>",
         "lat": [
          40.64686106
         ],
         "legendgroup": "Holy Cross Cemetery",
         "lon": [
          -73.93764826
         ],
         "marker": {
          "color": "#636efa"
         },
         "mode": "markers",
         "name": "Holy Cross Cemetery",
         "showlegend": true,
         "subplot": "mapbox",
         "type": "scattermapbox"
        },
        {
         "hovertemplate": "Name=Bush Terminal<br>Latitude=%{lat}<br>Longitude=%{lon}<extra></extra>",
         "lat": [
          40.65508508
         ],
         "legendgroup": "Bush Terminal",
         "lon": [
          -74.0185757
         ],
         "marker": {
          "color": "#EF553B"
         },
         "mode": "markers",
         "name": "Bush Terminal",
         "showlegend": true,
         "subplot": "mapbox",
         "type": "scattermapbox"
        },
        {
         "hovertemplate": "Name=Owls Head Park<br>Latitude=%{lat}<br>Longitude=%{lon}<extra></extra>",
         "lat": [
          40.63995895
         ],
         "legendgroup": "Owls Head Park",
         "lon": [
          -74.03230852
         ],
         "marker": {
          "color": "#00cc96"
         },
         "mode": "markers",
         "name": "Owls Head Park",
         "showlegend": true,
         "subplot": "mapbox",
         "type": "scattermapbox"
        },
        {
         "hovertemplate": "Name=Fort Hamilton<br>Latitude=%{lat}<br>Longitude=%{lon}<extra></extra>",
         "lat": [
          40.60738115
         ],
         "legendgroup": "Fort Hamilton",
         "lon": [
          -74.02879133
         ],
         "marker": {
          "color": "#ab63fa"
         },
         "mode": "markers",
         "name": "Fort Hamilton",
         "showlegend": true,
         "subplot": "mapbox",
         "type": "scattermapbox"
        },
        {
         "hovertemplate": "Name=Dyker Beach Park<br>Latitude=%{lat}<br>Longitude=%{lon}<extra></extra>",
         "lat": [
          40.61146403
         ],
         "legendgroup": "Dyker Beach Park",
         "lon": [
          -74.01956103
         ],
         "marker": {
          "color": "#FFA15A"
         },
         "mode": "markers",
         "name": "Dyker Beach Park",
         "showlegend": true,
         "subplot": "mapbox",
         "type": "scattermapbox"
        },
        {
         "hovertemplate": "Name=Washington Cemetery<br>Latitude=%{lat}<br>Longitude=%{lon}<extra></extra>",
         "lat": [
          40.62022207
         ],
         "legendgroup": "Washington Cemetery",
         "lon": [
          -73.97543204
         ],
         "marker": {
          "color": "#19d3f3"
         },
         "mode": "markers",
         "name": "Washington Cemetery",
         "showlegend": true,
         "subplot": "mapbox",
         "type": "scattermapbox"
        },
        {
         "hovertemplate": "Name=Marine Park<br>Latitude=%{lat}<br>Longitude=%{lon}<extra></extra>",
         "lat": [
          40.60336225
         ],
         "legendgroup": "Marine Park",
         "lon": [
          -73.92408613
         ],
         "marker": {
          "color": "#FF6692"
         },
         "mode": "markers",
         "name": "Marine Park",
         "showlegend": true,
         "subplot": "mapbox",
         "type": "scattermapbox"
        },
        {
         "hovertemplate": "Name=Floyd Bennett Field<br>Latitude=%{lat}<br>Longitude=%{lon}<extra></extra>",
         "lat": [
          40.59129948
         ],
         "legendgroup": "Floyd Bennett Field",
         "lon": [
          -73.89009561
         ],
         "marker": {
          "color": "#B6E880"
         },
         "mode": "markers",
         "name": "Floyd Bennett Field",
         "showlegend": true,
         "subplot": "mapbox",
         "type": "scattermapbox"
        },
        {
         "hovertemplate": "Name=Canarsie Beach Park<br>Latitude=%{lat}<br>Longitude=%{lon}<extra></extra>",
         "lat": [
          40.62548604
         ],
         "legendgroup": "Canarsie Beach Park",
         "lon": [
          -73.89810825
         ],
         "marker": {
          "color": "#FF97FF"
         },
         "mode": "markers",
         "name": "Canarsie Beach Park",
         "showlegend": true,
         "subplot": "mapbox",
         "type": "scattermapbox"
        },
        {
         "hovertemplate": "Name=Aqueduct Race Track<br>Latitude=%{lat}<br>Longitude=%{lon}<extra></extra>",
         "lat": [
          40.67219433
         ],
         "legendgroup": "Aqueduct Race Track",
         "lon": [
          -73.83062352
         ],
         "marker": {
          "color": "#FECB52"
         },
         "mode": "markers",
         "name": "Aqueduct Race Track",
         "showlegend": true,
         "subplot": "mapbox",
         "type": "scattermapbox"
        },
        {
         "hovertemplate": "Name=Bayside Cemetery<br>Latitude=%{lat}<br>Longitude=%{lon}<extra></extra>",
         "lat": [
          40.67728706
         ],
         "legendgroup": "Bayside Cemetery",
         "lon": [
          -73.85499266
         ],
         "marker": {
          "color": "#636efa"
         },
         "mode": "markers",
         "name": "Bayside Cemetery",
         "showlegend": true,
         "subplot": "mapbox",
         "type": "scattermapbox"
        },
        {
         "hovertemplate": "Name=Brookville Park<br>Latitude=%{lat}<br>Longitude=%{lon}<extra></extra>",
         "lat": [
          40.65190821
         ],
         "legendgroup": "Brookville Park",
         "lon": [
          -73.75238277
         ],
         "marker": {
          "color": "#EF553B"
         },
         "mode": "markers",
         "name": "Brookville Park",
         "showlegend": true,
         "subplot": "mapbox",
         "type": "scattermapbox"
        },
        {
         "hovertemplate": "Name=Baisley Pond Park<br>Latitude=%{lat}<br>Longitude=%{lon}<extra></extra>",
         "lat": [
          40.67324965
         ],
         "legendgroup": "Baisley Pond Park",
         "lon": [
          -73.78691601
         ],
         "marker": {
          "color": "#00cc96"
         },
         "mode": "markers",
         "name": "Baisley Pond Park",
         "showlegend": true,
         "subplot": "mapbox",
         "type": "scattermapbox"
        },
        {
         "hovertemplate": "Name=Roy Wilkins Park<br>Latitude=%{lat}<br>Longitude=%{lon}<extra></extra>",
         "lat": [
          40.68791059
         ],
         "legendgroup": "Roy Wilkins Park",
         "lon": [
          -73.77202425
         ],
         "marker": {
          "color": "#ab63fa"
         },
         "mode": "markers",
         "name": "Roy Wilkins Park",
         "showlegend": true,
         "subplot": "mapbox",
         "type": "scattermapbox"
        },
        {
         "hovertemplate": "Name=Cypress Hills Cemetery<br>Latitude=%{lat}<br>Longitude=%{lon}<extra></extra>",
         "lat": [
          40.69584153
         ],
         "legendgroup": "Cypress Hills Cemetery",
         "lon": [
          -73.87614172
         ],
         "marker": {
          "color": "#FFA15A"
         },
         "mode": "markers",
         "name": "Cypress Hills Cemetery",
         "showlegend": true,
         "subplot": "mapbox",
         "type": "scattermapbox"
        },
        {
         "hovertemplate": "Name=Saint  Johns Cemetery<br>Latitude=%{lat}<br>Longitude=%{lon}<extra></extra>",
         "lat": [
          40.71516417
         ],
         "legendgroup": "Saint  Johns Cemetery",
         "lon": [
          -73.86698585
         ],
         "marker": {
          "color": "#19d3f3"
         },
         "mode": "markers",
         "name": "Saint  Johns Cemetery",
         "showlegend": true,
         "subplot": "mapbox",
         "type": "scattermapbox"
        },
        {
         "hovertemplate": "Name=Linden Hill Cemetery<br>Latitude=%{lat}<br>Longitude=%{lon}<extra></extra>",
         "lat": [
          40.71048991
         ],
         "legendgroup": "Linden Hill Cemetery",
         "lon": [
          -73.91396904
         ],
         "marker": {
          "color": "#FF6692"
         },
         "mode": "markers",
         "name": "Linden Hill Cemetery",
         "showlegend": true,
         "subplot": "mapbox",
         "type": "scattermapbox"
        },
        {
         "hovertemplate": "Name=Mount Olivet Cemetery<br>Latitude=%{lat}<br>Longitude=%{lon}<extra></extra>",
         "lat": [
          40.72084097
         ],
         "legendgroup": "Mount Olivet Cemetery",
         "lon": [
          -73.89594771
         ],
         "marker": {
          "color": "#B6E880"
         },
         "mode": "markers",
         "name": "Mount Olivet Cemetery",
         "showlegend": true,
         "subplot": "mapbox",
         "type": "scattermapbox"
        },
        {
         "hovertemplate": "Name=Juniper Valley Park<br>Latitude=%{lat}<br>Longitude=%{lon}<extra></extra>",
         "lat": [
          40.72035303
         ],
         "legendgroup": "Juniper Valley Park",
         "lon": [
          -73.87963219
         ],
         "marker": {
          "color": "#FF97FF"
         },
         "mode": "markers",
         "name": "Juniper Valley Park",
         "showlegend": true,
         "subplot": "mapbox",
         "type": "scattermapbox"
        },
        {
         "hovertemplate": "Name=Lutheran Cemetery<br>Latitude=%{lat}<br>Longitude=%{lon}<extra></extra>",
         "lat": [
          40.71223625
         ],
         "legendgroup": "Lutheran Cemetery",
         "lon": [
          -73.88748458
         ],
         "marker": {
          "color": "#FECB52"
         },
         "mode": "markers",
         "name": "Lutheran Cemetery",
         "showlegend": true,
         "subplot": "mapbox",
         "type": "scattermapbox"
        },
        {
         "hovertemplate": "Name=Montefiore Cemetery<br>Latitude=%{lat}<br>Longitude=%{lon}<extra></extra>",
         "lat": [
          40.68584033
         ],
         "legendgroup": "Montefiore Cemetery",
         "lon": [
          -73.7417316
         ],
         "marker": {
          "color": "#636efa"
         },
         "mode": "markers",
         "name": "Montefiore Cemetery",
         "showlegend": true,
         "subplot": "mapbox",
         "type": "scattermapbox"
        },
        {
         "hovertemplate": "Name=Flushing Meadows Corona Park<br>Latitude=%{lat}<br>Longitude=%{lon}<extra></extra>",
         "lat": [
          40.73799908
         ],
         "legendgroup": "Flushing Meadows Corona Park",
         "lon": [
          -73.84141525
         ],
         "marker": {
          "color": "#EF553B"
         },
         "mode": "markers",
         "name": "Flushing Meadows Corona Park",
         "showlegend": true,
         "subplot": "mapbox",
         "type": "scattermapbox"
        },
        {
         "hovertemplate": "Name=Mount Hebron Cemetery<br>Latitude=%{lat}<br>Longitude=%{lon}<extra></extra>",
         "lat": [
          40.73409273
         ],
         "legendgroup": "Mount Hebron Cemetery",
         "lon": [
          -73.83033793
         ],
         "marker": {
          "color": "#00cc96"
         },
         "mode": "markers",
         "name": "Mount Hebron Cemetery",
         "showlegend": true,
         "subplot": "mapbox",
         "type": "scattermapbox"
        },
        {
         "hovertemplate": "Name=Cunningham Park<br>Latitude=%{lat}<br>Longitude=%{lon}<extra></extra>",
         "lat": [
          40.72903318
         ],
         "legendgroup": "Cunningham Park",
         "lon": [
          -73.76903038
         ],
         "marker": {
          "color": "#ab63fa"
         },
         "mode": "markers",
         "name": "Cunningham Park",
         "showlegend": true,
         "subplot": "mapbox",
         "type": "scattermapbox"
        },
        {
         "hovertemplate": "Name=Fort Totten<br>Latitude=%{lat}<br>Longitude=%{lon}<extra></extra>",
         "lat": [
          40.79253916
         ],
         "legendgroup": "Fort Totten",
         "lon": [
          -73.7770396
         ],
         "marker": {
          "color": "#FFA15A"
         },
         "mode": "markers",
         "name": "Fort Totten",
         "showlegend": true,
         "subplot": "mapbox",
         "type": "scattermapbox"
        },
        {
         "hovertemplate": "Name=Clearview Park<br>Latitude=%{lat}<br>Longitude=%{lon}<extra></extra>",
         "lat": [
          40.78258966
         ],
         "legendgroup": "Clearview Park",
         "lon": [
          -73.78886383
         ],
         "marker": {
          "color": "#19d3f3"
         },
         "mode": "markers",
         "name": "Clearview Park",
         "showlegend": true,
         "subplot": "mapbox",
         "type": "scattermapbox"
        },
        {
         "hovertemplate": "Name=Crocheron Park<br>Latitude=%{lat}<br>Longitude=%{lon}<extra></extra>",
         "lat": [
          40.77133495
         ],
         "legendgroup": "Crocheron Park",
         "lon": [
          -73.76899845
         ],
         "marker": {
          "color": "#FF6692"
         },
         "mode": "markers",
         "name": "Crocheron Park",
         "showlegend": true,
         "subplot": "mapbox",
         "type": "scattermapbox"
        },
        {
         "hovertemplate": "Name=Alley Pond Park<br>Latitude=%{lat}<br>Longitude=%{lon}<extra></extra>",
         "lat": [
          40.75365741
         ],
         "legendgroup": "Alley Pond Park",
         "lon": [
          -73.74427173
         ],
         "marker": {
          "color": "#B6E880"
         },
         "mode": "markers",
         "name": "Alley Pond Park",
         "showlegend": true,
         "subplot": "mapbox",
         "type": "scattermapbox"
        },
        {
         "hovertemplate": "Name=Douglaston Park<br>Latitude=%{lat}<br>Longitude=%{lon}<extra></extra>",
         "lat": [
          40.75164378
         ],
         "legendgroup": "Douglaston Park",
         "lon": [
          -73.73228698
         ],
         "marker": {
          "color": "#FF97FF"
         },
         "mode": "markers",
         "name": "Douglaston Park",
         "showlegend": true,
         "subplot": "mapbox",
         "type": "scattermapbox"
        },
        {
         "hovertemplate": "Name=Fort Schuyler<br>Latitude=%{lat}<br>Longitude=%{lon}<extra></extra>",
         "lat": [
          40.8056467
         ],
         "legendgroup": "Fort Schuyler",
         "lon": [
          -73.7931197
         ],
         "marker": {
          "color": "#FECB52"
         },
         "mode": "markers",
         "name": "Fort Schuyler",
         "showlegend": true,
         "subplot": "mapbox",
         "type": "scattermapbox"
        },
        {
         "hovertemplate": "Name=Calvary Cemetery<br>Latitude=%{lat}<br>Longitude=%{lon}<extra></extra>",
         "lat": [
          40.73338238
         ],
         "legendgroup": "Calvary Cemetery",
         "lon": [
          -73.93013732
         ],
         "marker": {
          "color": "#636efa"
         },
         "mode": "markers",
         "name": "Calvary Cemetery",
         "showlegend": true,
         "subplot": "mapbox",
         "type": "scattermapbox"
        },
        {
         "hovertemplate": "Name=New Calvary Cemetery<br>Latitude=%{lat}<br>Longitude=%{lon}<extra></extra>",
         "lat": [
          40.73707174
         ],
         "legendgroup": "New Calvary Cemetery",
         "lon": [
          -73.91314739
         ],
         "marker": {
          "color": "#EF553B"
         },
         "mode": "markers",
         "name": "New Calvary Cemetery",
         "showlegend": true,
         "subplot": "mapbox",
         "type": "scattermapbox"
        },
        {
         "hovertemplate": "Name=Mount Zion Cemetery<br>Latitude=%{lat}<br>Longitude=%{lon}<extra></extra>",
         "lat": [
          40.73205824
         ],
         "legendgroup": "Mount Zion Cemetery",
         "lon": [
          -73.90791234
         ],
         "marker": {
          "color": "#00cc96"
         },
         "mode": "markers",
         "name": "Mount Zion Cemetery",
         "showlegend": true,
         "subplot": "mapbox",
         "type": "scattermapbox"
        },
        {
         "hovertemplate": "Name=Jacob Riis Park<br>Latitude=%{lat}<br>Longitude=%{lon}<extra></extra>",
         "lat": [
          40.56788176
         ],
         "legendgroup": "Jacob Riis Park",
         "lon": [
          -73.87158393
         ],
         "marker": {
          "color": "#ab63fa"
         },
         "mode": "markers",
         "name": "Jacob Riis Park",
         "showlegend": true,
         "subplot": "mapbox",
         "type": "scattermapbox"
        },
        {
         "hovertemplate": "Name=Fort Tilden<br>Latitude=%{lat}<br>Longitude=%{lon}<extra></extra>",
         "lat": [
          40.56163026
         ],
         "legendgroup": "Fort Tilden",
         "lon": [
          -73.89490043
         ],
         "marker": {
          "color": "#FFA15A"
         },
         "mode": "markers",
         "name": "Fort Tilden",
         "showlegend": true,
         "subplot": "mapbox",
         "type": "scattermapbox"
        },
        {
         "hovertemplate": "Name=Liberty Island<br>Latitude=%{lat}<br>Longitude=%{lon}<extra></extra>",
         "lat": [
          40.69000021
         ],
         "legendgroup": "Liberty Island",
         "lon": [
          -74.04528227
         ],
         "marker": {
          "color": "#19d3f3"
         },
         "mode": "markers",
         "name": "Liberty Island",
         "showlegend": true,
         "subplot": "mapbox",
         "type": "scattermapbox"
        },
        {
         "hovertemplate": "Name=Ellis Island<br>Latitude=%{lat}<br>Longitude=%{lon}<extra></extra>",
         "lat": [
          40.69919477
         ],
         "legendgroup": "Ellis Island",
         "lon": [
          -74.04017359
         ],
         "marker": {
          "color": "#FF6692"
         },
         "mode": "markers",
         "name": "Ellis Island",
         "showlegend": true,
         "subplot": "mapbox",
         "type": "scattermapbox"
        },
        {
         "hovertemplate": "Name=Snug Harbor<br>Latitude=%{lat}<br>Longitude=%{lon}<extra></extra>",
         "lat": [
          40.64230187
         ],
         "legendgroup": "Snug Harbor",
         "lon": [
          -74.10316989
         ],
         "marker": {
          "color": "#B6E880"
         },
         "mode": "markers",
         "name": "Snug Harbor",
         "showlegend": true,
         "subplot": "mapbox",
         "type": "scattermapbox"
        },
        {
         "hovertemplate": "Name=Silver Lake Park<br>Latitude=%{lat}<br>Longitude=%{lon}<extra></extra>",
         "lat": [
          40.62728628
         ],
         "legendgroup": "Silver Lake Park",
         "lon": [
          -74.09460329999999
         ],
         "marker": {
          "color": "#FF97FF"
         },
         "mode": "markers",
         "name": "Silver Lake Park",
         "showlegend": true,
         "subplot": "mapbox",
         "type": "scattermapbox"
        },
        {
         "hovertemplate": "Name=Clove Lakes Park<br>Latitude=%{lat}<br>Longitude=%{lon}<extra></extra>",
         "lat": [
          40.61811022
         ],
         "legendgroup": "Clove Lakes Park",
         "lon": [
          -74.11069895
         ],
         "marker": {
          "color": "#FECB52"
         },
         "mode": "markers",
         "name": "Clove Lakes Park",
         "showlegend": true,
         "subplot": "mapbox",
         "type": "scattermapbox"
        },
        {
         "hovertemplate": "Name=Fort Wadsworth<br>Latitude=%{lat}<br>Longitude=%{lon}<extra></extra>",
         "lat": [
          40.60438473
         ],
         "legendgroup": "Fort Wadsworth",
         "lon": [
          -74.05881837
         ],
         "marker": {
          "color": "#636efa"
         },
         "mode": "markers",
         "name": "Fort Wadsworth",
         "showlegend": true,
         "subplot": "mapbox",
         "type": "scattermapbox"
        },
        {
         "hovertemplate": "Name=Miller Field<br>Latitude=%{lat}<br>Longitude=%{lon}<extra></extra>",
         "lat": [
          40.56802528
         ],
         "legendgroup": "Miller Field",
         "lon": [
          -74.09882950000001
         ],
         "marker": {
          "color": "#EF553B"
         },
         "mode": "markers",
         "name": "Miller Field",
         "showlegend": true,
         "subplot": "mapbox",
         "type": "scattermapbox"
        },
        {
         "hovertemplate": "Name=Great Kills Park<br>Latitude=%{lat}<br>Longitude=%{lon}<extra></extra>",
         "lat": [
          40.54844479
         ],
         "legendgroup": "Great Kills Park",
         "lon": [
          -74.12560544
         ],
         "marker": {
          "color": "#00cc96"
         },
         "mode": "markers",
         "name": "Great Kills Park",
         "showlegend": true,
         "subplot": "mapbox",
         "type": "scattermapbox"
        },
        {
         "hovertemplate": "Name=Moravian Cemetery<br>Latitude=%{lat}<br>Longitude=%{lon}<extra></extra>",
         "lat": [
          40.58271473
         ],
         "legendgroup": "Moravian Cemetery",
         "lon": [
          -74.11735759
         ],
         "marker": {
          "color": "#ab63fa"
         },
         "mode": "markers",
         "name": "Moravian Cemetery",
         "showlegend": true,
         "subplot": "mapbox",
         "type": "scattermapbox"
        },
        {
         "hovertemplate": "Name=LaTourette Park<br>Latitude=%{lat}<br>Longitude=%{lon}<extra></extra>",
         "lat": [
          40.58215534
         ],
         "legendgroup": "LaTourette Park",
         "lon": [
          -74.14250377
         ],
         "marker": {
          "color": "#FFA15A"
         },
         "mode": "markers",
         "name": "LaTourette Park",
         "showlegend": true,
         "subplot": "mapbox",
         "type": "scattermapbox"
        },
        {
         "hovertemplate": "Name=Willowbrook Park<br>Latitude=%{lat}<br>Longitude=%{lon}<extra></extra>",
         "lat": [
          40.60061999
         ],
         "legendgroup": "Willowbrook Park",
         "lon": [
          -74.15824653
         ],
         "marker": {
          "color": "#19d3f3"
         },
         "mode": "markers",
         "name": "Willowbrook Park",
         "showlegend": true,
         "subplot": "mapbox",
         "type": "scattermapbox"
        },
        {
         "hovertemplate": "Name=Blue Heron Park<br>Latitude=%{lat}<br>Longitude=%{lon}<extra></extra>",
         "lat": [
          40.53125317
         ],
         "legendgroup": "Blue Heron Park",
         "lon": [
          -74.17535438
         ],
         "marker": {
          "color": "#FF6692"
         },
         "mode": "markers",
         "name": "Blue Heron Park",
         "showlegend": true,
         "subplot": "mapbox",
         "type": "scattermapbox"
        },
        {
         "hovertemplate": "Name=Wolfe's Pond Park<br>Latitude=%{lat}<br>Longitude=%{lon}<extra></extra>",
         "lat": [
          40.52173963
         ],
         "legendgroup": "Wolfe's Pond Park",
         "lon": [
          -74.19242925
         ],
         "marker": {
          "color": "#B6E880"
         },
         "mode": "markers",
         "name": "Wolfe's Pond Park",
         "showlegend": true,
         "subplot": "mapbox",
         "type": "scattermapbox"
        },
        {
         "hovertemplate": "Name=Mount Loretto<br>Latitude=%{lat}<br>Longitude=%{lon}<extra></extra>",
         "lat": [
          40.50966469
         ],
         "legendgroup": "Mount Loretto",
         "lon": [
          -74.21806393
         ],
         "marker": {
          "color": "#FF97FF"
         },
         "mode": "markers",
         "name": "Mount Loretto",
         "showlegend": true,
         "subplot": "mapbox",
         "type": "scattermapbox"
        },
        {
         "hovertemplate": "Name=Conference House Park<br>Latitude=%{lat}<br>Longitude=%{lon}<extra></extra>",
         "lat": [
          40.49956589
         ],
         "legendgroup": "Conference House Park",
         "lon": [
          -74.24856464
         ],
         "marker": {
          "color": "#FECB52"
         },
         "mode": "markers",
         "name": "Conference House Park",
         "showlegend": true,
         "subplot": "mapbox",
         "type": "scattermapbox"
        },
        {
         "hovertemplate": "Name=South Shore Golf Course<br>Latitude=%{lat}<br>Longitude=%{lon}<extra></extra>",
         "lat": [
          40.5511835
         ],
         "legendgroup": "South Shore Golf Course",
         "lon": [
          -74.20503666
         ],
         "marker": {
          "color": "#636efa"
         },
         "mode": "markers",
         "name": "South Shore Golf Course",
         "showlegend": true,
         "subplot": "mapbox",
         "type": "scattermapbox"
        },
        {
         "hovertemplate": "Name=Fresh Kills<br>Latitude=%{lat}<br>Longitude=%{lon}<extra></extra>",
         "lat": [
          40.57405693
         ],
         "legendgroup": "Fresh Kills",
         "lon": [
          -74.19497651
         ],
         "marker": {
          "color": "#EF553B"
         },
         "mode": "markers",
         "name": "Fresh Kills",
         "showlegend": true,
         "subplot": "mapbox",
         "type": "scattermapbox"
        },
        {
         "hovertemplate": "Name=Plumb Beach<br>Latitude=%{lat}<br>Longitude=%{lon}<extra></extra>",
         "lat": [
          40.58319524
         ],
         "legendgroup": "Plumb Beach",
         "lon": [
          -73.91512178
         ],
         "marker": {
          "color": "#00cc96"
         },
         "mode": "markers",
         "name": "Plumb Beach",
         "showlegend": true,
         "subplot": "mapbox",
         "type": "scattermapbox"
        },
        {
         "hovertemplate": "Name=John F. Kennedy International Airport<br>Latitude=%{lat}<br>Longitude=%{lon}<extra></extra>",
         "lat": [
          40.64806756
         ],
         "legendgroup": "John F. Kennedy International Airport",
         "lon": [
          -73.78599901
         ],
         "marker": {
          "color": "#ab63fa"
         },
         "mode": "markers",
         "name": "John F. Kennedy International Airport",
         "showlegend": true,
         "subplot": "mapbox",
         "type": "scattermapbox"
        },
        {
         "hovertemplate": "Name=Jamaica Bay Wildlife Refuge<br>Latitude=%{lat}<br>Longitude=%{lon}<extra></extra>",
         "lat": [
          40.62287746
         ],
         "legendgroup": "Jamaica Bay Wildlife Refuge",
         "lon": [
          -73.82628899
         ],
         "marker": {
          "color": "#FFA15A"
         },
         "mode": "markers",
         "name": "Jamaica Bay Wildlife Refuge",
         "showlegend": true,
         "subplot": "mapbox",
         "type": "scattermapbox"
        },
        {
         "hovertemplate": "Name=Calvert Vaux<br>Latitude=%{lat}<br>Longitude=%{lon}<extra></extra>",
         "lat": [
          40.58507539
         ],
         "legendgroup": "Calvert Vaux",
         "lon": [
          -73.99369533
         ],
         "marker": {
          "color": "#19d3f3"
         },
         "mode": "markers",
         "name": "Calvert Vaux",
         "showlegend": true,
         "subplot": "mapbox",
         "type": "scattermapbox"
        },
        {
         "hovertemplate": "Name=High Rock Park<br>Latitude=%{lat}<br>Longitude=%{lon}<extra></extra>",
         "lat": [
          40.59043473
         ],
         "legendgroup": "High Rock Park",
         "lon": [
          -74.11492037
         ],
         "marker": {
          "color": "#FF6692"
         },
         "mode": "markers",
         "name": "High Rock Park",
         "showlegend": true,
         "subplot": "mapbox",
         "type": "scattermapbox"
        },
        {
         "hovertemplate": "Name=Red Hook Park<br>Latitude=%{lat}<br>Longitude=%{lon}<extra></extra>",
         "lat": [
          40.67204727
         ],
         "legendgroup": "Red Hook Park",
         "lon": [
          -74.00555273
         ],
         "marker": {
          "color": "#B6E880"
         },
         "mode": "markers",
         "name": "Red Hook Park",
         "showlegend": true,
         "subplot": "mapbox",
         "type": "scattermapbox"
        },
        {
         "hovertemplate": "Name=Saint Michael's Cemetery<br>Latitude=%{lat}<br>Longitude=%{lon}<extra></extra>",
         "lat": [
          40.76444876
         ],
         "legendgroup": "Saint Michael's Cemetery",
         "lon": [
          -73.89847195
         ],
         "marker": {
          "color": "#FF97FF"
         },
         "mode": "markers",
         "name": "Saint Michael's Cemetery",
         "showlegend": true,
         "subplot": "mapbox",
         "type": "scattermapbox"
        },
        {
         "hovertemplate": "Name=Riverdale Park<br>Latitude=%{lat}<br>Longitude=%{lon}<extra></extra>",
         "lat": [
          40.89230557
         ],
         "legendgroup": "Riverdale Park",
         "lon": [
          -73.91682911
         ],
         "marker": {
          "color": "#FECB52"
         },
         "mode": "markers",
         "name": "Riverdale Park",
         "showlegend": true,
         "subplot": "mapbox",
         "type": "scattermapbox"
        },
        {
         "hovertemplate": "Name=Spring Creek Park Preserve No Access<br>Latitude=%{lat}<br>Longitude=%{lon}<extra></extra>",
         "lat": [
          40.64582807
         ],
         "legendgroup": "Spring Creek Park Preserve No Access",
         "lon": [
          -73.86501942
         ],
         "marker": {
          "color": "#636efa"
         },
         "mode": "markers",
         "name": "Spring Creek Park Preserve No Access",
         "showlegend": true,
         "subplot": "mapbox",
         "type": "scattermapbox"
        },
        {
         "hovertemplate": "Name=Spring Creek Park Gateway National Recreation Area<br>Latitude=%{lat}<br>Longitude=%{lon}<extra></extra>",
         "lat": [
          40.646316
         ],
         "legendgroup": "Spring Creek Park Gateway National Recreation Area",
         "lon": [
          -73.84421119
         ],
         "marker": {
          "color": "#EF553B"
         },
         "mode": "markers",
         "name": "Spring Creek Park Gateway National Recreation Area",
         "showlegend": true,
         "subplot": "mapbox",
         "type": "scattermapbox"
        }
       ],
       "layout": {
        "legend": {
         "title": {
          "text": "Name"
         },
         "tracegroupgap": 0
        },
        "mapbox": {
         "center": {
          "lat": 40.70281489793479,
          "lon": -73.93761442239129
         },
         "domain": {
          "x": [
           0,
           1
          ],
          "y": [
           0,
           1
          ]
         },
         "style": "open-street-map",
         "zoom": 8
        },
        "margin": {
         "t": 60
        },
        "template": {
         "data": {
          "bar": [
           {
            "error_x": {
             "color": "#2a3f5f"
            },
            "error_y": {
             "color": "#2a3f5f"
            },
            "marker": {
             "line": {
              "color": "#E5ECF6",
              "width": 0.5
             }
            },
            "type": "bar"
           }
          ],
          "barpolar": [
           {
            "marker": {
             "line": {
              "color": "#E5ECF6",
              "width": 0.5
             }
            },
            "type": "barpolar"
           }
          ],
          "carpet": [
           {
            "aaxis": {
             "endlinecolor": "#2a3f5f",
             "gridcolor": "white",
             "linecolor": "white",
             "minorgridcolor": "white",
             "startlinecolor": "#2a3f5f"
            },
            "baxis": {
             "endlinecolor": "#2a3f5f",
             "gridcolor": "white",
             "linecolor": "white",
             "minorgridcolor": "white",
             "startlinecolor": "#2a3f5f"
            },
            "type": "carpet"
           }
          ],
          "choropleth": [
           {
            "colorbar": {
             "outlinewidth": 0,
             "ticks": ""
            },
            "type": "choropleth"
           }
          ],
          "contour": [
           {
            "colorbar": {
             "outlinewidth": 0,
             "ticks": ""
            },
            "colorscale": [
             [
              0,
              "#0d0887"
             ],
             [
              0.1111111111111111,
              "#46039f"
             ],
             [
              0.2222222222222222,
              "#7201a8"
             ],
             [
              0.3333333333333333,
              "#9c179e"
             ],
             [
              0.4444444444444444,
              "#bd3786"
             ],
             [
              0.5555555555555556,
              "#d8576b"
             ],
             [
              0.6666666666666666,
              "#ed7953"
             ],
             [
              0.7777777777777778,
              "#fb9f3a"
             ],
             [
              0.8888888888888888,
              "#fdca26"
             ],
             [
              1,
              "#f0f921"
             ]
            ],
            "type": "contour"
           }
          ],
          "contourcarpet": [
           {
            "colorbar": {
             "outlinewidth": 0,
             "ticks": ""
            },
            "type": "contourcarpet"
           }
          ],
          "heatmap": [
           {
            "colorbar": {
             "outlinewidth": 0,
             "ticks": ""
            },
            "colorscale": [
             [
              0,
              "#0d0887"
             ],
             [
              0.1111111111111111,
              "#46039f"
             ],
             [
              0.2222222222222222,
              "#7201a8"
             ],
             [
              0.3333333333333333,
              "#9c179e"
             ],
             [
              0.4444444444444444,
              "#bd3786"
             ],
             [
              0.5555555555555556,
              "#d8576b"
             ],
             [
              0.6666666666666666,
              "#ed7953"
             ],
             [
              0.7777777777777778,
              "#fb9f3a"
             ],
             [
              0.8888888888888888,
              "#fdca26"
             ],
             [
              1,
              "#f0f921"
             ]
            ],
            "type": "heatmap"
           }
          ],
          "heatmapgl": [
           {
            "colorbar": {
             "outlinewidth": 0,
             "ticks": ""
            },
            "colorscale": [
             [
              0,
              "#0d0887"
             ],
             [
              0.1111111111111111,
              "#46039f"
             ],
             [
              0.2222222222222222,
              "#7201a8"
             ],
             [
              0.3333333333333333,
              "#9c179e"
             ],
             [
              0.4444444444444444,
              "#bd3786"
             ],
             [
              0.5555555555555556,
              "#d8576b"
             ],
             [
              0.6666666666666666,
              "#ed7953"
             ],
             [
              0.7777777777777778,
              "#fb9f3a"
             ],
             [
              0.8888888888888888,
              "#fdca26"
             ],
             [
              1,
              "#f0f921"
             ]
            ],
            "type": "heatmapgl"
           }
          ],
          "histogram": [
           {
            "marker": {
             "colorbar": {
              "outlinewidth": 0,
              "ticks": ""
             }
            },
            "type": "histogram"
           }
          ],
          "histogram2d": [
           {
            "colorbar": {
             "outlinewidth": 0,
             "ticks": ""
            },
            "colorscale": [
             [
              0,
              "#0d0887"
             ],
             [
              0.1111111111111111,
              "#46039f"
             ],
             [
              0.2222222222222222,
              "#7201a8"
             ],
             [
              0.3333333333333333,
              "#9c179e"
             ],
             [
              0.4444444444444444,
              "#bd3786"
             ],
             [
              0.5555555555555556,
              "#d8576b"
             ],
             [
              0.6666666666666666,
              "#ed7953"
             ],
             [
              0.7777777777777778,
              "#fb9f3a"
             ],
             [
              0.8888888888888888,
              "#fdca26"
             ],
             [
              1,
              "#f0f921"
             ]
            ],
            "type": "histogram2d"
           }
          ],
          "histogram2dcontour": [
           {
            "colorbar": {
             "outlinewidth": 0,
             "ticks": ""
            },
            "colorscale": [
             [
              0,
              "#0d0887"
             ],
             [
              0.1111111111111111,
              "#46039f"
             ],
             [
              0.2222222222222222,
              "#7201a8"
             ],
             [
              0.3333333333333333,
              "#9c179e"
             ],
             [
              0.4444444444444444,
              "#bd3786"
             ],
             [
              0.5555555555555556,
              "#d8576b"
             ],
             [
              0.6666666666666666,
              "#ed7953"
             ],
             [
              0.7777777777777778,
              "#fb9f3a"
             ],
             [
              0.8888888888888888,
              "#fdca26"
             ],
             [
              1,
              "#f0f921"
             ]
            ],
            "type": "histogram2dcontour"
           }
          ],
          "mesh3d": [
           {
            "colorbar": {
             "outlinewidth": 0,
             "ticks": ""
            },
            "type": "mesh3d"
           }
          ],
          "parcoords": [
           {
            "line": {
             "colorbar": {
              "outlinewidth": 0,
              "ticks": ""
             }
            },
            "type": "parcoords"
           }
          ],
          "pie": [
           {
            "automargin": true,
            "type": "pie"
           }
          ],
          "scatter": [
           {
            "marker": {
             "colorbar": {
              "outlinewidth": 0,
              "ticks": ""
             }
            },
            "type": "scatter"
           }
          ],
          "scatter3d": [
           {
            "line": {
             "colorbar": {
              "outlinewidth": 0,
              "ticks": ""
             }
            },
            "marker": {
             "colorbar": {
              "outlinewidth": 0,
              "ticks": ""
             }
            },
            "type": "scatter3d"
           }
          ],
          "scattercarpet": [
           {
            "marker": {
             "colorbar": {
              "outlinewidth": 0,
              "ticks": ""
             }
            },
            "type": "scattercarpet"
           }
          ],
          "scattergeo": [
           {
            "marker": {
             "colorbar": {
              "outlinewidth": 0,
              "ticks": ""
             }
            },
            "type": "scattergeo"
           }
          ],
          "scattergl": [
           {
            "marker": {
             "colorbar": {
              "outlinewidth": 0,
              "ticks": ""
             }
            },
            "type": "scattergl"
           }
          ],
          "scattermapbox": [
           {
            "marker": {
             "colorbar": {
              "outlinewidth": 0,
              "ticks": ""
             }
            },
            "type": "scattermapbox"
           }
          ],
          "scatterpolar": [
           {
            "marker": {
             "colorbar": {
              "outlinewidth": 0,
              "ticks": ""
             }
            },
            "type": "scatterpolar"
           }
          ],
          "scatterpolargl": [
           {
            "marker": {
             "colorbar": {
              "outlinewidth": 0,
              "ticks": ""
             }
            },
            "type": "scatterpolargl"
           }
          ],
          "scatterternary": [
           {
            "marker": {
             "colorbar": {
              "outlinewidth": 0,
              "ticks": ""
             }
            },
            "type": "scatterternary"
           }
          ],
          "surface": [
           {
            "colorbar": {
             "outlinewidth": 0,
             "ticks": ""
            },
            "colorscale": [
             [
              0,
              "#0d0887"
             ],
             [
              0.1111111111111111,
              "#46039f"
             ],
             [
              0.2222222222222222,
              "#7201a8"
             ],
             [
              0.3333333333333333,
              "#9c179e"
             ],
             [
              0.4444444444444444,
              "#bd3786"
             ],
             [
              0.5555555555555556,
              "#d8576b"
             ],
             [
              0.6666666666666666,
              "#ed7953"
             ],
             [
              0.7777777777777778,
              "#fb9f3a"
             ],
             [
              0.8888888888888888,
              "#fdca26"
             ],
             [
              1,
              "#f0f921"
             ]
            ],
            "type": "surface"
           }
          ],
          "table": [
           {
            "cells": {
             "fill": {
              "color": "#EBF0F8"
             },
             "line": {
              "color": "white"
             }
            },
            "header": {
             "fill": {
              "color": "#C8D4E3"
             },
             "line": {
              "color": "white"
             }
            },
            "type": "table"
           }
          ]
         },
         "layout": {
          "annotationdefaults": {
           "arrowcolor": "#2a3f5f",
           "arrowhead": 0,
           "arrowwidth": 1
          },
          "autotypenumbers": "strict",
          "coloraxis": {
           "colorbar": {
            "outlinewidth": 0,
            "ticks": ""
           }
          },
          "colorscale": {
           "diverging": [
            [
             0,
             "#8e0152"
            ],
            [
             0.1,
             "#c51b7d"
            ],
            [
             0.2,
             "#de77ae"
            ],
            [
             0.3,
             "#f1b6da"
            ],
            [
             0.4,
             "#fde0ef"
            ],
            [
             0.5,
             "#f7f7f7"
            ],
            [
             0.6,
             "#e6f5d0"
            ],
            [
             0.7,
             "#b8e186"
            ],
            [
             0.8,
             "#7fbc41"
            ],
            [
             0.9,
             "#4d9221"
            ],
            [
             1,
             "#276419"
            ]
           ],
           "sequential": [
            [
             0,
             "#0d0887"
            ],
            [
             0.1111111111111111,
             "#46039f"
            ],
            [
             0.2222222222222222,
             "#7201a8"
            ],
            [
             0.3333333333333333,
             "#9c179e"
            ],
            [
             0.4444444444444444,
             "#bd3786"
            ],
            [
             0.5555555555555556,
             "#d8576b"
            ],
            [
             0.6666666666666666,
             "#ed7953"
            ],
            [
             0.7777777777777778,
             "#fb9f3a"
            ],
            [
             0.8888888888888888,
             "#fdca26"
            ],
            [
             1,
             "#f0f921"
            ]
           ],
           "sequentialminus": [
            [
             0,
             "#0d0887"
            ],
            [
             0.1111111111111111,
             "#46039f"
            ],
            [
             0.2222222222222222,
             "#7201a8"
            ],
            [
             0.3333333333333333,
             "#9c179e"
            ],
            [
             0.4444444444444444,
             "#bd3786"
            ],
            [
             0.5555555555555556,
             "#d8576b"
            ],
            [
             0.6666666666666666,
             "#ed7953"
            ],
            [
             0.7777777777777778,
             "#fb9f3a"
            ],
            [
             0.8888888888888888,
             "#fdca26"
            ],
            [
             1,
             "#f0f921"
            ]
           ]
          },
          "colorway": [
           "#636efa",
           "#EF553B",
           "#00cc96",
           "#ab63fa",
           "#FFA15A",
           "#19d3f3",
           "#FF6692",
           "#B6E880",
           "#FF97FF",
           "#FECB52"
          ],
          "font": {
           "color": "#2a3f5f"
          },
          "geo": {
           "bgcolor": "white",
           "lakecolor": "white",
           "landcolor": "#E5ECF6",
           "showlakes": true,
           "showland": true,
           "subunitcolor": "white"
          },
          "hoverlabel": {
           "align": "left"
          },
          "hovermode": "closest",
          "mapbox": {
           "style": "light"
          },
          "paper_bgcolor": "white",
          "plot_bgcolor": "#E5ECF6",
          "polar": {
           "angularaxis": {
            "gridcolor": "white",
            "linecolor": "white",
            "ticks": ""
           },
           "bgcolor": "#E5ECF6",
           "radialaxis": {
            "gridcolor": "white",
            "linecolor": "white",
            "ticks": ""
           }
          },
          "scene": {
           "xaxis": {
            "backgroundcolor": "#E5ECF6",
            "gridcolor": "white",
            "gridwidth": 2,
            "linecolor": "white",
            "showbackground": true,
            "ticks": "",
            "zerolinecolor": "white"
           },
           "yaxis": {
            "backgroundcolor": "#E5ECF6",
            "gridcolor": "white",
            "gridwidth": 2,
            "linecolor": "white",
            "showbackground": true,
            "ticks": "",
            "zerolinecolor": "white"
           },
           "zaxis": {
            "backgroundcolor": "#E5ECF6",
            "gridcolor": "white",
            "gridwidth": 2,
            "linecolor": "white",
            "showbackground": true,
            "ticks": "",
            "zerolinecolor": "white"
           }
          },
          "shapedefaults": {
           "line": {
            "color": "#2a3f5f"
           }
          },
          "ternary": {
           "aaxis": {
            "gridcolor": "white",
            "linecolor": "white",
            "ticks": ""
           },
           "baxis": {
            "gridcolor": "white",
            "linecolor": "white",
            "ticks": ""
           },
           "bgcolor": "#E5ECF6",
           "caxis": {
            "gridcolor": "white",
            "linecolor": "white",
            "ticks": ""
           }
          },
          "title": {
           "x": 0.05
          },
          "xaxis": {
           "automargin": true,
           "gridcolor": "white",
           "linecolor": "white",
           "ticks": "",
           "title": {
            "standoff": 15
           },
           "zerolinecolor": "white",
           "zerolinewidth": 2
          },
          "yaxis": {
           "automargin": true,
           "gridcolor": "white",
           "linecolor": "white",
           "ticks": "",
           "title": {
            "standoff": 15
           },
           "zerolinecolor": "white",
           "zerolinewidth": 2
          }
         }
        }
       }
      }
     },
     "metadata": {}
    }
   ],
   "source": [
    "map = places_of_interest\n",
    "scatter = px.scatter_mapbox(\n",
    "    map,\n",
    "    lat='Latitude',\n",
    "    lon='Longitude',\n",
    "    color='Name'        \n",
    ").update_layout(mapbox_style='open-street-map')\n",
    "map = places_of_interest\n",
    "scatter.show()\n",
    "\n",
    "map_1 = px.scatter_mapbox(\n",
    "    places_of_interest,\n",
    "    lat=\"Latitude\",\n",
    "    lon=\"Longitude\",\n",
    "    color=\"Name\"\n",
    ").update_layout(mapbox_style='open-street-map')\n",
    "map_1.update_layout(mapbox_style='open-street-map')\n",
    "map_1.show()"
   ]
  },
  {
   "cell_type": "code",
   "execution_count": null,
   "metadata": {},
   "outputs": [],
   "source": []
  }
 ],
 "metadata": {
  "kernelspec": {
   "name": "python3",
   "display_name": "Python 3.7.10 64-bit ('pyvizenv': conda)"
  },
  "language_info": {
   "codemirror_mode": {
    "name": "ipython",
    "version": 3
   },
   "file_extension": ".py",
   "mimetype": "text/x-python",
   "name": "python",
   "nbconvert_exporter": "python",
   "pygments_lexer": "ipython3",
   "version": "3.7.10"
  },
  "interpreter": {
   "hash": "b137740fc2bcbde1e37a831a88110efc5ce739436e40983aa0d133162956a4c2"
  }
 },
 "nbformat": 4,
 "nbformat_minor": 4
}