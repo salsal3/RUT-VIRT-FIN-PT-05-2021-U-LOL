{
 "cells": [
  {
   "cell_type": "markdown",
   "metadata": {},
   "source": [
    " # Categorical Assessment"
   ]
  },
  {
   "cell_type": "markdown",
   "metadata": {},
   "source": [
    "Every year, real estate properties are assessed for their value. There are key attributes that are considered when evaluating a property, and these include the condition, total number of rooms, number of bedrooms, bathrooms, etc. Use a parallel categories plot to plot these attributes as dimensions. Use the interactive features of parallel category plots to review how each dimension can affect the other."
   ]
  },
  {
   "cell_type": "code",
   "execution_count": 8,
   "metadata": {},
   "outputs": [],
   "source": [
    "import pandas as pd\n",
    "import plotly.express as px\n",
    "from pathlib import Path"
   ]
  },
  {
   "cell_type": "markdown",
   "metadata": {},
   "source": [
    " ### Prep Data"
   ]
  },
  {
   "cell_type": "code",
   "execution_count": 9,
   "metadata": {},
   "outputs": [
    {
     "output_type": "execute_result",
     "data": {
      "text/plain": [
       "                                                                                          LEGAL1  \\\n",
       "LEGAL2                                                                                             \n",
       "1 1/2 STY SHG BUNG #545                                                   LOT 45.5X150 CARNOT RD   \n",
       "NGORA RD COR WYANDOTTE WAY                       ROMAN ACRES PLAN 1 LOT 115.01XAVG136.48X28.07 A   \n",
       "2 STY INSL BRK HSE 1015                          ELLIOTT PK PLAN 131 LOT 24X97.46 MORENA ST        \n",
       "AVE                                              SHAW PLAN 57 TO 61 INCL LOT 125X110 IN ALL ELM    \n",
       "1 STY BRK V HSE-INT GAR 5244                     MEADOWCREST 3RD PLAN 310 LOT 55X120 BLOSSOM RD    \n",
       "\n",
       "                                                                                          LEGAL3  \\\n",
       "LEGAL2                                                                                             \n",
       "1 1/2 STY SHG BUNG #545                                                                      NaN   \n",
       "NGORA RD COR WYANDOTTE WAY                       1 1/2 STY BRK HSE & GAR #5                        \n",
       "2 STY INSL BRK HSE 1015                                                                      NaN   \n",
       "AVE                                              1 STY FRA HSE                                     \n",
       "1 STY BRK V HSE-INT GAR 5244                                                                 NaN   \n",
       "\n",
       "                                                NEIGHCODE TAXCODE  \\\n",
       "LEGAL2                                                              \n",
       "1 1/2 STY SHG BUNG #545                             92504       T   \n",
       "NGORA RD COR WYANDOTTE WAY                          85002       T   \n",
       "2 STY INSL BRK HSE 1015                             12003       T   \n",
       "AVE                                                 94401       T   \n",
       "1 STY BRK V HSE-INT GAR 5244                        87702       T   \n",
       "\n",
       "                                                      TAXDESC  \\\n",
       "LEGAL2                                                          \n",
       "1 1/2 STY SHG BUNG #545                          20 - Taxable   \n",
       "NGORA RD COR WYANDOTTE WAY                       20 - Taxable   \n",
       "2 STY INSL BRK HSE 1015                          20 - Taxable   \n",
       "AVE                                              20 - Taxable   \n",
       "1 STY BRK V HSE-INT GAR 5244                     20 - Taxable   \n",
       "\n",
       "                                                              OWNERDESC CLASS  \\\n",
       "LEGAL2                                                                          \n",
       "1 1/2 STY SHG BUNG #545                                         REGULAR     R   \n",
       "NGORA RD COR WYANDOTTE WAY                                      REGULAR     R   \n",
       "2 STY INSL BRK HSE 1015                                         REGULAR     R   \n",
       "AVE                                                             REGULAR     R   \n",
       "1 STY BRK V HSE-INT GAR 5244                     REGULAR-ETUX OR ET VIR     R   \n",
       "\n",
       "                                                   CLASSDESC  USECODE  \\\n",
       "LEGAL2                                                                  \n",
       "1 1/2 STY SHG BUNG #545                          RESIDENTIAL       10   \n",
       "NGORA RD COR WYANDOTTE WAY                       RESIDENTIAL       10   \n",
       "2 STY INSL BRK HSE 1015                          RESIDENTIAL       10   \n",
       "AVE                                              RESIDENTIAL       10   \n",
       "1 STY BRK V HSE-INT GAR 5244                     RESIDENTIAL       10   \n",
       "\n",
       "                                                       USEDESC  ...  \\\n",
       "LEGAL2                                                          ...   \n",
       "1 1/2 STY SHG BUNG #545                          SINGLE FAMILY  ...   \n",
       "NGORA RD COR WYANDOTTE WAY                       SINGLE FAMILY  ...   \n",
       "2 STY INSL BRK HSE 1015                          SINGLE FAMILY  ...   \n",
       "AVE                                              SINGLE FAMILY  ...   \n",
       "1 STY BRK V HSE-INT GAR 5244                     SINGLE FAMILY  ...   \n",
       "\n",
       "                                                 CONDITION CONDITIONDESC  \\\n",
       "LEGAL2                                                                     \n",
       "1 1/2 STY SHG BUNG #545                                3.0       AVERAGE   \n",
       "NGORA RD COR WYANDOTTE WAY                             3.0       AVERAGE   \n",
       "2 STY INSL BRK HSE 1015                                5.0          POOR   \n",
       "AVE                                                    3.0       AVERAGE   \n",
       "1 STY BRK V HSE-INT GAR 5244                           3.0       AVERAGE   \n",
       "\n",
       "                                                TOTALROOMS BEDROOMS FULLBATHS  \\\n",
       "LEGAL2                                                                          \n",
       "1 1/2 STY SHG BUNG #545                                7.0      3.0       2.0   \n",
       "NGORA RD COR WYANDOTTE WAY                             7.0      3.0       2.0   \n",
       "2 STY INSL BRK HSE 1015                                7.0      3.0       1.0   \n",
       "AVE                                                    6.0      4.0       1.0   \n",
       "1 STY BRK V HSE-INT GAR 5244                           6.0      2.0       1.0   \n",
       "\n",
       "                                                HALFBATHS HEATINGCOOLING  \\\n",
       "LEGAL2                                                                     \n",
       "1 1/2 STY SHG BUNG #545                               0.0              B   \n",
       "NGORA RD COR WYANDOTTE WAY                            0.0              2   \n",
       "2 STY INSL BRK HSE 1015                               0.0              2   \n",
       "AVE                                                   1.0              B   \n",
       "1 STY BRK V HSE-INT GAR 5244                          1.0              2   \n",
       "\n",
       "                                                   HEATINGCOOLINGDESC  \\\n",
       "LEGAL2                                                                  \n",
       "1 1/2 STY SHG BUNG #545                          Central Heat with AC   \n",
       "NGORA RD COR WYANDOTTE WAY                               Central Heat   \n",
       "2 STY INSL BRK HSE 1015                                  Central Heat   \n",
       "AVE                                              Central Heat with AC   \n",
       "1 STY BRK V HSE-INT GAR 5244                             Central Heat   \n",
       "\n",
       "                                                FIREPLACES BSMTGARAGE  \n",
       "LEGAL2                                                                 \n",
       "1 1/2 STY SHG BUNG #545                                0.0        0.0  \n",
       "NGORA RD COR WYANDOTTE WAY                             0.0        1.0  \n",
       "2 STY INSL BRK HSE 1015                                0.0        0.0  \n",
       "AVE                                                    0.0        0.0  \n",
       "1 STY BRK V HSE-INT GAR 5244                           0.0        1.0  \n",
       "\n",
       "[5 rows x 62 columns]"
      ],
      "text/html": "<div>\n<style scoped>\n    .dataframe tbody tr th:only-of-type {\n        vertical-align: middle;\n    }\n\n    .dataframe tbody tr th {\n        vertical-align: top;\n    }\n\n    .dataframe thead th {\n        text-align: right;\n    }\n</style>\n<table border=\"1\" class=\"dataframe\">\n  <thead>\n    <tr style=\"text-align: right;\">\n      <th></th>\n      <th>LEGAL1</th>\n      <th>LEGAL3</th>\n      <th>NEIGHCODE</th>\n      <th>TAXCODE</th>\n      <th>TAXDESC</th>\n      <th>OWNERDESC</th>\n      <th>CLASS</th>\n      <th>CLASSDESC</th>\n      <th>USECODE</th>\n      <th>USEDESC</th>\n      <th>...</th>\n      <th>CONDITION</th>\n      <th>CONDITIONDESC</th>\n      <th>TOTALROOMS</th>\n      <th>BEDROOMS</th>\n      <th>FULLBATHS</th>\n      <th>HALFBATHS</th>\n      <th>HEATINGCOOLING</th>\n      <th>HEATINGCOOLINGDESC</th>\n      <th>FIREPLACES</th>\n      <th>BSMTGARAGE</th>\n    </tr>\n    <tr>\n      <th>LEGAL2</th>\n      <th></th>\n      <th></th>\n      <th></th>\n      <th></th>\n      <th></th>\n      <th></th>\n      <th></th>\n      <th></th>\n      <th></th>\n      <th></th>\n      <th></th>\n      <th></th>\n      <th></th>\n      <th></th>\n      <th></th>\n      <th></th>\n      <th></th>\n      <th></th>\n      <th></th>\n      <th></th>\n      <th></th>\n    </tr>\n  </thead>\n  <tbody>\n    <tr>\n      <th>1 1/2 STY SHG BUNG #545</th>\n      <td>LOT 45.5X150 CARNOT RD</td>\n      <td>NaN</td>\n      <td>92504</td>\n      <td>T</td>\n      <td>20 - Taxable</td>\n      <td>REGULAR</td>\n      <td>R</td>\n      <td>RESIDENTIAL</td>\n      <td>10</td>\n      <td>SINGLE FAMILY</td>\n      <td>...</td>\n      <td>3.0</td>\n      <td>AVERAGE</td>\n      <td>7.0</td>\n      <td>3.0</td>\n      <td>2.0</td>\n      <td>0.0</td>\n      <td>B</td>\n      <td>Central Heat with AC</td>\n      <td>0.0</td>\n      <td>0.0</td>\n    </tr>\n    <tr>\n      <th>NGORA RD COR WYANDOTTE WAY</th>\n      <td>ROMAN ACRES PLAN 1 LOT 115.01XAVG136.48X28.07 A</td>\n      <td>1 1/2 STY BRK HSE &amp; GAR #5</td>\n      <td>85002</td>\n      <td>T</td>\n      <td>20 - Taxable</td>\n      <td>REGULAR</td>\n      <td>R</td>\n      <td>RESIDENTIAL</td>\n      <td>10</td>\n      <td>SINGLE FAMILY</td>\n      <td>...</td>\n      <td>3.0</td>\n      <td>AVERAGE</td>\n      <td>7.0</td>\n      <td>3.0</td>\n      <td>2.0</td>\n      <td>0.0</td>\n      <td>2</td>\n      <td>Central Heat</td>\n      <td>0.0</td>\n      <td>1.0</td>\n    </tr>\n    <tr>\n      <th>2 STY INSL BRK HSE 1015</th>\n      <td>ELLIOTT PK PLAN 131 LOT 24X97.46 MORENA ST</td>\n      <td>NaN</td>\n      <td>12003</td>\n      <td>T</td>\n      <td>20 - Taxable</td>\n      <td>REGULAR</td>\n      <td>R</td>\n      <td>RESIDENTIAL</td>\n      <td>10</td>\n      <td>SINGLE FAMILY</td>\n      <td>...</td>\n      <td>5.0</td>\n      <td>POOR</td>\n      <td>7.0</td>\n      <td>3.0</td>\n      <td>1.0</td>\n      <td>0.0</td>\n      <td>2</td>\n      <td>Central Heat</td>\n      <td>0.0</td>\n      <td>0.0</td>\n    </tr>\n    <tr>\n      <th>AVE</th>\n      <td>SHAW PLAN 57 TO 61 INCL LOT 125X110 IN ALL ELM</td>\n      <td>1 STY FRA HSE</td>\n      <td>94401</td>\n      <td>T</td>\n      <td>20 - Taxable</td>\n      <td>REGULAR</td>\n      <td>R</td>\n      <td>RESIDENTIAL</td>\n      <td>10</td>\n      <td>SINGLE FAMILY</td>\n      <td>...</td>\n      <td>3.0</td>\n      <td>AVERAGE</td>\n      <td>6.0</td>\n      <td>4.0</td>\n      <td>1.0</td>\n      <td>1.0</td>\n      <td>B</td>\n      <td>Central Heat with AC</td>\n      <td>0.0</td>\n      <td>0.0</td>\n    </tr>\n    <tr>\n      <th>1 STY BRK V HSE-INT GAR 5244</th>\n      <td>MEADOWCREST 3RD PLAN 310 LOT 55X120 BLOSSOM RD</td>\n      <td>NaN</td>\n      <td>87702</td>\n      <td>T</td>\n      <td>20 - Taxable</td>\n      <td>REGULAR-ETUX OR ET VIR</td>\n      <td>R</td>\n      <td>RESIDENTIAL</td>\n      <td>10</td>\n      <td>SINGLE FAMILY</td>\n      <td>...</td>\n      <td>3.0</td>\n      <td>AVERAGE</td>\n      <td>6.0</td>\n      <td>2.0</td>\n      <td>1.0</td>\n      <td>1.0</td>\n      <td>2</td>\n      <td>Central Heat</td>\n      <td>0.0</td>\n      <td>1.0</td>\n    </tr>\n  </tbody>\n</table>\n<p>5 rows × 62 columns</p>\n</div>"
     },
     "metadata": {},
     "execution_count": 9
    }
   ],
   "source": [
    "# Read in data\n",
    "prop_assessments = pd.read_csv(\n",
    "    Path(\"../Resources/allegheny_property_assessments.csv\"), \n",
    "    index_col=\"LEGAL2\", \n",
    "    low_memory=False\n",
    ").sample(50, replace=True)\n",
    "prop_assessments.head()"
   ]
  },
  {
   "cell_type": "markdown",
   "metadata": {},
   "source": [
    " ### Slice Data"
   ]
  },
  {
   "cell_type": "code",
   "execution_count": 11,
   "metadata": {},
   "outputs": [
    {
     "output_type": "execute_result",
     "data": {
      "text/plain": [
       "                                                 LOCALTOTAL        USEDESC  \\\n",
       "LEGAL2                                                                       \n",
       "1 1/2 STY SHG BUNG #545                               88900  SINGLE FAMILY   \n",
       "NGORA RD COR WYANDOTTE WAY                           124200  SINGLE FAMILY   \n",
       "2 STY INSL BRK HSE 1015                               22200  SINGLE FAMILY   \n",
       "AVE                                                  136500  SINGLE FAMILY   \n",
       "1 STY BRK V HSE-INT GAR 5244                         117400  SINGLE FAMILY   \n",
       "\n",
       "                                                 TOTALROOMS  BEDROOMS  \\\n",
       "LEGAL2                                                                  \n",
       "1 1/2 STY SHG BUNG #545                                 7.0       3.0   \n",
       "NGORA RD COR WYANDOTTE WAY                              7.0       3.0   \n",
       "2 STY INSL BRK HSE 1015                                 7.0       3.0   \n",
       "AVE                                                     6.0       4.0   \n",
       "1 STY BRK V HSE-INT GAR 5244                            6.0       2.0   \n",
       "\n",
       "                                                 FULLBATHS  \n",
       "LEGAL2                                                      \n",
       "1 1/2 STY SHG BUNG #545                                2.0  \n",
       "NGORA RD COR WYANDOTTE WAY                             2.0  \n",
       "2 STY INSL BRK HSE 1015                                1.0  \n",
       "AVE                                                    1.0  \n",
       "1 STY BRK V HSE-INT GAR 5244                           1.0  "
      ],
      "text/html": "<div>\n<style scoped>\n    .dataframe tbody tr th:only-of-type {\n        vertical-align: middle;\n    }\n\n    .dataframe tbody tr th {\n        vertical-align: top;\n    }\n\n    .dataframe thead th {\n        text-align: right;\n    }\n</style>\n<table border=\"1\" class=\"dataframe\">\n  <thead>\n    <tr style=\"text-align: right;\">\n      <th></th>\n      <th>LOCALTOTAL</th>\n      <th>USEDESC</th>\n      <th>TOTALROOMS</th>\n      <th>BEDROOMS</th>\n      <th>FULLBATHS</th>\n    </tr>\n    <tr>\n      <th>LEGAL2</th>\n      <th></th>\n      <th></th>\n      <th></th>\n      <th></th>\n      <th></th>\n    </tr>\n  </thead>\n  <tbody>\n    <tr>\n      <th>1 1/2 STY SHG BUNG #545</th>\n      <td>88900</td>\n      <td>SINGLE FAMILY</td>\n      <td>7.0</td>\n      <td>3.0</td>\n      <td>2.0</td>\n    </tr>\n    <tr>\n      <th>NGORA RD COR WYANDOTTE WAY</th>\n      <td>124200</td>\n      <td>SINGLE FAMILY</td>\n      <td>7.0</td>\n      <td>3.0</td>\n      <td>2.0</td>\n    </tr>\n    <tr>\n      <th>2 STY INSL BRK HSE 1015</th>\n      <td>22200</td>\n      <td>SINGLE FAMILY</td>\n      <td>7.0</td>\n      <td>3.0</td>\n      <td>1.0</td>\n    </tr>\n    <tr>\n      <th>AVE</th>\n      <td>136500</td>\n      <td>SINGLE FAMILY</td>\n      <td>6.0</td>\n      <td>4.0</td>\n      <td>1.0</td>\n    </tr>\n    <tr>\n      <th>1 STY BRK V HSE-INT GAR 5244</th>\n      <td>117400</td>\n      <td>SINGLE FAMILY</td>\n      <td>6.0</td>\n      <td>2.0</td>\n      <td>1.0</td>\n    </tr>\n  </tbody>\n</table>\n</div>"
     },
     "metadata": {},
     "execution_count": 11
    }
   ],
   "source": [
    "# Select list of columns\n",
    "data = prop_assessments[['LOCALTOTAL','USEDESC','TOTALROOMS','BEDROOMS','FULLBATHS']]\n",
    "data.head()"
   ]
  },
  {
   "cell_type": "markdown",
   "metadata": {},
   "source": [
    " ### Plot Data"
   ]
  },
  {
   "cell_type": "code",
   "execution_count": 12,
   "metadata": {},
   "outputs": [
    {
     "output_type": "display_data",
     "data": {
      "application/vnd.plotly.v1+json": {
       "config": {
        "plotlyServerURL": "https://plot.ly"
       },
       "data": [
        {
         "dimensions": [
          {
           "label": "USEDESC",
           "values": [
            "SINGLE FAMILY",
            "SINGLE FAMILY",
            "SINGLE FAMILY",
            "SINGLE FAMILY",
            "SINGLE FAMILY",
            "SINGLE FAMILY",
            "SINGLE FAMILY",
            "TOWNHOUSE",
            "SINGLE FAMILY",
            "SINGLE FAMILY",
            "SINGLE FAMILY",
            "SINGLE FAMILY",
            "CONDOMINIUM",
            "SINGLE FAMILY",
            "SINGLE FAMILY",
            "SINGLE FAMILY",
            "SINGLE FAMILY",
            "SINGLE FAMILY",
            "SINGLE FAMILY",
            "ROWHOUSE",
            "SINGLE FAMILY",
            "SINGLE FAMILY",
            "SINGLE FAMILY",
            "SINGLE FAMILY",
            "SINGLE FAMILY",
            "SINGLE FAMILY",
            "SINGLE FAMILY",
            "SINGLE FAMILY",
            "SINGLE FAMILY",
            "SINGLE FAMILY",
            "SINGLE FAMILY",
            "SINGLE FAMILY",
            "SINGLE FAMILY",
            "SINGLE FAMILY",
            "SINGLE FAMILY",
            "SINGLE FAMILY",
            "SINGLE FAMILY",
            "SINGLE FAMILY",
            "SINGLE FAMILY",
            "CONDOMINIUM",
            "SINGLE FAMILY",
            "SINGLE FAMILY",
            "TWO FAMILY",
            "SINGLE FAMILY",
            "TOWNHOUSE",
            "SINGLE FAMILY",
            "SINGLE FAMILY",
            "SINGLE FAMILY",
            "CONDOMINIUM",
            "SINGLE FAMILY"
           ]
          },
          {
           "label": "TOTALROOMS",
           "values": [
            7,
            7,
            7,
            6,
            6,
            7,
            6,
            6,
            5,
            10,
            8,
            9,
            3,
            6,
            5,
            5,
            8,
            4,
            5,
            6,
            7,
            6,
            7,
            10,
            7,
            9,
            5,
            7,
            6,
            4,
            5,
            8,
            7,
            5,
            7,
            5,
            8,
            4,
            6,
            5,
            6,
            6,
            10,
            6,
            6,
            5,
            6,
            6,
            5,
            7
           ]
          },
          {
           "label": "BEDROOMS",
           "values": [
            3,
            3,
            3,
            4,
            2,
            3,
            2,
            3,
            2,
            4,
            4,
            4,
            1,
            2,
            3,
            2,
            3,
            2,
            3,
            3,
            4,
            3,
            3,
            5,
            3,
            4,
            2,
            3,
            4,
            2,
            2,
            4,
            3,
            2,
            4,
            2,
            4,
            2,
            2,
            2,
            3,
            3,
            4,
            3,
            2,
            2,
            3,
            3,
            2,
            3
           ]
          },
          {
           "label": "FULLBATHS",
           "values": [
            2,
            2,
            1,
            1,
            1,
            2,
            1,
            1,
            1,
            2,
            2,
            2,
            1,
            1,
            1,
            1,
            2,
            1,
            1,
            1,
            1,
            2,
            1,
            3,
            2,
            4,
            1,
            1,
            1,
            1,
            1,
            2,
            1,
            1,
            1,
            2,
            2,
            1,
            2,
            1,
            1,
            1,
            2,
            1,
            1,
            1,
            1,
            2,
            2,
            1
           ]
          }
         ],
         "domain": {
          "x": [
           0,
           1
          ],
          "y": [
           0,
           1
          ]
         },
         "line": {
          "color": [
           88900,
           124200,
           22200,
           136500,
           117400,
           161800,
           128700,
           138400,
           30000,
           237900,
           256000,
           349600,
           42000,
           111200,
           45900,
           67100,
           282500,
           47200,
           72200,
           20400,
           96100,
           66400,
           88700,
           300000,
           108200,
           545700,
           84000,
           109200,
           127000,
           97100,
           15000,
           211500,
           82500,
           56400,
           174900,
           29800,
           344000,
           48900,
           84800,
           199500,
           133000,
           61500,
           64400,
           104300,
           95900,
           58500,
           96300,
           120200,
           126000,
           147100
          ],
          "coloraxis": "coloraxis"
         },
         "name": "",
         "type": "parcats"
        }
       ],
       "layout": {
        "coloraxis": {
         "colorbar": {
          "title": {
           "text": "LOCALTOTAL"
          }
         },
         "colorscale": [
          [
           0,
           "#0d0887"
          ],
          [
           0.1111111111111111,
           "#46039f"
          ],
          [
           0.2222222222222222,
           "#7201a8"
          ],
          [
           0.3333333333333333,
           "#9c179e"
          ],
          [
           0.4444444444444444,
           "#bd3786"
          ],
          [
           0.5555555555555556,
           "#d8576b"
          ],
          [
           0.6666666666666666,
           "#ed7953"
          ],
          [
           0.7777777777777778,
           "#fb9f3a"
          ],
          [
           0.8888888888888888,
           "#fdca26"
          ],
          [
           1,
           "#f0f921"
          ]
         ]
        },
        "legend": {
         "tracegroupgap": 0
        },
        "margin": {
         "t": 60
        },
        "template": {
         "data": {
          "bar": [
           {
            "error_x": {
             "color": "#2a3f5f"
            },
            "error_y": {
             "color": "#2a3f5f"
            },
            "marker": {
             "line": {
              "color": "#E5ECF6",
              "width": 0.5
             }
            },
            "type": "bar"
           }
          ],
          "barpolar": [
           {
            "marker": {
             "line": {
              "color": "#E5ECF6",
              "width": 0.5
             }
            },
            "type": "barpolar"
           }
          ],
          "carpet": [
           {
            "aaxis": {
             "endlinecolor": "#2a3f5f",
             "gridcolor": "white",
             "linecolor": "white",
             "minorgridcolor": "white",
             "startlinecolor": "#2a3f5f"
            },
            "baxis": {
             "endlinecolor": "#2a3f5f",
             "gridcolor": "white",
             "linecolor": "white",
             "minorgridcolor": "white",
             "startlinecolor": "#2a3f5f"
            },
            "type": "carpet"
           }
          ],
          "choropleth": [
           {
            "colorbar": {
             "outlinewidth": 0,
             "ticks": ""
            },
            "type": "choropleth"
           }
          ],
          "contour": [
           {
            "colorbar": {
             "outlinewidth": 0,
             "ticks": ""
            },
            "colorscale": [
             [
              0,
              "#0d0887"
             ],
             [
              0.1111111111111111,
              "#46039f"
             ],
             [
              0.2222222222222222,
              "#7201a8"
             ],
             [
              0.3333333333333333,
              "#9c179e"
             ],
             [
              0.4444444444444444,
              "#bd3786"
             ],
             [
              0.5555555555555556,
              "#d8576b"
             ],
             [
              0.6666666666666666,
              "#ed7953"
             ],
             [
              0.7777777777777778,
              "#fb9f3a"
             ],
             [
              0.8888888888888888,
              "#fdca26"
             ],
             [
              1,
              "#f0f921"
             ]
            ],
            "type": "contour"
           }
          ],
          "contourcarpet": [
           {
            "colorbar": {
             "outlinewidth": 0,
             "ticks": ""
            },
            "type": "contourcarpet"
           }
          ],
          "heatmap": [
           {
            "colorbar": {
             "outlinewidth": 0,
             "ticks": ""
            },
            "colorscale": [
             [
              0,
              "#0d0887"
             ],
             [
              0.1111111111111111,
              "#46039f"
             ],
             [
              0.2222222222222222,
              "#7201a8"
             ],
             [
              0.3333333333333333,
              "#9c179e"
             ],
             [
              0.4444444444444444,
              "#bd3786"
             ],
             [
              0.5555555555555556,
              "#d8576b"
             ],
             [
              0.6666666666666666,
              "#ed7953"
             ],
             [
              0.7777777777777778,
              "#fb9f3a"
             ],
             [
              0.8888888888888888,
              "#fdca26"
             ],
             [
              1,
              "#f0f921"
             ]
            ],
            "type": "heatmap"
           }
          ],
          "heatmapgl": [
           {
            "colorbar": {
             "outlinewidth": 0,
             "ticks": ""
            },
            "colorscale": [
             [
              0,
              "#0d0887"
             ],
             [
              0.1111111111111111,
              "#46039f"
             ],
             [
              0.2222222222222222,
              "#7201a8"
             ],
             [
              0.3333333333333333,
              "#9c179e"
             ],
             [
              0.4444444444444444,
              "#bd3786"
             ],
             [
              0.5555555555555556,
              "#d8576b"
             ],
             [
              0.6666666666666666,
              "#ed7953"
             ],
             [
              0.7777777777777778,
              "#fb9f3a"
             ],
             [
              0.8888888888888888,
              "#fdca26"
             ],
             [
              1,
              "#f0f921"
             ]
            ],
            "type": "heatmapgl"
           }
          ],
          "histogram": [
           {
            "marker": {
             "colorbar": {
              "outlinewidth": 0,
              "ticks": ""
             }
            },
            "type": "histogram"
           }
          ],
          "histogram2d": [
           {
            "colorbar": {
             "outlinewidth": 0,
             "ticks": ""
            },
            "colorscale": [
             [
              0,
              "#0d0887"
             ],
             [
              0.1111111111111111,
              "#46039f"
             ],
             [
              0.2222222222222222,
              "#7201a8"
             ],
             [
              0.3333333333333333,
              "#9c179e"
             ],
             [
              0.4444444444444444,
              "#bd3786"
             ],
             [
              0.5555555555555556,
              "#d8576b"
             ],
             [
              0.6666666666666666,
              "#ed7953"
             ],
             [
              0.7777777777777778,
              "#fb9f3a"
             ],
             [
              0.8888888888888888,
              "#fdca26"
             ],
             [
              1,
              "#f0f921"
             ]
            ],
            "type": "histogram2d"
           }
          ],
          "histogram2dcontour": [
           {
            "colorbar": {
             "outlinewidth": 0,
             "ticks": ""
            },
            "colorscale": [
             [
              0,
              "#0d0887"
             ],
             [
              0.1111111111111111,
              "#46039f"
             ],
             [
              0.2222222222222222,
              "#7201a8"
             ],
             [
              0.3333333333333333,
              "#9c179e"
             ],
             [
              0.4444444444444444,
              "#bd3786"
             ],
             [
              0.5555555555555556,
              "#d8576b"
             ],
             [
              0.6666666666666666,
              "#ed7953"
             ],
             [
              0.7777777777777778,
              "#fb9f3a"
             ],
             [
              0.8888888888888888,
              "#fdca26"
             ],
             [
              1,
              "#f0f921"
             ]
            ],
            "type": "histogram2dcontour"
           }
          ],
          "mesh3d": [
           {
            "colorbar": {
             "outlinewidth": 0,
             "ticks": ""
            },
            "type": "mesh3d"
           }
          ],
          "parcoords": [
           {
            "line": {
             "colorbar": {
              "outlinewidth": 0,
              "ticks": ""
             }
            },
            "type": "parcoords"
           }
          ],
          "pie": [
           {
            "automargin": true,
            "type": "pie"
           }
          ],
          "scatter": [
           {
            "marker": {
             "colorbar": {
              "outlinewidth": 0,
              "ticks": ""
             }
            },
            "type": "scatter"
           }
          ],
          "scatter3d": [
           {
            "line": {
             "colorbar": {
              "outlinewidth": 0,
              "ticks": ""
             }
            },
            "marker": {
             "colorbar": {
              "outlinewidth": 0,
              "ticks": ""
             }
            },
            "type": "scatter3d"
           }
          ],
          "scattercarpet": [
           {
            "marker": {
             "colorbar": {
              "outlinewidth": 0,
              "ticks": ""
             }
            },
            "type": "scattercarpet"
           }
          ],
          "scattergeo": [
           {
            "marker": {
             "colorbar": {
              "outlinewidth": 0,
              "ticks": ""
             }
            },
            "type": "scattergeo"
           }
          ],
          "scattergl": [
           {
            "marker": {
             "colorbar": {
              "outlinewidth": 0,
              "ticks": ""
             }
            },
            "type": "scattergl"
           }
          ],
          "scattermapbox": [
           {
            "marker": {
             "colorbar": {
              "outlinewidth": 0,
              "ticks": ""
             }
            },
            "type": "scattermapbox"
           }
          ],
          "scatterpolar": [
           {
            "marker": {
             "colorbar": {
              "outlinewidth": 0,
              "ticks": ""
             }
            },
            "type": "scatterpolar"
           }
          ],
          "scatterpolargl": [
           {
            "marker": {
             "colorbar": {
              "outlinewidth": 0,
              "ticks": ""
             }
            },
            "type": "scatterpolargl"
           }
          ],
          "scatterternary": [
           {
            "marker": {
             "colorbar": {
              "outlinewidth": 0,
              "ticks": ""
             }
            },
            "type": "scatterternary"
           }
          ],
          "surface": [
           {
            "colorbar": {
             "outlinewidth": 0,
             "ticks": ""
            },
            "colorscale": [
             [
              0,
              "#0d0887"
             ],
             [
              0.1111111111111111,
              "#46039f"
             ],
             [
              0.2222222222222222,
              "#7201a8"
             ],
             [
              0.3333333333333333,
              "#9c179e"
             ],
             [
              0.4444444444444444,
              "#bd3786"
             ],
             [
              0.5555555555555556,
              "#d8576b"
             ],
             [
              0.6666666666666666,
              "#ed7953"
             ],
             [
              0.7777777777777778,
              "#fb9f3a"
             ],
             [
              0.8888888888888888,
              "#fdca26"
             ],
             [
              1,
              "#f0f921"
             ]
            ],
            "type": "surface"
           }
          ],
          "table": [
           {
            "cells": {
             "fill": {
              "color": "#EBF0F8"
             },
             "line": {
              "color": "white"
             }
            },
            "header": {
             "fill": {
              "color": "#C8D4E3"
             },
             "line": {
              "color": "white"
             }
            },
            "type": "table"
           }
          ]
         },
         "layout": {
          "annotationdefaults": {
           "arrowcolor": "#2a3f5f",
           "arrowhead": 0,
           "arrowwidth": 1
          },
          "autotypenumbers": "strict",
          "coloraxis": {
           "colorbar": {
            "outlinewidth": 0,
            "ticks": ""
           }
          },
          "colorscale": {
           "diverging": [
            [
             0,
             "#8e0152"
            ],
            [
             0.1,
             "#c51b7d"
            ],
            [
             0.2,
             "#de77ae"
            ],
            [
             0.3,
             "#f1b6da"
            ],
            [
             0.4,
             "#fde0ef"
            ],
            [
             0.5,
             "#f7f7f7"
            ],
            [
             0.6,
             "#e6f5d0"
            ],
            [
             0.7,
             "#b8e186"
            ],
            [
             0.8,
             "#7fbc41"
            ],
            [
             0.9,
             "#4d9221"
            ],
            [
             1,
             "#276419"
            ]
           ],
           "sequential": [
            [
             0,
             "#0d0887"
            ],
            [
             0.1111111111111111,
             "#46039f"
            ],
            [
             0.2222222222222222,
             "#7201a8"
            ],
            [
             0.3333333333333333,
             "#9c179e"
            ],
            [
             0.4444444444444444,
             "#bd3786"
            ],
            [
             0.5555555555555556,
             "#d8576b"
            ],
            [
             0.6666666666666666,
             "#ed7953"
            ],
            [
             0.7777777777777778,
             "#fb9f3a"
            ],
            [
             0.8888888888888888,
             "#fdca26"
            ],
            [
             1,
             "#f0f921"
            ]
           ],
           "sequentialminus": [
            [
             0,
             "#0d0887"
            ],
            [
             0.1111111111111111,
             "#46039f"
            ],
            [
             0.2222222222222222,
             "#7201a8"
            ],
            [
             0.3333333333333333,
             "#9c179e"
            ],
            [
             0.4444444444444444,
             "#bd3786"
            ],
            [
             0.5555555555555556,
             "#d8576b"
            ],
            [
             0.6666666666666666,
             "#ed7953"
            ],
            [
             0.7777777777777778,
             "#fb9f3a"
            ],
            [
             0.8888888888888888,
             "#fdca26"
            ],
            [
             1,
             "#f0f921"
            ]
           ]
          },
          "colorway": [
           "#636efa",
           "#EF553B",
           "#00cc96",
           "#ab63fa",
           "#FFA15A",
           "#19d3f3",
           "#FF6692",
           "#B6E880",
           "#FF97FF",
           "#FECB52"
          ],
          "font": {
           "color": "#2a3f5f"
          },
          "geo": {
           "bgcolor": "white",
           "lakecolor": "white",
           "landcolor": "#E5ECF6",
           "showlakes": true,
           "showland": true,
           "subunitcolor": "white"
          },
          "hoverlabel": {
           "align": "left"
          },
          "hovermode": "closest",
          "mapbox": {
           "style": "light"
          },
          "paper_bgcolor": "white",
          "plot_bgcolor": "#E5ECF6",
          "polar": {
           "angularaxis": {
            "gridcolor": "white",
            "linecolor": "white",
            "ticks": ""
           },
           "bgcolor": "#E5ECF6",
           "radialaxis": {
            "gridcolor": "white",
            "linecolor": "white",
            "ticks": ""
           }
          },
          "scene": {
           "xaxis": {
            "backgroundcolor": "#E5ECF6",
            "gridcolor": "white",
            "gridwidth": 2,
            "linecolor": "white",
            "showbackground": true,
            "ticks": "",
            "zerolinecolor": "white"
           },
           "yaxis": {
            "backgroundcolor": "#E5ECF6",
            "gridcolor": "white",
            "gridwidth": 2,
            "linecolor": "white",
            "showbackground": true,
            "ticks": "",
            "zerolinecolor": "white"
           },
           "zaxis": {
            "backgroundcolor": "#E5ECF6",
            "gridcolor": "white",
            "gridwidth": 2,
            "linecolor": "white",
            "showbackground": true,
            "ticks": "",
            "zerolinecolor": "white"
           }
          },
          "shapedefaults": {
           "line": {
            "color": "#2a3f5f"
           }
          },
          "ternary": {
           "aaxis": {
            "gridcolor": "white",
            "linecolor": "white",
            "ticks": ""
           },
           "baxis": {
            "gridcolor": "white",
            "linecolor": "white",
            "ticks": ""
           },
           "bgcolor": "#E5ECF6",
           "caxis": {
            "gridcolor": "white",
            "linecolor": "white",
            "ticks": ""
           }
          },
          "title": {
           "x": 0.05
          },
          "xaxis": {
           "automargin": true,
           "gridcolor": "white",
           "linecolor": "white",
           "ticks": "",
           "title": {
            "standoff": 15
           },
           "zerolinecolor": "white",
           "zerolinewidth": 2
          },
          "yaxis": {
           "automargin": true,
           "gridcolor": "white",
           "linecolor": "white",
           "ticks": "",
           "title": {
            "standoff": 15
           },
           "zerolinecolor": "white",
           "zerolinewidth": 2
          }
         }
        }
       }
      }
     },
     "metadata": {}
    }
   ],
   "source": [
    "# Plot data\n",
    "px.parallel_categories(\n",
    "    data,\n",
    "    dimensions=['USEDESC','TOTALROOMS','BEDROOMS','FULLBATHS'],\n",
    "    color='LOCALTOTAL'\n",
    ")"
   ]
  },
  {
   "cell_type": "code",
   "execution_count": null,
   "metadata": {},
   "outputs": [],
   "source": []
  }
 ],
 "metadata": {
  "file_extension": ".py",
  "kernelspec": {
   "name": "python3",
   "display_name": "Python 3.7.10 64-bit ('pyvizenv': conda)"
  },
  "language_info": {
   "codemirror_mode": {
    "name": "ipython",
    "version": 3
   },
   "file_extension": ".py",
   "mimetype": "text/x-python",
   "name": "python",
   "nbconvert_exporter": "python",
   "pygments_lexer": "ipython3",
   "version": "3.7.10"
  },
  "mimetype": "text/x-python",
  "name": "python",
  "npconvert_exporter": "python",
  "pygments_lexer": "ipython3",
  "version": 3,
  "interpreter": {
   "hash": "b137740fc2bcbde1e37a831a88110efc5ce739436e40983aa0d133162956a4c2"
  }
 },
 "nbformat": 4,
 "nbformat_minor": 4
}